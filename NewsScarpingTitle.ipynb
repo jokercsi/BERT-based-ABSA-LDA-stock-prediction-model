{
  "nbformat": 4,
  "nbformat_minor": 0,
  "metadata": {
    "colab": {
      "provenance": [],
      "collapsed_sections": [],
      "authorship_tag": "ABX9TyMK0UkJK9tEVe+YJFEwVOEC",
      "include_colab_link": true
    },
    "kernelspec": {
      "name": "python3",
      "display_name": "Python 3"
    },
    "language_info": {
      "name": "python"
    }
  },
  "cells": [
    {
      "cell_type": "markdown",
      "metadata": {
        "id": "view-in-github",
        "colab_type": "text"
      },
      "source": [
        "<a href=\"https://colab.research.google.com/github/jokercsi/Investment-Portfolio-Optimization/blob/main/NewsScarpingTitle.ipynb\" target=\"_parent\"><img src=\"https://colab.research.google.com/assets/colab-badge.svg\" alt=\"Open In Colab\"/></a>"
      ]
    },
    {
      "cell_type": "code",
      "execution_count": 29,
      "metadata": {
        "id": "8E9T1GLvwdiJ"
      },
      "outputs": [],
      "source": [
        "# 필요한 라이브러리 가져오기\n",
        "from bs4 import BeautifulSoup\n",
        "import requests\n",
        "import re"
      ]
    },
    {
      "cell_type": "code",
      "source": [
        "# 대상 사이트 : investing.com\n",
        "url = \"https://www.investing.com/news/stock-market-news\"\n",
        "\n",
        "# 프로토콜 status 확인\n",
        "# 200이면 정상\n",
        "resp = requests.get(url)\n",
        "print(resp)"
      ],
      "metadata": {
        "colab": {
          "base_uri": "https://localhost:8080/"
        },
        "id": "FoXipRMQwevA",
        "outputId": "809025c0-05b7-4c4c-f692-7a92e03d74b7"
      },
      "execution_count": 30,
      "outputs": [
        {
          "output_type": "stream",
          "name": "stdout",
          "text": [
            "<Response [200]>\n"
          ]
        }
      ]
    },
    {
      "cell_type": "code",
      "source": [
        "import pandas as pd\n",
        "\n",
        "# csv 만들리 위해 DataFrame 사용하기\n",
        "sample = [('sampleTitle','sampleDate','samplePublisher')]\n",
        "df = pd.DataFrame(sample, columns=['Title','Date','Publisher'])"
      ],
      "metadata": {
        "id": "tQIkY2eHeuq3"
      },
      "execution_count": 31,
      "outputs": []
    },
    {
      "cell_type": "code",
      "source": [
        "# 링크가 주어지면, 기사 제목과 본문을 크롤링하는 코드\n",
        "def get_news_by_url(url):\n",
        "\n",
        "    # 각자 본인의 User-Agent 정보 입력 \n",
        "    headers = {'User-Agent': 'Mozilla/5.0 (Windows NT 10.0; Win64; x64) AppleWebKit/537.36 (KHTML, like Gecko) Chrome/105.0.0.0 Safari/537.36'}\n",
        "    res = requests.get(url, headers = headers)\n",
        "    bs = BeautifulSoup(res.content, 'html.parser')\n",
        "\n",
        "    news_list = []\n",
        "\n",
        "    # 뉴스 기사 가져오기 \n",
        "    # Article 태그의 js-article-item클래스만 가져오기 \n",
        "    for i in bs.find('section',id=\"leftColumn\").find_all('article', \"js-article-item\"):\n",
        "      # i['class'] => i의 클래스 이름 가져오기\n",
        "      # 스폰서 광고 기사는 없애기\n",
        "      if \"sponsoredArticle\" in i['class']:\n",
        "        continue\n",
        "        \n",
        "      else:\n",
        "        # 댓글이 없으면 무시\n",
        "        if i.find('a', 'js-scrollto-comment') == None:\n",
        "          continue\n",
        "\n",
        "        # 댓글이 있으면\n",
        "        else:\n",
        "          # 댓글수가 5보다 많은 기사만 가져오기\n",
        "          if int(i.find('a', 'js-scrollto-comment').text) > 5:\n",
        "\n",
        "            #출판사 구하기\n",
        "            span = i.find('span', 'articleDetails').text\n",
        "            x = span.split(\"-\")\n",
        "            publisher = x[0][3:]\n",
        "\n",
        "            #기사 제목 구하기\n",
        "            title = i.find('a', 'title').text\n",
        "\n",
        "            #기사 날짜 구하기\n",
        "            dateOutput = i.find('span', 'date').text\n",
        "            date = dateOutput[3:]\n",
        "\n",
        "            news = [title, date, publisher]\n",
        "\n",
        "            news_list.append(news)\n",
        "\n",
        "    return news_list"
      ],
      "metadata": {
        "id": "BR7Lkg6CwGz2"
      },
      "execution_count": 32,
      "outputs": []
    },
    {
      "cell_type": "code",
      "source": [
        "for i in range(2,10):\n",
        "  url = 'https://www.investing.com/news/stock-market-news/' + str(i)\n",
        "\n",
        "  list = get_news_by_url(url)\n",
        "\n",
        "  # output이 존재한다면 (없을수도있으니까)\n",
        "  if list:\n",
        "    print(\"Yes, we have data in\", i)\n",
        "    for j in list:\n",
        "      # 행 추가하기 \n",
        "      df = df.append({'Title': j[0], 'Date':j[1], 'Publisher':j[2] }, ignore_index=True)\n",
        "      \n",
        "df"
      ],
      "metadata": {
        "colab": {
          "base_uri": "https://localhost:8080/"
        },
        "id": "FydVy9nDWbJk",
        "outputId": "1db2dc37-0251-4ce7-ad57-9af2af4d2796"
      },
      "execution_count": 33,
      "outputs": [
        {
          "output_type": "stream",
          "name": "stdout",
          "text": [
            "Yes, we have data in 3\n",
            "Yes, we have data in 4\n",
            "Yes, we have data in 5\n",
            "Yes, we have data in 6\n",
            "Yes, we have data in 7\n",
            "Yes, we have data in 9\n",
            "                                                Title          Date  \\\n",
            "0                                         sampleTitle    sampleDate   \n",
            "1   U.S. Stocks Fall as FedEx Warning Stokes Globa...  14 hours ago   \n",
            "2   European Stock Futures Weaken; Recessionary Fe...  22 hours ago   \n",
            "3   U.S. rail strike averted, but labor deal faces...  Sep 15, 2022   \n",
            "4   Wall St tumbles amid Fed tightening jitters, e...  Sep 15, 2022   \n",
            "5   Elon Musk accuses Twitter of security lapses i...  Sep 15, 2022   \n",
            "6   FedEx Issues Massive Profit Warning as Global ...  Sep 15, 2022   \n",
            "7   Stock Market Today: Dow Stumbles as Fears of L...  Sep 15, 2022   \n",
            "8   Michigan Sentiment, EV Showcase, Movie Premier...  Sep 15, 2022   \n",
            "9   President Biden Announces $900M for EV Chargin...  Sep 15, 2022   \n",
            "10  U.S. Stocks Wobble After Strong Reports on Ret...  Sep 15, 2022   \n",
            "\n",
            "          Publisher  \n",
            "0   samplePublisher  \n",
            "1    Investing.com   \n",
            "2    Investing.com   \n",
            "3          Reuters   \n",
            "4          Reuters   \n",
            "5          Reuters   \n",
            "6    Investing.com   \n",
            "7    Investing.com   \n",
            "8    Investing.com   \n",
            "9    Investing.com   \n",
            "10   Investing.com   \n"
          ]
        }
      ]
    },
    {
      "cell_type": "code",
      "source": [
        "df"
      ],
      "metadata": {
        "colab": {
          "base_uri": "https://localhost:8080/",
          "height": 394
        },
        "id": "AH-CSpn6s-le",
        "outputId": "2de0d22e-5757-4088-c500-987d116f442d"
      },
      "execution_count": 35,
      "outputs": [
        {
          "output_type": "execute_result",
          "data": {
            "text/plain": [
              "                                                Title          Date  \\\n",
              "0                                         sampleTitle    sampleDate   \n",
              "1   U.S. Stocks Fall as FedEx Warning Stokes Globa...  14 hours ago   \n",
              "2   European Stock Futures Weaken; Recessionary Fe...  22 hours ago   \n",
              "3   U.S. rail strike averted, but labor deal faces...  Sep 15, 2022   \n",
              "4   Wall St tumbles amid Fed tightening jitters, e...  Sep 15, 2022   \n",
              "5   Elon Musk accuses Twitter of security lapses i...  Sep 15, 2022   \n",
              "6   FedEx Issues Massive Profit Warning as Global ...  Sep 15, 2022   \n",
              "7   Stock Market Today: Dow Stumbles as Fears of L...  Sep 15, 2022   \n",
              "8   Michigan Sentiment, EV Showcase, Movie Premier...  Sep 15, 2022   \n",
              "9   President Biden Announces $900M for EV Chargin...  Sep 15, 2022   \n",
              "10  U.S. Stocks Wobble After Strong Reports on Ret...  Sep 15, 2022   \n",
              "\n",
              "          Publisher  \n",
              "0   samplePublisher  \n",
              "1    Investing.com   \n",
              "2    Investing.com   \n",
              "3          Reuters   \n",
              "4          Reuters   \n",
              "5          Reuters   \n",
              "6    Investing.com   \n",
              "7    Investing.com   \n",
              "8    Investing.com   \n",
              "9    Investing.com   \n",
              "10   Investing.com   "
            ],
            "text/html": [
              "\n",
              "  <div id=\"df-233d73d6-24c4-4050-80b8-14e49edb0aad\">\n",
              "    <div class=\"colab-df-container\">\n",
              "      <div>\n",
              "<style scoped>\n",
              "    .dataframe tbody tr th:only-of-type {\n",
              "        vertical-align: middle;\n",
              "    }\n",
              "\n",
              "    .dataframe tbody tr th {\n",
              "        vertical-align: top;\n",
              "    }\n",
              "\n",
              "    .dataframe thead th {\n",
              "        text-align: right;\n",
              "    }\n",
              "</style>\n",
              "<table border=\"1\" class=\"dataframe\">\n",
              "  <thead>\n",
              "    <tr style=\"text-align: right;\">\n",
              "      <th></th>\n",
              "      <th>Title</th>\n",
              "      <th>Date</th>\n",
              "      <th>Publisher</th>\n",
              "    </tr>\n",
              "  </thead>\n",
              "  <tbody>\n",
              "    <tr>\n",
              "      <th>0</th>\n",
              "      <td>sampleTitle</td>\n",
              "      <td>sampleDate</td>\n",
              "      <td>samplePublisher</td>\n",
              "    </tr>\n",
              "    <tr>\n",
              "      <th>1</th>\n",
              "      <td>U.S. Stocks Fall as FedEx Warning Stokes Globa...</td>\n",
              "      <td>14 hours ago</td>\n",
              "      <td>Investing.com</td>\n",
              "    </tr>\n",
              "    <tr>\n",
              "      <th>2</th>\n",
              "      <td>European Stock Futures Weaken; Recessionary Fe...</td>\n",
              "      <td>22 hours ago</td>\n",
              "      <td>Investing.com</td>\n",
              "    </tr>\n",
              "    <tr>\n",
              "      <th>3</th>\n",
              "      <td>U.S. rail strike averted, but labor deal faces...</td>\n",
              "      <td>Sep 15, 2022</td>\n",
              "      <td>Reuters</td>\n",
              "    </tr>\n",
              "    <tr>\n",
              "      <th>4</th>\n",
              "      <td>Wall St tumbles amid Fed tightening jitters, e...</td>\n",
              "      <td>Sep 15, 2022</td>\n",
              "      <td>Reuters</td>\n",
              "    </tr>\n",
              "    <tr>\n",
              "      <th>5</th>\n",
              "      <td>Elon Musk accuses Twitter of security lapses i...</td>\n",
              "      <td>Sep 15, 2022</td>\n",
              "      <td>Reuters</td>\n",
              "    </tr>\n",
              "    <tr>\n",
              "      <th>6</th>\n",
              "      <td>FedEx Issues Massive Profit Warning as Global ...</td>\n",
              "      <td>Sep 15, 2022</td>\n",
              "      <td>Investing.com</td>\n",
              "    </tr>\n",
              "    <tr>\n",
              "      <th>7</th>\n",
              "      <td>Stock Market Today: Dow Stumbles as Fears of L...</td>\n",
              "      <td>Sep 15, 2022</td>\n",
              "      <td>Investing.com</td>\n",
              "    </tr>\n",
              "    <tr>\n",
              "      <th>8</th>\n",
              "      <td>Michigan Sentiment, EV Showcase, Movie Premier...</td>\n",
              "      <td>Sep 15, 2022</td>\n",
              "      <td>Investing.com</td>\n",
              "    </tr>\n",
              "    <tr>\n",
              "      <th>9</th>\n",
              "      <td>President Biden Announces $900M for EV Chargin...</td>\n",
              "      <td>Sep 15, 2022</td>\n",
              "      <td>Investing.com</td>\n",
              "    </tr>\n",
              "    <tr>\n",
              "      <th>10</th>\n",
              "      <td>U.S. Stocks Wobble After Strong Reports on Ret...</td>\n",
              "      <td>Sep 15, 2022</td>\n",
              "      <td>Investing.com</td>\n",
              "    </tr>\n",
              "  </tbody>\n",
              "</table>\n",
              "</div>\n",
              "      <button class=\"colab-df-convert\" onclick=\"convertToInteractive('df-233d73d6-24c4-4050-80b8-14e49edb0aad')\"\n",
              "              title=\"Convert this dataframe to an interactive table.\"\n",
              "              style=\"display:none;\">\n",
              "        \n",
              "  <svg xmlns=\"http://www.w3.org/2000/svg\" height=\"24px\"viewBox=\"0 0 24 24\"\n",
              "       width=\"24px\">\n",
              "    <path d=\"M0 0h24v24H0V0z\" fill=\"none\"/>\n",
              "    <path d=\"M18.56 5.44l.94 2.06.94-2.06 2.06-.94-2.06-.94-.94-2.06-.94 2.06-2.06.94zm-11 1L8.5 8.5l.94-2.06 2.06-.94-2.06-.94L8.5 2.5l-.94 2.06-2.06.94zm10 10l.94 2.06.94-2.06 2.06-.94-2.06-.94-.94-2.06-.94 2.06-2.06.94z\"/><path d=\"M17.41 7.96l-1.37-1.37c-.4-.4-.92-.59-1.43-.59-.52 0-1.04.2-1.43.59L10.3 9.45l-7.72 7.72c-.78.78-.78 2.05 0 2.83L4 21.41c.39.39.9.59 1.41.59.51 0 1.02-.2 1.41-.59l7.78-7.78 2.81-2.81c.8-.78.8-2.07 0-2.86zM5.41 20L4 18.59l7.72-7.72 1.47 1.35L5.41 20z\"/>\n",
              "  </svg>\n",
              "      </button>\n",
              "      \n",
              "  <style>\n",
              "    .colab-df-container {\n",
              "      display:flex;\n",
              "      flex-wrap:wrap;\n",
              "      gap: 12px;\n",
              "    }\n",
              "\n",
              "    .colab-df-convert {\n",
              "      background-color: #E8F0FE;\n",
              "      border: none;\n",
              "      border-radius: 50%;\n",
              "      cursor: pointer;\n",
              "      display: none;\n",
              "      fill: #1967D2;\n",
              "      height: 32px;\n",
              "      padding: 0 0 0 0;\n",
              "      width: 32px;\n",
              "    }\n",
              "\n",
              "    .colab-df-convert:hover {\n",
              "      background-color: #E2EBFA;\n",
              "      box-shadow: 0px 1px 2px rgba(60, 64, 67, 0.3), 0px 1px 3px 1px rgba(60, 64, 67, 0.15);\n",
              "      fill: #174EA6;\n",
              "    }\n",
              "\n",
              "    [theme=dark] .colab-df-convert {\n",
              "      background-color: #3B4455;\n",
              "      fill: #D2E3FC;\n",
              "    }\n",
              "\n",
              "    [theme=dark] .colab-df-convert:hover {\n",
              "      background-color: #434B5C;\n",
              "      box-shadow: 0px 1px 3px 1px rgba(0, 0, 0, 0.15);\n",
              "      filter: drop-shadow(0px 1px 2px rgba(0, 0, 0, 0.3));\n",
              "      fill: #FFFFFF;\n",
              "    }\n",
              "  </style>\n",
              "\n",
              "      <script>\n",
              "        const buttonEl =\n",
              "          document.querySelector('#df-233d73d6-24c4-4050-80b8-14e49edb0aad button.colab-df-convert');\n",
              "        buttonEl.style.display =\n",
              "          google.colab.kernel.accessAllowed ? 'block' : 'none';\n",
              "\n",
              "        async function convertToInteractive(key) {\n",
              "          const element = document.querySelector('#df-233d73d6-24c4-4050-80b8-14e49edb0aad');\n",
              "          const dataTable =\n",
              "            await google.colab.kernel.invokeFunction('convertToInteractive',\n",
              "                                                     [key], {});\n",
              "          if (!dataTable) return;\n",
              "\n",
              "          const docLinkHtml = 'Like what you see? Visit the ' +\n",
              "            '<a target=\"_blank\" href=https://colab.research.google.com/notebooks/data_table.ipynb>data table notebook</a>'\n",
              "            + ' to learn more about interactive tables.';\n",
              "          element.innerHTML = '';\n",
              "          dataTable['output_type'] = 'display_data';\n",
              "          await google.colab.output.renderOutput(dataTable, element);\n",
              "          const docLink = document.createElement('div');\n",
              "          docLink.innerHTML = docLinkHtml;\n",
              "          element.appendChild(docLink);\n",
              "        }\n",
              "      </script>\n",
              "    </div>\n",
              "  </div>\n",
              "  "
            ]
          },
          "metadata": {},
          "execution_count": 35
        }
      ]
    },
    {
      "cell_type": "code",
      "source": [
        "# csv파일로 저장하기\n",
        "df.to_csv('investingcom.csv', sep=',')"
      ],
      "metadata": {
        "id": "zYEjAXZFcwnL"
      },
      "execution_count": 34,
      "outputs": []
    },
    {
      "cell_type": "code",
      "source": [],
      "metadata": {
        "id": "EQWksI6apeDm"
      },
      "execution_count": 13,
      "outputs": []
    }
  ]
}