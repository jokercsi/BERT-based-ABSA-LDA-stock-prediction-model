{
  "nbformat": 4,
  "nbformat_minor": 0,
  "metadata": {
    "colab": {
      "provenance": []
    },
    "kernelspec": {
      "name": "python3",
      "display_name": "Python 3"
    },
    "language_info": {
      "name": "python"
    },
    "accelerator": "GPU",
    "gpuClass": "standard"
  },
  "cells": [
    {
      "cell_type": "markdown",
      "source": [
        "https://velog.io/@choonsik_mom/LSTM-GRU%EB%A5%BC-%EC%9D%B4%EC%9A%A9%ED%95%9C-%EC%A3%BC%EA%B0%80-%EC%98%88%EC%B8%A1\n"
      ],
      "metadata": {
        "id": "-rsRPAoTGX0C"
      }
    },
    {
      "cell_type": "code",
      "source": [
        "import torch\n",
        "import torch.nn as nn\n",
        "\n",
        "import torch.nn.functional as F\n",
        "from torch.nn import Parameter\n",
        "import torchvision.transforms as transforms\n",
        "import torchvision.datasets\n",
        "from torch.autograd import Variable\n",
        "from torch import Tensor\n",
        "from torch.utils.data import DataLoader\n",
        "\n",
        "\n",
        "import math\n",
        "from datetime import datetime"
      ],
      "metadata": {
        "id": "jp9AmD5Y-7k_"
      },
      "execution_count": 42,
      "outputs": []
    },
    {
      "cell_type": "code",
      "source": [
        "# GPU 세팅\n",
        "# GPU가 활성화가 잘 되어 있는지 device 함수를 통해 확인토록 하자.\n",
        "device = torch.device('cuda:0' if torch.cuda.is_available() else 'cpu')\n",
        "print(f'{device} is available')\n",
        "\n",
        "cuda = True if torch.cuda.is_available() else False\n",
        "Tensor = torch.cuda.FloatTensor if cuda else torch.FloatTensor\n",
        "\n",
        "torch.manual_seed(125)\n",
        "\n",
        "if torch.cuda.is_available() :\n",
        "    torch.cuda.manual_seed_all(125)"
      ],
      "metadata": {
        "id": "7HwVpkob-_UR",
        "colab": {
          "base_uri": "https://localhost:8080/"
        },
        "outputId": "6558be72-ced4-4604-fa1b-06a87162ddb6"
      },
      "execution_count": 43,
      "outputs": [
        {
          "output_type": "stream",
          "name": "stdout",
          "text": [
            "cuda:0 is available\n"
          ]
        }
      ]
    },
    {
      "cell_type": "code",
      "execution_count": 44,
      "metadata": {
        "colab": {
          "base_uri": "https://localhost:8080/"
        },
        "id": "CpVczNpV-z6C",
        "outputId": "e7ead43e-8b94-4b45-f0a1-d9c303aab6e1"
      },
      "outputs": [
        {
          "output_type": "stream",
          "name": "stdout",
          "text": [
            "Looking in indexes: https://pypi.org/simple, https://us-python.pkg.dev/colab-wheels/public/simple/\n",
            "Requirement already satisfied: yfinance in /usr/local/lib/python3.7/dist-packages (0.1.87)\n",
            "Requirement already satisfied: lxml>=4.5.1 in /usr/local/lib/python3.7/dist-packages (from yfinance) (4.9.1)\n",
            "Requirement already satisfied: multitasking>=0.0.7 in /usr/local/lib/python3.7/dist-packages (from yfinance) (0.0.11)\n",
            "Requirement already satisfied: appdirs>=1.4.4 in /usr/local/lib/python3.7/dist-packages (from yfinance) (1.4.4)\n",
            "Requirement already satisfied: numpy>=1.15 in /usr/local/lib/python3.7/dist-packages (from yfinance) (1.21.6)\n",
            "Requirement already satisfied: pandas>=0.24.0 in /usr/local/lib/python3.7/dist-packages (from yfinance) (1.3.5)\n",
            "Requirement already satisfied: requests>=2.26 in /usr/local/lib/python3.7/dist-packages (from yfinance) (2.28.1)\n",
            "Requirement already satisfied: pytz>=2017.3 in /usr/local/lib/python3.7/dist-packages (from pandas>=0.24.0->yfinance) (2022.6)\n",
            "Requirement already satisfied: python-dateutil>=2.7.3 in /usr/local/lib/python3.7/dist-packages (from pandas>=0.24.0->yfinance) (2.8.2)\n",
            "Requirement already satisfied: six>=1.5 in /usr/local/lib/python3.7/dist-packages (from python-dateutil>=2.7.3->pandas>=0.24.0->yfinance) (1.15.0)\n",
            "Requirement already satisfied: charset-normalizer<3,>=2 in /usr/local/lib/python3.7/dist-packages (from requests>=2.26->yfinance) (2.1.1)\n",
            "Requirement already satisfied: certifi>=2017.4.17 in /usr/local/lib/python3.7/dist-packages (from requests>=2.26->yfinance) (2022.9.24)\n",
            "Requirement already satisfied: urllib3<1.27,>=1.21.1 in /usr/local/lib/python3.7/dist-packages (from requests>=2.26->yfinance) (1.24.3)\n",
            "Requirement already satisfied: idna<4,>=2.5 in /usr/local/lib/python3.7/dist-packages (from requests>=2.26->yfinance) (2.10)\n"
          ]
        }
      ],
      "source": [
        "!pip install yfinance\n",
        "import yfinance as yf"
      ]
    },
    {
      "cell_type": "code",
      "source": [
        "import numpy as np\n",
        "import pandas as pd"
      ],
      "metadata": {
        "id": "M3hqgiLH-3ZU"
      },
      "execution_count": 45,
      "outputs": []
    },
    {
      "cell_type": "code",
      "source": [
        "print(yf)"
      ],
      "metadata": {
        "colab": {
          "base_uri": "https://localhost:8080/"
        },
        "id": "EKz-g6d3-4xD",
        "outputId": "6bad588e-b062-44d9-9283-818db185af7e"
      },
      "execution_count": 46,
      "outputs": [
        {
          "output_type": "stream",
          "name": "stdout",
          "text": [
            "<module 'yfinance' from '/usr/local/lib/python3.7/dist-packages/yfinance/__init__.py'>\n"
          ]
        }
      ]
    },
    {
      "cell_type": "code",
      "source": [
        "df_price = df = yf.download('005930.KS',\n",
        "                     start='2022-01-01',\n",
        "                     end='2022-05-31')\n",
        "df_price.info()"
      ],
      "metadata": {
        "colab": {
          "base_uri": "https://localhost:8080/"
        },
        "id": "JTQosb-m-6cO",
        "outputId": "d3258ac3-2a52-4110-e367-3af7465b5cb5"
      },
      "execution_count": 47,
      "outputs": [
        {
          "output_type": "stream",
          "name": "stdout",
          "text": [
            "\r[*********************100%***********************]  1 of 1 completed\n",
            "<class 'pandas.core.frame.DataFrame'>\n",
            "DatetimeIndex: 98 entries, 2022-01-04 to 2022-05-30\n",
            "Data columns (total 6 columns):\n",
            " #   Column     Non-Null Count  Dtype  \n",
            "---  ------     --------------  -----  \n",
            " 0   Open       98 non-null     float64\n",
            " 1   High       98 non-null     float64\n",
            " 2   Low        98 non-null     float64\n",
            " 3   Close      98 non-null     float64\n",
            " 4   Adj Close  98 non-null     float64\n",
            " 5   Volume     98 non-null     int64  \n",
            "dtypes: float64(5), int64(1)\n",
            "memory usage: 5.4 KB\n"
          ]
        }
      ]
    },
    {
      "cell_type": "code",
      "source": [
        "df_price.describe()"
      ],
      "metadata": {
        "colab": {
          "base_uri": "https://localhost:8080/",
          "height": 300
        },
        "id": "r0s6z_Nj_Lbc",
        "outputId": "6ad821a3-5307-4849-9d4f-ffb029fc1d6c"
      },
      "execution_count": 48,
      "outputs": [
        {
          "output_type": "execute_result",
          "data": {
            "text/plain": [
              "               Open          High           Low         Close     Adj Close  \\\n",
              "count     98.000000     98.000000     98.000000     98.000000     98.000000   \n",
              "mean   70965.306122  71347.959184  70446.938776  70847.959184  69723.537269   \n",
              "std     4010.015863   3900.732936   3870.432568   3889.033739   3685.392266   \n",
              "min    65100.000000  65500.000000  64500.000000  64800.000000  63966.660156   \n",
              "25%    67500.000000  68025.000000  67050.000000  67525.000000  66656.617188   \n",
              "50%    70050.000000  70350.000000  69750.000000  70050.000000  68891.757812   \n",
              "75%    74300.000000  74300.000000  73375.000000  74000.000000  72672.695312   \n",
              "max    79500.000000  79600.000000  78600.000000  78900.000000  77484.812500   \n",
              "\n",
              "             Volume  \n",
              "count  9.800000e+01  \n",
              "mean   1.269242e+07  \n",
              "std    6.042882e+06  \n",
              "min    0.000000e+00  \n",
              "25%    1.082566e+07  \n",
              "50%    1.307725e+07  \n",
              "75%    1.573957e+07  \n",
              "max    3.794336e+07  "
            ],
            "text/html": [
              "\n",
              "  <div id=\"df-4e13debe-3730-4654-b456-c58e4eb2a9cc\">\n",
              "    <div class=\"colab-df-container\">\n",
              "      <div>\n",
              "<style scoped>\n",
              "    .dataframe tbody tr th:only-of-type {\n",
              "        vertical-align: middle;\n",
              "    }\n",
              "\n",
              "    .dataframe tbody tr th {\n",
              "        vertical-align: top;\n",
              "    }\n",
              "\n",
              "    .dataframe thead th {\n",
              "        text-align: right;\n",
              "    }\n",
              "</style>\n",
              "<table border=\"1\" class=\"dataframe\">\n",
              "  <thead>\n",
              "    <tr style=\"text-align: right;\">\n",
              "      <th></th>\n",
              "      <th>Open</th>\n",
              "      <th>High</th>\n",
              "      <th>Low</th>\n",
              "      <th>Close</th>\n",
              "      <th>Adj Close</th>\n",
              "      <th>Volume</th>\n",
              "    </tr>\n",
              "  </thead>\n",
              "  <tbody>\n",
              "    <tr>\n",
              "      <th>count</th>\n",
              "      <td>98.000000</td>\n",
              "      <td>98.000000</td>\n",
              "      <td>98.000000</td>\n",
              "      <td>98.000000</td>\n",
              "      <td>98.000000</td>\n",
              "      <td>9.800000e+01</td>\n",
              "    </tr>\n",
              "    <tr>\n",
              "      <th>mean</th>\n",
              "      <td>70965.306122</td>\n",
              "      <td>71347.959184</td>\n",
              "      <td>70446.938776</td>\n",
              "      <td>70847.959184</td>\n",
              "      <td>69723.537269</td>\n",
              "      <td>1.269242e+07</td>\n",
              "    </tr>\n",
              "    <tr>\n",
              "      <th>std</th>\n",
              "      <td>4010.015863</td>\n",
              "      <td>3900.732936</td>\n",
              "      <td>3870.432568</td>\n",
              "      <td>3889.033739</td>\n",
              "      <td>3685.392266</td>\n",
              "      <td>6.042882e+06</td>\n",
              "    </tr>\n",
              "    <tr>\n",
              "      <th>min</th>\n",
              "      <td>65100.000000</td>\n",
              "      <td>65500.000000</td>\n",
              "      <td>64500.000000</td>\n",
              "      <td>64800.000000</td>\n",
              "      <td>63966.660156</td>\n",
              "      <td>0.000000e+00</td>\n",
              "    </tr>\n",
              "    <tr>\n",
              "      <th>25%</th>\n",
              "      <td>67500.000000</td>\n",
              "      <td>68025.000000</td>\n",
              "      <td>67050.000000</td>\n",
              "      <td>67525.000000</td>\n",
              "      <td>66656.617188</td>\n",
              "      <td>1.082566e+07</td>\n",
              "    </tr>\n",
              "    <tr>\n",
              "      <th>50%</th>\n",
              "      <td>70050.000000</td>\n",
              "      <td>70350.000000</td>\n",
              "      <td>69750.000000</td>\n",
              "      <td>70050.000000</td>\n",
              "      <td>68891.757812</td>\n",
              "      <td>1.307725e+07</td>\n",
              "    </tr>\n",
              "    <tr>\n",
              "      <th>75%</th>\n",
              "      <td>74300.000000</td>\n",
              "      <td>74300.000000</td>\n",
              "      <td>73375.000000</td>\n",
              "      <td>74000.000000</td>\n",
              "      <td>72672.695312</td>\n",
              "      <td>1.573957e+07</td>\n",
              "    </tr>\n",
              "    <tr>\n",
              "      <th>max</th>\n",
              "      <td>79500.000000</td>\n",
              "      <td>79600.000000</td>\n",
              "      <td>78600.000000</td>\n",
              "      <td>78900.000000</td>\n",
              "      <td>77484.812500</td>\n",
              "      <td>3.794336e+07</td>\n",
              "    </tr>\n",
              "  </tbody>\n",
              "</table>\n",
              "</div>\n",
              "      <button class=\"colab-df-convert\" onclick=\"convertToInteractive('df-4e13debe-3730-4654-b456-c58e4eb2a9cc')\"\n",
              "              title=\"Convert this dataframe to an interactive table.\"\n",
              "              style=\"display:none;\">\n",
              "        \n",
              "  <svg xmlns=\"http://www.w3.org/2000/svg\" height=\"24px\"viewBox=\"0 0 24 24\"\n",
              "       width=\"24px\">\n",
              "    <path d=\"M0 0h24v24H0V0z\" fill=\"none\"/>\n",
              "    <path d=\"M18.56 5.44l.94 2.06.94-2.06 2.06-.94-2.06-.94-.94-2.06-.94 2.06-2.06.94zm-11 1L8.5 8.5l.94-2.06 2.06-.94-2.06-.94L8.5 2.5l-.94 2.06-2.06.94zm10 10l.94 2.06.94-2.06 2.06-.94-2.06-.94-.94-2.06-.94 2.06-2.06.94z\"/><path d=\"M17.41 7.96l-1.37-1.37c-.4-.4-.92-.59-1.43-.59-.52 0-1.04.2-1.43.59L10.3 9.45l-7.72 7.72c-.78.78-.78 2.05 0 2.83L4 21.41c.39.39.9.59 1.41.59.51 0 1.02-.2 1.41-.59l7.78-7.78 2.81-2.81c.8-.78.8-2.07 0-2.86zM5.41 20L4 18.59l7.72-7.72 1.47 1.35L5.41 20z\"/>\n",
              "  </svg>\n",
              "      </button>\n",
              "      \n",
              "  <style>\n",
              "    .colab-df-container {\n",
              "      display:flex;\n",
              "      flex-wrap:wrap;\n",
              "      gap: 12px;\n",
              "    }\n",
              "\n",
              "    .colab-df-convert {\n",
              "      background-color: #E8F0FE;\n",
              "      border: none;\n",
              "      border-radius: 50%;\n",
              "      cursor: pointer;\n",
              "      display: none;\n",
              "      fill: #1967D2;\n",
              "      height: 32px;\n",
              "      padding: 0 0 0 0;\n",
              "      width: 32px;\n",
              "    }\n",
              "\n",
              "    .colab-df-convert:hover {\n",
              "      background-color: #E2EBFA;\n",
              "      box-shadow: 0px 1px 2px rgba(60, 64, 67, 0.3), 0px 1px 3px 1px rgba(60, 64, 67, 0.15);\n",
              "      fill: #174EA6;\n",
              "    }\n",
              "\n",
              "    [theme=dark] .colab-df-convert {\n",
              "      background-color: #3B4455;\n",
              "      fill: #D2E3FC;\n",
              "    }\n",
              "\n",
              "    [theme=dark] .colab-df-convert:hover {\n",
              "      background-color: #434B5C;\n",
              "      box-shadow: 0px 1px 3px 1px rgba(0, 0, 0, 0.15);\n",
              "      filter: drop-shadow(0px 1px 2px rgba(0, 0, 0, 0.3));\n",
              "      fill: #FFFFFF;\n",
              "    }\n",
              "  </style>\n",
              "\n",
              "      <script>\n",
              "        const buttonEl =\n",
              "          document.querySelector('#df-4e13debe-3730-4654-b456-c58e4eb2a9cc button.colab-df-convert');\n",
              "        buttonEl.style.display =\n",
              "          google.colab.kernel.accessAllowed ? 'block' : 'none';\n",
              "\n",
              "        async function convertToInteractive(key) {\n",
              "          const element = document.querySelector('#df-4e13debe-3730-4654-b456-c58e4eb2a9cc');\n",
              "          const dataTable =\n",
              "            await google.colab.kernel.invokeFunction('convertToInteractive',\n",
              "                                                     [key], {});\n",
              "          if (!dataTable) return;\n",
              "\n",
              "          const docLinkHtml = 'Like what you see? Visit the ' +\n",
              "            '<a target=\"_blank\" href=https://colab.research.google.com/notebooks/data_table.ipynb>data table notebook</a>'\n",
              "            + ' to learn more about interactive tables.';\n",
              "          element.innerHTML = '';\n",
              "          dataTable['output_type'] = 'display_data';\n",
              "          await google.colab.output.renderOutput(dataTable, element);\n",
              "          const docLink = document.createElement('div');\n",
              "          docLink.innerHTML = docLinkHtml;\n",
              "          element.appendChild(docLink);\n",
              "        }\n",
              "      </script>\n",
              "    </div>\n",
              "  </div>\n",
              "  "
            ]
          },
          "metadata": {},
          "execution_count": 48
        }
      ]
    },
    {
      "cell_type": "code",
      "source": [
        "df_price.head()"
      ],
      "metadata": {
        "colab": {
          "base_uri": "https://localhost:8080/",
          "height": 238
        },
        "id": "bazNxqkA_NO6",
        "outputId": "203adc36-251f-4488-c13b-7a834e1b2cea"
      },
      "execution_count": 49,
      "outputs": [
        {
          "output_type": "execute_result",
          "data": {
            "text/plain": [
              "               Open     High      Low    Close     Adj Close    Volume\n",
              "Date                                                                  \n",
              "2022-01-04  78800.0  79200.0  78300.0  78700.0  77288.398438  12427416\n",
              "2022-01-05  78800.0  79000.0  76400.0  77400.0  76011.710938  25470640\n",
              "2022-01-06  76700.0  77600.0  76600.0  76900.0  75520.679688  12931954\n",
              "2022-01-07  78100.0  78400.0  77400.0  78300.0  76895.570312  15163757\n",
              "2022-01-10  78100.0  78100.0  77100.0  78000.0  76600.953125   9947422"
            ],
            "text/html": [
              "\n",
              "  <div id=\"df-0d7eee47-0016-40db-a14c-2385326b1ed3\">\n",
              "    <div class=\"colab-df-container\">\n",
              "      <div>\n",
              "<style scoped>\n",
              "    .dataframe tbody tr th:only-of-type {\n",
              "        vertical-align: middle;\n",
              "    }\n",
              "\n",
              "    .dataframe tbody tr th {\n",
              "        vertical-align: top;\n",
              "    }\n",
              "\n",
              "    .dataframe thead th {\n",
              "        text-align: right;\n",
              "    }\n",
              "</style>\n",
              "<table border=\"1\" class=\"dataframe\">\n",
              "  <thead>\n",
              "    <tr style=\"text-align: right;\">\n",
              "      <th></th>\n",
              "      <th>Open</th>\n",
              "      <th>High</th>\n",
              "      <th>Low</th>\n",
              "      <th>Close</th>\n",
              "      <th>Adj Close</th>\n",
              "      <th>Volume</th>\n",
              "    </tr>\n",
              "    <tr>\n",
              "      <th>Date</th>\n",
              "      <th></th>\n",
              "      <th></th>\n",
              "      <th></th>\n",
              "      <th></th>\n",
              "      <th></th>\n",
              "      <th></th>\n",
              "    </tr>\n",
              "  </thead>\n",
              "  <tbody>\n",
              "    <tr>\n",
              "      <th>2022-01-04</th>\n",
              "      <td>78800.0</td>\n",
              "      <td>79200.0</td>\n",
              "      <td>78300.0</td>\n",
              "      <td>78700.0</td>\n",
              "      <td>77288.398438</td>\n",
              "      <td>12427416</td>\n",
              "    </tr>\n",
              "    <tr>\n",
              "      <th>2022-01-05</th>\n",
              "      <td>78800.0</td>\n",
              "      <td>79000.0</td>\n",
              "      <td>76400.0</td>\n",
              "      <td>77400.0</td>\n",
              "      <td>76011.710938</td>\n",
              "      <td>25470640</td>\n",
              "    </tr>\n",
              "    <tr>\n",
              "      <th>2022-01-06</th>\n",
              "      <td>76700.0</td>\n",
              "      <td>77600.0</td>\n",
              "      <td>76600.0</td>\n",
              "      <td>76900.0</td>\n",
              "      <td>75520.679688</td>\n",
              "      <td>12931954</td>\n",
              "    </tr>\n",
              "    <tr>\n",
              "      <th>2022-01-07</th>\n",
              "      <td>78100.0</td>\n",
              "      <td>78400.0</td>\n",
              "      <td>77400.0</td>\n",
              "      <td>78300.0</td>\n",
              "      <td>76895.570312</td>\n",
              "      <td>15163757</td>\n",
              "    </tr>\n",
              "    <tr>\n",
              "      <th>2022-01-10</th>\n",
              "      <td>78100.0</td>\n",
              "      <td>78100.0</td>\n",
              "      <td>77100.0</td>\n",
              "      <td>78000.0</td>\n",
              "      <td>76600.953125</td>\n",
              "      <td>9947422</td>\n",
              "    </tr>\n",
              "  </tbody>\n",
              "</table>\n",
              "</div>\n",
              "      <button class=\"colab-df-convert\" onclick=\"convertToInteractive('df-0d7eee47-0016-40db-a14c-2385326b1ed3')\"\n",
              "              title=\"Convert this dataframe to an interactive table.\"\n",
              "              style=\"display:none;\">\n",
              "        \n",
              "  <svg xmlns=\"http://www.w3.org/2000/svg\" height=\"24px\"viewBox=\"0 0 24 24\"\n",
              "       width=\"24px\">\n",
              "    <path d=\"M0 0h24v24H0V0z\" fill=\"none\"/>\n",
              "    <path d=\"M18.56 5.44l.94 2.06.94-2.06 2.06-.94-2.06-.94-.94-2.06-.94 2.06-2.06.94zm-11 1L8.5 8.5l.94-2.06 2.06-.94-2.06-.94L8.5 2.5l-.94 2.06-2.06.94zm10 10l.94 2.06.94-2.06 2.06-.94-2.06-.94-.94-2.06-.94 2.06-2.06.94z\"/><path d=\"M17.41 7.96l-1.37-1.37c-.4-.4-.92-.59-1.43-.59-.52 0-1.04.2-1.43.59L10.3 9.45l-7.72 7.72c-.78.78-.78 2.05 0 2.83L4 21.41c.39.39.9.59 1.41.59.51 0 1.02-.2 1.41-.59l7.78-7.78 2.81-2.81c.8-.78.8-2.07 0-2.86zM5.41 20L4 18.59l7.72-7.72 1.47 1.35L5.41 20z\"/>\n",
              "  </svg>\n",
              "      </button>\n",
              "      \n",
              "  <style>\n",
              "    .colab-df-container {\n",
              "      display:flex;\n",
              "      flex-wrap:wrap;\n",
              "      gap: 12px;\n",
              "    }\n",
              "\n",
              "    .colab-df-convert {\n",
              "      background-color: #E8F0FE;\n",
              "      border: none;\n",
              "      border-radius: 50%;\n",
              "      cursor: pointer;\n",
              "      display: none;\n",
              "      fill: #1967D2;\n",
              "      height: 32px;\n",
              "      padding: 0 0 0 0;\n",
              "      width: 32px;\n",
              "    }\n",
              "\n",
              "    .colab-df-convert:hover {\n",
              "      background-color: #E2EBFA;\n",
              "      box-shadow: 0px 1px 2px rgba(60, 64, 67, 0.3), 0px 1px 3px 1px rgba(60, 64, 67, 0.15);\n",
              "      fill: #174EA6;\n",
              "    }\n",
              "\n",
              "    [theme=dark] .colab-df-convert {\n",
              "      background-color: #3B4455;\n",
              "      fill: #D2E3FC;\n",
              "    }\n",
              "\n",
              "    [theme=dark] .colab-df-convert:hover {\n",
              "      background-color: #434B5C;\n",
              "      box-shadow: 0px 1px 3px 1px rgba(0, 0, 0, 0.15);\n",
              "      filter: drop-shadow(0px 1px 2px rgba(0, 0, 0, 0.3));\n",
              "      fill: #FFFFFF;\n",
              "    }\n",
              "  </style>\n",
              "\n",
              "      <script>\n",
              "        const buttonEl =\n",
              "          document.querySelector('#df-0d7eee47-0016-40db-a14c-2385326b1ed3 button.colab-df-convert');\n",
              "        buttonEl.style.display =\n",
              "          google.colab.kernel.accessAllowed ? 'block' : 'none';\n",
              "\n",
              "        async function convertToInteractive(key) {\n",
              "          const element = document.querySelector('#df-0d7eee47-0016-40db-a14c-2385326b1ed3');\n",
              "          const dataTable =\n",
              "            await google.colab.kernel.invokeFunction('convertToInteractive',\n",
              "                                                     [key], {});\n",
              "          if (!dataTable) return;\n",
              "\n",
              "          const docLinkHtml = 'Like what you see? Visit the ' +\n",
              "            '<a target=\"_blank\" href=https://colab.research.google.com/notebooks/data_table.ipynb>data table notebook</a>'\n",
              "            + ' to learn more about interactive tables.';\n",
              "          element.innerHTML = '';\n",
              "          dataTable['output_type'] = 'display_data';\n",
              "          await google.colab.output.renderOutput(dataTable, element);\n",
              "          const docLink = document.createElement('div');\n",
              "          docLink.innerHTML = docLinkHtml;\n",
              "          element.appendChild(docLink);\n",
              "        }\n",
              "      </script>\n",
              "    </div>\n",
              "  </div>\n",
              "  "
            ]
          },
          "metadata": {},
          "execution_count": 49
        }
      ]
    },
    {
      "cell_type": "markdown",
      "source": [
        "그래프를 그려 종가 추세를 확인해 본다."
      ],
      "metadata": {
        "id": "NRt1sxzNAb2f"
      }
    },
    {
      "cell_type": "code",
      "source": [
        "import matplotlib.pyplot as plt\n",
        "import seaborn as sns\n",
        "plt.style.use('seaborn-whitegrid')\n",
        "\n",
        "plt.figure(figsize=(16, 9))\n",
        "sns.lineplot(y=df_price['Close'], x=df_price.index) # .index => 인덱스 부분이 \"Date\"이기 때문\n",
        "plt.xlabel('time')\n",
        "plt.ylabel('price')"
      ],
      "metadata": {
        "colab": {
          "base_uri": "https://localhost:8080/",
          "height": 501
        },
        "id": "GkiGAqs5_Cmg",
        "outputId": "a7fb71ab-cb69-45ac-8723-c567fb27b90e"
      },
      "execution_count": 50,
      "outputs": [
        {
          "output_type": "execute_result",
          "data": {
            "text/plain": [
              "Text(0, 0.5, 'price')"
            ]
          },
          "metadata": {},
          "execution_count": 50
        },
        {
          "output_type": "display_data",
          "data": {
            "text/plain": [
              "<Figure size 1152x648 with 1 Axes>"
            ],
            "image/png": "[encoded data removed]"
          },
          "metadata": {}
        }
      ]
    },
    {
      "cell_type": "code",
      "source": [
        "# data check\n",
        "fig = df_price['Close'].plot()"
      ],
      "metadata": {
        "colab": {
          "base_uri": "https://localhost:8080/",
          "height": 271
        },
        "id": "Sst-YuLz_fbH",
        "outputId": "787a7cbb-fdb9-4fe7-b313-f6d79bed5c21"
      },
      "execution_count": 51,
      "outputs": [
        {
          "output_type": "display_data",
          "data": {
            "text/plain": [
              "<Figure size 432x288 with 1 Axes>"
            ],
            "image/png": "[encoded data removed]"
          },
          "metadata": {}
        }
      ]
    },
    {
      "cell_type": "markdown",
      "source": [
        "데이터 셋을 target 기준으로 분리시켜주도록 한다."
      ],
      "metadata": {
        "id": "zJLs1LC4jJ-Q"
      }
    },
    {
      "cell_type": "code",
      "source": [
        "# X, y 분리\n",
        "X = df_price.drop('Close', axis=1) # Close 빼고 모든 값\n",
        "y = df_price[['Close']] # Close 값만 포함"
      ],
      "metadata": {
        "id": "0amldsweA7Qf"
      },
      "execution_count": 52,
      "outputs": []
    },
    {
      "cell_type": "markdown",
      "source": [
        "# 데이터를 train과 test로 나누자\n",
        "train : test => 7 : 3"
      ],
      "metadata": {
        "id": "SZ87M2PAmVvP"
      }
    },
    {
      "cell_type": "code",
      "source": [
        "split_ratio = 0.7\n",
        "\n",
        "total = len(df)\n",
        "train = int(total * split_ratio)\n",
        "test = total - train\n",
        "\n",
        "print('전체 데이터 수: ', total)\n",
        "print('train : ', train)\n",
        "print('test : ', test)\n",
        "\n",
        "SPLIT_SIZE = train # split으로 나누기 "
      ],
      "metadata": {
        "id": "lIjORB1cBkJP",
        "colab": {
          "base_uri": "https://localhost:8080/"
        },
        "outputId": "6b5ba6b9-585f-40a9-b992-c670aea805f7"
      },
      "execution_count": 53,
      "outputs": [
        {
          "output_type": "stream",
          "name": "stdout",
          "text": [
            "전체 데이터 수:  98\n",
            "train :  68\n",
            "test :  30\n"
          ]
        }
      ]
    },
    {
      "cell_type": "markdown",
      "source": [
        "*sklearn* 패키지에 있는 MinMaxScaler를 활용하여 전체 학습 데이터를 Normalize 해주기."
      ],
      "metadata": {
        "id": "U7P8o11gBJ38"
      }
    },
    {
      "cell_type": "markdown",
      "source": [
        "표준화, 정규화 \n",
        "https://wpaud16.tistory.com/67"
      ],
      "metadata": {
        "id": "fcTROM3NiNL5"
      }
    },
    {
      "cell_type": "code",
      "source": [
        "from sklearn.preprocessing import StandardScaler, MinMaxScaler\n",
        "\n",
        "\n",
        "ms = MinMaxScaler()   # 정규화  -> 모든 값을  0 ~ 1 사이 값으로 변경, 음수도 예외 없이 다 바꾼다. \n",
        "ss = StandardScaler() # 표준화  -> 평균 0, 분산 1\n",
        "\n",
        "X_ss = ss.fit_transform(X)\n",
        "y_ms = ms.fit_transform(y)\n",
        "\n",
        "X_train = X_ss[:SPLIT_SIZE, :]\n",
        "y_train = y_ms[:SPLIT_SIZE, :]\n",
        "\n",
        "X_test = X_ss[SPLIT_SIZE:, :]\n",
        "y_test = y_ms[SPLIT_SIZE:, :]\n",
        "\n",
        "# (행 개수, 열 개수)\n",
        "print('Training Shape :', X_train.shape, y_train.shape)\n",
        "print('Testing Shape :', X_test.shape, y_test.shape)"
      ],
      "metadata": {
        "colab": {
          "base_uri": "https://localhost:8080/"
        },
        "id": "Pq7e8Ed0BH79",
        "outputId": "c6716710-1b58-48c7-e5e3-3c25d2d745ef"
      },
      "execution_count": 54,
      "outputs": [
        {
          "output_type": "stream",
          "name": "stdout",
          "text": [
            "Training Shape : (68, 5) (68, 1)\n",
            "Testing Shape : (30, 5) (30, 1)\n"
          ]
        }
      ]
    },
    {
      "cell_type": "markdown",
      "source": [
        "데이터셋 형태를 tensor 형식으로 변경한다."
      ],
      "metadata": {
        "id": "JvuW7cCOtBbU"
      }
    },
    {
      "cell_type": "code",
      "source": [
        "# 데이터셋 형태 및 크기 조정\n",
        "X_train_tensors = Variable(torch.Tensor(X_train))\n",
        "X_test_tensors = Variable(torch.Tensor(X_test))\n",
        "\n",
        "y_train_tensors = Variable(torch.Tensor(y_train))\n",
        "y_test_tensors = Variable(torch.Tensor(y_test))\n",
        "\n",
        "X_train_tensors_f = torch.reshape(X_train_tensors, \n",
        "                                  (X_train_tensors.shape[0], 1, X_train_tensors.shape[1]))\n",
        "\n",
        "X_test_tensors_f = torch.reshape(X_test_tensors,\n",
        "                                (X_test_tensors.shape[0], 1, X_test_tensors.shape[1]))\n",
        "\n",
        "print('Training Shape :', X_train.shape, y_train.shape)\n",
        "print('Testing Shape :', X_test.shape, y_test.shape)"
      ],
      "metadata": {
        "colab": {
          "base_uri": "https://localhost:8080/"
        },
        "id": "smATfPp4CBcz",
        "outputId": "2f97fddd-369b-40a9-b2be-739150401346"
      },
      "execution_count": 55,
      "outputs": [
        {
          "output_type": "stream",
          "name": "stdout",
          "text": [
            "Training Shape : (68, 5) (68, 1)\n",
            "Testing Shape : (30, 5) (30, 1)\n"
          ]
        }
      ]
    },
    {
      "cell_type": "code",
      "source": [
        "class LSTM(nn.Module):\n",
        "\n",
        "    def __init__(self, num_classes, input_size, hidden_size, num_layers, seq_length):\n",
        "        super(LSTM, self).__init__()\n",
        "        self.num_classes = num_classes   # 클래스\n",
        "        self.num_layers = num_layers     # LSTM 계층 개수\n",
        "        self.input_size = input_size     # 입력 크기(컬럼 개수)\n",
        "        self.hidden_size = hidden_size   # 은닉층의 뉴런 개수\n",
        "        self.seq_length = seq_length     # 시퀀스 길이\n",
        "\n",
        "        self.lstm = nn.LSTM(input_size=input_size, hidden_size=hidden_size,\n",
        "                          num_layers=num_layers, batch_first=True) # lstm 계층\n",
        "        self.fc_1 =  nn.Linear(hidden_size, 128) # 완전연결층\n",
        "        self.fc = nn.Linear(128, num_classes) # 출력층\n",
        "\n",
        "        self.relu = nn.ReLU()\n",
        "    \n",
        "    def forward(self,x):\n",
        "        h_0 = Variable(torch.zeros(self.num_layers, x.size(0), self.hidden_size)) # 은닉상태 초기화\n",
        "        c_0 = Variable(torch.zeros(self.num_layers, x.size(0), self.hidden_size)) # 셀 상태 초기화\n",
        "        \n",
        "        output, (hn, cn) = self.lstm(x, (h_0, c_0)) # lstm 계층에 은닉 상태와 셀 상태 적용\n",
        "        hn = hn.view(-1, self.hidden_size) # 완전연결층 적용을 위해 데이터 형태를 1차원으로 조정\n",
        "        out = self.relu(hn)\n",
        "        out = self.fc_1(out) \n",
        "        out = self.relu(out) \n",
        "        out = self.fc(out)\n",
        "        return out"
      ],
      "metadata": {
        "id": "dJM9w1teCEie"
      },
      "execution_count": 56,
      "outputs": []
    },
    {
      "cell_type": "code",
      "source": [
        "num_epochs = 2000\n",
        "learning_rate = 0.0001\n",
        "\n",
        "input_size  = 5 # input의 culumn 열 개수\n",
        "hidden_size = 2 # 은닉층 유닛 개수\n",
        "num_layers = 1 # LSTM 계층 개수\n",
        "\n",
        "num_classes=1 # 클래스 개수\n",
        "\n",
        "# LSTM 모델\n",
        "lstm = LSTM(num_classes, input_size, hidden_size, num_layers, X_train_tensors_f.shape[1])\n",
        "\n",
        "criterion = torch.nn.MSELoss()\n",
        "optimizer = torch.optim.Adam(lstm.parameters(), lr=learning_rate)"
      ],
      "metadata": {
        "id": "TOCERgFGCHeZ"
      },
      "execution_count": 57,
      "outputs": []
    },
    {
      "cell_type": "code",
      "source": [
        "for epoch in range(num_epochs) :\n",
        "    outputs = lstm.forward(X_train_tensors_f) # 전방향 학습\n",
        "    optimizer.zero_grad()\n",
        "    loss = criterion(outputs, y_train_tensors) # 오차 계싼\n",
        "    loss.backward() # 기울기 계산\n",
        "    \n",
        "    optimizer.step() # 오차 업데이트\n",
        "    if epoch % 100 == 0 :\n",
        "        print(f'Epoch : {epoch}, loss : {loss.item():1.5f}')"
      ],
      "metadata": {
        "colab": {
          "base_uri": "https://localhost:8080/"
        },
        "id": "mG-EeS9BCJw_",
        "outputId": "0dfd88c8-a86c-4f0b-8921-79594dca1967"
      },
      "execution_count": 58,
      "outputs": [
        {
          "output_type": "stream",
          "name": "stdout",
          "text": [
            "Epoch : 0, loss : 0.17056\n",
            "Epoch : 100, loss : 0.05373\n",
            "Epoch : 200, loss : 0.02885\n",
            "Epoch : 300, loss : 0.02096\n",
            "Epoch : 400, loss : 0.01489\n",
            "Epoch : 500, loss : 0.01039\n",
            "Epoch : 600, loss : 0.00768\n",
            "Epoch : 700, loss : 0.00619\n",
            "Epoch : 800, loss : 0.00536\n",
            "Epoch : 900, loss : 0.00483\n",
            "Epoch : 1000, loss : 0.00442\n",
            "Epoch : 1100, loss : 0.00405\n",
            "Epoch : 1200, loss : 0.00372\n",
            "Epoch : 1300, loss : 0.00342\n",
            "Epoch : 1400, loss : 0.00316\n",
            "Epoch : 1500, loss : 0.00292\n",
            "Epoch : 1600, loss : 0.00270\n",
            "Epoch : 1700, loss : 0.00249\n",
            "Epoch : 1800, loss : 0.00228\n",
            "Epoch : 1900, loss : 0.00209\n"
          ]
        }
      ]
    },
    {
      "cell_type": "markdown",
      "source": [
        "모델 학습을 진행한다."
      ],
      "metadata": {
        "id": "3RZmOLnbbrOr"
      }
    },
    {
      "cell_type": "code",
      "source": [
        "df_x_ss = ss.transform(X)\n",
        "df_y_ms = ms.transform(y)\n",
        "\n",
        "df_x_ss = Variable(torch.Tensor(df_x_ss))\n",
        "df_y_ms = Variable(torch.Tensor(df_y_ms))\n",
        "df_x_ss = torch.reshape(df_x_ss, (df_x_ss.shape[0], 1, df_x_ss.shape[1]))"
      ],
      "metadata": {
        "id": "pGGQ6I8CbqJv"
      },
      "execution_count": 59,
      "outputs": []
    },
    {
      "cell_type": "markdown",
      "source": [
        "결과 출력을 위해 데이터를 변형한다."
      ],
      "metadata": {
        "id": "SvdpVkQpbsjg"
      }
    },
    {
      "cell_type": "code",
      "source": [
        "lstm.eval()\n",
        "train_predict = lstm(df_x_ss)\n",
        "\n",
        "predicted = train_predict.data.numpy()\n",
        "label_y = df_y_ms.data.numpy()\n",
        "\n",
        "predicted = ms.inverse_transform(predicted)\n",
        "label_y = ms.inverse_transform(label_y)\n",
        "\n",
        "# 그래프 그리기\n",
        "plt.figure(figsize=(10, 6))\n",
        "\n",
        "# test 데이터\n",
        "plt.axvline(x=datetime(2022,5,1), c='r', linestyle='--') #빨간 선 그리기\n",
        "\n",
        "df['pred'] = predicted\n",
        "plt.plot(df['Close'], label='Actual Data')\n",
        "plt.plot(df['pred'], label='Predicted Data')\n",
        "\n",
        "plt.title('Time-series Prediction')\n",
        "plt.legend()\n",
        "plt.show()"
      ],
      "metadata": {
        "colab": {
          "base_uri": "https://localhost:8080/",
          "height": 386
        },
        "id": "R784tEU1bt2R",
        "outputId": "083ce107-2842-45b9-9a76-1cdfa3a9765e"
      },
      "execution_count": 60,
      "outputs": [
        {
          "output_type": "display_data",
          "data": {
            "text/plain": [
              "<Figure size 720x432 with 1 Axes>"
            ],
            "image/png": "[encoded data removed]"
          },
          "metadata": {}
        }
      ]
    },
    {
      "cell_type": "code",
      "source": [],
      "metadata": {
        "id": "fLbh2zmkuiDo"
      },
      "execution_count": 60,
      "outputs": []
    }
  ]
}