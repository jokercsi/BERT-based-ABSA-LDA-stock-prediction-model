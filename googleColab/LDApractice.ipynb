{
  "nbformat": 4,
  "nbformat_minor": 0,
  "metadata": {
    "colab": {
      "provenance": []
    },
    "kernelspec": {
      "name": "python3",
      "display_name": "Python 3"
    },
    "language_info": {
      "name": "python"
    }
  },
  "cells": [
    {
      "cell_type": "markdown",
      "source": [
        "뉴스 기사 제목 데이터에 대한 이해\n",
        "약 15년 동안 발행되었던 뉴스 기사 제목을 모아놓은 영어 데이터를 아래 링크에서 다운받을 수 있습니다.\n",
        "\n",
        "데이터 다운 받으면 됨\n",
        "\n",
        "링크 : https://www.kaggle.com/therohk/million-headlines"
      ],
      "metadata": {
        "id": "_W_5-pvILzyu"
      }
    },
    {
      "cell_type": "code",
      "execution_count": null,
      "metadata": {
        "id": "mL0OwaH9LgWG"
      },
      "outputs": [],
      "source": [
        "import pandas as pd\n",
        "import urllib.request\n",
        "import nltk\n",
        "from nltk.corpus import stopwords\n",
        "from nltk.stem import WordNetLemmatizer\n",
        "from sklearn.feature_extraction.text import TfidfVectorizer\n",
        "from sklearn.decomposition import LatentDirichletAllocation"
      ]
    },
    {
      "cell_type": "code",
      "source": [
        "data = pd.read_csv('cnbc.csv', error_bad_lines=False)\n",
        "print('뉴스 제목 개수 :',len(data))"
      ],
      "metadata": {
        "colab": {
          "base_uri": "https://localhost:8080/"
        },
        "id": "DGQPUpWKLxSz",
        "outputId": "f4c4de34-7777-496b-95da-e2b3ed1ed118"
      },
      "execution_count": null,
      "outputs": [
        {
          "output_type": "stream",
          "name": "stdout",
          "text": [
            "뉴스 제목 개수 : 2800\n"
          ]
        },
        {
          "output_type": "stream",
          "name": "stderr",
          "text": [
            "/usr/local/lib/python3.8/dist-packages/IPython/core/interactiveshell.py:3326: FutureWarning: The error_bad_lines argument has been deprecated and will be removed in a future version.\n",
            "\n",
            "\n",
            "  exec(code_obj, self.user_global_ns, self.user_ns)\n"
          ]
        }
      ]
    },
    {
      "cell_type": "code",
      "source": [
        "data.head(5)"
      ],
      "metadata": {
        "colab": {
          "base_uri": "https://localhost:8080/",
          "height": 206
        },
        "id": "_XdYTnqYM7mK",
        "outputId": "7c312068-3d13-4d40-a0b6-c5d5a27a21dd"
      },
      "execution_count": null,
      "outputs": [
        {
          "output_type": "execute_result",
          "data": {
            "text/plain": [
              "                                           Headlines        Date  \\\n",
              "0  Cramer: Never buy a stock all at once - you'll...  2017/12/22   \n",
              "1  Cramer: I helped investors through the 2010 fl...  2017/12/22   \n",
              "2  Cramer says owning too many stocks and too lit...  2017/12/22   \n",
              "3                       Markets lack Christmas cheer  2017/12/26   \n",
              "4  S&P tends to start new year bullish after this...  2017/12/27   \n",
              "\n",
              "                                         Description  \n",
              "0  Jim Cramer doubled down on his key investing r...  \n",
              "1  Jim Cramer built on his \"nobody ever made a di...  \n",
              "2  Jim Cramer broke down why owning fewer stocks ...  \n",
              "3  According to Kensho, here's how markets have f...  \n",
              "4  The S&P is on track to end the year up 20 perc...  "
            ],
            "text/html": [
              "\n",
              "  <div id=\"df-f479ec1a-29f7-42db-b602-b38775a9aab5\">\n",
              "    <div class=\"colab-df-container\">\n",
              "      <div>\n",
              "<style scoped>\n",
              "    .dataframe tbody tr th:only-of-type {\n",
              "        vertical-align: middle;\n",
              "    }\n",
              "\n",
              "    .dataframe tbody tr th {\n",
              "        vertical-align: top;\n",
              "    }\n",
              "\n",
              "    .dataframe thead th {\n",
              "        text-align: right;\n",
              "    }\n",
              "</style>\n",
              "<table border=\"1\" class=\"dataframe\">\n",
              "  <thead>\n",
              "    <tr style=\"text-align: right;\">\n",
              "      <th></th>\n",
              "      <th>Headlines</th>\n",
              "      <th>Date</th>\n",
              "      <th>Description</th>\n",
              "    </tr>\n",
              "  </thead>\n",
              "  <tbody>\n",
              "    <tr>\n",
              "      <th>0</th>\n",
              "      <td>Cramer: Never buy a stock all at once - you'll...</td>\n",
              "      <td>2017/12/22</td>\n",
              "      <td>Jim Cramer doubled down on his key investing r...</td>\n",
              "    </tr>\n",
              "    <tr>\n",
              "      <th>1</th>\n",
              "      <td>Cramer: I helped investors through the 2010 fl...</td>\n",
              "      <td>2017/12/22</td>\n",
              "      <td>Jim Cramer built on his \"nobody ever made a di...</td>\n",
              "    </tr>\n",
              "    <tr>\n",
              "      <th>2</th>\n",
              "      <td>Cramer says owning too many stocks and too lit...</td>\n",
              "      <td>2017/12/22</td>\n",
              "      <td>Jim Cramer broke down why owning fewer stocks ...</td>\n",
              "    </tr>\n",
              "    <tr>\n",
              "      <th>3</th>\n",
              "      <td>Markets lack Christmas cheer</td>\n",
              "      <td>2017/12/26</td>\n",
              "      <td>According to Kensho, here's how markets have f...</td>\n",
              "    </tr>\n",
              "    <tr>\n",
              "      <th>4</th>\n",
              "      <td>S&amp;P tends to start new year bullish after this...</td>\n",
              "      <td>2017/12/27</td>\n",
              "      <td>The S&amp;P is on track to end the year up 20 perc...</td>\n",
              "    </tr>\n",
              "  </tbody>\n",
              "</table>\n",
              "</div>\n",
              "      <button class=\"colab-df-convert\" onclick=\"convertToInteractive('df-f479ec1a-29f7-42db-b602-b38775a9aab5')\"\n",
              "              title=\"Convert this dataframe to an interactive table.\"\n",
              "              style=\"display:none;\">\n",
              "        \n",
              "  <svg xmlns=\"http://www.w3.org/2000/svg\" height=\"24px\"viewBox=\"0 0 24 24\"\n",
              "       width=\"24px\">\n",
              "    <path d=\"M0 0h24v24H0V0z\" fill=\"none\"/>\n",
              "    <path d=\"M18.56 5.44l.94 2.06.94-2.06 2.06-.94-2.06-.94-.94-2.06-.94 2.06-2.06.94zm-11 1L8.5 8.5l.94-2.06 2.06-.94-2.06-.94L8.5 2.5l-.94 2.06-2.06.94zm10 10l.94 2.06.94-2.06 2.06-.94-2.06-.94-.94-2.06-.94 2.06-2.06.94z\"/><path d=\"M17.41 7.96l-1.37-1.37c-.4-.4-.92-.59-1.43-.59-.52 0-1.04.2-1.43.59L10.3 9.45l-7.72 7.72c-.78.78-.78 2.05 0 2.83L4 21.41c.39.39.9.59 1.41.59.51 0 1.02-.2 1.41-.59l7.78-7.78 2.81-2.81c.8-.78.8-2.07 0-2.86zM5.41 20L4 18.59l7.72-7.72 1.47 1.35L5.41 20z\"/>\n",
              "  </svg>\n",
              "      </button>\n",
              "      \n",
              "  <style>\n",
              "    .colab-df-container {\n",
              "      display:flex;\n",
              "      flex-wrap:wrap;\n",
              "      gap: 12px;\n",
              "    }\n",
              "\n",
              "    .colab-df-convert {\n",
              "      background-color: #E8F0FE;\n",
              "      border: none;\n",
              "      border-radius: 50%;\n",
              "      cursor: pointer;\n",
              "      display: none;\n",
              "      fill: #1967D2;\n",
              "      height: 32px;\n",
              "      padding: 0 0 0 0;\n",
              "      width: 32px;\n",
              "    }\n",
              "\n",
              "    .colab-df-convert:hover {\n",
              "      background-color: #E2EBFA;\n",
              "      box-shadow: 0px 1px 2px rgba(60, 64, 67, 0.3), 0px 1px 3px 1px rgba(60, 64, 67, 0.15);\n",
              "      fill: #174EA6;\n",
              "    }\n",
              "\n",
              "    [theme=dark] .colab-df-convert {\n",
              "      background-color: #3B4455;\n",
              "      fill: #D2E3FC;\n",
              "    }\n",
              "\n",
              "    [theme=dark] .colab-df-convert:hover {\n",
              "      background-color: #434B5C;\n",
              "      box-shadow: 0px 1px 3px 1px rgba(0, 0, 0, 0.15);\n",
              "      filter: drop-shadow(0px 1px 2px rgba(0, 0, 0, 0.3));\n",
              "      fill: #FFFFFF;\n",
              "    }\n",
              "  </style>\n",
              "\n",
              "      <script>\n",
              "        const buttonEl =\n",
              "          document.querySelector('#df-f479ec1a-29f7-42db-b602-b38775a9aab5 button.colab-df-convert');\n",
              "        buttonEl.style.display =\n",
              "          google.colab.kernel.accessAllowed ? 'block' : 'none';\n",
              "\n",
              "        async function convertToInteractive(key) {\n",
              "          const element = document.querySelector('#df-f479ec1a-29f7-42db-b602-b38775a9aab5');\n",
              "          const dataTable =\n",
              "            await google.colab.kernel.invokeFunction('convertToInteractive',\n",
              "                                                     [key], {});\n",
              "          if (!dataTable) return;\n",
              "\n",
              "          const docLinkHtml = 'Like what you see? Visit the ' +\n",
              "            '<a target=\"_blank\" href=https://colab.research.google.com/notebooks/data_table.ipynb>data table notebook</a>'\n",
              "            + ' to learn more about interactive tables.';\n",
              "          element.innerHTML = '';\n",
              "          dataTable['output_type'] = 'display_data';\n",
              "          await google.colab.output.renderOutput(dataTable, element);\n",
              "          const docLink = document.createElement('div');\n",
              "          docLink.innerHTML = docLinkHtml;\n",
              "          element.appendChild(docLink);\n",
              "        }\n",
              "      </script>\n",
              "    </div>\n",
              "  </div>\n",
              "  "
            ]
          },
          "metadata": {},
          "execution_count": 3
        }
      ]
    },
    {
      "cell_type": "markdown",
      "source": [
        "기사의 헤드라인만 필요하기 때문에 text라는 이름으로 따로 저장"
      ],
      "metadata": {
        "id": "WJ24Sx-fShyj"
      }
    },
    {
      "cell_type": "code",
      "source": [
        "text = data[['Headlines']]\n",
        "text"
      ],
      "metadata": {
        "colab": {
          "base_uri": "https://localhost:8080/",
          "height": 424
        },
        "id": "xrkiYcfkM72i",
        "outputId": "36db32fd-2286-4266-9082-e24533d3dc80"
      },
      "execution_count": null,
      "outputs": [
        {
          "output_type": "execute_result",
          "data": {
            "text/plain": [
              "                                              Headlines\n",
              "0     Cramer: Never buy a stock all at once - you'll...\n",
              "1     Cramer: I helped investors through the 2010 fl...\n",
              "2     Cramer says owning too many stocks and too lit...\n",
              "3                          Markets lack Christmas cheer\n",
              "4     S&P tends to start new year bullish after this...\n",
              "...                                                 ...\n",
              "2795  Cramer's lightning round: I would just stay lo...\n",
              "2796  IQ Capital CEO Keith Bliss says tech and healt...\n",
              "2797  Cramer's week ahead: Big week for earnings, ev...\n",
              "2798     Cramer's lightning round: I would own Teradyne\n",
              "2799  Jim Cramer: A better way to invest in the Covi...\n",
              "\n",
              "[2800 rows x 1 columns]"
            ],
            "text/html": [
              "\n",
              "  <div id=\"df-e17b1c17-f47d-4cd6-8527-9cc512fa6231\">\n",
              "    <div class=\"colab-df-container\">\n",
              "      <div>\n",
              "<style scoped>\n",
              "    .dataframe tbody tr th:only-of-type {\n",
              "        vertical-align: middle;\n",
              "    }\n",
              "\n",
              "    .dataframe tbody tr th {\n",
              "        vertical-align: top;\n",
              "    }\n",
              "\n",
              "    .dataframe thead th {\n",
              "        text-align: right;\n",
              "    }\n",
              "</style>\n",
              "<table border=\"1\" class=\"dataframe\">\n",
              "  <thead>\n",
              "    <tr style=\"text-align: right;\">\n",
              "      <th></th>\n",
              "      <th>Headlines</th>\n",
              "    </tr>\n",
              "  </thead>\n",
              "  <tbody>\n",
              "    <tr>\n",
              "      <th>0</th>\n",
              "      <td>Cramer: Never buy a stock all at once - you'll...</td>\n",
              "    </tr>\n",
              "    <tr>\n",
              "      <th>1</th>\n",
              "      <td>Cramer: I helped investors through the 2010 fl...</td>\n",
              "    </tr>\n",
              "    <tr>\n",
              "      <th>2</th>\n",
              "      <td>Cramer says owning too many stocks and too lit...</td>\n",
              "    </tr>\n",
              "    <tr>\n",
              "      <th>3</th>\n",
              "      <td>Markets lack Christmas cheer</td>\n",
              "    </tr>\n",
              "    <tr>\n",
              "      <th>4</th>\n",
              "      <td>S&amp;P tends to start new year bullish after this...</td>\n",
              "    </tr>\n",
              "    <tr>\n",
              "      <th>...</th>\n",
              "      <td>...</td>\n",
              "    </tr>\n",
              "    <tr>\n",
              "      <th>2795</th>\n",
              "      <td>Cramer's lightning round: I would just stay lo...</td>\n",
              "    </tr>\n",
              "    <tr>\n",
              "      <th>2796</th>\n",
              "      <td>IQ Capital CEO Keith Bliss says tech and healt...</td>\n",
              "    </tr>\n",
              "    <tr>\n",
              "      <th>2797</th>\n",
              "      <td>Cramer's week ahead: Big week for earnings, ev...</td>\n",
              "    </tr>\n",
              "    <tr>\n",
              "      <th>2798</th>\n",
              "      <td>Cramer's lightning round: I would own Teradyne</td>\n",
              "    </tr>\n",
              "    <tr>\n",
              "      <th>2799</th>\n",
              "      <td>Jim Cramer: A better way to invest in the Covi...</td>\n",
              "    </tr>\n",
              "  </tbody>\n",
              "</table>\n",
              "<p>2800 rows × 1 columns</p>\n",
              "</div>\n",
              "      <button class=\"colab-df-convert\" onclick=\"convertToInteractive('df-e17b1c17-f47d-4cd6-8527-9cc512fa6231')\"\n",
              "              title=\"Convert this dataframe to an interactive table.\"\n",
              "              style=\"display:none;\">\n",
              "        \n",
              "  <svg xmlns=\"http://www.w3.org/2000/svg\" height=\"24px\"viewBox=\"0 0 24 24\"\n",
              "       width=\"24px\">\n",
              "    <path d=\"M0 0h24v24H0V0z\" fill=\"none\"/>\n",
              "    <path d=\"M18.56 5.44l.94 2.06.94-2.06 2.06-.94-2.06-.94-.94-2.06-.94 2.06-2.06.94zm-11 1L8.5 8.5l.94-2.06 2.06-.94-2.06-.94L8.5 2.5l-.94 2.06-2.06.94zm10 10l.94 2.06.94-2.06 2.06-.94-2.06-.94-.94-2.06-.94 2.06-2.06.94z\"/><path d=\"M17.41 7.96l-1.37-1.37c-.4-.4-.92-.59-1.43-.59-.52 0-1.04.2-1.43.59L10.3 9.45l-7.72 7.72c-.78.78-.78 2.05 0 2.83L4 21.41c.39.39.9.59 1.41.59.51 0 1.02-.2 1.41-.59l7.78-7.78 2.81-2.81c.8-.78.8-2.07 0-2.86zM5.41 20L4 18.59l7.72-7.72 1.47 1.35L5.41 20z\"/>\n",
              "  </svg>\n",
              "      </button>\n",
              "      \n",
              "  <style>\n",
              "    .colab-df-container {\n",
              "      display:flex;\n",
              "      flex-wrap:wrap;\n",
              "      gap: 12px;\n",
              "    }\n",
              "\n",
              "    .colab-df-convert {\n",
              "      background-color: #E8F0FE;\n",
              "      border: none;\n",
              "      border-radius: 50%;\n",
              "      cursor: pointer;\n",
              "      display: none;\n",
              "      fill: #1967D2;\n",
              "      height: 32px;\n",
              "      padding: 0 0 0 0;\n",
              "      width: 32px;\n",
              "    }\n",
              "\n",
              "    .colab-df-convert:hover {\n",
              "      background-color: #E2EBFA;\n",
              "      box-shadow: 0px 1px 2px rgba(60, 64, 67, 0.3), 0px 1px 3px 1px rgba(60, 64, 67, 0.15);\n",
              "      fill: #174EA6;\n",
              "    }\n",
              "\n",
              "    [theme=dark] .colab-df-convert {\n",
              "      background-color: #3B4455;\n",
              "      fill: #D2E3FC;\n",
              "    }\n",
              "\n",
              "    [theme=dark] .colab-df-convert:hover {\n",
              "      background-color: #434B5C;\n",
              "      box-shadow: 0px 1px 3px 1px rgba(0, 0, 0, 0.15);\n",
              "      filter: drop-shadow(0px 1px 2px rgba(0, 0, 0, 0.3));\n",
              "      fill: #FFFFFF;\n",
              "    }\n",
              "  </style>\n",
              "\n",
              "      <script>\n",
              "        const buttonEl =\n",
              "          document.querySelector('#df-e17b1c17-f47d-4cd6-8527-9cc512fa6231 button.colab-df-convert');\n",
              "        buttonEl.style.display =\n",
              "          google.colab.kernel.accessAllowed ? 'block' : 'none';\n",
              "\n",
              "        async function convertToInteractive(key) {\n",
              "          const element = document.querySelector('#df-e17b1c17-f47d-4cd6-8527-9cc512fa6231');\n",
              "          const dataTable =\n",
              "            await google.colab.kernel.invokeFunction('convertToInteractive',\n",
              "                                                     [key], {});\n",
              "          if (!dataTable) return;\n",
              "\n",
              "          const docLinkHtml = 'Like what you see? Visit the ' +\n",
              "            '<a target=\"_blank\" href=https://colab.research.google.com/notebooks/data_table.ipynb>data table notebook</a>'\n",
              "            + ' to learn more about interactive tables.';\n",
              "          element.innerHTML = '';\n",
              "          dataTable['output_type'] = 'display_data';\n",
              "          await google.colab.output.renderOutput(dataTable, element);\n",
              "          const docLink = document.createElement('div');\n",
              "          docLink.innerHTML = docLinkHtml;\n",
              "          element.appendChild(docLink);\n",
              "        }\n",
              "      </script>\n",
              "    </div>\n",
              "  </div>\n",
              "  "
            ]
          },
          "metadata": {},
          "execution_count": 4
        }
      ]
    },
    {
      "cell_type": "markdown",
      "source": [
        "## 텍스트 전처리\n",
        "불용어 제거, 표제어 추출, 길이가 짧은 단어 제거라는 세 가지 전처리 기법\n",
        "NLTK의 word_tokenize를 통해 단어 토큰화를 수행합니다.\n",
        "\n",
        "토큰화 링크\n",
        "https://www.nltk.org/api/nltk.tokenize.html"
      ],
      "metadata": {
        "id": "hWlsGhB_NyvN"
      }
    },
    {
      "cell_type": "code",
      "source": [
        "nltk.download('punkt')"
      ],
      "metadata": {
        "colab": {
          "base_uri": "https://localhost:8080/"
        },
        "id": "WCDM7CInNMI8",
        "outputId": "75963796-da47-46b7-ca1b-349182616a5f"
      },
      "execution_count": null,
      "outputs": [
        {
          "output_type": "stream",
          "name": "stderr",
          "text": [
            "[nltk_data] Downloading package punkt to /root/nltk_data...\n",
            "[nltk_data]   Unzipping tokenizers/punkt.zip.\n"
          ]
        },
        {
          "output_type": "execute_result",
          "data": {
            "text/plain": [
              "True"
            ]
          },
          "metadata": {},
          "execution_count": 5
        }
      ]
    },
    {
      "cell_type": "code",
      "source": [
        "text['Headlines'] = text.apply(lambda row: nltk.word_tokenize(row['Headlines']), axis=1)"
      ],
      "metadata": {
        "colab": {
          "base_uri": "https://localhost:8080/"
        },
        "id": "jgC6zwwgM_U7",
        "outputId": "fd30c1ae-e909-49fb-a23d-c55a86c36eb0"
      },
      "execution_count": null,
      "outputs": [
        {
          "output_type": "stream",
          "name": "stderr",
          "text": [
            "<ipython-input-6-2662cf5f5ceb>:1: SettingWithCopyWarning: \n",
            "A value is trying to be set on a copy of a slice from a DataFrame.\n",
            "Try using .loc[row_indexer,col_indexer] = value instead\n",
            "\n",
            "See the caveats in the documentation: https://pandas.pydata.org/pandas-docs/stable/user_guide/indexing.html#returning-a-view-versus-a-copy\n",
            "  text['Headlines'] = text.apply(lambda row: nltk.word_tokenize(row['Headlines']), axis=1)\n"
          ]
        }
      ]
    },
    {
      "cell_type": "code",
      "source": [
        "text['Headlines']"
      ],
      "metadata": {
        "colab": {
          "base_uri": "https://localhost:8080/"
        },
        "id": "1PibowJBmY6d",
        "outputId": "60e37910-3d28-471f-b9c8-2e21c52e4205"
      },
      "execution_count": null,
      "outputs": [
        {
          "output_type": "execute_result",
          "data": {
            "text/plain": [
              "0       [Cramer, :, Never, buy, stock, -, 'll, almost,...\n",
              "1       [Cramer, :, I, help, investors, 2010, flash, c...\n",
              "2       [Cramer, say, own, many, stock, little, cash, ...\n",
              "3                       [Markets, lack, Christmas, cheer]\n",
              "4       [S, &, P, tend, start, new, year, bullish, hap...\n",
              "                              ...                        \n",
              "2795    [Cramer, 's, lightning, round, :, I, would, st...\n",
              "2796    [IQ, Capital, CEO, Keith, Bliss, say, tech, he...\n",
              "2797    [Cramer, 's, week, ahead, :, Big, week, earn, ...\n",
              "2798    [Cramer, 's, lightning, round, :, I, would, Te...\n",
              "2799    [Jim, Cramer, :, A, better, way, invest, Covid...\n",
              "Name: Headlines, Length: 2800, dtype: object"
            ]
          },
          "metadata": {},
          "execution_count": 17
        }
      ]
    },
    {
      "cell_type": "markdown",
      "source": [
        "As dealing with multi-word tokenization, another way would be to retokenize the extracted tokens with NLTK Multi-Word Expression tokenizer:"
      ],
      "metadata": {
        "id": "SarlRbhlmVxm"
      }
    },
    {
      "cell_type": "code",
      "source": [
        "mwtokenizer = nltk.MWETokenizer(separator='')\n",
        "mwtokenizer.add_mwe(('S', '&', 'P'))\n",
        "text['Headlines'] = text.apply(lambda row: mwtokenizer.tokenize(row['Headlines']), axis=1)"
      ],
      "metadata": {
        "colab": {
          "base_uri": "https://localhost:8080/"
        },
        "id": "ZX1pRfszlssE",
        "outputId": "c61736d4-b135-4805-e66d-f280f9cc9183"
      },
      "execution_count": null,
      "outputs": [
        {
          "output_type": "stream",
          "name": "stderr",
          "text": [
            "<ipython-input-18-743175495e7b>:3: SettingWithCopyWarning: \n",
            "A value is trying to be set on a copy of a slice from a DataFrame.\n",
            "Try using .loc[row_indexer,col_indexer] = value instead\n",
            "\n",
            "See the caveats in the documentation: https://pandas.pydata.org/pandas-docs/stable/user_guide/indexing.html#returning-a-view-versus-a-copy\n",
            "  text['Headlines'] = text.apply(lambda row: mwtokenizer.tokenize(row['Headlines']), axis=1)\n"
          ]
        }
      ]
    },
    {
      "cell_type": "code",
      "source": [
        "text['Headlines']"
      ],
      "metadata": {
        "colab": {
          "base_uri": "https://localhost:8080/"
        },
        "id": "Whza_absmjek",
        "outputId": "614a07ad-3a28-4bae-8e23-d617be316513"
      },
      "execution_count": null,
      "outputs": [
        {
          "output_type": "execute_result",
          "data": {
            "text/plain": [
              "0       [Cramer, :, Never, buy, stock, -, 'll, almost,...\n",
              "1       [Cramer, :, I, help, investors, 2010, flash, c...\n",
              "2       [Cramer, say, own, many, stock, little, cash, ...\n",
              "3                       [Markets, lack, Christmas, cheer]\n",
              "4          [S&P, tend, start, new, year, bullish, happen]\n",
              "                              ...                        \n",
              "2795    [Cramer, 's, lightning, round, :, I, would, st...\n",
              "2796    [IQ, Capital, CEO, Keith, Bliss, say, tech, he...\n",
              "2797    [Cramer, 's, week, ahead, :, Big, week, earn, ...\n",
              "2798    [Cramer, 's, lightning, round, :, I, would, Te...\n",
              "2799    [Jim, Cramer, :, A, better, way, invest, Covid...\n",
              "Name: Headlines, Length: 2800, dtype: object"
            ]
          },
          "metadata": {},
          "execution_count": 19
        }
      ]
    },
    {
      "cell_type": "code",
      "source": [
        "text"
      ],
      "metadata": {
        "colab": {
          "base_uri": "https://localhost:8080/",
          "height": 655
        },
        "id": "ZWQTHlxtNuQF",
        "outputId": "fb917e4d-42cd-4df6-8400-c04c2a2f3b23"
      },
      "execution_count": null,
      "outputs": [
        {
          "output_type": "execute_result",
          "data": {
            "text/plain": [
              "                                              Headlines\n",
              "0     [Cramer, :, Never, buy, stock, -, 'll, almost,...\n",
              "1     [Cramer, :, I, help, investors, 2010, flash, c...\n",
              "2     [Cramer, say, own, many, stock, little, cash, ...\n",
              "3                     [Markets, lack, Christmas, cheer]\n",
              "4        [S&P, tend, start, new, year, bullish, happen]\n",
              "...                                                 ...\n",
              "2795  [Cramer, 's, lightning, round, :, I, would, st...\n",
              "2796  [IQ, Capital, CEO, Keith, Bliss, say, tech, he...\n",
              "2797  [Cramer, 's, week, ahead, :, Big, week, earn, ...\n",
              "2798  [Cramer, 's, lightning, round, :, I, would, Te...\n",
              "2799  [Jim, Cramer, :, A, better, way, invest, Covid...\n",
              "\n",
              "[2800 rows x 1 columns]"
            ],
            "text/html": [
              "\n",
              "  <div id=\"df-a21734f9-d810-4af6-93c3-3055a117d746\">\n",
              "    <div class=\"colab-df-container\">\n",
              "      <div>\n",
              "<style scoped>\n",
              "    .dataframe tbody tr th:only-of-type {\n",
              "        vertical-align: middle;\n",
              "    }\n",
              "\n",
              "    .dataframe tbody tr th {\n",
              "        vertical-align: top;\n",
              "    }\n",
              "\n",
              "    .dataframe thead th {\n",
              "        text-align: right;\n",
              "    }\n",
              "</style>\n",
              "<table border=\"1\" class=\"dataframe\">\n",
              "  <thead>\n",
              "    <tr style=\"text-align: right;\">\n",
              "      <th></th>\n",
              "      <th>Headlines</th>\n",
              "    </tr>\n",
              "  </thead>\n",
              "  <tbody>\n",
              "    <tr>\n",
              "      <th>0</th>\n",
              "      <td>[Cramer, :, Never, buy, stock, -, 'll, almost,...</td>\n",
              "    </tr>\n",
              "    <tr>\n",
              "      <th>1</th>\n",
              "      <td>[Cramer, :, I, help, investors, 2010, flash, c...</td>\n",
              "    </tr>\n",
              "    <tr>\n",
              "      <th>2</th>\n",
              "      <td>[Cramer, say, own, many, stock, little, cash, ...</td>\n",
              "    </tr>\n",
              "    <tr>\n",
              "      <th>3</th>\n",
              "      <td>[Markets, lack, Christmas, cheer]</td>\n",
              "    </tr>\n",
              "    <tr>\n",
              "      <th>4</th>\n",
              "      <td>[S&amp;P, tend, start, new, year, bullish, happen]</td>\n",
              "    </tr>\n",
              "    <tr>\n",
              "      <th>...</th>\n",
              "      <td>...</td>\n",
              "    </tr>\n",
              "    <tr>\n",
              "      <th>2795</th>\n",
              "      <td>[Cramer, 's, lightning, round, :, I, would, st...</td>\n",
              "    </tr>\n",
              "    <tr>\n",
              "      <th>2796</th>\n",
              "      <td>[IQ, Capital, CEO, Keith, Bliss, say, tech, he...</td>\n",
              "    </tr>\n",
              "    <tr>\n",
              "      <th>2797</th>\n",
              "      <td>[Cramer, 's, week, ahead, :, Big, week, earn, ...</td>\n",
              "    </tr>\n",
              "    <tr>\n",
              "      <th>2798</th>\n",
              "      <td>[Cramer, 's, lightning, round, :, I, would, Te...</td>\n",
              "    </tr>\n",
              "    <tr>\n",
              "      <th>2799</th>\n",
              "      <td>[Jim, Cramer, :, A, better, way, invest, Covid...</td>\n",
              "    </tr>\n",
              "  </tbody>\n",
              "</table>\n",
              "<p>2800 rows × 1 columns</p>\n",
              "</div>\n",
              "      <button class=\"colab-df-convert\" onclick=\"convertToInteractive('df-a21734f9-d810-4af6-93c3-3055a117d746')\"\n",
              "              title=\"Convert this dataframe to an interactive table.\"\n",
              "              style=\"display:none;\">\n",
              "        \n",
              "  <svg xmlns=\"http://www.w3.org/2000/svg\" height=\"24px\"viewBox=\"0 0 24 24\"\n",
              "       width=\"24px\">\n",
              "    <path d=\"M0 0h24v24H0V0z\" fill=\"none\"/>\n",
              "    <path d=\"M18.56 5.44l.94 2.06.94-2.06 2.06-.94-2.06-.94-.94-2.06-.94 2.06-2.06.94zm-11 1L8.5 8.5l.94-2.06 2.06-.94-2.06-.94L8.5 2.5l-.94 2.06-2.06.94zm10 10l.94 2.06.94-2.06 2.06-.94-2.06-.94-.94-2.06-.94 2.06-2.06.94z\"/><path d=\"M17.41 7.96l-1.37-1.37c-.4-.4-.92-.59-1.43-.59-.52 0-1.04.2-1.43.59L10.3 9.45l-7.72 7.72c-.78.78-.78 2.05 0 2.83L4 21.41c.39.39.9.59 1.41.59.51 0 1.02-.2 1.41-.59l7.78-7.78 2.81-2.81c.8-.78.8-2.07 0-2.86zM5.41 20L4 18.59l7.72-7.72 1.47 1.35L5.41 20z\"/>\n",
              "  </svg>\n",
              "      </button>\n",
              "      \n",
              "  <style>\n",
              "    .colab-df-container {\n",
              "      display:flex;\n",
              "      flex-wrap:wrap;\n",
              "      gap: 12px;\n",
              "    }\n",
              "\n",
              "    .colab-df-convert {\n",
              "      background-color: #E8F0FE;\n",
              "      border: none;\n",
              "      border-radius: 50%;\n",
              "      cursor: pointer;\n",
              "      display: none;\n",
              "      fill: #1967D2;\n",
              "      height: 32px;\n",
              "      padding: 0 0 0 0;\n",
              "      width: 32px;\n",
              "    }\n",
              "\n",
              "    .colab-df-convert:hover {\n",
              "      background-color: #E2EBFA;\n",
              "      box-shadow: 0px 1px 2px rgba(60, 64, 67, 0.3), 0px 1px 3px 1px rgba(60, 64, 67, 0.15);\n",
              "      fill: #174EA6;\n",
              "    }\n",
              "\n",
              "    [theme=dark] .colab-df-convert {\n",
              "      background-color: #3B4455;\n",
              "      fill: #D2E3FC;\n",
              "    }\n",
              "\n",
              "    [theme=dark] .colab-df-convert:hover {\n",
              "      background-color: #434B5C;\n",
              "      box-shadow: 0px 1px 3px 1px rgba(0, 0, 0, 0.15);\n",
              "      filter: drop-shadow(0px 1px 2px rgba(0, 0, 0, 0.3));\n",
              "      fill: #FFFFFF;\n",
              "    }\n",
              "  </style>\n",
              "\n",
              "      <script>\n",
              "        const buttonEl =\n",
              "          document.querySelector('#df-a21734f9-d810-4af6-93c3-3055a117d746 button.colab-df-convert');\n",
              "        buttonEl.style.display =\n",
              "          google.colab.kernel.accessAllowed ? 'block' : 'none';\n",
              "\n",
              "        async function convertToInteractive(key) {\n",
              "          const element = document.querySelector('#df-a21734f9-d810-4af6-93c3-3055a117d746');\n",
              "          const dataTable =\n",
              "            await google.colab.kernel.invokeFunction('convertToInteractive',\n",
              "                                                     [key], {});\n",
              "          if (!dataTable) return;\n",
              "\n",
              "          const docLinkHtml = 'Like what you see? Visit the ' +\n",
              "            '<a target=\"_blank\" href=https://colab.research.google.com/notebooks/data_table.ipynb>data table notebook</a>'\n",
              "            + ' to learn more about interactive tables.';\n",
              "          element.innerHTML = '';\n",
              "          dataTable['output_type'] = 'display_data';\n",
              "          await google.colab.output.renderOutput(dataTable, element);\n",
              "          const docLink = document.createElement('div');\n",
              "          docLink.innerHTML = docLinkHtml;\n",
              "          element.appendChild(docLink);\n",
              "        }\n",
              "      </script>\n",
              "    </div>\n",
              "  </div>\n",
              "  "
            ]
          },
          "metadata": {},
          "execution_count": 20
        }
      ]
    },
    {
      "cell_type": "markdown",
      "source": [
        "###stopword\n",
        "NLTK가 제공하는 영어 불용어를 통해서 text 데이터로부터 불용어를 제거"
      ],
      "metadata": {
        "id": "722zKE3eS-Ii"
      }
    },
    {
      "cell_type": "code",
      "source": [
        "nltk.download('stopwords')\n",
        "stop_words = stopwords.words('english')\n",
        "text['Headlines'] = text['Headlines'].apply(lambda x: [word for word in x if word not in (stop_words)])"
      ],
      "metadata": {
        "colab": {
          "base_uri": "https://localhost:8080/"
        },
        "id": "xd_MffAnh1mc",
        "outputId": "e3054ef5-7e2c-4797-bd67-b778afe7aaad"
      },
      "execution_count": null,
      "outputs": [
        {
          "output_type": "stream",
          "name": "stderr",
          "text": [
            "[nltk_data] Downloading package stopwords to /root/nltk_data...\n",
            "[nltk_data]   Package stopwords is already up-to-date!\n",
            "<ipython-input-23-85228ec1c0d3>:3: SettingWithCopyWarning: \n",
            "A value is trying to be set on a copy of a slice from a DataFrame.\n",
            "Try using .loc[row_indexer,col_indexer] = value instead\n",
            "\n",
            "See the caveats in the documentation: https://pandas.pydata.org/pandas-docs/stable/user_guide/indexing.html#returning-a-view-versus-a-copy\n",
            "  text['Headlines'] = text['Headlines'].apply(lambda x: [word for word in x if word not in (stop_words)])\n"
          ]
        }
      ]
    },
    {
      "cell_type": "code",
      "source": [
        "text"
      ],
      "metadata": {
        "colab": {
          "base_uri": "https://localhost:8080/",
          "height": 655
        },
        "id": "1kkaGQvVNAwC",
        "outputId": "c01fed21-cdbe-46bb-86bf-aeb447aeb790"
      },
      "execution_count": null,
      "outputs": [
        {
          "output_type": "execute_result",
          "data": {
            "text/plain": [
              "                                              Headlines\n",
              "0     Cramer Never buy stock 'll almost definitely g...\n",
              "1     Cramer help investors 2010 flash crash follow ...\n",
              "2         Cramer say many stock little cash set failure\n",
              "3                          Markets lack Christmas cheer\n",
              "4                S&P tend start new year bullish happen\n",
              "...                                                 ...\n",
              "2795         Cramer lightning round would stay long Wex\n",
              "2796  Capital CEO Keith Bliss say tech healthcare rally\n",
              "2797  Cramer week ahead Big week earn even bigger we...\n",
              "2798              Cramer lightning round would Teradyne\n",
              "2799  Jim Cramer better way invest Covid-19 vaccine ...\n",
              "\n",
              "[2800 rows x 1 columns]"
            ],
            "text/html": [
              "\n",
              "  <div id=\"df-78451599-bd2c-4607-bd5f-39b8899ec27c\">\n",
              "    <div class=\"colab-df-container\">\n",
              "      <div>\n",
              "<style scoped>\n",
              "    .dataframe tbody tr th:only-of-type {\n",
              "        vertical-align: middle;\n",
              "    }\n",
              "\n",
              "    .dataframe tbody tr th {\n",
              "        vertical-align: top;\n",
              "    }\n",
              "\n",
              "    .dataframe thead th {\n",
              "        text-align: right;\n",
              "    }\n",
              "</style>\n",
              "<table border=\"1\" class=\"dataframe\">\n",
              "  <thead>\n",
              "    <tr style=\"text-align: right;\">\n",
              "      <th></th>\n",
              "      <th>Headlines</th>\n",
              "    </tr>\n",
              "  </thead>\n",
              "  <tbody>\n",
              "    <tr>\n",
              "      <th>0</th>\n",
              "      <td>Cramer Never buy stock 'll almost definitely g...</td>\n",
              "    </tr>\n",
              "    <tr>\n",
              "      <th>1</th>\n",
              "      <td>Cramer help investors 2010 flash crash follow ...</td>\n",
              "    </tr>\n",
              "    <tr>\n",
              "      <th>2</th>\n",
              "      <td>Cramer say many stock little cash set failure</td>\n",
              "    </tr>\n",
              "    <tr>\n",
              "      <th>3</th>\n",
              "      <td>Markets lack Christmas cheer</td>\n",
              "    </tr>\n",
              "    <tr>\n",
              "      <th>4</th>\n",
              "      <td>S&amp;P tend start new year bullish happen</td>\n",
              "    </tr>\n",
              "    <tr>\n",
              "      <th>...</th>\n",
              "      <td>...</td>\n",
              "    </tr>\n",
              "    <tr>\n",
              "      <th>2795</th>\n",
              "      <td>Cramer lightning round would stay long Wex</td>\n",
              "    </tr>\n",
              "    <tr>\n",
              "      <th>2796</th>\n",
              "      <td>Capital CEO Keith Bliss say tech healthcare rally</td>\n",
              "    </tr>\n",
              "    <tr>\n",
              "      <th>2797</th>\n",
              "      <td>Cramer week ahead Big week earn even bigger we...</td>\n",
              "    </tr>\n",
              "    <tr>\n",
              "      <th>2798</th>\n",
              "      <td>Cramer lightning round would Teradyne</td>\n",
              "    </tr>\n",
              "    <tr>\n",
              "      <th>2799</th>\n",
              "      <td>Jim Cramer better way invest Covid-19 vaccine ...</td>\n",
              "    </tr>\n",
              "  </tbody>\n",
              "</table>\n",
              "<p>2800 rows × 1 columns</p>\n",
              "</div>\n",
              "      <button class=\"colab-df-convert\" onclick=\"convertToInteractive('df-78451599-bd2c-4607-bd5f-39b8899ec27c')\"\n",
              "              title=\"Convert this dataframe to an interactive table.\"\n",
              "              style=\"display:none;\">\n",
              "        \n",
              "  <svg xmlns=\"http://www.w3.org/2000/svg\" height=\"24px\"viewBox=\"0 0 24 24\"\n",
              "       width=\"24px\">\n",
              "    <path d=\"M0 0h24v24H0V0z\" fill=\"none\"/>\n",
              "    <path d=\"M18.56 5.44l.94 2.06.94-2.06 2.06-.94-2.06-.94-.94-2.06-.94 2.06-2.06.94zm-11 1L8.5 8.5l.94-2.06 2.06-.94-2.06-.94L8.5 2.5l-.94 2.06-2.06.94zm10 10l.94 2.06.94-2.06 2.06-.94-2.06-.94-.94-2.06-.94 2.06-2.06.94z\"/><path d=\"M17.41 7.96l-1.37-1.37c-.4-.4-.92-.59-1.43-.59-.52 0-1.04.2-1.43.59L10.3 9.45l-7.72 7.72c-.78.78-.78 2.05 0 2.83L4 21.41c.39.39.9.59 1.41.59.51 0 1.02-.2 1.41-.59l7.78-7.78 2.81-2.81c.8-.78.8-2.07 0-2.86zM5.41 20L4 18.59l7.72-7.72 1.47 1.35L5.41 20z\"/>\n",
              "  </svg>\n",
              "      </button>\n",
              "      \n",
              "  <style>\n",
              "    .colab-df-container {\n",
              "      display:flex;\n",
              "      flex-wrap:wrap;\n",
              "      gap: 12px;\n",
              "    }\n",
              "\n",
              "    .colab-df-convert {\n",
              "      background-color: #E8F0FE;\n",
              "      border: none;\n",
              "      border-radius: 50%;\n",
              "      cursor: pointer;\n",
              "      display: none;\n",
              "      fill: #1967D2;\n",
              "      height: 32px;\n",
              "      padding: 0 0 0 0;\n",
              "      width: 32px;\n",
              "    }\n",
              "\n",
              "    .colab-df-convert:hover {\n",
              "      background-color: #E2EBFA;\n",
              "      box-shadow: 0px 1px 2px rgba(60, 64, 67, 0.3), 0px 1px 3px 1px rgba(60, 64, 67, 0.15);\n",
              "      fill: #174EA6;\n",
              "    }\n",
              "\n",
              "    [theme=dark] .colab-df-convert {\n",
              "      background-color: #3B4455;\n",
              "      fill: #D2E3FC;\n",
              "    }\n",
              "\n",
              "    [theme=dark] .colab-df-convert:hover {\n",
              "      background-color: #434B5C;\n",
              "      box-shadow: 0px 1px 3px 1px rgba(0, 0, 0, 0.15);\n",
              "      filter: drop-shadow(0px 1px 2px rgba(0, 0, 0, 0.3));\n",
              "      fill: #FFFFFF;\n",
              "    }\n",
              "  </style>\n",
              "\n",
              "      <script>\n",
              "        const buttonEl =\n",
              "          document.querySelector('#df-78451599-bd2c-4607-bd5f-39b8899ec27c button.colab-df-convert');\n",
              "        buttonEl.style.display =\n",
              "          google.colab.kernel.accessAllowed ? 'block' : 'none';\n",
              "\n",
              "        async function convertToInteractive(key) {\n",
              "          const element = document.querySelector('#df-78451599-bd2c-4607-bd5f-39b8899ec27c');\n",
              "          const dataTable =\n",
              "            await google.colab.kernel.invokeFunction('convertToInteractive',\n",
              "                                                     [key], {});\n",
              "          if (!dataTable) return;\n",
              "\n",
              "          const docLinkHtml = 'Like what you see? Visit the ' +\n",
              "            '<a target=\"_blank\" href=https://colab.research.google.com/notebooks/data_table.ipynb>data table notebook</a>'\n",
              "            + ' to learn more about interactive tables.';\n",
              "          element.innerHTML = '';\n",
              "          dataTable['output_type'] = 'display_data';\n",
              "          await google.colab.output.renderOutput(dataTable, element);\n",
              "          const docLink = document.createElement('div');\n",
              "          docLink.innerHTML = docLinkHtml;\n",
              "          element.appendChild(docLink);\n",
              "        }\n",
              "      </script>\n",
              "    </div>\n",
              "  </div>\n",
              "  "
            ]
          },
          "metadata": {},
          "execution_count": 43
        }
      ]
    },
    {
      "cell_type": "markdown",
      "source": [
        "against, be, of, a, in, to 등의 단어가 제거 된걸 확인 할 수 있다."
      ],
      "metadata": {
        "id": "uyePrKPgTLOC"
      }
    },
    {
      "cell_type": "code",
      "source": [
        " nltk.download('wordnet')\n",
        " nltk.download('omw-1.4')"
      ],
      "metadata": {
        "colab": {
          "base_uri": "https://localhost:8080/"
        },
        "id": "K3-1CkFSPtTk",
        "outputId": "29e4fdd1-0e54-4b15-ea51-e9daf69bf1c8"
      },
      "execution_count": null,
      "outputs": [
        {
          "output_type": "stream",
          "name": "stderr",
          "text": [
            "[nltk_data] Downloading package wordnet to /root/nltk_data...\n",
            "[nltk_data] Downloading package omw-1.4 to /root/nltk_data...\n"
          ]
        },
        {
          "output_type": "execute_result",
          "data": {
            "text/plain": [
              "True"
            ]
          },
          "metadata": {},
          "execution_count": 10
        }
      ]
    },
    {
      "cell_type": "markdown",
      "source": [
        "표제어 추출을 수행합니다. \n",
        "표제어 추출로 3인칭 단수 표현을 1인칭으로 바꾸고, 과거 현재형 동사를 현재형으로 바꿉니다."
      ],
      "metadata": {
        "id": "drrqrAVRTSh6"
      }
    },
    {
      "cell_type": "code",
      "source": [
        "text['Headlines'] = text['Headlines'].apply(lambda x: [WordNetLemmatizer().lemmatize(word, pos='v') for word in x])\n",
        "print(text.head(5))"
      ],
      "metadata": {
        "colab": {
          "base_uri": "https://localhost:8080/"
        },
        "id": "3--fjn0NOIiL",
        "outputId": "8450723b-f00a-443d-8dec-511db959ff50"
      },
      "execution_count": null,
      "outputs": [
        {
          "output_type": "stream",
          "name": "stdout",
          "text": [
            "                                           Headlines\n",
            "0  [Cramer, :, Never, buy, stock, -, 'll, almost,...\n",
            "1  [Cramer, :, I, help, investors, 2010, flash, c...\n",
            "2  [Cramer, say, own, many, stock, little, cash, ...\n",
            "3                  [Markets, lack, Christmas, cheer]\n",
            "4  [S, &, P, tend, start, new, year, bullish, hap...\n"
          ]
        },
        {
          "output_type": "stream",
          "name": "stderr",
          "text": [
            "<ipython-input-11-9a6074ba03d9>:1: SettingWithCopyWarning: \n",
            "A value is trying to be set on a copy of a slice from a DataFrame.\n",
            "Try using .loc[row_indexer,col_indexer] = value instead\n",
            "\n",
            "See the caveats in the documentation: https://pandas.pydata.org/pandas-docs/stable/user_guide/indexing.html#returning-a-view-versus-a-copy\n",
            "  text['Headlines'] = text['Headlines'].apply(lambda x: [WordNetLemmatizer().lemmatize(word, pos='v') for word in x])\n"
          ]
        }
      ]
    },
    {
      "cell_type": "markdown",
      "source": [
        "길이가 2이하인 단어에 대해서 제거하는 작업을 수행합니다."
      ],
      "metadata": {
        "id": "F3fPTXFHTaoC"
      }
    },
    {
      "cell_type": "code",
      "source": [
        "tokenized_doc = text['Headlines'].apply(lambda x: [word for word in x if len(word) > 2])\n",
        "print(tokenized_doc[:5])"
      ],
      "metadata": {
        "colab": {
          "base_uri": "https://localhost:8080/"
        },
        "id": "dbDv7gX6OKjD",
        "outputId": "2227adb8-7442-4423-8691-31e3a711001d"
      },
      "execution_count": null,
      "outputs": [
        {
          "output_type": "stream",
          "name": "stdout",
          "text": [
            "0    [Cramer, Never, buy, stock, 'll, almost, defin...\n",
            "1    [Cramer, help, investors, 2010, flash, crash, ...\n",
            "2    [Cramer, say, many, stock, little, cash, set, ...\n",
            "3                    [Markets, lack, Christmas, cheer]\n",
            "4       [S&P, tend, start, new, year, bullish, happen]\n",
            "Name: Headlines, dtype: object\n"
          ]
        }
      ]
    },
    {
      "cell_type": "markdown",
      "source": [
        "## TF-IDF 행렬 만들기"
      ],
      "metadata": {
        "id": "1-F8WPLXOxaU"
      }
    },
    {
      "cell_type": "code",
      "source": [
        "# 역토큰화 (토큰화 작업을 되돌림)\n",
        "detokenized_doc = []\n",
        "for i in range(len(text)):\n",
        "    t = ' '.join(tokenized_doc[i])\n",
        "    detokenized_doc.append(t)\n",
        "\n",
        "# 다시 text['headline_text']에 재저장\n",
        "text['Headlines'] = detokenized_doc"
      ],
      "metadata": {
        "colab": {
          "base_uri": "https://localhost:8080/"
        },
        "id": "nrqHaU20OwvC",
        "outputId": "88596fbf-9934-4f36-a7a5-94161eb937d5"
      },
      "execution_count": null,
      "outputs": [
        {
          "output_type": "stream",
          "name": "stderr",
          "text": [
            "<ipython-input-31-22bea03db563>:8: SettingWithCopyWarning: \n",
            "A value is trying to be set on a copy of a slice from a DataFrame.\n",
            "Try using .loc[row_indexer,col_indexer] = value instead\n",
            "\n",
            "See the caveats in the documentation: https://pandas.pydata.org/pandas-docs/stable/user_guide/indexing.html#returning-a-view-versus-a-copy\n",
            "  text['Headlines'] = detokenized_doc\n"
          ]
        }
      ]
    },
    {
      "cell_type": "code",
      "source": [
        "text['Headlines'][:5]"
      ],
      "metadata": {
        "colab": {
          "base_uri": "https://localhost:8080/"
        },
        "id": "_G2zkMcDO6M5",
        "outputId": "035b3795-453f-4046-d57e-e99d28e081ad"
      },
      "execution_count": null,
      "outputs": [
        {
          "output_type": "execute_result",
          "data": {
            "text/plain": [
              "0    Cramer Never buy stock 'll almost definitely g...\n",
              "1    Cramer help investors 2010 flash crash follow ...\n",
              "2        Cramer say many stock little cash set failure\n",
              "3                         Markets lack Christmas cheer\n",
              "4               S&P tend start new year bullish happen\n",
              "Name: Headlines, dtype: object"
            ]
          },
          "metadata": {},
          "execution_count": 32
        }
      ]
    },
    {
      "cell_type": "code",
      "source": [
        "# 상위 1,000개의 단어를 보존 \n",
        "vectorizer = TfidfVectorizer(stop_words='english', max_features= 1000)\n",
        "X = vectorizer.fit_transform(text['Headlines'])"
      ],
      "metadata": {
        "id": "reeb58VFO8ZZ"
      },
      "execution_count": null,
      "outputs": []
    },
    {
      "cell_type": "code",
      "source": [
        "# TF-IDF 행렬의 크기 확인\n",
        "print('TF-IDF 행렬의 크기 :',X.shape)"
      ],
      "metadata": {
        "colab": {
          "base_uri": "https://localhost:8080/"
        },
        "id": "bXBE1XHpO-cS",
        "outputId": "6a64e72c-8a3e-454c-815a-abcfa2f4f99c"
      },
      "execution_count": null,
      "outputs": [
        {
          "output_type": "stream",
          "name": "stdout",
          "text": [
            "TF-IDF 행렬의 크기 : (2800, 1000)\n"
          ]
        }
      ]
    },
    {
      "cell_type": "code",
      "source": [
        "lda_model = LatentDirichletAllocation(n_components=10,learning_method='online',random_state=777,max_iter=1)\n",
        "lda_top = lda_model.fit_transform(X)\n",
        "print(lda_model.components_)\n",
        "print(lda_model.components_.shape) "
      ],
      "metadata": {
        "colab": {
          "base_uri": "https://localhost:8080/"
        },
        "id": "D2AYSnyIPAWK",
        "outputId": "8209d74a-0da7-4bea-b063-8aa9ba854067"
      },
      "execution_count": null,
      "outputs": [
        {
          "output_type": "stream",
          "name": "stdout",
          "text": [
            "[[0.18497468 0.17593632 0.15699984 ... 1.81773151 5.61382035 0.14518905]\n",
            " [0.14153605 0.14632257 0.14598271 ... 0.16301525 0.14744643 0.34320784]\n",
            " [0.14577237 0.16156511 0.14690868 ... 0.14717716 0.15730393 0.14682585]\n",
            " ...\n",
            " [0.15617438 0.14847824 1.41385013 ... 0.15323398 0.15372492 0.1445317 ]\n",
            " [0.16491956 0.14477343 0.93760316 ... 0.16068587 0.15795959 0.14738105]\n",
            " [0.15369156 1.36247822 0.1509845  ... 0.15995597 0.26845844 0.14331372]]\n",
            "(10, 1000)\n"
          ]
        }
      ]
    },
    {
      "cell_type": "code",
      "source": [
        "# 단어 집합. 1,000개의 단어가 저장됨.\n",
        "terms = vectorizer.get_feature_names()\n",
        "\n",
        "def get_topics(components, feature_names, n=5):\n",
        "    for idx, topic in enumerate(components):\n",
        "        print(\"Topic %d:\" % (idx+1), [(feature_names[i], topic[i].round(2)) for i in topic.argsort()[:-n - 1:-1]])\n",
        "\n",
        "get_topics(lda_model.components_,terms)"
      ],
      "metadata": {
        "colab": {
          "base_uri": "https://localhost:8080/"
        },
        "id": "JNdyRSDIPGY6",
        "outputId": "1879b276-0987-4a64-c6e2-a7f29615f6d4"
      },
      "execution_count": null,
      "outputs": [
        {
          "output_type": "stream",
          "name": "stdout",
          "text": [
            "Topic 1: [('cramer', 61.86), ('jim', 60.69), ('say', 47.65), ('earn', 36.96), ('market', 36.85)]\n",
            "Topic 2: [('cramer', 32.62), ('stock', 24.36), ('round', 23.61), ('lightning', 23.19), ('jim', 23.09)]\n",
            "Topic 3: [('money', 18.22), ('uber', 10.15), ('mad', 8.64), ('work', 7.09), ('management', 6.0)]\n",
            "Topic 4: [('impact', 11.08), ('future', 10.45), ('best', 9.69), ('cramer', 9.56), ('start', 9.2)]\n",
            "Topic 5: [('fed', 9.33), ('rate', 7.98), ('billion', 7.93), ('reopen', 7.89), ('disney', 7.76)]\n",
            "Topic 6: [('street', 24.44), ('wall', 24.13), ('meat', 9.95), ('ipo', 8.96), ('know', 8.47)]\n",
            "Topic 7: [('coronavirus', 24.16), ('say', 18.18), ('ceo', 16.26), ('cramer', 15.07), ('way', 13.02)]\n",
            "Topic 8: [('round', 63.61), ('lightning', 63.4), ('cramer', 56.63), ('stock', 36.09), ('buy', 33.66)]\n",
            "Topic 9: [('2020', 15.78), ('stay', 15.53), ('wells', 7.61), ('fargo', 7.6), ('pharma', 7.35)]\n",
            "Topic 10: [('cramer', 29.27), ('round', 20.58), ('lightning', 20.48), ('stock', 17.96), ('want', 16.55)]\n"
          ]
        },
        {
          "output_type": "stream",
          "name": "stderr",
          "text": [
            "/usr/local/lib/python3.8/dist-packages/sklearn/utils/deprecation.py:87: FutureWarning: Function get_feature_names is deprecated; get_feature_names is deprecated in 1.0 and will be removed in 1.2. Please use get_feature_names_out instead.\n",
            "  warnings.warn(msg, category=FutureWarning)\n"
          ]
        }
      ]
    },
    {
      "cell_type": "markdown",
      "source": [
        "##새로운 TASK"
      ],
      "metadata": {
        "id": "cUbIwEb0cb_f"
      }
    },
    {
      "cell_type": "code",
      "source": [
        "tokenized_doc[:5]"
      ],
      "metadata": {
        "colab": {
          "base_uri": "https://localhost:8080/"
        },
        "id": "0BjgkS8NQ2Jh",
        "outputId": "cc2f7bee-e9ef-48e5-e5ee-59bf021d631b"
      },
      "execution_count": null,
      "outputs": [
        {
          "output_type": "execute_result",
          "data": {
            "text/plain": [
              "0    [Cramer, Never, buy, stock, 'll, almost, defin...\n",
              "1    [Cramer, help, investors, 2010, flash, crash, ...\n",
              "2    [Cramer, say, many, stock, little, cash, set, ...\n",
              "3                    [Markets, lack, Christmas, cheer]\n",
              "4       [S&P, tend, start, new, year, bullish, happen]\n",
              "Name: Headlines, dtype: object"
            ]
          },
          "metadata": {},
          "execution_count": 37
        }
      ]
    },
    {
      "cell_type": "code",
      "source": [
        "from gensim import corpora\n",
        "dictionary = corpora.Dictionary(tokenized_doc)\n",
        "corpus = [dictionary.doc2bow(text) for text in tokenized_doc]\n",
        "print(corpus[1]) # 수행된 결과에서 두번째 뉴스 출력. 첫번째 문서의 인덱스는 0"
      ],
      "metadata": {
        "colab": {
          "base_uri": "https://localhost:8080/"
        },
        "id": "ZJs3AhO3cyWe",
        "outputId": "791fc64c-4636-4080-ab9d-e227069cfecd"
      },
      "execution_count": null,
      "outputs": [
        {
          "output_type": "stream",
          "name": "stdout",
          "text": [
            "[(1, 1), (9, 1), (10, 1), (11, 1), (12, 1), (13, 1), (14, 1), (15, 1), (16, 1), (17, 1)]\n"
          ]
        }
      ]
    },
    {
      "cell_type": "code",
      "source": [
        "print(dictionary[66])"
      ],
      "metadata": {
        "colab": {
          "base_uri": "https://localhost:8080/"
        },
        "id": "9OR_veqocypN",
        "outputId": "98d09d1c-cfdb-4682-c864-f5370c5580d7"
      },
      "execution_count": null,
      "outputs": [
        {
          "output_type": "stream",
          "name": "stdout",
          "text": [
            "major\n"
          ]
        }
      ]
    },
    {
      "cell_type": "code",
      "source": [
        "len(dictionary)"
      ],
      "metadata": {
        "colab": {
          "base_uri": "https://localhost:8080/"
        },
        "id": "u828orTzc1X1",
        "outputId": "cf8e42dc-fe8f-4d70-dc64-377b2987fb4e"
      },
      "execution_count": null,
      "outputs": [
        {
          "output_type": "execute_result",
          "data": {
            "text/plain": [
              "4651"
            ]
          },
          "metadata": {},
          "execution_count": 40
        }
      ]
    },
    {
      "cell_type": "code",
      "source": [
        "import gensim\n",
        "NUM_TOPICS = 20 # 20개의 토픽, k=20\n",
        "ldamodel = gensim.models.ldamodel.LdaModel(corpus, num_topics = NUM_TOPICS, id2word=dictionary, passes=15)\n",
        "topics = ldamodel.print_topics(num_words=4)\n",
        "for topic in topics:\n",
        "    print(topic)"
      ],
      "metadata": {
        "colab": {
          "base_uri": "https://localhost:8080/"
        },
        "id": "DEB3LpfEc1kk",
        "outputId": "5972b478-bf16-4b79-85e8-6ee7f0a711a2"
      },
      "execution_count": null,
      "outputs": [
        {
          "output_type": "stream",
          "name": "stdout",
          "text": [
            "(0, '0.100*\"Cramer\" + 0.045*\"week\" + 0.040*\"earn\" + 0.035*\"ahead\"')\n",
            "(1, '0.067*\"Cramer\" + 0.030*\"market\" + 0.025*\"Jim\" + 0.022*\"stock\"')\n",
            "(2, '0.044*\"CEO\" + 0.028*\"say\" + 0.024*\"see\" + 0.022*\"Cramer\"')\n",
            "(3, '0.090*\"Cramer\" + 0.050*\"stock\" + 0.038*\"buy\" + 0.035*\"Jim\"')\n",
            "(4, '0.030*\"S&P\" + 0.026*\"500\" + 0.020*\"million\" + 0.019*\"Wells\"')\n",
            "(5, '0.079*\"Cramer\" + 0.060*\"Jim\" + 0.048*\"say\" + 0.044*\"stock\"')\n",
            "(6, '0.060*\"Street\" + 0.057*\"Wall\" + 0.041*\"Cramer\" + 0.031*\"Jim\"')\n",
            "(7, '0.160*\"round\" + 0.157*\"lightning\" + 0.156*\"Cramer\" + 0.038*\"stock\"')\n",
            "(8, '0.028*\"CEO\" + 0.022*\"best\" + 0.021*\"recovery\" + 0.015*\"Cramer\"')\n",
            "(9, '0.095*\"Jim\" + 0.092*\"say\" + 0.086*\"Cramer\" + 0.071*\"include\"')\n",
            "(10, '0.058*\"Cramer\" + 0.037*\"say\" + 0.023*\"CEO\" + 0.020*\"Jim\"')\n",
            "(11, '0.102*\"Cramer\" + 0.061*\"stock\" + 0.057*\"Remix\" + 0.035*\"market\"')\n",
            "(12, '0.055*\"S&P\" + 0.049*\"500\" + 0.026*\"Cramer\" + 0.023*\"Jim\"')\n",
            "(13, '0.051*\"Cramer\" + 0.031*\"invest\" + 0.024*\"Remix\" + 0.019*\"Warren\"')\n",
            "(14, '0.037*\"say\" + 0.028*\"CEO\" + 0.020*\"Cramer\" + 0.017*\"Jim\"')\n",
            "(15, '0.061*\"CEO\" + 0.034*\"say\" + 0.021*\"\\'re\" + 0.018*\"Beyond\"')\n",
            "(16, '0.088*\"Cramer\" + 0.051*\"Jim\" + 0.036*\"say\" + 0.031*\"stock\"')\n",
            "(17, '0.056*\"CEO\" + 0.029*\"say\" + 0.018*\"coronavirus\" + 0.016*\"index\"')\n",
            "(18, '0.032*\"CEO\" + 0.024*\"coronavirus\" + 0.019*\"say\" + 0.017*\"test\"')\n",
            "(19, '0.050*\"Cramer\" + 0.030*\"say\" + 0.026*\"stock\" + 0.021*\"CEO\"')\n"
          ]
        }
      ]
    },
    {
      "cell_type": "code",
      "source": [
        "print(ldamodel.print_topics())"
      ],
      "metadata": {
        "colab": {
          "base_uri": "https://localhost:8080/"
        },
        "id": "NlQMY-qYc3LM",
        "outputId": "9bb235a4-cd11-455f-bf11-41c4b8a946b1"
      },
      "execution_count": null,
      "outputs": [
        {
          "output_type": "stream",
          "name": "stdout",
          "text": [
            "[(0, '0.100*\"Cramer\" + 0.045*\"week\" + 0.040*\"earn\" + 0.035*\"ahead\" + 0.025*\"trade\" + 0.022*\"Remix\" + 0.019*\"market\" + 0.018*\"report\" + 0.013*\"China\" + 0.013*\"stock\"'), (1, '0.067*\"Cramer\" + 0.030*\"market\" + 0.025*\"Jim\" + 0.022*\"stock\" + 0.016*\"game\" + 0.014*\"plan\" + 0.014*\"investors\" + 0.013*\"n\\'t\" + 0.012*\"sell-off\" + 0.012*\"reveal\"'), (2, '0.044*\"CEO\" + 0.028*\"say\" + 0.024*\"see\" + 0.022*\"Cramer\" + 0.018*\"billion\" + 0.018*\"warn\" + 0.015*\"lot\" + 0.014*\"market\" + 0.013*\"\\'ve\" + 0.012*\"\\'We\"'), (3, '0.090*\"Cramer\" + 0.050*\"stock\" + 0.038*\"buy\" + 0.035*\"Jim\" + 0.023*\"say\" + 0.013*\"time\" + 0.010*\"n\\'t\" + 0.010*\"worth\" + 0.010*\"still\" + 0.009*\"The\"'), (4, '0.030*\"S&P\" + 0.026*\"500\" + 0.020*\"million\" + 0.019*\"Fargo\" + 0.019*\"Wells\" + 0.017*\"drive\" + 0.017*\"future\" + 0.014*\"Chipotle\" + 0.013*\"surge\" + 0.013*\"since\"'), (5, '0.079*\"Cramer\" + 0.060*\"Jim\" + 0.048*\"say\" + 0.044*\"stock\" + 0.027*\"tech\" + 0.020*\"Salesforce\" + 0.019*\"company\" + 0.010*\"US-China\" + 0.010*\"play\" + 0.010*\"buy\"'), (6, '0.060*\"Street\" + 0.057*\"Wall\" + 0.041*\"Cramer\" + 0.031*\"Jim\" + 0.026*\"chart\" + 0.019*\"say\" + 0.013*\"market\" + 0.012*\"show\" + 0.012*\"suggest\" + 0.012*\"stock\"'), (7, '0.160*\"round\" + 0.157*\"lightning\" + 0.156*\"Cramer\" + 0.038*\"stock\" + 0.025*\"buy\" + 0.013*\"n\\'t\" + 0.012*\"want\" + 0.011*\"Buy\" + 0.011*\"like\" + 0.007*\"think\"'), (8, '0.028*\"CEO\" + 0.022*\"best\" + 0.021*\"recovery\" + 0.015*\"Cramer\" + 0.014*\"say\" + 0.013*\"way\" + 0.013*\"strategy\" + 0.012*\"day\" + 0.012*\"The\" + 0.010*\"opportunity\"'), (9, '0.095*\"Jim\" + 0.092*\"say\" + 0.086*\"Cramer\" + 0.071*\"include\" + 0.070*\"Money\" + 0.069*\"\\'Mad\" + 0.068*\"Everything\" + 0.019*\"CEO\" + 0.017*\"stock\" + 0.013*\"recession\"'), (10, '0.058*\"Cramer\" + 0.037*\"say\" + 0.023*\"CEO\" + 0.020*\"Jim\" + 0.019*\"stock\" + 0.017*\"bull\" + 0.016*\"The\" + 0.014*\"Remix\" + 0.014*\"market\" + 0.012*\"cut\"'), (11, '0.102*\"Cramer\" + 0.061*\"stock\" + 0.057*\"Remix\" + 0.035*\"market\" + 0.030*\"The\" + 0.025*\"2020\" + 0.023*\"buy\" + 0.020*\"Jim\" + 0.014*\"These\" + 0.012*\"n\\'t\"'), (12, '0.055*\"S&P\" + 0.049*\"500\" + 0.026*\"Cramer\" + 0.023*\"Jim\" + 0.021*\"higher\" + 0.020*\"top\" + 0.018*\"much\" + 0.016*\"year\" + 0.014*\"gain\" + 0.013*\"level\"'), (13, '0.051*\"Cramer\" + 0.031*\"invest\" + 0.024*\"Remix\" + 0.019*\"Warren\" + 0.019*\"Tesla\" + 0.018*\"market\" + 0.013*\"n\\'t\" + 0.013*\"Buffett\" + 0.012*\"Clorox\" + 0.012*\"finally\"'), (14, '0.037*\"say\" + 0.028*\"CEO\" + 0.020*\"Cramer\" + 0.017*\"Jim\" + 0.015*\"work\" + 0.011*\"\\'big\" + 0.010*\"Tuesday\" + 0.010*\"flash\" + 0.010*\"trader\" + 0.009*\"investors\"'), (15, '0.061*\"CEO\" + 0.034*\"say\" + 0.021*\"\\'re\" + 0.018*\"Beyond\" + 0.018*\"Meat\" + 0.013*\"despite\" + 0.012*\"growth\" + 0.012*\"digital\" + 0.010*\"normal\" + 0.010*\"even\"'), (16, '0.088*\"Cramer\" + 0.051*\"Jim\" + 0.036*\"say\" + 0.031*\"stock\" + 0.021*\"show\" + 0.020*\"market\" + 0.019*\"highs\" + 0.016*\"Charts\" + 0.013*\"new\" + 0.013*\"Apple\"'), (17, '0.056*\"CEO\" + 0.029*\"say\" + 0.018*\"coronavirus\" + 0.016*\"index\" + 0.015*\"outbreak\" + 0.011*\"demand\" + 0.011*\"advise\" + 0.011*\"care\" + 0.010*\"job\" + 0.009*\"kid\"'), (18, '0.032*\"CEO\" + 0.024*\"coronavirus\" + 0.019*\"say\" + 0.017*\"test\" + 0.016*\"biggest\" + 0.015*\"CVS\" + 0.014*\"economic\" + 0.011*\"quarterly\" + 0.011*\"winner\" + 0.008*\"health-care\"'), (19, '0.050*\"Cramer\" + 0.030*\"say\" + 0.026*\"stock\" + 0.021*\"CEO\" + 0.013*\"would\" + 0.012*\"Apple\" + 0.012*\"oil\" + 0.012*\"Boeing\" + 0.011*\"Jim\" + 0.011*\"value\"')]\n"
          ]
        }
      ]
    },
    {
      "cell_type": "markdown",
      "source": [
        "시각화 하기"
      ],
      "metadata": {
        "id": "pphPThtuc7ju"
      }
    },
    {
      "cell_type": "code",
      "source": [
        "pip install pyLDAvis"
      ],
      "metadata": {
        "colab": {
          "base_uri": "https://localhost:8080/"
        },
        "id": "jgAoRI3Qc5_E",
        "outputId": "ca22018e-eb43-49c0-fa08-803e74db6ae5"
      },
      "execution_count": null,
      "outputs": [
        {
          "output_type": "stream",
          "name": "stdout",
          "text": [
            "Looking in indexes: https://pypi.org/simple, https://us-python.pkg.dev/colab-wheels/public/simple/\n",
            "Collecting pyLDAvis\n",
            "  Downloading pyLDAvis-3.3.1.tar.gz (1.7 MB)\n",
            "\u001b[K     |████████████████████████████████| 1.7 MB 5.0 MB/s \n",
            "\u001b[?25h  Installing build dependencies ... \u001b[?25l\u001b[?25hdone\n",
            "  Getting requirements to build wheel ... \u001b[?25l\u001b[?25hdone\n",
            "  Installing backend dependencies ... \u001b[?25l\u001b[?25hdone\n",
            "    Preparing wheel metadata ... \u001b[?25l\u001b[?25hdone\n",
            "Requirement already satisfied: gensim in /usr/local/lib/python3.7/dist-packages (from pyLDAvis) (3.6.0)\n",
            "Requirement already satisfied: scipy in /usr/local/lib/python3.7/dist-packages (from pyLDAvis) (1.7.3)\n",
            "Requirement already satisfied: pandas>=1.2.0 in /usr/local/lib/python3.7/dist-packages (from pyLDAvis) (1.3.5)\n",
            "Requirement already satisfied: numpy>=1.20.0 in /usr/local/lib/python3.7/dist-packages (from pyLDAvis) (1.21.6)\n",
            "Requirement already satisfied: scikit-learn in /usr/local/lib/python3.7/dist-packages (from pyLDAvis) (1.0.2)\n",
            "Requirement already satisfied: future in /usr/local/lib/python3.7/dist-packages (from pyLDAvis) (0.16.0)\n",
            "Collecting funcy\n",
            "  Downloading funcy-1.17-py2.py3-none-any.whl (33 kB)\n",
            "Requirement already satisfied: joblib in /usr/local/lib/python3.7/dist-packages (from pyLDAvis) (1.2.0)\n",
            "Requirement already satisfied: numexpr in /usr/local/lib/python3.7/dist-packages (from pyLDAvis) (2.8.4)\n",
            "Collecting sklearn\n",
            "  Downloading sklearn-0.0.post1.tar.gz (3.6 kB)\n",
            "Requirement already satisfied: setuptools in /usr/local/lib/python3.7/dist-packages (from pyLDAvis) (57.4.0)\n",
            "Requirement already satisfied: jinja2 in /usr/local/lib/python3.7/dist-packages (from pyLDAvis) (2.11.3)\n",
            "Requirement already satisfied: pytz>=2017.3 in /usr/local/lib/python3.7/dist-packages (from pandas>=1.2.0->pyLDAvis) (2022.6)\n",
            "Requirement already satisfied: python-dateutil>=2.7.3 in /usr/local/lib/python3.7/dist-packages (from pandas>=1.2.0->pyLDAvis) (2.8.2)\n",
            "Requirement already satisfied: six>=1.5 in /usr/local/lib/python3.7/dist-packages (from python-dateutil>=2.7.3->pandas>=1.2.0->pyLDAvis) (1.15.0)\n",
            "Requirement already satisfied: smart-open>=1.2.1 in /usr/local/lib/python3.7/dist-packages (from gensim->pyLDAvis) (5.2.1)\n",
            "Requirement already satisfied: MarkupSafe>=0.23 in /usr/local/lib/python3.7/dist-packages (from jinja2->pyLDAvis) (2.0.1)\n",
            "Requirement already satisfied: threadpoolctl>=2.0.0 in /usr/local/lib/python3.7/dist-packages (from scikit-learn->pyLDAvis) (3.1.0)\n",
            "Building wheels for collected packages: pyLDAvis, sklearn\n",
            "  Building wheel for pyLDAvis (PEP 517) ... \u001b[?25l\u001b[?25hdone\n",
            "  Created wheel for pyLDAvis: filename=pyLDAvis-3.3.1-py2.py3-none-any.whl size=136898 sha256=4361d854fba38e2dc9133975d801fa2da253e1af18f106fd4528cb170653aeae\n",
            "  Stored in directory: /root/.cache/pip/wheels/c9/21/f6/17bcf2667e8a68532ba2fbf6d5c72fdf4c7f7d9abfa4852d2f\n",
            "  Building wheel for sklearn (setup.py) ... \u001b[?25l\u001b[?25hdone\n",
            "  Created wheel for sklearn: filename=sklearn-0.0.post1-py3-none-any.whl size=2344 sha256=3995b146495a9cbbac046b9bce55ec4700dad7497b5f9beda465671122f182e4\n",
            "  Stored in directory: /root/.cache/pip/wheels/42/56/cc/4a8bf86613aafd5b7f1b310477667c1fca5c51c3ae4124a003\n",
            "Successfully built pyLDAvis sklearn\n",
            "Installing collected packages: sklearn, funcy, pyLDAvis\n",
            "Successfully installed funcy-1.17 pyLDAvis-3.3.1 sklearn-0.0.post1\n"
          ]
        }
      ]
    },
    {
      "cell_type": "code",
      "source": [
        "import pyLDAvis.gensim_models"
      ],
      "metadata": {
        "colab": {
          "base_uri": "https://localhost:8080/"
        },
        "id": "mPXaHwHBc_18",
        "outputId": "b5537378-3574-4638-9340-62ff7e7925fb"
      },
      "execution_count": null,
      "outputs": [
        {
          "output_type": "stream",
          "name": "stderr",
          "text": [
            "/usr/local/lib/python3.7/dist-packages/past/types/oldstr.py:5: DeprecationWarning: Using or importing the ABCs from 'collections' instead of from 'collections.abc' is deprecated since Python 3.3,and in 3.9 it will stop working\n",
            "  from collections import Iterable\n"
          ]
        }
      ]
    },
    {
      "cell_type": "code",
      "source": [
        "pyLDAvis.enable_notebook()\n",
        "vis = pyLDAvis.gensim_models.prepare(ldamodel, corpus, dictionary)\n",
        "pyLDAvis.display(vis)"
      ],
      "metadata": {
        "colab": {
          "base_uri": "https://localhost:8080/",
          "height": 896
        },
        "id": "ffbVXRMtdAOc",
        "outputId": "1cebde21-c87a-4ab1-dc5f-e83630620d3a"
      },
      "execution_count": null,
      "outputs": [
        {
          "output_type": "stream",
          "name": "stderr",
          "text": [
            "/usr/local/lib/python3.7/dist-packages/pyLDAvis/_prepare.py:247: FutureWarning: In a future version of pandas all arguments of DataFrame.drop except for the argument 'labels' will be keyword-only\n",
            "  by='saliency', ascending=False).head(R).drop('saliency', 1)\n"
          ]
        },
        {
          "output_type": "execute_result",
          "data": {
            "text/plain": [
              "<IPython.core.display.HTML object>"
            ],
            "text/html": [
              "\n",
              "<link rel=\"stylesheet\" type=\"text/css\" href=\"https://cdn.jsdelivr.net/gh/bmabey/pyLDAvis@3.3.1/pyLDAvis/js/ldavis.v1.0.0.css\">\n",
              "\n",
              "\n",
              "<div id=\"ldavis_el73140635685809616898087823\"></div>\n",
              "<script type=\"text/javascript\">\n",
              "\n",
              "var ldavis_el73140635685809616898087823_data = {\"mdsDat\": {\"x\": [0.1516026992702038, 0.21586582178991215, 0.15860786196330542, 0.08069508171342775, 0.03558061500313088, 0.03152252920863421, 0.01708179333345791, -0.09756778016328327, -0.0026338168273920158, 0.09715844818694819, -0.0491243823075399, -0.06697950817280356, 0.02079104570155302, 0.013475751071286807, -0.06338377317445329, -0.025253531289052056, -0.11187352451223145, -0.042090517665398175, -0.19511788678430983, -0.1683569263453963], \"y\": [0.02550655952507283, 0.12016791792926784, -0.11393857165767282, -0.058381763880215445, 0.013479673050118202, 0.019282190131624823, 0.019137199700012934, 0.15679691864997122, -0.08751563326593292, -7.454849610974632e-05, -0.13518141919246754, -0.04165026410896597, -0.03463161081953817, 0.06142361001366002, 0.04972226881734775, -0.010947498817307631, 0.08710392008634392, -0.0008932756876584689, 0.07490390594952423, -0.14430957792707552], \"topics\": [1, 2, 3, 4, 5, 6, 7, 8, 9, 10, 11, 12, 13, 14, 15, 16, 17, 18, 19, 20], \"cluster\": [1, 1, 1, 1, 1, 1, 1, 1, 1, 1, 1, 1, 1, 1, 1, 1, 1, 1, 1, 1], \"Freq\": [11.768638276966279, 10.764955610557895, 8.407396446544782, 5.479135798038559, 5.294742573769657, 4.909828407355953, 4.6122921014807945, 4.518916806157598, 4.504844159204887, 4.490141202936311, 4.345530640196862, 4.058129332643562, 4.0324778805437465, 3.805666386893727, 3.6507494871257555, 3.4898906582750038, 3.178067402060795, 3.063297262989439, 2.9437145436254055, 2.6815850226329907]}, \"tinfo\": {\"Term\": [\"round\", \"lightning\", \"include\", \"Money\", \"'Mad\", \"Everything\", \"stock\", \"week\", \"ahead\", \"Street\", \"earn\", \"Remix\", \"Wall\", \"more\", \"market\", \"2020\", \"have\", \"with\", \"Trump\", \"coronavirus\", \"after\", \"show\", \"China\", \"tariff\", \"company\", \"trade\", \"plan\", \"report\", \"Cramer\", \"game\", \"advantage\", \"near-term\", \"Nasdaq\", \"recover\", \"approach\", \"performers\", \"gift\", \"return\", \"moment\", \"'can\", \"hard\", \"finally\", \"E'We\", \"roar\", \"overlook\", \"Slack\", \"roll\", \"suggest\", \"Wednesday\", \"Dropbox\", \"Aurora\", \"goods\", \"deserve\", \"Intel\", \"break\", \"pick\", \"chart\", \"compete\", \"aside\", \"solar\", \"favorite\", \"your\", \"consider\", \"sell-off\", \"portfolio\", \"down\", \"just\", \"Remix\", \"should\", \"stock\", \"over\", \"investors\", \"Cramer\", \"market\", \"pullback\", \"mean\", \"Tesla\", \"from\", \"show\", \"this\", \"time\", \"these\", \"that\", \"rally\", \"tech\", \"money\", \"bottom\", \"what\", \"could\", \"lightning\", \"round\", \"'very\", \"recommend\", \"table\", \"spec\", \"here\", \"ship\", \"Blackstone\", \"rush\", \"all-time\", \"instead\", \"Amarin\", \"downgrade\", \"acquire\", \"Cronos\", \"much\", \"Enterprise\", \"Yeti\", \"high-growth\", \"flood\", \"Skyworks\", \"Solutions\", \"'Take\", \"scenario\", \"urge\", \"Mazor\", \"Robotics\", \"obstacles\", \"Burlington\", \"think\", \"want\", \"rollout\", \"Growth\", \"right\", \"long-term\", \"like\", \"Fargo\", \"Wells\", \"good\", \"Cramer\", \"Canopy\", \"higher\", \"stock\", \"share\", \"sell\", \"this\", \"would\", \"company\", \"have\", \"play\", \"Tesla\", \"could\", \"with\", \"these\", \"Microsoft\", \"market\", \"include\", \"Money\", \"'Mad\", \"Everything\", \"medical\", \"anything\", \"session\", \"manage\", \"loom\", \"hope\", \"fuel\", \"Lululemon\", \"Capital\", \"CEOs\", \"bond\", \"trim\", \"perfect\", \"four\", \"fossil\", \"'not\", \"income\", \"dividends\", \"manufacture\", \"difference\", \"least\", \"confident\", \"decide\", \"possible\", \"introduce\", \"lose\", \"US-China\", \"amid\", \"rotation\", \"trade\", \"Cramer\", \"earn\", \"stock\", \"China\", \"market\", \"Chinese\", \"coronavirus\", \"play\", \"Tesla\", \"growth\", \"invest\", \"talk\", \"rally\", \"deal\", \"2019\", \"Salesforce\", \"Apple\", \"share\", \"have\", \"your\", \"tech\", \"week\", \"ahead\", \"Strategist\", \"volatility\", \"rebound\", \"depression\", \"Four\", \"begin\", \"decipher\", \"Dexcom\", \"entire\", \"report\", \"'most\", \"spike\", \"2022\", \"Sanofi\", \"'next\", \"Dividend\", \"'real\", \"Banks\", \"nothing\", \"clients\", \"seek\", \"Barrick\", \"Remember\", \"Follow\", \"profitability\", \"terrible\", \"current\", \"base\", \"shape\", \"most\", \"profit\", \"earn\", \"cannabis\", \"concern\", \"Coca-Cola\", \"strategy\", \"season\", \"start\", \"market\", \"strong\", \"reason\", \"will\", \"Cramer\", \"with\", \"coronavirus\", \"this\", \"stock\", \"could\", \"tech\", \"about\", \"higher\", \"that\", \"outbreak\", \"trend\", \"issue\", \"forecast\", \"short\", \"guidance\", \"Square\", \"Global\", \"contract\", \"early\", \"GlaxoSmithKline\", \"JEDI\", \"delay\", \"holiday\", \"crush\", \"Business\", \"Axon\", \"exit\", \"spread\", \"policy\", \"Elliott\", \"deliver\", \"'creates\", \"'like\", \"Credit\", \"Suisse\", \"bite\", \"Traders\", \"Democratic\", \"Three\", \"explode\", \"expect\", \"2020\", \"than\", \"latest\", \"Lyft\", \"Boeing\", \"create\", \"Peloton\", \"Uber\", \"wait\", \"better\", \"drop\", \"even\", \"Snap\", \"move\", \"with\", \"Cramer\", \"quarter\", \"will\", \"from\", \"stock\", \"worry\", \"more\", \"Remix\", \"about\", \"Apple\", \"should\", \"market\", \"opportunity\", \"next\", \"index\", \"Desk\", \"Roku\", \"crash\", \"software\", \"focus\", \"Waste\", \"Cruise\", \"Norwegian\", \"malls\", \"Raytheon\", \"'new\", \"Never\", \"Texas\", \"shareholders\", \"leadership\", \"increase\", \"once\", \"Stop\", \"Technology\", \"Wait\", \"recent\", \"Disney\", \"With\", \"Line\", \"follow\", \"whole\", \"wild\", \"patient\", \"reality\", \"Trade\", \"2018\", \"room\", \"Clorox\", \"launch\", \"Marvell\", \"mistake\", \"fund\", \"play\", \"Tuesday\", \"Management\", \"Remix\", \"then\", \"Cramer\", \"Netflix\", \"still\", \"have\", \"best\", \"stock\", \"call\", \"Spotify\", \"investors\", \"with\", \"this\", \"make\", \"help\", \"good\", \"year\", \"case\", \"support\", \"near\", \"Etsy\", \"cyclical\", \"weed\", \"EJim\", \"product\", \"trouble\", \"Daryl\", \"Guppy\", \"rotate\", \"digits\", \"beneficiaries\", \"cure\", \"'buy\", \"political\", \"interest\", \"within\", \"losers\", \"Recent\", \"avoid\", \"sellers\", \"Eand\", \"expert\", \"turmoil\", \"chase\", \"record\", \"intensify\", \"'rocky\", \"surge\", \"Expect\", \"highs\", \"businesses\", \"double\", \"Charts\", \"show\", \"they\", \"level\", \"happen\", \"Investors\", \"money\", \"store\", \"opportunity\", \"through\", \"Cramer\", \"2019\", \"rule\", \"from\", \"their\", \"these\", \"biggest\", \"make\", \"about\", \"stock\", \"have\", \"warn\", \"more\", \"coronavirus\", \"quarter\", \"uncertainty\", \"Foods\", \"huge\", \"face\", \"Tyson\", \"OPEC\", \"game\", \"Jack\", \"Caterpillar\", \"Washington\", \"'There\", \"'for\", \"LivePerson\", \"Dorsey\", \"Culp\", \"Gamble\", \"Elon\", \"Musk\", \"team\", \"Procter\", \"hammer\", \"something\", \"hear\", \"maker\", \"Ventas\", \"bridge\", \"solution\", \"fake\", \"celebrate\", \"Coffee\", \"fall\", \"open\", \"plan\", \"again\", \"Larry\", \"more\", \"come\", \"before\", \"technical\", \"need\", \"people\", \"'too\", \"news\", \"call\", \"analyst\", \"into\", \"Micron\", \"have\", \"Cramer\", \"than\", \"time\", \"coronavirus\", \"future\", \"could\", \"company\", \"chart\", \"economy\", \"What\", \"watch\", \"away\", \"online\", \"term\", \"U.S.\", \"such\", \"hire\", \"Mattel\", \"state\", \"worst\", \"months\", \"different\", \"shake\", \"double-digit\", \"climb\", \"weeks\", \"Retailers\", \"spark\", \"Victoria\", \"Medicare\", \"victory\", \"center\", \"less\", \"renege\", \"outlook\", \"Stay\", \"Electric\", \"Danaher\", \"autos\", \"Stocks\", \"business\", \"Twitter\", \"long\", \"China\", \"about\", \"explain\", \"Cramer\", \"Remix\", \"what\", \"from\", \"trade\", \"real\", \"2020\", \"predict\", \"during\", \"market\", \"rally\", \"stock\", \"without\", \"push\", \"bargain\", \"cheap\", \"other\", \"co-CEO\", \"valuations\", \"slowly\", \"Bargain\", \"Ollie\", \"outperform\", \"Viacom\", \"hold\", \"Chevron\", \"unveil\", \"speculation\", \"able\", \"FAANG\", \"shutdown\", \"FANG\", \"treat\", \"Shares\", \"Outlet\", \"touch\", \"bill\", \"between\", \"Campbell\", \"Soup\", \"'undervalued\", \"medicine\", \"worth\", \"continue\", \"impeachment\", \"These\", \"stay\", \"invest\", \"bull\", \"point\", \"years\", \"next\", \"could\", \"stock\", \"group\", \"Cramer\", \"playbook\", \"bear\", \"market\", \"investors\", \"bottom\", \"reveal\", \"will\", \"what\", \"trade\", \"Iran\", \"Depot\", \"Home\", \"second\", \"production\", \"side\", \"Great\", \"Carnival\", \"produce\", \"cruise\", \"Recession\", \"well\", \"Lowe\", \"owner\", \"approval\", \"Nucor\", \"election\", \"build\", \"natural\", \"RealReal\", \"More\", \"Chart\", \"airline\", \"Nokia\", \"discount\", \"cancer\", \"Zappos\", \"'huge\", \"below\", \"around\", \"Trump\", \"tariff\", \"social\", \"impact\", \"Shopify\", \"sign\", \"behind\", \"test\", \"another\", \"Meat\", \"Cramer\", \"coronavirus\", \"drug\", \"China\", \"investors\", \"rally\", \"Costco\", \"give\", \"market\", \"2020\", \"warn\", \"billion\", \"trader\", \"manager\", \"'big\", \"Ehere\", \"offer\", \"chain\", \"program\", \"optimism\", \"traders\", \"stave\", \"caution\", \"Digital\", \"investment\", \"complete\", \"sustainability\", \"technology\", \"survivors\", \"'beginning\", \"issuer\", \"hike\", \"innovation\", \"headwinds\", \"Regeneron\", \"restaurants\", \"2009\", \"'retail\", \"personalization\", \"Mellanox\", \"costly\", \"Qualcomm\", \"investor\", \"keep\", \"grow\", \"year\", \"Nordstrom\", \"against\", \"rate\", \"work\", \"help\", \"GrubHub\", \"This\", \"drive\", \"would\", \"despite\", \"warn\", \"become\", \"Cramer\", \"more\", \"Salesforce\", \"this\", \"explain\", \"take\", \"move\", \"will\", \"have\", \"time\", \"reopen\", \"Morgan\", \"Buffett\", \"Barstool\", \"supplier\", \"tank\", \"loan\", \"odds\", \"corporate\", \"unusual\", \"dangerous\", \"Stanley\", \"bearish\", \"volatile\", \"'Medicare\", \"founder\", \"problem\", \"Macy\", \"momentum\", \"breakfast\", \"vision\", \"Sports\", \"grocery\", \"rumor\", \"acquisitions\", \"younger\", \"'Get\", \"compel\", \"confuse\", \"Apeel\", \"spend\", \"rough\", \"Warren\", \"deal\", \"'The\", \"sectors\", \"ready\", \"never\", \"Wendy\", \"with\", \"Cramer\", \"stock\", \"China\", \"bank\", \"trade\", \"have\", \"Remix\", \"that\", \"outbreak\", \"should\", \"make\", \"just\", \"These\", \"market\", \"after\", \"buyer\", \"Constellation\", \"weakness\", \"'You\", \"remain\", \"ugly\", \"McCormick\", \"plunge\", \"energy\", \"bounce\", \"turn\", \"Medical\", \"Brands\", \"Tableau\", \"millennials\", \"believer\", \"overbought\", \"'incredible\", \"ECramer\", \"second-quarter\", \"first\", \"penalty\", \"Exxon\", \"Mobil\", \"difficult\", \"reflective\", \"Keep\", \"Data\", \"house\", \"Inogen\", \"advise\", \"back\", \"since\", \"normal\", \"where\", \"'good\", \"bullish\", \"cloud\", \"things\", \"must\", \"into\", \"after\", \"drop\", \"miss\", \"Cramer\", \"that\", \"stock\", \"will\", \"business\", \"these\", \"company\", \"recovery\", \"until\", \"further\", \"prove\", \"improve\", \"Hogan\", \"Look\", \"Cigna\", \"Nadella\", \"Satya\", \"U-shaped\", \"Fidelity\", \"V-shaped\", \"Honeywell\", \"nearly\", \"Union\", \"Scripts\", \"later\", \"valuation\", \"club\", \"Pacific\", \"confidence\", \"VMware\", \"yield\", \"price\", \"affect\", \"women\", \"warm\", \"loyalty\", \"revamp\", \"Domino\", \"Monday\", \"gain\", \"dividend\", \"slow\", \"Markets\", \"IPOs\", \"target\", \"group\", \"This\", \"economy\", \"consumer\", \"Remix\", \"have\", \"Cramer\", \"down\", \"move\", \"fall\", \"Apple\", \"after\", \"this\", \"look\", \"could\", \"will\", \"Street\", \"Wall\", \"quarterly\", \"Martin\", \"Bank\", \"Lockheed\", \"Cisco\", \"Pinterest\", \"tumble\", \"Ford\", \"expectations\", \"promise\", \"Mastercard\", \"'have\", \"react\", \"land\", \"prefer\", \"Pharmaceuticals\", \"faith\", \"attractive\", \"fine\", \"hurdle\", \"reminiscent\", \"rout\", \"'show-me\", \"changer\", \"fashion\", \"some\", \"E'Forget\", \"Gannett\", \"very\", \"Investor\", \"ever\", \"chipmakers\", \"light\", \"make\", \"climate\", \"'The\", \"have\", \"Cramer\", \"Apple\", \"America\", \"more\", \"warn\", \"after\", \"trade\", \"coronavirus\", \"stock\", \"report\", \"rally\", \"higher\", \"Pelosi\", \"Lilly\", \"Calvin\", \"step\", \"race\", \"pinpoint\", \"Nancy\", \"leave\", \"Sonos\", \"mitigate\", \"secular\", \"meet\", \"stake\", \"Estee\", \"Lauder\", \"Lines\", \"Klein-parent\", \"bless\", \"Most\", \"negative\", \"dead\", \"firm\", \"three\", \"Fitness\", \"Planet\", \"indicate\", \"esports\", \"sales\", \"trillion\", \"Mills\", \"PayPal\", \"find\", \"chance\", \"Microsoft\", \"fight\", \"company\", \"progress\", \"Elizabeth\", \"have\", \"food\", \"that\", \"Cramer\", \"Delta\", \"could\", \"market\", \"call\", \"economy\", \"give\", \"General\", \"Johnson\", \"accord\", \"woes\", \"acquisition\", \"When\", \"important\", \"Alphabet\", \"Bath\", \"'stay-at-home\", \"American\", \"nice\", \"Healthcare\", \"Energy\", \"coffee\", \"stories\", \"skeptical\", \"boon\", \"small\", \"them\", \"Time\", \"self-driving\", \"'value\", \"ourselves\", \"Another\", \"ding\", \"believe\", \"ways\", \"Armour\", \"Under\", \"Tower\", \"Facebook\", \"Pharma\", \"beat\", \"advertise\", \"story\", \"ETFs\", \"reach\", \"Starbucks\", \"Beyond\", \"after\", \"growth\", \"Cramer\", \"about\", \"with\", \"Amazon\", \"worry\", \"Apple\", \"market\", \"earn\", \"Remix\", \"wrong\", \"Investors\", \"rally\", \"lead\", \"industry\", \"sport\", \"pull\", \"risk\", \"sell-offs\", \"last\", \"Systems\", \"Technologies\", \"'This\", \"world\", \"Labs\", \"Alibaba\", \"Cannabis\", \"meat\", \"success\", \"1,000\", \"always\", \"Impossible\", \"Beauty\", \"Ulta\", \"Tank\", \"ride\", \"pack\", \"Verizon\", \"crisis\", \"'Shark\", \"Zebra\", \"'might\", \"Payroll\", \"strategist\", \"People\", \"shop\", \"Here\", \"boost\", \"delivery\", \"situation\", \"There\", \"economic\", \"enough\", \"with\", \"know\", \"will\", \"plan\", \"must\", \"have\", \"still\", \"Cramer\", \"when\", \"Benioff\", \"Marc\", \"demand\", \"hedge\", \"response\", \"Okta\", \"Roth\", \"contact\", \"spring\", \"cybersecurity\", \"users\", \"power\", \"pandemic\", \"tool\", \"Island\", \"Rhode\", \"governor\", \"trace\", \"Corona\", \"seltzer\", \"FireEye\", \"wake\", \"enterprise\", \"voice\", \"register\", \"Alto\", \"Palo\", \"countries\", \"Brian\", \"buyback\", \"million\", \"potential\", \"winner\", \"high\", \"during\", \"coronavirus\", \"opportunities\", \"recession\", \"sign\", \"future\", \"they\", \"outbreak\", \"mergers\", \"rally\", \"very\", \"over\", \"have\", \"Cramer\", \"like\"], \"Freq\": [433.0, 425.0, 137.0, 137.0, 135.0, 133.0, 580.0, 85.0, 71.0, 54.0, 109.0, 205.0, 50.0, 86.0, 273.0, 51.0, 150.0, 101.0, 45.0, 93.0, 70.0, 54.0, 74.0, 43.0, 77.0, 97.0, 41.0, 37.0, 1758.0, 32.0, 11.927485979595183, 9.051801788508053, 8.813662445031198, 8.200295883535507, 7.970208518354771, 7.578781662100325, 7.578781662100325, 6.957261920570333, 6.957261920570333, 6.105758468973258, 6.105757855629391, 10.063962692797874, 5.4769840961752525, 5.2542212834634565, 4.862720519272944, 4.862720519272944, 4.862720519272944, 26.883754753143812, 4.632701541933464, 4.6324006967663225, 4.240441458034649, 4.0112164543320015, 4.011211854252993, 8.579319700095857, 27.712478000147946, 20.13600189764658, 37.17210255318374, 3.3897003928652163, 3.3896997795213486, 3.3896973261458774, 8.209086327848423, 33.59433529019082, 8.096139667941971, 29.09230543259857, 15.553988319633575, 30.964984103310123, 24.153464339256043, 89.73882215539903, 33.29525655338755, 182.25517937613262, 22.751760157729702, 38.69461339628204, 314.1227763109818, 74.37129527831927, 15.605657633742473, 11.823405205297382, 20.015836793760307, 27.88759012777249, 21.862946385312156, 35.82761599439417, 18.95214641776344, 20.945015952803708, 20.446152717950877, 19.86797308080543, 16.459687448730904, 13.141781715635872, 13.684476956655203, 14.466903781832126, 14.832197895912385, 424.7500564130546, 432.865514851915, 16.732335293111856, 14.13952602479072, 6.680939298363396, 6.6808153095995735, 25.991666940049996, 4.97447689255474, 4.97447689255474, 4.468115196629593, 4.280735914973421, 3.9617512565639244, 3.455140741558436, 5.285251643383241, 3.268015047781214, 3.268012803640693, 17.425562643031277, 2.7616508271979803, 2.7616499856452847, 2.7616457778818067, 2.2552891312728334, 2.255288710496486, 2.255288710496486, 2.255288710496486, 2.255288710496486, 2.255288710496486, 2.255288710496486, 2.255288710496486, 2.255288710496486, 2.255288710496486, 23.37116385562108, 26.857359855271202, 5.480828489847539, 5.924981488441492, 16.846872859127554, 8.748081090886513, 28.18552524919996, 8.665373291960044, 8.665373291960044, 20.133813865998345, 388.66600032438174, 7.994268679303334, 17.37647880154112, 101.64902714815526, 15.6680325755113, 13.496101763398656, 27.942242463525815, 10.58540550190069, 13.264146277007685, 14.94428491449705, 10.529184171481333, 9.701931139255958, 11.39231876650783, 10.63410783950216, 9.142673368129453, 7.155710789200002, 7.801259129595836, 137.17032673800463, 136.46009011253435, 134.55595096362725, 132.65171366538587, 7.143166582427001, 6.346157620292161, 6.184917981580921, 5.587862436194841, 8.52542556533483, 4.8776893448918335, 4.716447515347239, 4.280704344339763, 4.280704344339763, 7.3966731678554325, 6.839790057354179, 3.84496292599897, 3.6837162766209963, 3.4092208504081714, 3.409220631324836, 3.409220631324836, 3.409220631324836, 3.409220631324836, 3.409220631324836, 3.409220631324836, 3.409220631324836, 3.409220631324836, 3.2479812116969313, 3.247964999530109, 3.247906066112878, 5.152190248188044, 10.309266931089565, 11.685503751273039, 4.280702591673079, 43.97132589988405, 197.22072545724933, 28.360837281678815, 64.83294236239176, 17.636757086948936, 32.56089792657939, 4.879272879240336, 14.389638844510271, 11.065706479335775, 9.974404187215125, 7.333822978753368, 8.56518919071574, 6.969083840426065, 10.17544995347435, 8.531207612723552, 6.550770063252218, 6.425863643055694, 7.276941934208484, 6.7660549318145105, 7.276903813708119, 6.617526946391706, 6.460700084222738, 85.1757595946189, 71.07282055925252, 14.633541477793704, 11.908224437160392, 9.83242981951229, 8.735126775872846, 6.426288951196872, 5.452242898538392, 4.9644565835035355, 4.2978691039016725, 4.297867390571245, 31.27162929850268, 3.8107998176508797, 5.892166756960559, 3.3236985492321005, 3.3236719926104685, 3.3236574293018313, 3.3227870574444736, 3.143497308150452, 2.65642602301416, 4.117629598440468, 2.1693575934285816, 2.1693575934285816, 2.1693575934285816, 2.1693575934285816, 2.1693575934285816, 2.1693575934285816, 2.1693575934285816, 5.84216435064346, 5.939310757013828, 7.093684837205619, 11.242614983677772, 7.435340057827163, 63.91034550536792, 7.864766911827913, 6.426379757709549, 3.1434898837185976, 6.551657907485256, 10.628689855882275, 12.150393413157241, 63.39462847769793, 9.101823462917995, 8.02579655653184, 19.17680718666326, 85.85130522236288, 18.846689533142992, 16.78515096687505, 19.24191145848175, 22.429236044532182, 12.197005138557586, 7.759358826134356, 8.1606824922369, 7.434949418489609, 7.841602684443112, 6.6065421633015, 11.0347845586781, 9.731157061905865, 7.948031380713604, 6.585120945671548, 6.43599304719361, 6.010436056088988, 5.435525995317111, 4.498384201259831, 4.498384201259831, 4.498384201259831, 3.9209197168365932, 3.710679916065801, 3.1357287394762663, 3.1357287394762663, 3.1357265319155867, 3.135725428135247, 3.135725152190162, 3.1357223927393125, 3.1357221167942275, 3.135721013013888, 9.167185464301314, 2.560775907216222, 2.560775907216222, 2.560775907216222, 2.560775907216222, 2.560775907216222, 2.560775907216222, 2.560775907216222, 2.560775907216222, 2.560775907216222, 18.937663045141715, 36.263261526701086, 23.114063207536102, 7.703765343408082, 6.222913771498706, 11.789954642411713, 8.310252904030863, 5.073189126954343, 12.281342196761795, 6.128303239673542, 10.210642552851983, 7.202059650441637, 8.308152410044242, 6.6844413082065985, 10.473457066877518, 18.871970454438728, 88.35068445971507, 9.328911911577624, 13.458585740847651, 12.127756681381612, 24.32542460192489, 8.015216834326157, 11.504086572209308, 13.793729876759333, 10.07926620168873, 9.149722003655315, 8.745783102395665, 10.95333991874596, 7.217953535444454, 7.1888937585486135, 13.806731909427661, 7.946619186747081, 6.45154030400241, 5.360206869834432, 5.3593291857009016, 8.352709561679363, 4.8146409712777345, 4.8146409712777345, 4.8146409712777345, 4.814638924201038, 4.814638412431864, 4.2690054721133635, 4.269004960344189, 4.269004960344189, 4.269004960344189, 4.269004960344189, 4.269004960344189, 4.067093085714027, 4.0670664737169755, 3.722726934981773, 3.5214604012801134, 5.158354872197635, 13.096012468937571, 4.955206563242919, 2.9758338580762884, 2.9758333463071143, 2.9758333463071143, 2.975831299230418, 2.975831299230418, 2.9758310433458313, 9.583513401780015, 8.96957258272166, 8.419663810953802, 10.876642538975643, 7.189045231294163, 5.561509739147451, 7.718930010588173, 6.451520345004622, 20.483901006894172, 7.199081024797681, 6.653447060940832, 35.17231089648679, 5.599629377847249, 94.6799911559324, 8.612908362851911, 10.458398157928366, 12.648220582856174, 7.5436669803901975, 14.992722170031676, 7.6962637538686005, 5.15743010530009, 7.865929564609769, 6.908837278953816, 6.800307925516256, 6.052699651190007, 5.702975021320651, 5.871081983157602, 5.744327505893051, 9.448837773274535, 9.159438112465237, 5.602987292828543, 5.427124865718324, 5.143500044644098, 4.973466301928483, 4.054494209339035, 4.054492767071369, 3.884458783977811, 3.8844234484199918, 3.8844234484199918, 3.5950072015325336, 3.5950067207766447, 3.5950067207766447, 3.5950067207766447, 3.5950067207766447, 3.4249455749753754, 5.669722460006734, 5.14295871351342, 7.270791007484535, 3.044863575037879, 2.5059994432039168, 2.506000404715694, 2.50600016433775, 2.5059999239598056, 2.505998241314195, 2.5059840590154785, 13.870077573820568, 2.0465141180430257, 2.0465141180430257, 6.9646586379690145, 7.574640267284617, 18.094805520324915, 5.433836217924584, 6.69054509139684, 14.570289872106935, 24.924335216121534, 10.473914132767863, 8.604231405328731, 6.98489749937153, 10.886324802818972, 10.01542781834369, 7.383536436234924, 8.815664960643906, 6.062675016218577, 66.62778938893761, 7.94230890979792, 5.892462913068256, 13.967465255706419, 6.815922861878724, 10.705504820984473, 6.9501499060039205, 8.780765929171354, 8.472449485653467, 12.887160621230947, 9.648954334969696, 7.27173617356172, 8.268913788077866, 7.94856546693347, 6.805788527744916, 10.690324874218021, 9.074989026922632, 7.58438667598105, 6.803098397908344, 5.365271352900233, 5.365271352900233, 28.278026705747173, 4.708559249484666, 9.856225021437462, 4.051944176816146, 3.750011811337959, 3.750011811337959, 3.270706533720662, 3.2700127167769613, 3.0933503428996127, 3.093349636365047, 2.8922609494758644, 2.8922609494758644, 2.614052366139497, 2.614051659604931, 2.614052366139497, 2.6140511885818873, 2.6140474203975357, 7.558625954685778, 2.1347532118217716, 2.1347529763102497, 2.1347529763102497, 2.1347529763102497, 2.1347529763102497, 2.1347529763102497, 14.696438037837275, 7.9391301451440475, 28.761908678770762, 5.667122702414867, 5.667201834286246, 41.70893604395173, 13.739759148105817, 9.19941164806745, 5.284073574450273, 17.02603040280144, 5.116311652010921, 6.846240811570516, 7.518279062789297, 12.478365088752664, 6.910924522100485, 10.621457537011915, 5.00803193262748, 20.705905469829915, 52.3931479811057, 9.427951086933506, 7.870436615441149, 8.594947775799202, 6.139285622105615, 6.806597157078614, 6.351977961681876, 6.0536687054575555, 5.75562416418392, 16.40271001109276, 11.864808069066871, 10.618245292368519, 8.181388536766146, 7.579084102141823, 6.41198197356292, 6.411979156225714, 6.411979156225714, 6.411979156225714, 6.411920461700586, 5.691562085237882, 5.69070984073301, 5.16573943419367, 5.16573943419367, 5.165737086412665, 4.639906452913035, 4.639905983356834, 4.639905044244432, 4.445304520070199, 4.114075349857204, 4.114074880301003, 4.114074880301003, 4.114074880301003, 3.9194905558157056, 3.5882116126454027, 3.393663678765684, 9.629924339551119, 2.867832340931753, 2.8678297583726473, 2.8678276453697427, 11.962516140714584, 17.923694579247194, 10.714657388901385, 9.736360521863594, 25.59312317269216, 18.62476452608395, 8.6998058169639, 57.739650664242326, 18.062292543993074, 9.627654504875336, 10.712743477825983, 10.601982682902014, 5.914923396281458, 8.204633446941978, 5.906698649864201, 6.193331250328086, 7.8916798736293075, 6.547388364810397, 7.279536827924785, 13.618625433051148, 8.392971858906352, 7.527568032518262, 7.13405701643424, 6.606039277000434, 6.468192736822043, 6.468192268798384, 5.211023622596946, 4.680583860729278, 4.680583860729278, 4.680582924681961, 4.680575436303421, 13.24128229425752, 4.150143162814292, 4.150142694790633, 3.953859188608438, 3.95385497639551, 3.4234175546461345, 3.423413108421377, 8.922711925404238, 2.8929768567311482, 2.892974516612855, 2.892974516612855, 2.8929719424827316, 2.892971474459073, 6.805792242564701, 2.362533818697868, 2.362533818697868, 2.362533818697868, 2.362533818697868, 22.323627729177108, 11.21511146279598, 7.725301007971504, 18.974918451053746, 7.73022180871926, 17.964895314121964, 14.010840491624181, 5.800239199597329, 7.829641734422315, 13.199129275411474, 30.298215454656898, 80.36467941540778, 7.543219679713091, 82.41347731867367, 5.967313349238967, 7.2934916158946335, 23.273082988386946, 14.147770173455145, 6.79142578833671, 6.180028230031414, 7.363640405934182, 6.681278760375852, 6.363423300699847, 10.059387394612664, 7.94394244969801, 7.94394244969801, 6.876851151649078, 6.876851151649078, 6.229855021773258, 5.7577634151071875, 5.757762509206434, 5.75770543745897, 5.7342761262739295, 5.285583483117661, 5.110856516455577, 5.110856516455577, 4.638675225614921, 4.63866571365701, 4.463949164853591, 4.1664952936253945, 4.166494840675018, 3.991753832551256, 3.694314682210303, 3.694314682210303, 3.694314682210303, 3.694314682210303, 3.694314682210303, 3.694314682210303, 3.694314682210303, 3.2217053532636672, 3.047405518806809, 3.0474059717571857, 9.09322884080468, 32.33431921451095, 29.812572346294363, 4.604050792919431, 13.797902106957023, 6.876851151649078, 11.896978989949941, 8.287917495265647, 7.711527270109391, 8.193970151734124, 7.007088426411206, 46.88012483036364, 12.975760937221429, 6.353884158672375, 11.0097207681596, 11.046256651444752, 7.761074605915547, 5.643920679229614, 6.09706401278731, 8.824352967693443, 6.2316432698604585, 5.939359827182261, 19.00205065868373, 12.290051575799456, 8.891307272316864, 8.589586009578918, 7.45444742393004, 5.840352876526727, 5.840104579342896, 5.361399875726785, 4.527973669952375, 4.796196385541478, 4.226259598103911, 4.226239294415965, 4.224973697867371, 6.140038271554651, 3.747305751316971, 3.747305751316971, 3.5700507486125366, 3.2683275824038467, 3.2683062212321543, 3.267655445734156, 7.625824931967793, 3.091119108984287, 3.0911188974875374, 2.61216801165509, 2.6121648392038486, 3.7472528771296134, 2.1332126843909043, 2.1332126843909043, 2.1332126843909043, 2.1332126843909043, 4.4763236257803865, 9.685331210678822, 7.389885080211804, 4.490370393890581, 15.198251164639304, 5.361210374639295, 9.398484937321841, 7.912913157606122, 10.021083146387175, 8.325070409013838, 5.121739373154809, 14.245040390876783, 7.276989807339651, 8.931361372711061, 7.19407462169281, 9.51769127319701, 6.199026829938389, 32.306784961461254, 11.30421700544374, 7.302785642874223, 10.127301889873298, 6.587787464937075, 7.110909023894642, 6.659871902045567, 7.825001572750727, 7.902109903645197, 6.80843610170922, 14.298563529211524, 10.428489558314515, 9.46266369324456, 6.217204213322428, 6.2170718125995315, 6.028534444154532, 4.498960171544249, 3.989103061420251, 3.989103061420251, 3.9891026411004957, 3.9891026411004957, 3.8004324516128447, 3.8004114356250835, 3.8003971447534055, 3.479198455163912, 3.2905730297301923, 9.973909539839825, 11.128353054428029, 2.7807194923241134, 2.780717390725337, 2.780716129766071, 2.780716129766071, 2.7807152891265607, 2.7807144484870503, 2.2708592298019505, 2.2708592298019505, 2.2708592298019505, 2.2708592298019505, 2.2708592298019505, 2.2708592298019505, 7.047495871720919, 3.27988345771528, 11.984862998198265, 22.09155743319062, 5.881686490631643, 4.72175486099945, 8.5549369466605, 5.461852204722727, 3.80043371257211, 15.02011636533422, 52.06559316496897, 28.6632652125474, 10.1331981174779, 6.223118112278461, 10.32825254372768, 11.332393917044547, 12.456788772331631, 7.857974497497557, 5.1973075743006625, 6.372416529974318, 5.86499391187259, 5.556721736035323, 5.0517882515240435, 5.6994387870038485, 4.967758346378977, 8.922873005272782, 8.545274862155912, 7.8495660514284, 6.7028021964994675, 6.693507228866823, 5.686783533262226, 5.498597726468218, 4.990496762145469, 4.80278101922329, 14.561426795250291, 11.405382258740593, 3.974729989674988, 10.858135882549789, 3.2786941176290596, 4.990739925988026, 3.328018494883658, 2.770700653145353, 2.770697876396743, 2.770697876396743, 2.770696884700811, 10.446966055381791, 2.2626774377836827, 2.2626774377836827, 2.2626774377836827, 2.2626774377836827, 2.2626774377836827, 2.2626770411053094, 2.26267644608775, 6.006678063515579, 1.7546544207611985, 6.194709959100921, 14.411133293344504, 7.902274293542604, 5.686783533262226, 3.7823858034983835, 5.686783533262226, 10.169293574456328, 8.174033886642352, 8.791267814868752, 9.430917244588214, 13.796664213376877, 22.64563207100379, 7.305918341436099, 4.950233113944346, 48.40352966657595, 10.181318482650932, 21.601173155146622, 7.9736232457538225, 6.418815389234959, 6.3547974500324, 6.000433552570159, 16.530982005019453, 7.645193033667799, 7.516949579595219, 6.161378536611536, 5.171935987043045, 5.04328460392709, 4.365539038171773, 4.365539038171773, 3.3760603381749985, 3.3760603381749985, 3.376034842609788, 3.376013532883641, 3.364175980009293, 3.1929907640358657, 3.192985436604329, 3.1929671711247747, 3.192967551655599, 3.1929641268781825, 2.6982540777532464, 2.6982521750991264, 2.698251794568302, 2.69824970164877, 2.6982474184638257, 6.246430220031871, 16.898818320772953, 2.2035145374894474, 2.2035145374894474, 2.2035145374894474, 2.2035145374894474, 2.2035145374894474, 8.356085497913082, 6.527540516739244, 8.798549235693068, 7.7001150475020115, 5.8546996127750255, 7.233476947532183, 5.331021844935183, 4.860278197904749, 6.825679567822569, 15.622352025491454, 11.510447055876986, 6.262519824334083, 17.361714280619136, 13.238356855324254, 34.31921958719939, 8.579294985495629, 6.656182767115422, 5.049089221117051, 6.281457321323436, 6.370172755517664, 6.129434115525548, 5.0921995581729504, 5.612347902619788, 5.172935260986984, 53.47117281057388, 50.14480488264789, 7.706568681185865, 7.117839319548644, 5.94037041088426, 5.669675848761413, 8.76717770094213, 4.221512377974181, 4.221512014210255, 4.221511286682402, 3.791795869045066, 3.791795869045066, 3.791795141517213, 3.791793322697581, 3.3620797238798774, 3.362079360115951, 3.203065416116065, 3.2030574133096827, 2.9197609774819435, 2.7733470883673177, 2.7733470883673177, 2.343632034493908, 2.343576742377084, 1.9139164349746092, 1.9139164349746092, 1.9139164349746092, 1.9139164349746092, 14.841894132680189, 1.4841981981668433, 1.4841981981668433, 6.9572528240946045, 4.221513469265961, 4.4828767591468575, 2.343632034493908, 4.47346873271642, 12.100643390601514, 2.932264634926687, 4.345240857342013, 17.167399083189967, 51.02325693363797, 9.621180450905932, 3.9676037022385477, 7.838465843286632, 5.6517815736902275, 6.533652641825249, 6.7275526376659185, 6.260233851657026, 8.778413641103105, 5.199701949853176, 5.615523404318778, 5.006805578685652, 5.76393616389723, 5.763648628949434, 5.291250904237492, 5.291250904237492, 5.1160003411242325, 4.941403688134188, 4.818520261757652, 3.9960464192731355, 3.698276154867074, 3.698276154867074, 3.698276154867074, 3.523358509521713, 3.523357846998792, 3.523040167258081, 3.5230395047351597, 3.2255875825927305, 3.2255743321343067, 3.050677224999502, 3.0506729186005144, 3.050673249861975, 3.0506729186005144, 3.0506712622932115, 4.59552862820488, 2.577987990202237, 2.577987990202237, 2.5779883214636974, 2.577985340110552, 9.943018784391993, 7.8757352629434605, 2.105301571127387, 6.970909158832067, 7.474515357008139, 5.203674649377031, 11.198753466326437, 6.554805675472206, 22.845027915458502, 4.167959523170899, 3.995153669636832, 13.248411227979624, 3.523360165829016, 7.087313773562283, 17.433549970496987, 3.698276154867074, 6.701458436692286, 6.339394297922232, 4.264369858662512, 4.183080615062686, 3.926002508476133, 3.698282780096286, 11.546259736368844, 11.418040931883146, 9.277743132281104, 7.935115064162328, 7.082126858221326, 6.283781490998075, 16.995788183372714, 4.1424472482901775, 3.8337634555463653, 9.277769314762523, 2.672434064209852, 2.6724331063141906, 2.6724334256127444, 2.67243262736636, 2.67243262736636, 2.67243262736636, 2.6724318291199753, 2.4907574975890845, 3.652419119070898, 3.8336995958355917, 2.18243004203139, 2.18243004203139, 2.18243004203139, 2.18243004203139, 2.1824290841357286, 4.813132264198445, 3.6133663515443346, 2.0011061406633703, 2.0011061406633703, 1.6924242637108817, 14.093262153169718, 7.801156548872287, 4.1424268131827295, 4.3235719073605825, 4.632385973914373, 5.485097667307725, 2.6724335852620213, 6.288633551822663, 6.926597171229028, 12.80185148888279, 6.346251614465364, 37.122165859228836, 7.877575548963879, 8.944853954765621, 5.879599970971913, 5.241216473967212, 6.595725321976886, 8.202351350225562, 6.832073304535977, 7.1941527558461305, 4.515870738622175, 4.329558435947066, 4.301372675402867, 12.00700533566745, 9.842953511238386, 7.610793740612808, 6.872295815847974, 6.715268599588094, 5.599189327943334, 5.419754637273222, 5.174838499570637, 5.017798396282148, 5.017796862112076, 4.860675754643761, 4.7504625108087515, 4.5934230211882925, 4.5934230211882925, 4.326064736831838, 3.7446719641665656, 3.3202968959067243, 3.1632537242780905, 2.89591139529039, 2.3145069629325667, 2.3145069629325667, 2.3145052753454873, 2.3145052753454873, 2.314504661677458, 2.314504354843444, 7.936854588119591, 1.8901308207536747, 1.8901308207536747, 1.8901308207536747, 1.8901308207536747, 5.285098689009864, 3.994437306634163, 5.133383996876876, 11.30797240184642, 4.610563996573804, 4.162170882161669, 3.744672577834595, 5.016541297324779, 6.10716653962943, 4.303871739397736, 11.181550651195936, 5.173429517776095, 8.757603052476847, 6.496112404738066, 5.1748188621937095, 8.022157512488167, 4.72822103360036, 6.343732496461664, 4.445207770990573, 10.274519215658081, 8.226997154323387, 6.701120335810683, 5.274184929529679, 4.270791328735487, 4.12940388853983, 3.8892645447781966, 3.8892508487241844, 3.88852579639544, 3.4656240718002334, 3.3665599541050333, 3.366557997525889, 10.143274122725659, 2.6035047091226153, 2.6035033115660835, 2.6035033115660835, 2.6035033115660835, 2.6034915720912157, 2.6034728448336883, 2.6034728448336883, 2.4623274614293544, 2.4623271819180483, 2.462311529284891, 2.0808029135625157, 2.080802354539903, 2.080802354539903, 2.080802354539903, 2.080802354539903, 2.080801935272943, 2.0808017955172904, 9.510371081467726, 6.957641837239133, 4.489501099659727, 5.796878898773199, 8.497710562821876, 15.332099653423159, 3.6176597747236685, 5.248890833370304, 4.64717901781371, 4.451350880963495, 4.129065400347806, 3.8887706482998268, 2.9550144943766607, 4.154401423203137, 2.9850317725912117, 3.4368341277319887, 3.956935350097547, 4.3497105075574085, 3.335619450045516], \"Total\": [433.0, 425.0, 137.0, 137.0, 135.0, 133.0, 580.0, 85.0, 71.0, 54.0, 109.0, 205.0, 50.0, 86.0, 273.0, 51.0, 150.0, 101.0, 45.0, 93.0, 70.0, 54.0, 74.0, 43.0, 77.0, 97.0, 41.0, 37.0, 1758.0, 32.0, 12.701164836955877, 9.82387102894569, 9.592694708019277, 8.972370291965724, 8.74236173967698, 8.350850893575835, 8.35085089815824, 7.729331153898748, 7.72933115869269, 6.877829872376991, 6.877829699750273, 11.362600340480006, 6.254566603778017, 6.02632602873479, 5.63478974757382, 5.63478974853373, 5.634789752213598, 31.24915975159422, 5.404798691391449, 5.404759956633304, 5.013029467316629, 4.78328818756333, 4.783288010989152, 10.274323385745332, 33.46442103935829, 24.353090692219265, 45.59036244066845, 4.161769620140056, 4.161769004399049, 4.161768384532585, 10.114530092110714, 46.888723247256955, 10.409705061944297, 41.387293632853954, 22.579191881108, 53.55828899048265, 40.51945321432256, 205.47363540455268, 64.97192607470069, 580.0359263843203, 40.84602446156479, 85.15974177015792, 1758.313216261534, 273.83383237748694, 27.505494274347466, 18.769526166361267, 43.93062198407536, 79.22433719058552, 54.250817614446895, 140.64155651235092, 46.299589771001486, 55.99284346554331, 69.15011529925756, 68.06931824427626, 46.945791225719375, 28.215047564508986, 33.00730799409748, 44.1729011848244, 114.88410017889701, 425.63977038138285, 433.9497770982688, 17.514069081586733, 14.9260537587783, 7.462667395141656, 7.462658837827296, 29.34558651518272, 5.756205271781852, 5.756205933665699, 5.249841119135941, 5.062472169780322, 4.743477170335544, 4.237100473688429, 6.5097985164727845, 4.0497428479686555, 4.049743279469362, 21.83951650105472, 3.5433796447694736, 3.5433790987973834, 3.5433809183581677, 3.0370150801103653, 3.0370146242681053, 3.0370146242681053, 3.0370146242681053, 3.0370146242681053, 3.0370146315626854, 3.0370146325617817, 3.0370146325617817, 3.0370146367386455, 3.037014639074496, 33.24804134197047, 39.17408127353283, 7.73103718377653, 8.895077564562591, 30.37474884385569, 15.09034680017914, 60.905414391050435, 15.338917693202955, 15.338917693202955, 44.200049042402796, 1758.313216261534, 14.511931012925086, 41.9904441457758, 580.0359263843203, 47.21482430260054, 38.0370695499197, 140.64155651235092, 30.05897076062349, 77.1659308386102, 150.551008339398, 54.07624291753731, 43.93062198407536, 114.88410017889701, 101.30904230584646, 55.99284346554331, 24.691793760434095, 273.83383237748694, 137.9581000934086, 137.2478355973451, 135.3436953092366, 133.43943032136818, 8.017363327824055, 7.133805625641608, 6.972568496550459, 6.375617913583441, 9.835296733787382, 5.665337343157321, 5.504101095137549, 5.068357067649172, 5.068357725788605, 8.787462876971789, 8.145330183616814, 4.6326132064517545, 4.471376883756399, 4.196868848738815, 4.1968686251376495, 4.19686863147058, 4.1968686315518235, 4.196868634239679, 4.196868637718434, 4.196868638595579, 4.196868639837719, 4.196868639986276, 4.035631616059927, 4.035634809811094, 4.03564489044047, 6.429850016152894, 14.9215230566474, 17.80173034958871, 5.5941909864564945, 97.9646386259714, 1758.313216261534, 109.91691052765621, 580.0359263843203, 74.40183030440404, 273.83383237748694, 8.456998426547504, 93.69065962110358, 54.07624291753731, 43.93062198407536, 22.761527091907208, 34.048184899633995, 21.866725450665143, 68.06931824427626, 47.952223166673605, 22.14371473366617, 24.811337297781563, 59.11386863757486, 47.21482430260054, 150.551008339398, 46.888723247256955, 46.945791225719375, 85.96530362171971, 71.85907793026198, 15.416941708028745, 12.694140280907893, 10.619363076567128, 9.518470604246184, 7.209740690361785, 6.235586727026682, 5.7485239943502435, 5.081214945650341, 5.081214922232898, 37.69019867704861, 4.594143639756372, 7.257298327404262, 4.107074462542717, 4.1070698534178645, 4.1070911159231525, 4.10695232526362, 3.926843146475943, 3.4397724267578687, 5.475937462042568, 2.9527014155340727, 2.9527014155340727, 2.9527014155340727, 2.9527014155340727, 2.952701418122053, 2.9527014189572496, 2.9527014192024805, 8.252292585701595, 8.42911856812201, 10.08985491342303, 16.665021974756566, 10.901680152448899, 109.91691052765621, 11.745584114097205, 9.527780338354749, 4.501796632566576, 10.487757670785994, 20.733798179794427, 25.710138425295913, 273.83383237748694, 17.804219557820723, 16.35523662452033, 88.43451492141432, 1758.313216261534, 101.30904230584646, 93.69065962110358, 140.64155651235092, 580.0359263843203, 114.88410017889701, 46.945791225719375, 70.00771441684819, 41.9904441457758, 69.15011529925756, 19.584631443562316, 11.811491371263196, 10.629754875299888, 8.724061163123514, 7.361382515109443, 7.2119672701135755, 6.786458407796061, 6.211514703428511, 5.2743584204999285, 5.274358423087909, 5.274358427358867, 4.698804769473758, 4.486656245068798, 3.911702962384771, 3.9117029624722686, 3.9117029221764765, 3.9117022559610195, 3.911702444772926, 3.911701679097229, 3.911701389134209, 3.9117012091212295, 11.733992666601095, 3.336750126456319, 3.336750126456319, 3.336750126456319, 3.336750126456319, 3.3367501301361866, 3.3367501321401307, 3.336750133939879, 3.336750134089974, 3.3367501345318162, 25.089953696355114, 51.39182130816278, 37.42274688384757, 11.35737771233911, 9.1405194814081, 19.552774857848878, 13.107616424536781, 7.4405533819855645, 22.8429330952561, 9.924453719127092, 26.77994874322085, 15.24152208392127, 19.3274430598686, 13.555396105646237, 32.14953471145011, 101.30904230584646, 1758.313216261534, 34.07468792106621, 88.43451492141432, 79.22433719058552, 580.0359263843203, 27.806526680894994, 86.62259249080016, 205.47363540455268, 70.00771441684819, 59.11386863757486, 64.97192607470069, 273.83383237748694, 24.650583944322925, 28.08743674607961, 14.585195410790707, 8.72505191574737, 7.2299793441546205, 6.13870547704171, 6.138608365585942, 9.681629274896457, 5.593073700278026, 5.593073703561775, 5.593073703561775, 5.593073951145895, 5.593074409404951, 5.047438207881113, 5.0474376930243485, 5.04743769781863, 5.047437702183837, 5.047437704872362, 5.047437711124307, 4.845536689240915, 4.8455325815194055, 4.501666270613512, 4.299901123195526, 6.318337309479787, 16.298393161905548, 6.213854323610751, 3.7542665870765783, 3.754266075307404, 3.7542660790633096, 3.7542659042472653, 3.7542659072670364, 3.7542658199194174, 12.427620573234114, 11.79322552624652, 11.302149786929595, 15.965582064516937, 10.188403707805715, 7.770642266650358, 12.43034066336582, 9.801978174392854, 54.07624291753731, 11.785939632629152, 10.51939336857345, 205.47363540455268, 8.368764409940034, 1758.313216261534, 19.03884409604879, 30.788834345380813, 150.551008339398, 27.636216932073783, 580.0359263843203, 40.241973536948564, 7.944642334539249, 85.15974177015792, 101.30904230584646, 140.64155651235092, 54.35671468115319, 19.740011194580006, 44.200049042402796, 29.14156449468898, 10.234586889211105, 9.945123608990317, 6.388646605505915, 6.219217615153999, 5.929156760193529, 5.759133683322354, 4.840153867022332, 4.840153259103904, 4.670131385895278, 4.670136517226687, 4.670136517226687, 4.380663917081965, 4.380663436326077, 4.380663443662892, 4.380663445040711, 4.380663557431501, 4.210652826549286, 7.063601683656573, 6.4390767324942315, 9.108264520106497, 3.930749624354403, 3.291659878807877, 3.2916614708432355, 3.29166119937945, 3.2916614112333282, 3.291662457886823, 3.2916625266201476, 18.95141486353375, 2.832170833592456, 2.832170833592456, 9.86239880434334, 11.05618042199169, 33.47520136960914, 8.17858541635325, 10.629269077098527, 28.110907154614527, 54.250817614446895, 21.88260998717147, 17.347097705906748, 14.091580059598465, 30.965423906774834, 28.215047564508986, 16.791999500039527, 24.650583944322925, 12.162616713748964, 1758.313216261534, 22.14371473366617, 11.598188819201908, 79.22433719058552, 16.618799087620935, 55.99284346554331, 18.213279541943717, 54.35671468115319, 70.00771441684819, 580.0359263843203, 150.551008339398, 37.392832090094, 86.62259249080016, 93.69065962110358, 34.07468792106621, 11.474349831375779, 9.85909156127175, 8.368419889589465, 7.587179609489401, 6.1492667072128135, 6.149266710496562, 32.41889867051847, 5.492604729306363, 11.559319538646628, 4.83595531428065, 4.534007165650539, 4.5340071766403875, 4.05470658238708, 4.0545709504236624, 3.877351384661514, 3.877350619270211, 3.7024023594682087, 3.7024023594682087, 3.39805007115697, 3.398049648481313, 3.3980506461880444, 3.3980506844389073, 3.398050212429605, 10.3308092963265, 2.91874856613435, 2.918748330622828, 2.918748330622828, 2.918748330622828, 2.918748330622828, 2.918748330622828, 20.488160427455107, 11.041179820456467, 41.37933700510189, 8.15767806618124, 8.835655570559334, 86.62259249080016, 26.18009438101305, 16.820139580902346, 8.313908802872096, 37.42133110874149, 8.1887825531424, 12.614973826160467, 15.096192831885615, 40.241973536948564, 15.069239453338039, 34.198277928474944, 9.01028713802802, 150.551008339398, 1758.313216261534, 37.42274688384757, 46.299589771001486, 93.69065962110358, 20.547929326652, 114.88410017889701, 77.1659308386102, 45.59036244066845, 43.05546049939804, 17.182907257086725, 12.64498476491632, 11.398760995842258, 8.964057910904359, 8.381181644555362, 7.1920752624191575, 7.192074180182469, 7.192074681893529, 7.192074696066677, 7.192068842669892, 6.471668124871878, 6.471700950435962, 5.945834455177527, 5.94583488016881, 5.945834146324247, 5.4200019160947015, 5.420002566307523, 5.420001555647187, 5.2254273177083626, 4.894168641812492, 4.89416816915724, 4.894168172130137, 4.89416818088434, 4.699595273169438, 4.3683303380564436, 4.173761262761348, 11.94641854142126, 3.6479282949708063, 3.6479292190015524, 3.647926722743075, 16.816276671129376, 30.476020477863585, 17.749213874303198, 16.476286117092585, 74.40183030440404, 70.00771441684819, 24.71959911028598, 1758.313216261534, 205.47363540455268, 44.1729011848244, 79.22433719058552, 97.9646386259714, 12.794506289851709, 51.39182130816278, 14.451334363009956, 24.564018800563378, 273.83383237748694, 68.06931824427626, 580.0359263843203, 14.39833716342341, 9.17336327427384, 8.308642929474832, 7.916134422025484, 7.385781416246114, 7.247902008926131, 7.247901861293139, 5.9907366285283885, 5.460292420181311, 5.460292420181311, 5.460291952369944, 5.4602942722229235, 15.590375840284976, 4.929849872185731, 4.929849408953821, 4.733569921468194, 4.73357015044188, 4.203126742397806, 4.203126702279587, 11.138883127262131, 3.672683569641261, 3.6726831970150453, 3.6726832096344544, 3.6726833505233865, 3.6726846010832452, 8.702724586581274, 3.1422405280693058, 3.1422405280693058, 3.1422405280693058, 3.142240532531104, 30.86321891289367, 15.490534709243418, 10.646401997635339, 27.211159695886373, 12.003370079670523, 34.048184899633995, 26.223515174161562, 8.717188312815184, 13.777617849493673, 28.08743674607961, 114.88410017889701, 580.0359263843203, 15.107517873076334, 1758.313216261534, 10.555648075311748, 16.636629070209235, 273.83383237748694, 85.15974177015792, 33.00730799409748, 22.206722967431855, 88.43451492141432, 44.1729011848244, 97.9646386259714, 10.84397972436248, 8.728551010118267, 8.728551039785408, 7.661443473204056, 7.661443475601196, 7.014534030596092, 6.542357921836611, 6.542358085293504, 6.542356368973096, 6.5440587799157, 6.070175808984281, 5.8954541820686135, 5.8954550283000575, 5.423273187799532, 5.423270974702947, 5.248553287653542, 4.9510895722434185, 4.951090333331969, 4.776368559964994, 4.478907003765281, 4.478907003765281, 4.478907007521187, 4.478907007763477, 4.478907008148368, 4.478907009449092, 4.478907010374554, 4.0066923226388305, 3.832003833060984, 3.832004627854263, 11.4797069639418, 45.66530331362638, 43.232143764469775, 5.95304024794362, 21.0298089463108, 10.04588592692654, 22.343835437654008, 13.60603120648034, 13.789523927801653, 16.563965003164643, 13.582546057050358, 1758.313216261534, 93.69065962110358, 14.869796544619833, 74.40183030440404, 85.15974177015792, 68.06931824427626, 14.952919006777362, 22.912332693447055, 273.83383237748694, 51.39182130816278, 37.392832090094, 19.786124127869474, 13.081134434876766, 9.675339241514415, 9.37361036733707, 8.238471781688192, 6.624379200559649, 6.624453611635804, 6.145424239424526, 5.312015647742246, 5.648972944141698, 5.010285979541576, 5.010287228798857, 5.010315350640769, 7.41596108081301, 4.531330113386766, 4.531330117483423, 4.35410588905825, 4.052373037068471, 4.052376256048117, 4.052238297438351, 9.507641671024558, 3.875148459533343, 3.8751485463749953, 3.3961923729519174, 3.3961921034960634, 4.990817771857751, 2.9172370421490568, 2.9172370421490568, 2.9172370421490568, 2.9172370421490568, 6.246319899172876, 14.02527401682787, 11.73104838949524, 6.758226821344305, 29.14156449468898, 8.365510912425284, 18.601827490471976, 14.818079547161146, 23.215556596162926, 19.740011194580006, 8.70602141263873, 58.47136374494339, 17.76054321360915, 30.05897076062349, 19.245904638926866, 37.392832090094, 14.226715242561024, 1758.313216261534, 86.62259249080016, 24.811337297781563, 140.64155651235092, 24.71959911028598, 35.80247073751772, 32.14953471145011, 88.43451492141432, 150.551008339398, 46.299589771001486, 15.079996284971811, 11.210046272039728, 10.246763421791506, 6.998639553782271, 6.998644533759535, 6.80997658214472, 5.280396193659938, 4.770535813500672, 4.770535823806804, 4.770535396022821, 4.770535396860784, 4.581871915791266, 4.581874065050767, 4.581870018686605, 4.26067282985873, 4.072011038366805, 12.610969799007073, 14.186573611282434, 3.562152251507577, 3.562152797434684, 3.5621515080722173, 3.56215239984959, 3.5621532737968518, 3.562152930739624, 3.0522919818823695, 3.0522919818823695, 3.0522919818823695, 3.0522919818823695, 3.0522919818823695, 3.0522919818823695, 10.401647791205624, 4.543418705466468, 20.85642562153493, 47.952223166673605, 10.972386334453414, 8.196938726050714, 19.644348181606173, 10.475252911507674, 6.459755303759541, 101.30904230584646, 1758.313216261534, 580.0359263843203, 74.40183030440404, 24.2989676371081, 97.9646386259714, 150.551008339398, 205.47363540455268, 69.15011529925756, 19.584631443562316, 64.97192607470069, 54.35671468115319, 40.51945321432256, 27.211159695886373, 273.83383237748694, 70.12787748357297, 9.70449443429969, 9.328415331526676, 8.632355315728496, 7.484419824641428, 7.483188137100716, 6.468370333092782, 6.280358595544943, 5.772348341119208, 5.584379906872113, 17.06664936904432, 13.617608147496291, 4.75631679304422, 13.19140920812227, 4.060308658863384, 6.196737834376044, 4.23864834266617, 3.552287457437706, 3.5522874782364355, 3.5522876603612072, 3.552286788828622, 13.526467913414947, 3.0442642376142377, 3.0442642376142377, 3.0442642376142377, 3.0442642376142377, 3.044264241282646, 3.044264357712121, 3.0442640890584967, 8.666338607338714, 2.5362412205917537, 9.042095802931003, 22.28344087682657, 11.972718152762113, 8.372582300068736, 5.553810490803396, 8.980932075961231, 17.88361379075078, 14.173651434166437, 16.840387045205233, 19.675810425784835, 34.198277928474944, 70.12787748357297, 15.24152208392127, 9.582881359691841, 1758.313216261534, 69.15011529925756, 580.0359263843203, 88.43451492141432, 30.476020477863585, 55.99284346554331, 77.1659308386102, 17.31403450658336, 8.428379072983299, 8.29974224253609, 6.944134662978668, 5.95465440116187, 5.82605258698518, 5.148241802329688, 5.148242755590658, 4.158762854847434, 4.158762854847434, 4.15876671615896, 4.158756746777248, 4.156044341198719, 3.975694618454357, 3.9756942343900543, 3.9756943323163125, 3.9756974535992153, 3.9756943412087424, 3.480954796905849, 3.480954900233519, 3.4809554499490742, 3.480955010204217, 3.4809551631622973, 8.39537056920309, 22.770356728896516, 2.98621525664205, 2.98621525664205, 2.9862152610251367, 2.9862152621303686, 2.986215264001785, 11.491203305668002, 9.373724782797028, 13.568222932249244, 12.137534398599982, 9.100275423689132, 12.450130696939429, 8.474816506303219, 7.736031519047266, 15.107517873076334, 58.47136374494339, 43.05546049939804, 16.29555866343577, 205.47363540455268, 150.551008339398, 1758.313216261534, 53.55828899048265, 32.14953471145011, 20.488160427455107, 59.11386863757486, 70.12787748357297, 140.64155651235092, 25.730541001630762, 114.88410017889701, 88.43451492141432, 54.26532338265013, 50.93938324146312, 8.494721940365286, 7.905996918679008, 6.72854696782639, 6.457833491017518, 10.223324646313735, 5.00967061082858, 5.009670802150612, 5.00967039553527, 4.579951578113408, 4.579951960401884, 4.579951814864685, 4.579952794556939, 4.150232986956453, 4.150232622183004, 3.991225843185883, 3.991226408177663, 3.7203588197391246, 3.561506910089213, 3.5615074598026264, 3.131788382754407, 3.131798698381594, 2.702069690474165, 2.702069690474165, 2.70206969423007, 2.7020697003831167, 21.278242327581175, 2.2723514536663987, 2.2723514536663987, 10.700322167807766, 6.734529075050717, 7.913037560452085, 3.657621646699151, 10.084117561426151, 54.35671468115319, 5.387839361747632, 10.972386334453414, 150.551008339398, 1758.313216261534, 59.11386863757486, 9.589883009849018, 86.62259249080016, 37.392832090094, 70.12787748357297, 97.9646386259714, 93.69065962110358, 580.0359263843203, 37.69019867704861, 68.06931824427626, 41.9904441457758, 6.548489517508375, 6.548552078726323, 6.075800769192798, 6.075800769192798, 5.900945453717223, 5.725985073969197, 5.603111911331316, 4.780607309748766, 4.482826019822381, 4.482826026373427, 4.482826031061846, 4.307919200693738, 4.307918673600396, 4.307940536625507, 4.307940381969112, 4.010137447548036, 4.010137464389387, 3.835229199717707, 3.8352289413515788, 3.835230505576696, 3.835230208777874, 3.835229419987795, 5.856010679673742, 3.3625402741516144, 3.3625402741516144, 3.3625410898889263, 3.3625401862161075, 13.286428042293617, 10.590957790368737, 2.889851436082693, 10.072243398649832, 11.602579657183835, 7.627810863781625, 24.691793760434095, 12.104675806987144, 77.1659308386102, 6.859492224945212, 7.165186842891171, 150.551008339398, 5.898918477952486, 69.15011529925756, 1758.313216261534, 7.198886899103568, 114.88410017889701, 273.83383237748694, 40.241973536948564, 43.05546049939804, 22.912332693447055, 9.604471285860782, 12.329575022444894, 12.20224512599134, 10.060876420928189, 8.718225164274639, 7.865562281306769, 7.066892278717054, 19.551695706924853, 4.925551331711901, 4.616861151082124, 11.52933712085427, 3.4555339337393005, 3.455533304309682, 3.455533869911834, 3.455533409432805, 3.455533485718249, 3.455533596372941, 3.4555346104771343, 3.2742559952167514, 4.914501860246493, 5.1625044662074675, 2.965527737567148, 2.965527737567148, 2.965527737567148, 2.9655277425927355, 2.965527748131151, 6.648460357027771, 5.0056934352805, 2.7842113461651885, 2.7842113461651885, 2.4755219592466395, 21.310467743576986, 13.962995089764158, 6.59283817689519, 7.114837806609535, 7.800000468697443, 10.214542374833673, 3.965393501417634, 14.613212835573076, 18.3010719946275, 70.12787748357297, 22.761527091907208, 1758.313216261534, 70.00771441684819, 101.30904230584646, 34.288642108172006, 27.806526680894994, 59.11386863757486, 273.83383237748694, 109.91691052765621, 205.47363540455268, 18.284163841008034, 30.965423906774834, 68.06931824427626, 12.800739408754941, 10.631606598516623, 8.399394835085216, 7.660969233013439, 7.5039309071761355, 6.387821141130142, 6.235120565472724, 5.963442058841552, 5.806411827014042, 5.806411572494305, 5.649392793761268, 5.539063607032272, 5.3820331919538855, 5.3820332420348675, 5.114688369725442, 4.533275911136839, 4.108897984911702, 3.951868111132437, 3.6845205496539455, 3.1031107510254072, 3.1031107510254072, 3.103110603058555, 3.1031106332229794, 3.103110493182523, 3.103110672949872, 11.145185399846415, 2.678731909758653, 2.678731909758653, 2.6787319145504016, 2.678731916808431, 7.67305946559265, 5.863422509396288, 7.847258652329542, 23.435247540550908, 8.228149435012432, 7.120821644899223, 6.596726253673232, 11.346996839792213, 16.541754935788752, 9.703444081389742, 101.30904230584646, 16.660213049325403, 88.43451492141432, 41.37933700510189, 19.675810425784835, 150.551008339398, 30.788834345380813, 1758.313216261534, 24.406547864933096, 11.068643830381385, 9.019497897100003, 7.4933261822187704, 6.066395224525197, 5.062985796064859, 4.921837727104796, 4.681459009519588, 4.681462576877905, 4.681723014968214, 4.257975766156708, 4.1587567079329055, 4.158757182851932, 12.770395663868523, 3.395703064921383, 3.3957032411574857, 3.3957032411574857, 3.3957032411574857, 3.395706181813574, 3.3957126531936623, 3.3957126531936623, 3.2545267676274614, 3.2545277729507207, 3.2545334521066565, 2.872999583582622, 2.8729994710494644, 2.8729996453556303, 2.8729996453556303, 2.872999762711336, 2.872999374755249, 2.8729998272428987, 14.848494966437661, 12.52812354435584, 7.698356209402711, 10.992504329873313, 24.564018800563378, 93.69065962110358, 7.509838640566596, 28.993459334286847, 22.343835437654008, 20.547929326652, 21.88260998717147, 19.584631443562316, 5.999878662198714, 68.06931824427626, 10.700322167807766, 40.84602446156479, 150.551008339398, 1758.313216261534, 60.905414391050435], \"Category\": [\"Default\", \"Default\", \"Default\", \"Default\", \"Default\", \"Default\", \"Default\", \"Default\", \"Default\", \"Default\", \"Default\", \"Default\", \"Default\", \"Default\", \"Default\", \"Default\", \"Default\", \"Default\", \"Default\", \"Default\", \"Default\", \"Default\", \"Default\", \"Default\", \"Default\", \"Default\", \"Default\", \"Default\", \"Default\", \"Default\", \"Topic1\", \"Topic1\", \"Topic1\", \"Topic1\", \"Topic1\", \"Topic1\", \"Topic1\", \"Topic1\", \"Topic1\", \"Topic1\", \"Topic1\", \"Topic1\", \"Topic1\", \"Topic1\", \"Topic1\", \"Topic1\", \"Topic1\", \"Topic1\", \"Topic1\", \"Topic1\", \"Topic1\", \"Topic1\", \"Topic1\", \"Topic1\", \"Topic1\", \"Topic1\", \"Topic1\", \"Topic1\", \"Topic1\", \"Topic1\", \"Topic1\", \"Topic1\", \"Topic1\", \"Topic1\", \"Topic1\", \"Topic1\", \"Topic1\", \"Topic1\", \"Topic1\", \"Topic1\", \"Topic1\", \"Topic1\", \"Topic1\", \"Topic1\", \"Topic1\", \"Topic1\", \"Topic1\", \"Topic1\", \"Topic1\", \"Topic1\", \"Topic1\", \"Topic1\", \"Topic1\", \"Topic1\", \"Topic1\", \"Topic1\", \"Topic1\", \"Topic1\", \"Topic1\", \"Topic2\", \"Topic2\", \"Topic2\", \"Topic2\", \"Topic2\", \"Topic2\", \"Topic2\", \"Topic2\", \"Topic2\", \"Topic2\", \"Topic2\", \"Topic2\", \"Topic2\", \"Topic2\", \"Topic2\", \"Topic2\", \"Topic2\", \"Topic2\", \"Topic2\", \"Topic2\", \"Topic2\", \"Topic2\", \"Topic2\", \"Topic2\", \"Topic2\", \"Topic2\", \"Topic2\", \"Topic2\", \"Topic2\", \"Topic2\", \"Topic2\", \"Topic2\", \"Topic2\", \"Topic2\", \"Topic2\", \"Topic2\", \"Topic2\", \"Topic2\", \"Topic2\", \"Topic2\", \"Topic2\", \"Topic2\", \"Topic2\", \"Topic2\", \"Topic2\", \"Topic2\", \"Topic2\", \"Topic2\", \"Topic2\", \"Topic2\", \"Topic2\", \"Topic2\", \"Topic2\", \"Topic2\", \"Topic2\", \"Topic2\", \"Topic2\", \"Topic3\", \"Topic3\", \"Topic3\", \"Topic3\", \"Topic3\", \"Topic3\", \"Topic3\", \"Topic3\", \"Topic3\", \"Topic3\", \"Topic3\", \"Topic3\", \"Topic3\", \"Topic3\", \"Topic3\", \"Topic3\", \"Topic3\", \"Topic3\", \"Topic3\", \"Topic3\", \"Topic3\", \"Topic3\", \"Topic3\", \"Topic3\", \"Topic3\", \"Topic3\", \"Topic3\", \"Topic3\", \"Topic3\", \"Topic3\", \"Topic3\", \"Topic3\", \"Topic3\", \"Topic3\", \"Topic3\", \"Topic3\", \"Topic3\", \"Topic3\", \"Topic3\", \"Topic3\", \"Topic3\", \"Topic3\", \"Topic3\", \"Topic3\", \"Topic3\", \"Topic3\", \"Topic3\", \"Topic3\", \"Topic3\", \"Topic3\", \"Topic3\", \"Topic3\", \"Topic3\", \"Topic3\", \"Topic3\", \"Topic4\", \"Topic4\", \"Topic4\", \"Topic4\", \"Topic4\", \"Topic4\", \"Topic4\", \"Topic4\", \"Topic4\", \"Topic4\", \"Topic4\", \"Topic4\", \"Topic4\", \"Topic4\", \"Topic4\", \"Topic4\", \"Topic4\", \"Topic4\", \"Topic4\", \"Topic4\", \"Topic4\", \"Topic4\", \"Topic4\", \"Topic4\", \"Topic4\", \"Topic4\", \"Topic4\", \"Topic4\", \"Topic4\", \"Topic4\", \"Topic4\", \"Topic4\", \"Topic4\", \"Topic4\", \"Topic4\", \"Topic4\", \"Topic4\", \"Topic4\", \"Topic4\", \"Topic4\", \"Topic4\", \"Topic4\", \"Topic4\", \"Topic4\", \"Topic4\", \"Topic4\", \"Topic4\", \"Topic4\", \"Topic4\", \"Topic4\", \"Topic4\", \"Topic4\", \"Topic4\", \"Topic4\", \"Topic4\", \"Topic5\", \"Topic5\", \"Topic5\", \"Topic5\", \"Topic5\", \"Topic5\", \"Topic5\", \"Topic5\", \"Topic5\", \"Topic5\", \"Topic5\", \"Topic5\", \"Topic5\", \"Topic5\", \"Topic5\", \"Topic5\", \"Topic5\", \"Topic5\", \"Topic5\", \"Topic5\", \"Topic5\", \"Topic5\", \"Topic5\", \"Topic5\", \"Topic5\", \"Topic5\", \"Topic5\", \"Topic5\", \"Topic5\", \"Topic5\", \"Topic5\", \"Topic5\", \"Topic5\", \"Topic5\", \"Topic5\", \"Topic5\", \"Topic5\", \"Topic5\", \"Topic5\", \"Topic5\", \"Topic5\", \"Topic5\", \"Topic5\", \"Topic5\", \"Topic5\", \"Topic5\", \"Topic5\", \"Topic5\", \"Topic5\", \"Topic5\", \"Topic5\", \"Topic5\", \"Topic5\", \"Topic5\", \"Topic5\", \"Topic5\", \"Topic5\", \"Topic5\", \"Topic5\", \"Topic5\", \"Topic6\", \"Topic6\", \"Topic6\", \"Topic6\", \"Topic6\", \"Topic6\", \"Topic6\", \"Topic6\", \"Topic6\", \"Topic6\", \"Topic6\", \"Topic6\", \"Topic6\", \"Topic6\", \"Topic6\", \"Topic6\", \"Topic6\", \"Topic6\", \"Topic6\", \"Topic6\", \"Topic6\", \"Topic6\", \"Topic6\", \"Topic6\", \"Topic6\", \"Topic6\", \"Topic6\", \"Topic6\", \"Topic6\", \"Topic6\", \"Topic6\", \"Topic6\", \"Topic6\", \"Topic6\", \"Topic6\", \"Topic6\", \"Topic6\", \"Topic6\", \"Topic6\", \"Topic6\", \"Topic6\", \"Topic6\", \"Topic6\", \"Topic6\", \"Topic6\", \"Topic6\", \"Topic6\", \"Topic6\", \"Topic6\", \"Topic6\", \"Topic6\", \"Topic6\", \"Topic6\", \"Topic6\", \"Topic6\", \"Topic6\", \"Topic6\", \"Topic6\", \"Topic7\", \"Topic7\", \"Topic7\", \"Topic7\", \"Topic7\", \"Topic7\", \"Topic7\", \"Topic7\", \"Topic7\", \"Topic7\", \"Topic7\", \"Topic7\", \"Topic7\", \"Topic7\", \"Topic7\", \"Topic7\", \"Topic7\", \"Topic7\", \"Topic7\", \"Topic7\", \"Topic7\", \"Topic7\", \"Topic7\", \"Topic7\", \"Topic7\", \"Topic7\", \"Topic7\", \"Topic7\", \"Topic7\", \"Topic7\", \"Topic7\", \"Topic7\", \"Topic7\", \"Topic7\", \"Topic7\", \"Topic7\", \"Topic7\", \"Topic7\", \"Topic7\", \"Topic7\", \"Topic7\", \"Topic7\", \"Topic7\", \"Topic7\", \"Topic7\", \"Topic7\", \"Topic7\", \"Topic7\", \"Topic7\", \"Topic7\", \"Topic7\", \"Topic7\", \"Topic7\", \"Topic7\", \"Topic7\", \"Topic7\", \"Topic7\", \"Topic7\", \"Topic7\", \"Topic7\", \"Topic8\", \"Topic8\", \"Topic8\", \"Topic8\", \"Topic8\", \"Topic8\", \"Topic8\", \"Topic8\", \"Topic8\", \"Topic8\", \"Topic8\", \"Topic8\", \"Topic8\", \"Topic8\", \"Topic8\", \"Topic8\", \"Topic8\", \"Topic8\", \"Topic8\", \"Topic8\", \"Topic8\", \"Topic8\", \"Topic8\", \"Topic8\", \"Topic8\", \"Topic8\", \"Topic8\", \"Topic8\", \"Topic8\", \"Topic8\", \"Topic8\", \"Topic8\", \"Topic8\", \"Topic8\", \"Topic8\", \"Topic8\", \"Topic8\", \"Topic8\", \"Topic8\", \"Topic8\", \"Topic8\", \"Topic8\", \"Topic8\", \"Topic8\", \"Topic8\", \"Topic8\", \"Topic8\", \"Topic8\", \"Topic8\", \"Topic8\", \"Topic8\", \"Topic8\", \"Topic8\", \"Topic8\", \"Topic8\", \"Topic8\", \"Topic8\", \"Topic9\", \"Topic9\", \"Topic9\", \"Topic9\", \"Topic9\", \"Topic9\", \"Topic9\", \"Topic9\", \"Topic9\", \"Topic9\", \"Topic9\", \"Topic9\", \"Topic9\", \"Topic9\", \"Topic9\", \"Topic9\", \"Topic9\", \"Topic9\", \"Topic9\", \"Topic9\", \"Topic9\", \"Topic9\", \"Topic9\", \"Topic9\", \"Topic9\", \"Topic9\", \"Topic9\", \"Topic9\", \"Topic9\", \"Topic9\", \"Topic9\", \"Topic9\", \"Topic9\", \"Topic9\", \"Topic9\", \"Topic9\", \"Topic9\", \"Topic9\", \"Topic9\", \"Topic9\", \"Topic9\", \"Topic9\", \"Topic9\", \"Topic9\", \"Topic9\", \"Topic9\", \"Topic9\", \"Topic9\", \"Topic9\", \"Topic10\", \"Topic10\", \"Topic10\", \"Topic10\", \"Topic10\", \"Topic10\", \"Topic10\", \"Topic10\", \"Topic10\", \"Topic10\", \"Topic10\", \"Topic10\", \"Topic10\", \"Topic10\", \"Topic10\", \"Topic10\", \"Topic10\", \"Topic10\", \"Topic10\", \"Topic10\", \"Topic10\", \"Topic10\", \"Topic10\", \"Topic10\", \"Topic10\", \"Topic10\", \"Topic10\", \"Topic10\", \"Topic10\", \"Topic10\", \"Topic10\", \"Topic10\", \"Topic10\", \"Topic10\", \"Topic10\", \"Topic10\", \"Topic10\", \"Topic10\", \"Topic10\", \"Topic10\", \"Topic10\", \"Topic10\", \"Topic10\", \"Topic10\", \"Topic10\", \"Topic10\", \"Topic10\", \"Topic10\", \"Topic10\", \"Topic10\", \"Topic10\", \"Topic10\", \"Topic10\", \"Topic11\", \"Topic11\", \"Topic11\", \"Topic11\", \"Topic11\", \"Topic11\", \"Topic11\", \"Topic11\", \"Topic11\", \"Topic11\", \"Topic11\", \"Topic11\", \"Topic11\", \"Topic11\", \"Topic11\", \"Topic11\", \"Topic11\", \"Topic11\", \"Topic11\", \"Topic11\", \"Topic11\", \"Topic11\", \"Topic11\", \"Topic11\", \"Topic11\", \"Topic11\", \"Topic11\", \"Topic11\", \"Topic11\", \"Topic11\", \"Topic11\", \"Topic11\", \"Topic11\", \"Topic11\", \"Topic11\", \"Topic11\", \"Topic11\", \"Topic11\", \"Topic11\", \"Topic11\", \"Topic11\", \"Topic11\", \"Topic11\", \"Topic11\", \"Topic11\", \"Topic11\", \"Topic11\", \"Topic11\", \"Topic11\", \"Topic11\", \"Topic11\", \"Topic12\", \"Topic12\", \"Topic12\", \"Topic12\", \"Topic12\", \"Topic12\", \"Topic12\", \"Topic12\", \"Topic12\", \"Topic12\", \"Topic12\", \"Topic12\", \"Topic12\", \"Topic12\", \"Topic12\", \"Topic12\", \"Topic12\", \"Topic12\", \"Topic12\", \"Topic12\", \"Topic12\", \"Topic12\", \"Topic12\", \"Topic12\", \"Topic12\", \"Topic12\", \"Topic12\", \"Topic12\", \"Topic12\", \"Topic12\", \"Topic12\", \"Topic12\", \"Topic12\", \"Topic12\", \"Topic12\", \"Topic12\", \"Topic12\", \"Topic12\", \"Topic12\", \"Topic12\", \"Topic12\", \"Topic12\", \"Topic12\", \"Topic12\", \"Topic12\", \"Topic12\", \"Topic12\", \"Topic12\", \"Topic12\", \"Topic12\", \"Topic12\", \"Topic12\", \"Topic12\", \"Topic12\", \"Topic12\", \"Topic12\", \"Topic12\", \"Topic13\", \"Topic13\", \"Topic13\", \"Topic13\", \"Topic13\", \"Topic13\", \"Topic13\", \"Topic13\", \"Topic13\", \"Topic13\", \"Topic13\", \"Topic13\", \"Topic13\", \"Topic13\", \"Topic13\", \"Topic13\", \"Topic13\", \"Topic13\", \"Topic13\", \"Topic13\", \"Topic13\", \"Topic13\", \"Topic13\", \"Topic13\", \"Topic13\", \"Topic13\", \"Topic13\", \"Topic13\", \"Topic13\", \"Topic13\", \"Topic13\", \"Topic13\", \"Topic13\", \"Topic13\", \"Topic13\", \"Topic13\", \"Topic13\", \"Topic13\", \"Topic13\", \"Topic13\", \"Topic13\", \"Topic13\", \"Topic13\", \"Topic13\", \"Topic13\", \"Topic13\", \"Topic13\", \"Topic13\", \"Topic13\", \"Topic13\", \"Topic13\", \"Topic13\", \"Topic13\", \"Topic13\", \"Topic13\", \"Topic14\", \"Topic14\", \"Topic14\", \"Topic14\", \"Topic14\", \"Topic14\", \"Topic14\", \"Topic14\", \"Topic14\", \"Topic14\", \"Topic14\", \"Topic14\", \"Topic14\", \"Topic14\", \"Topic14\", \"Topic14\", \"Topic14\", \"Topic14\", \"Topic14\", \"Topic14\", \"Topic14\", \"Topic14\", \"Topic14\", \"Topic14\", \"Topic14\", \"Topic14\", \"Topic14\", \"Topic14\", \"Topic14\", \"Topic14\", \"Topic14\", \"Topic14\", \"Topic14\", \"Topic14\", \"Topic14\", \"Topic14\", \"Topic14\", \"Topic14\", \"Topic14\", \"Topic14\", \"Topic14\", \"Topic14\", \"Topic14\", \"Topic14\", \"Topic14\", \"Topic14\", \"Topic14\", \"Topic14\", \"Topic14\", \"Topic14\", \"Topic14\", \"Topic15\", \"Topic15\", \"Topic15\", \"Topic15\", \"Topic15\", \"Topic15\", \"Topic15\", \"Topic15\", \"Topic15\", \"Topic15\", \"Topic15\", \"Topic15\", \"Topic15\", \"Topic15\", \"Topic15\", \"Topic15\", \"Topic15\", \"Topic15\", \"Topic15\", \"Topic15\", \"Topic15\", \"Topic15\", \"Topic15\", \"Topic15\", \"Topic15\", \"Topic15\", \"Topic15\", \"Topic15\", \"Topic15\", \"Topic15\", \"Topic15\", \"Topic15\", \"Topic15\", \"Topic15\", \"Topic15\", \"Topic15\", \"Topic15\", \"Topic15\", \"Topic15\", \"Topic15\", \"Topic15\", \"Topic15\", \"Topic15\", \"Topic15\", \"Topic15\", \"Topic15\", \"Topic15\", \"Topic15\", \"Topic15\", \"Topic15\", \"Topic15\", \"Topic15\", \"Topic15\", \"Topic15\", \"Topic16\", \"Topic16\", \"Topic16\", \"Topic16\", \"Topic16\", \"Topic16\", \"Topic16\", \"Topic16\", \"Topic16\", \"Topic16\", \"Topic16\", \"Topic16\", \"Topic16\", \"Topic16\", \"Topic16\", \"Topic16\", \"Topic16\", \"Topic16\", \"Topic16\", \"Topic16\", \"Topic16\", \"Topic16\", \"Topic16\", \"Topic16\", \"Topic16\", \"Topic16\", \"Topic16\", \"Topic16\", \"Topic16\", \"Topic16\", \"Topic16\", \"Topic16\", \"Topic16\", \"Topic16\", \"Topic16\", \"Topic16\", \"Topic16\", \"Topic16\", \"Topic16\", \"Topic16\", \"Topic16\", \"Topic16\", \"Topic16\", \"Topic16\", \"Topic16\", \"Topic16\", \"Topic16\", \"Topic16\", \"Topic16\", \"Topic16\", \"Topic16\", \"Topic17\", \"Topic17\", \"Topic17\", \"Topic17\", \"Topic17\", \"Topic17\", \"Topic17\", \"Topic17\", \"Topic17\", \"Topic17\", \"Topic17\", \"Topic17\", \"Topic17\", \"Topic17\", \"Topic17\", \"Topic17\", \"Topic17\", \"Topic17\", \"Topic17\", \"Topic17\", \"Topic17\", \"Topic17\", \"Topic17\", \"Topic17\", \"Topic17\", \"Topic17\", \"Topic17\", \"Topic17\", \"Topic17\", \"Topic17\", \"Topic17\", \"Topic17\", \"Topic17\", \"Topic17\", \"Topic17\", \"Topic17\", \"Topic17\", \"Topic17\", \"Topic17\", \"Topic17\", \"Topic17\", \"Topic17\", \"Topic17\", \"Topic17\", \"Topic17\", \"Topic17\", \"Topic17\", \"Topic17\", \"Topic17\", \"Topic18\", \"Topic18\", \"Topic18\", \"Topic18\", \"Topic18\", \"Topic18\", \"Topic18\", \"Topic18\", \"Topic18\", \"Topic18\", \"Topic18\", \"Topic18\", \"Topic18\", \"Topic18\", \"Topic18\", \"Topic18\", \"Topic18\", \"Topic18\", \"Topic18\", \"Topic18\", \"Topic18\", \"Topic18\", \"Topic18\", \"Topic18\", \"Topic18\", \"Topic18\", \"Topic18\", \"Topic18\", \"Topic18\", \"Topic18\", \"Topic18\", \"Topic18\", \"Topic18\", \"Topic18\", \"Topic18\", \"Topic18\", \"Topic18\", \"Topic18\", \"Topic18\", \"Topic18\", \"Topic18\", \"Topic18\", \"Topic18\", \"Topic18\", \"Topic18\", \"Topic18\", \"Topic18\", \"Topic18\", \"Topic18\", \"Topic18\", \"Topic18\", \"Topic18\", \"Topic18\", \"Topic19\", \"Topic19\", \"Topic19\", \"Topic19\", \"Topic19\", \"Topic19\", \"Topic19\", \"Topic19\", \"Topic19\", \"Topic19\", \"Topic19\", \"Topic19\", \"Topic19\", \"Topic19\", \"Topic19\", \"Topic19\", \"Topic19\", \"Topic19\", \"Topic19\", \"Topic19\", \"Topic19\", \"Topic19\", \"Topic19\", \"Topic19\", \"Topic19\", \"Topic19\", \"Topic19\", \"Topic19\", \"Topic19\", \"Topic19\", \"Topic19\", \"Topic19\", \"Topic19\", \"Topic19\", \"Topic19\", \"Topic19\", \"Topic19\", \"Topic19\", \"Topic19\", \"Topic19\", \"Topic19\", \"Topic19\", \"Topic19\", \"Topic19\", \"Topic19\", \"Topic19\", \"Topic19\", \"Topic19\", \"Topic19\", \"Topic20\", \"Topic20\", \"Topic20\", \"Topic20\", \"Topic20\", \"Topic20\", \"Topic20\", \"Topic20\", \"Topic20\", \"Topic20\", \"Topic20\", \"Topic20\", \"Topic20\", \"Topic20\", \"Topic20\", \"Topic20\", \"Topic20\", \"Topic20\", \"Topic20\", \"Topic20\", \"Topic20\", \"Topic20\", \"Topic20\", \"Topic20\", \"Topic20\", \"Topic20\", \"Topic20\", \"Topic20\", \"Topic20\", \"Topic20\", \"Topic20\", \"Topic20\", \"Topic20\", \"Topic20\", \"Topic20\", \"Topic20\", \"Topic20\", \"Topic20\", \"Topic20\", \"Topic20\", \"Topic20\", \"Topic20\", \"Topic20\", \"Topic20\", \"Topic20\", \"Topic20\", \"Topic20\", \"Topic20\", \"Topic20\"], \"logprob\": [30.0, 29.0, 28.0, 27.0, 26.0, 25.0, 24.0, 23.0, 22.0, 21.0, 20.0, 19.0, 18.0, 17.0, 16.0, 15.0, 14.0, 13.0, 12.0, 11.0, 10.0, 9.0, 8.0, 7.0, 6.0, 5.0, 4.0, 3.0, 2.0, 1.0, -5.3975, -5.6734, -5.7001, -5.7722, -5.8007, -5.851, -5.851, -5.9366, -5.9366, -6.0671, -6.0671, -5.5674, -6.1758, -6.2173, -6.2948, -6.2948, -6.2948, -4.5848, -6.3432, -6.3433, -6.4317, -6.4873, -6.4873, -5.727, -4.5545, -4.8739, -4.2608, -6.6556, -6.6556, -6.6556, -5.7711, -4.362, -5.785, -4.5059, -5.1321, -4.4435, -4.6919, -3.3795, -4.371, -2.671, -4.7517, -4.2207, -2.1266, -3.5673, -5.1287, -5.4063, -4.8798, -4.5482, -4.7916, -4.2977, -4.9345, -4.8345, -4.8586, -4.8873, -5.0755, -5.3006, -5.2601, -5.2045, -5.1796, -1.7357, -1.7168, -4.9699, -5.1383, -5.888, -5.888, -4.5295, -6.1829, -6.1829, -6.2903, -6.3331, -6.4105, -6.5474, -6.1223, -6.603, -6.603, -4.9293, -6.7714, -6.7714, -6.7714, -6.9739, -6.9739, -6.9739, -6.9739, -6.9739, -6.9739, -6.9739, -6.9739, -6.9739, -6.9739, -4.6357, -4.4967, -6.086, -6.008, -4.9631, -5.6184, -4.4484, -5.6279, -5.6279, -4.7848, -1.8245, -5.7085, -4.9321, -3.1657, -5.0356, -5.1848, -4.4571, -5.4278, -5.2022, -5.0829, -5.4331, -5.5149, -5.3543, -5.4232, -5.5743, -5.8193, -5.7329, -2.6188, -2.624, -2.6381, -2.6523, -5.5739, -5.6922, -5.7179, -5.8194, -5.397, -5.9554, -5.989, -6.0859, -6.0859, -5.539, -5.6173, -6.1933, -6.2361, -6.3136, -6.3136, -6.3136, -6.3136, -6.3136, -6.3136, -6.3136, -6.3136, -6.3136, -6.362, -6.362, -6.362, -5.9006, -5.207, -5.0817, -6.0859, -3.7565, -2.2557, -4.195, -3.3682, -4.6701, -4.0569, -5.955, -4.8735, -5.1362, -5.24, -5.5475, -5.3923, -5.5986, -5.2201, -5.3963, -5.6605, -5.6797, -5.5553, -5.6281, -5.5553, -5.6503, -5.6743, -2.6672, -2.8482, -4.4286, -4.6346, -4.8262, -4.9445, -5.2515, -5.4159, -5.5096, -5.6538, -5.6538, -3.6692, -5.774, -5.3383, -5.9108, -5.9108, -5.9108, -5.9111, -5.9665, -6.1349, -5.6966, -6.3374, -6.3374, -6.3374, -6.3374, -6.3374, -6.3374, -6.3374, -5.3468, -5.3303, -5.1527, -4.6922, -5.1056, -2.9544, -5.0495, -5.2515, -5.9665, -5.2322, -4.7483, -4.6145, -2.9625, -4.9034, -5.0292, -4.1582, -2.6593, -4.1755, -4.2914, -4.1548, -4.0015, -4.6107, -5.063, -5.0126, -5.1057, -5.0524, -5.2238, -4.6766, -4.8023, -5.0047, -5.1928, -5.2157, -5.2841, -5.3847, -5.5739, -5.5739, -5.5739, -5.7113, -5.7664, -5.9348, -5.9348, -5.9348, -5.9348, -5.9348, -5.9348, -5.9348, -5.9348, -4.862, -6.1373, -6.1373, -6.1373, -6.1373, -6.1373, -6.1373, -6.1373, -6.1373, -6.1373, -4.1365, -3.4868, -3.9372, -5.0359, -5.2494, -4.6104, -4.9602, -5.4537, -4.5696, -5.2647, -4.7542, -5.1033, -4.9604, -5.1779, -4.7288, -4.14, -2.5963, -4.8445, -4.478, -4.5821, -3.8861, -4.9963, -4.6349, -4.4534, -4.7672, -4.8639, -4.9091, -4.684, -5.1011, -5.1051, -4.377, -4.9294, -5.1379, -5.3232, -5.3233, -4.8796, -5.4305, -5.4305, -5.4305, -5.4305, -5.4305, -5.5508, -5.5508, -5.5508, -5.5508, -5.5508, -5.5508, -5.5992, -5.5992, -5.6877, -5.7433, -5.3616, -4.4299, -5.4017, -5.9116, -5.9116, -5.9116, -5.9116, -5.9116, -5.9116, -4.7421, -4.8083, -4.8716, -4.6156, -5.0296, -5.2863, -4.9585, -5.1379, -3.9825, -5.0282, -5.107, -3.4419, -5.2795, -2.4517, -4.8489, -4.6548, -4.4647, -4.9815, -4.2946, -4.9614, -5.3617, -4.9396, -5.0694, -5.0852, -5.2017, -5.2612, -5.2321, -5.254, -4.6938, -4.7249, -5.2164, -5.2482, -5.3019, -5.3355, -5.5398, -5.5398, -5.5827, -5.5827, -5.5827, -5.6601, -5.6601, -5.6601, -5.6601, -5.6601, -5.7086, -5.2045, -5.302, -4.9558, -5.8262, -6.021, -6.021, -6.021, -6.021, -6.021, -6.021, -4.3099, -6.2235, -6.2235, -4.9988, -4.9149, -4.044, -5.247, -5.039, -4.2607, -3.7238, -4.5908, -4.7874, -4.9959, -4.5521, -4.6355, -4.9404, -4.7631, -5.1375, -2.7405, -4.8675, -5.166, -4.3029, -5.0204, -4.5689, -5.0009, -4.7671, -4.8028, -4.3834, -4.6728, -4.9557, -4.8272, -4.8667, -5.0219, -4.5499, -4.7137, -4.8931, -5.0018, -5.2393, -5.2393, -3.5771, -5.3698, -4.6311, -5.52, -5.5974, -5.5974, -5.7342, -5.7344, -5.7899, -5.7899, -5.8572, -5.8572, -5.9583, -5.9583, -5.9583, -5.9583, -5.9583, -4.8965, -6.1609, -6.1609, -6.1609, -6.1609, -6.1609, -6.1609, -4.2316, -4.8474, -3.5602, -5.1845, -5.1845, -3.1885, -4.2989, -4.7001, -5.2545, -4.0845, -5.2868, -4.9955, -4.9019, -4.3952, -4.9861, -4.5563, -5.3082, -3.8888, -2.9604, -4.6755, -4.8561, -4.768, -5.1045, -5.0013, -5.0704, -5.1185, -5.169, -4.1186, -4.4425, -4.5535, -4.8142, -4.8907, -5.0579, -5.0579, -5.0579, -5.0579, -5.0579, -5.1771, -5.1772, -5.274, -5.274, -5.274, -5.3814, -5.3814, -5.3814, -5.4242, -5.5017, -5.5017, -5.5017, -5.5017, -5.5501, -5.6384, -5.6942, -4.6512, -5.8625, -5.8625, -5.8625, -4.4343, -4.03, -4.5445, -4.6402, -3.6738, -3.9916, -4.7528, -2.8601, -4.0223, -4.6514, -4.5447, -4.555, -5.1386, -4.8114, -5.14, -5.0926, -4.8503, -5.037, -4.931, -4.3014, -4.7854, -4.8942, -4.9479, -5.0248, -5.0459, -5.0459, -5.262, -5.3694, -5.3694, -5.3694, -5.3694, -4.3295, -5.4897, -5.4897, -5.5381, -5.5381, -5.6822, -5.6822, -4.7242, -5.8505, -5.8505, -5.8505, -5.8505, -5.8505, -4.995, -6.0531, -6.0531, -6.0531, -6.0531, -3.8072, -4.4956, -4.8683, -3.9697, -4.8677, -4.0244, -4.273, -5.1549, -4.8549, -4.3327, -3.5017, -2.5262, -4.8922, -2.5011, -5.1265, -4.9258, -3.7655, -4.2633, -4.9972, -5.0915, -4.9163, -5.0135, -5.0622, -4.5716, -4.8077, -4.8077, -4.9519, -4.9519, -5.0507, -5.1295, -5.1295, -5.1295, -5.1336, -5.2151, -5.2487, -5.2487, -5.3457, -5.3457, -5.384, -5.453, -5.453, -5.4958, -5.5733, -5.5733, -5.5733, -5.5733, -5.5733, -5.5733, -5.5733, -5.7102, -5.7658, -5.7658, -4.6725, -3.404, -3.4851, -5.3531, -4.2556, -4.9519, -4.4038, -4.7653, -4.8374, -4.7767, -4.9332, -3.0325, -4.317, -5.031, -4.4813, -4.478, -4.831, -5.1495, -5.0723, -4.7026, -5.0504, -5.0985, -3.8671, -4.3029, -4.6266, -4.6611, -4.8028, -5.0469, -5.0469, -5.1324, -5.3014, -5.2438, -5.3703, -5.3703, -5.3706, -4.9968, -5.4906, -5.4906, -5.5391, -5.6274, -5.6274, -5.6276, -4.7801, -5.6831, -5.6831, -5.8515, -5.8515, -5.4906, -6.054, -6.054, -6.054, -6.054, -5.3129, -4.541, -4.8115, -5.3097, -4.0905, -5.1325, -4.5711, -4.7432, -4.507, -4.6924, -5.1782, -4.1552, -4.8269, -4.6221, -4.8384, -4.5585, -4.9873, -3.3364, -4.3865, -4.8234, -4.4964, -4.9264, -4.85, -4.9156, -4.7543, -4.7445, -4.8935, -4.1452, -4.4608, -4.558, -4.978, -4.978, -5.0088, -5.3015, -5.4217, -5.4217, -5.4217, -5.4217, -5.4702, -5.4702, -5.4702, -5.5585, -5.6143, -4.5053, -4.3958, -5.7826, -5.7826, -5.7826, -5.7826, -5.7826, -5.7826, -5.9852, -5.9852, -5.9852, -5.9852, -5.9852, -5.9852, -4.8526, -5.6175, -4.3217, -3.7101, -5.0335, -5.2531, -4.6588, -5.1075, -5.4702, -4.0959, -2.8528, -3.4497, -4.4895, -4.977, -4.4704, -4.3776, -4.283, -4.7438, -5.1572, -4.9533, -5.0363, -5.0903, -5.1856, -5.0649, -5.2023, -4.5588, -4.602, -4.687, -4.8449, -4.8463, -5.0093, -5.0429, -5.1399, -5.1782, -4.069, -4.3133, -5.3675, -4.3625, -5.56, -5.1398, -5.545, -5.7283, -5.7283, -5.7283, -5.7283, -4.4011, -5.9309, -5.9309, -5.9309, -5.9309, -5.9309, -5.9309, -5.9309, -4.9546, -6.1852, -4.9237, -4.0794, -4.6803, -5.0093, -5.4171, -5.0093, -4.428, -4.6465, -4.5737, -4.5034, -4.123, -3.6275, -4.7587, -5.148, -2.8678, -4.4269, -3.6747, -4.6713, -4.8882, -4.8982, -4.9556, -3.9006, -4.6718, -4.6887, -4.8876, -5.0626, -5.0878, -5.2321, -5.2321, -5.4892, -5.4892, -5.4892, -5.4892, -5.4927, -5.5449, -5.5449, -5.5449, -5.5449, -5.5449, -5.7133, -5.7133, -5.7133, -5.7133, -5.7133, -4.8739, -3.8786, -5.9158, -5.9158, -5.9158, -5.9158, -5.9158, -4.5829, -4.8298, -4.5313, -4.6646, -4.9386, -4.7271, -5.0323, -5.1248, -4.7852, -3.9572, -4.2626, -4.8713, -3.8516, -4.1227, -3.1702, -4.5565, -4.8103, -5.0867, -4.8683, -4.8542, -4.8928, -5.0782, -4.9809, -5.0624, -2.6817, -2.7459, -4.6187, -4.6982, -4.879, -4.9257, -4.4898, -5.2206, -5.2206, -5.2206, -5.328, -5.328, -5.328, -5.328, -5.4482, -5.4482, -5.4967, -5.4967, -5.5893, -5.6407, -5.6407, -5.8091, -5.8091, -6.0117, -6.0117, -6.0117, -6.0117, -3.9633, -6.2659, -6.2659, -4.721, -5.2206, -5.1605, -5.8091, -5.1626, -4.1675, -5.585, -5.1917, -3.8178, -2.7285, -4.3968, -5.2826, -4.6018, -4.9288, -4.7838, -4.7546, -4.8266, -4.4885, -5.0122, -4.9353, -5.05, -4.8156, -4.8156, -4.9012, -4.9012, -4.9348, -4.9696, -4.9947, -5.1819, -5.2593, -5.2593, -5.2593, -5.3078, -5.3078, -5.3079, -5.3079, -5.3961, -5.3961, -5.4518, -5.4518, -5.4518, -5.4518, -5.4518, -5.0421, -5.6202, -5.6202, -5.6202, -5.6202, -4.2703, -4.5034, -5.8227, -4.6255, -4.5557, -4.9178, -4.1514, -4.687, -3.4385, -5.1398, -5.1821, -3.9833, -5.3078, -4.6089, -3.7088, -5.2593, -4.6649, -4.7204, -5.1169, -5.1362, -5.1996, -5.2593, -4.0841, -4.0952, -4.3028, -4.4591, -4.5728, -4.6925, -3.6975, -5.1091, -5.1866, -4.3028, -5.5474, -5.5474, -5.5474, -5.5474, -5.5474, -5.5474, -5.5474, -5.6178, -5.235, -5.1866, -5.75, -5.75, -5.75, -5.75, -5.75, -4.9591, -5.2458, -5.8367, -5.8367, -6.0043, -3.8847, -4.4762, -5.1091, -5.0663, -4.9974, -4.8284, -5.5474, -4.6917, -4.5951, -3.9808, -4.6826, -2.9162, -4.4664, -4.3393, -4.7589, -4.8739, -4.644, -4.426, -4.6088, -4.5572, -5.0228, -5.065, -5.0715, -4.0051, -4.2038, -4.461, -4.5631, -4.5862, -4.768, -4.8006, -4.8468, -4.8776, -4.8776, -4.9094, -4.9324, -4.966, -4.966, -5.0259, -5.1703, -5.2905, -5.339, -5.4273, -5.6514, -5.6514, -5.6514, -5.6514, -5.6514, -5.6514, -4.4191, -5.854, -5.854, -5.854, -5.854, -4.8257, -5.1057, -4.8548, -4.0651, -4.9623, -5.0646, -5.1703, -4.8779, -4.6811, -5.0311, -4.0763, -4.8471, -4.3207, -4.6194, -4.8468, -4.4084, -4.9371, -4.6431, -4.9988, -4.0677, -4.2899, -4.4951, -4.7345, -4.9455, -4.9792, -5.0391, -5.0391, -5.0393, -5.1544, -5.1834, -5.1834, -4.0805, -5.4405, -5.4405, -5.4405, -5.4405, -5.4405, -5.4405, -5.4405, -5.4962, -5.4962, -5.4962, -5.6646, -5.6646, -5.6646, -5.6646, -5.6646, -5.6646, -5.6646, -4.145, -4.4575, -4.8956, -4.64, -4.2575, -3.6674, -5.1115, -4.7393, -4.8611, -4.9041, -4.9793, -5.0392, -5.3138, -4.9732, -5.3037, -5.1628, -5.0219, -4.9272, -5.1927], \"loglift\": [30.0, 29.0, 28.0, 27.0, 26.0, 25.0, 24.0, 23.0, 22.0, 21.0, 20.0, 19.0, 18.0, 17.0, 16.0, 15.0, 14.0, 13.0, 12.0, 11.0, 10.0, 9.0, 8.0, 7.0, 6.0, 5.0, 4.0, 3.0, 2.0, 1.0, 2.0769, 2.0579, 2.055, 2.0498, 2.0473, 2.0427, 2.0427, 2.0345, 2.0345, 2.0207, 2.0207, 2.0184, 2.007, 2.0026, 1.9924, 1.9924, 1.9924, 1.9893, 1.9856, 1.9855, 1.9724, 1.9637, 1.9637, 1.9594, 1.9511, 1.9496, 1.9356, 1.9345, 1.9345, 1.9345, 1.931, 1.8063, 1.8884, 1.7872, 1.767, 1.5918, 1.6224, 1.3113, 1.4712, 0.982, 1.5546, 1.3509, 0.4174, 0.8363, 1.573, 1.6776, 1.3536, 1.0956, 1.2309, 0.7722, 1.2465, 1.1564, 0.9212, 0.9083, 1.0917, 1.3757, 1.2593, 1.0235, 0.0926, 2.2268, 2.2264, 2.1832, 2.1747, 2.1182, 2.1182, 2.1075, 2.0829, 2.0829, 2.0676, 2.0611, 2.0488, 2.0249, 2.0205, 2.0144, 2.0144, 2.0031, 1.9796, 1.9796, 1.9796, 1.9313, 1.9313, 1.9313, 1.9313, 1.9313, 1.9313, 1.9313, 1.9313, 1.9313, 1.9313, 1.8764, 1.8514, 1.8849, 1.8226, 1.6394, 1.6837, 1.4584, 1.6578, 1.6578, 1.4425, 0.7195, 1.6326, 1.3465, 0.4873, 1.1258, 1.1927, 0.6128, 1.1852, 0.468, -0.0811, 0.5926, 0.7186, -0.0821, -0.0252, 0.4166, 0.9903, -1.3294, 2.4703, 2.4703, 2.4702, 2.4701, 2.3606, 2.3591, 2.3562, 2.3442, 2.3331, 2.3264, 2.3216, 2.3072, 2.3072, 2.3038, 2.3014, 2.2897, 2.2823, 2.2682, 2.2682, 2.2682, 2.2682, 2.2682, 2.2682, 2.2682, 2.2682, 2.2682, 2.2589, 2.2589, 2.2589, 2.2545, 2.1063, 2.0551, 2.2084, 1.675, 0.2883, 1.1213, 0.2848, 1.0366, 0.3466, 1.9261, 0.6026, 0.8895, 0.9935, 1.3435, 1.096, 1.3326, 0.5755, 0.7496, 1.2581, 1.1251, 0.3813, 0.5333, -0.5535, 0.518, 0.4928, 2.895, 2.8932, 2.8521, 2.8403, 2.8272, 2.8183, 2.7892, 2.77, 2.7576, 2.7368, 2.7368, 2.7175, 2.7173, 2.6958, 2.6926, 2.6926, 2.6926, 2.6923, 2.6817, 2.6458, 2.6191, 2.5959, 2.5959, 2.5959, 2.5959, 2.5959, 2.5959, 2.5959, 2.5588, 2.5541, 2.5519, 2.5106, 2.5216, 2.362, 2.5031, 2.5104, 2.5451, 2.4337, 2.236, 2.1547, 1.4411, 2.2333, 2.1923, 1.3757, -0.1153, 1.2224, 1.1847, 0.9151, -0.3485, 0.6615, 1.1041, 0.7549, 1.173, 0.7274, 1.8175, 2.8704, 2.8501, 2.8453, 2.827, 2.8246, 2.817, 2.805, 2.7793, 2.7793, 2.7793, 2.7575, 2.7486, 2.7173, 2.7173, 2.7173, 2.7173, 2.7173, 2.7173, 2.7173, 2.7173, 2.6916, 2.6738, 2.6738, 2.6738, 2.6738, 2.6738, 2.6738, 2.6738, 2.6738, 2.6738, 2.6571, 2.5898, 2.4566, 2.5503, 2.554, 2.4326, 2.4828, 2.5555, 2.3179, 2.4564, 1.9742, 2.1888, 2.0942, 2.2315, 1.8169, 1.258, -0.0523, 1.643, 1.0558, 1.0617, -0.2331, 1.6945, 0.9196, 0.2374, 1.0003, 1.0727, 0.9331, -0.2804, 1.7102, 1.5757, 2.9591, 2.9205, 2.9, 2.8783, 2.8782, 2.8663, 2.8641, 2.8641, 2.8641, 2.8641, 2.8641, 2.8464, 2.8464, 2.8464, 2.8464, 2.8464, 2.8464, 2.8388, 2.8388, 2.8239, 2.8142, 2.8111, 2.7952, 2.7876, 2.7816, 2.7816, 2.7816, 2.7816, 2.7816, 2.7816, 2.7541, 2.7402, 2.7195, 2.6301, 2.6652, 2.6794, 2.5375, 2.5957, 2.0432, 2.521, 2.5558, 1.2489, 2.6121, 0.0923, 2.2207, 1.9342, 0.5371, 1.7155, -0.6416, 1.3598, 2.5819, 0.6319, 0.3286, -0.0153, 0.8189, 1.7723, 0.9952, 1.39, 2.9966, 2.9941, 2.9452, 2.9402, 2.9343, 2.9298, 2.8993, 2.8993, 2.8922, 2.8922, 2.8922, 2.8788, 2.8788, 2.8788, 2.8788, 2.8788, 2.8699, 2.8566, 2.8517, 2.8511, 2.8211, 2.8037, 2.8037, 2.8037, 2.8037, 2.8037, 2.8037, 2.7643, 2.7515, 2.7515, 2.7286, 2.6983, 2.4613, 2.6676, 2.6135, 2.4193, 2.2987, 2.3396, 2.3753, 2.3746, 2.0311, 2.0407, 2.2548, 2.0482, 2.3802, -0.1965, 2.0511, 2.3993, 1.3409, 2.1852, 1.422, 2.1131, 1.2534, 0.9647, -0.7304, 0.329, 1.439, 0.7274, 0.6094, 1.4657, 3.0261, 3.014, 2.9985, 2.9878, 2.9605, 2.9605, 2.9602, 2.9429, 2.9375, 2.92, 2.9071, 2.9071, 2.882, 2.8818, 2.871, 2.871, 2.85, 2.85, 2.8346, 2.8346, 2.8346, 2.8346, 2.8346, 2.7845, 2.7841, 2.7841, 2.7841, 2.7841, 2.7841, 2.7841, 2.7647, 2.7671, 2.7332, 2.7326, 2.6528, 2.3661, 2.4522, 2.4935, 2.6437, 2.3094, 2.6266, 2.4857, 2.3998, 1.926, 2.3173, 1.9276, 2.5096, 1.113, -0.4164, 1.7183, 1.3249, 0.7081, 1.8888, 0.2709, 0.5997, 1.0779, 1.0846, 3.0535, 3.0363, 3.0291, 3.0087, 2.9994, 2.9852, 2.9852, 2.9852, 2.9852, 2.9852, 2.9716, 2.9714, 2.9594, 2.9594, 2.9594, 2.9446, 2.9446, 2.9446, 2.9383, 2.9264, 2.9264, 2.9264, 2.9264, 2.9185, 2.9033, 2.8931, 2.8845, 2.8594, 2.8594, 2.8594, 2.7594, 2.5692, 2.5953, 2.574, 2.0329, 1.7759, 2.0557, -0.3161, 0.6685, 1.5765, 1.0992, 0.8765, 2.3285, 1.2652, 2.2053, 1.7222, -0.4467, 0.7586, -1.278, 3.0476, 3.0144, 3.0046, 2.9993, 2.9917, 2.9895, 2.9895, 2.9638, 2.9492, 2.9492, 2.9492, 2.9492, 2.94, 2.9311, 2.9311, 2.9233, 2.9233, 2.8981, 2.8981, 2.8814, 2.8646, 2.8646, 2.8646, 2.8646, 2.8646, 2.8574, 2.8181, 2.8181, 2.8181, 2.8181, 2.7794, 2.7803, 2.7826, 2.7428, 2.6632, 2.4639, 2.4765, 2.6959, 2.5382, 2.3481, 1.7705, 1.1268, 2.4087, 0.0429, 2.5329, 2.2787, 0.6381, 1.3083, 1.5222, 1.8242, 0.6176, 1.2145, 0.3692, 3.0609, 3.0418, 3.0418, 3.028, 3.028, 3.0174, 3.0083, 3.0083, 3.0083, 3.0039, 2.9976, 2.9932, 2.9932, 2.9798, 2.9797, 2.9741, 2.9635, 2.9635, 2.9566, 2.9434, 2.9434, 2.9434, 2.9434, 2.9434, 2.9434, 2.9434, 2.918, 2.9069, 2.9069, 2.903, 2.7908, 2.7644, 2.8791, 2.7146, 2.757, 2.5058, 2.6403, 2.5548, 2.4322, 2.4742, -0.4885, 1.1591, 2.2858, 1.2253, 1.0936, 0.9646, 2.1617, 1.8122, -0.299, 1.0262, 1.2961, 3.164, 3.1421, 3.1199, 3.1171, 3.1044, 3.0785, 3.0784, 3.068, 3.0448, 3.0408, 3.0343, 3.0343, 3.034, 3.0156, 3.0145, 3.0145, 3.0059, 2.9894, 2.9894, 2.9893, 2.9839, 2.9784, 2.9784, 2.942, 2.942, 2.9179, 2.8914, 2.8914, 2.8914, 2.8914, 2.8713, 2.8342, 2.7423, 2.7956, 2.5535, 2.7595, 2.5217, 2.5771, 2.3643, 2.3411, 2.6739, 1.7923, 2.3122, 1.9909, 2.2204, 1.8361, 2.3737, -0.7924, 1.1681, 1.9814, 0.5735, 1.8821, 1.5881, 1.6302, 0.7795, 0.2573, 1.2875, 3.1576, 3.1385, 3.1312, 3.0924, 3.0924, 3.0889, 3.0506, 3.0319, 3.0319, 3.0319, 3.0319, 3.0238, 3.0238, 3.0238, 3.0082, 2.9977, 2.9762, 2.968, 2.9631, 2.9631, 2.9631, 2.9631, 2.9631, 2.9631, 2.9151, 2.9151, 2.9151, 2.9151, 2.9151, 2.9151, 2.8215, 2.8849, 2.6568, 2.4358, 2.5873, 2.6592, 2.3795, 2.5596, 2.6803, 1.302, -0.3088, 0.2033, 1.2171, 1.8486, 0.9611, 0.6242, 0.4077, 1.036, 1.8842, 0.8888, 0.9842, 1.224, 1.5269, -0.6614, 0.5634, 3.1847, 3.181, 3.1736, 3.1584, 3.1572, 3.1399, 3.1357, 3.1231, 3.1179, 3.1099, 3.0914, 3.0892, 3.074, 3.0549, 3.0522, 3.0268, 3.0202, 3.0202, 3.0202, 3.0202, 3.0103, 2.972, 2.972, 2.972, 2.972, 2.972, 2.972, 2.972, 2.9021, 2.9003, 2.8905, 2.8328, 2.8532, 2.8819, 2.8845, 2.8117, 2.7042, 2.7183, 2.6187, 2.5333, 2.3609, 2.1383, 2.5333, 2.6081, -0.3239, 1.353, -0.0217, 0.8626, 1.711, 1.0927, 0.7146, 3.264, 3.2127, 3.2112, 3.1906, 3.1693, 3.166, 3.1453, 3.1453, 3.1017, 3.1017, 3.1017, 3.1017, 3.0989, 3.091, 3.091, 3.091, 3.091, 3.091, 3.0555, 3.0555, 3.0555, 3.0555, 3.0555, 3.0146, 3.012, 3.0063, 3.0063, 3.0063, 3.0063, 3.0063, 2.9916, 2.9484, 2.8771, 2.8552, 2.8692, 2.7672, 2.8467, 2.8454, 2.5157, 1.9904, 1.991, 2.3539, 0.8392, 0.8791, -0.6262, 1.4788, 1.7354, 1.9096, 1.0684, 0.9115, 0.1771, 1.6903, 0.2913, 0.4714, 3.3406, 3.3396, 3.2579, 3.2503, 3.2307, 3.2251, 3.2016, 3.1841, 3.1841, 3.1841, 3.1665, 3.1665, 3.1665, 3.1665, 3.1447, 3.1447, 3.1353, 3.1353, 3.113, 3.1052, 3.1052, 3.0654, 3.0654, 3.0104, 3.0104, 3.0104, 3.0104, 2.9951, 2.9294, 2.9294, 2.9248, 2.8882, 2.7871, 2.9102, 2.5425, 1.853, 2.7469, 2.429, 1.184, -0.1845, 1.5398, 2.4728, 0.9528, 1.4658, 0.9819, 0.6769, 0.6495, -0.8355, 1.3745, 0.8603, 1.2287, 3.3213, 3.3212, 3.3106, 3.3106, 3.3062, 3.3015, 3.298, 3.2696, 3.2565, 3.2565, 3.2565, 3.2479, 3.2479, 3.2478, 3.2478, 3.2312, 3.2312, 3.22, 3.22, 3.22, 3.22, 3.22, 3.2065, 3.1832, 3.1832, 3.1832, 3.1832, 3.159, 3.1527, 3.1322, 3.0809, 3.0092, 3.0665, 2.6582, 2.8355, 2.2317, 2.9507, 2.8647, 1.0185, 2.9335, 1.1709, -1.1648, 2.7828, 0.6073, -0.3168, 1.2043, 1.1175, 1.6848, 2.4945, 3.42, 3.4193, 3.4046, 3.3916, 3.3808, 3.3682, 3.3456, 3.3125, 3.2998, 3.2684, 3.2287, 3.2287, 3.2287, 3.2287, 3.2287, 3.2287, 3.2287, 3.2122, 3.1889, 3.1881, 3.1791, 3.1791, 3.1791, 3.1791, 3.1791, 3.1626, 3.1597, 3.1554, 3.1554, 3.1054, 3.0722, 2.9035, 3.021, 2.9876, 2.9646, 2.8639, 3.0911, 2.6425, 2.5141, 1.7849, 2.2085, -0.3722, 1.3011, 1.0586, 1.7224, 1.817, 1.2926, -0.0224, 0.7076, 0.1336, 2.0872, 1.5183, 0.7241, 3.4615, 3.4484, 3.4269, 3.4169, 3.4145, 3.3937, 3.3854, 3.3837, 3.3795, 3.3795, 3.3751, 3.3719, 3.3671, 3.3671, 3.358, 3.3344, 3.3124, 3.3029, 3.2847, 3.2323, 3.2323, 3.2323, 3.2323, 3.2323, 3.2323, 3.186, 3.1768, 3.1768, 3.1768, 3.1768, 3.1527, 3.1417, 3.1011, 2.7968, 2.9463, 2.9885, 2.9593, 2.7093, 2.5291, 2.7125, 1.3216, 2.356, 1.2132, 1.6739, 2.1899, 0.5934, 1.6519, -2.0991, 1.8225, 3.5443, 3.5268, 3.507, 3.4788, 3.4486, 3.4432, 3.4334, 3.4334, 3.4331, 3.4129, 3.4074, 3.4074, 3.3884, 3.3531, 3.3531, 3.3531, 3.3531, 3.3531, 3.3531, 3.3531, 3.3398, 3.3398, 3.3398, 3.2962, 3.2962, 3.2962, 3.2962, 3.2962, 3.2962, 3.2962, 3.1732, 3.0306, 3.0795, 2.9789, 2.5573, 1.8087, 2.8884, 1.9097, 2.0485, 2.0892, 1.9511, 2.0021, 2.9105, 0.8224, 2.3421, 1.1435, -0.0201, -2.3832, 0.7141]}, \"token.table\": {\"Topic\": [13, 3, 13, 19, 2, 13, 16, 8, 19, 14, 12, 12, 7, 1, 5, 8, 5, 14, 16, 11, 14, 5, 19, 4, 6, 4, 3, 4, 12, 7, 16, 18, 1, 8, 10, 18, 2, 19, 12, 6, 13, 14, 1, 2, 3, 7, 5, 9, 11, 4, 19, 6, 18, 20, 2, 1, 5, 6, 10, 11, 12, 15, 17, 18, 19, 8, 16, 18, 3, 18, 18, 13, 2, 3, 5, 6, 7, 9, 10, 15, 16, 17, 18, 18, 1, 5, 16, 4, 10, 4, 13, 18, 19, 20, 3, 11, 12, 18, 2, 2, 5, 3, 14, 20, 13, 2, 5, 3, 15, 17, 10, 19, 2, 4, 3, 11, 7, 8, 11, 1, 7, 10, 3, 7, 9, 11, 12, 13, 19, 20, 2, 3, 7, 15, 5, 16, 2, 6, 11, 4, 5, 8, 14, 20, 1, 2, 3, 11, 1, 2, 3, 4, 5, 6, 7, 8, 9, 10, 11, 12, 13, 14, 15, 16, 17, 18, 19, 20, 5, 2, 6, 8, 9, 7, 14, 1, 17, 5, 11, 6, 4, 12, 3, 6, 4, 3, 15, 8, 1, 16, 1, 14, 7, 13, 18, 7, 12, 9, 6, 17, 5, 8, 18, 2, 17, 7, 3, 7, 15, 14, 10, 6, 10, 1, 15, 18, 2, 6, 13, 15, 20, 17, 4, 8, 16, 4, 8, 16, 9, 17, 5, 5, 11, 2, 4, 5, 12, 7, 18, 1, 9, 19, 15, 11, 15, 3, 15, 19, 14, 1, 18, 5, 16, 5, 7, 12, 13, 15, 18, 20, 11, 20, 5, 8, 18, 14, 17, 19, 6, 8, 17, 17, 6, 17, 8, 16, 15, 11, 3, 5, 18, 13, 14, 5, 6, 20, 2, 12, 14, 15, 16, 6, 19, 16, 9, 2, 14, 3, 11, 12, 14, 9, 12, 2, 8, 14, 15, 2, 8, 15, 17, 17, 14, 11, 15, 3, 11, 13, 17, 8, 15, 17, 1, 1, 6, 9, 10, 6, 11, 12, 14, 6, 11, 8, 20, 10, 10, 15, 20, 3, 17, 19, 17, 5, 11, 10, 19, 10, 14, 18, 16, 16, 17, 8, 12, 13, 16, 6, 11, 7, 11, 12, 4, 1, 3, 5, 6, 9, 10, 11, 13, 14, 15, 18, 9, 20, 2, 6, 20, 3, 4, 7, 12, 14, 18, 4, 15, 15, 10, 6, 11, 2, 1, 3, 5, 18, 2, 17, 10, 13, 6, 7, 5, 13, 2, 3, 9, 18, 19, 9, 19, 1, 9, 6, 4, 16, 5, 19, 14, 19, 19, 6, 1, 2, 3, 8, 6, 5, 16, 19, 10, 13, 14, 1, 2, 3, 6, 9, 12, 13, 15, 17, 5, 6, 18, 18, 6, 17, 5, 3, 9, 11, 13, 17, 3, 6, 3, 5, 9, 8, 15, 9, 3, 7, 11, 2, 3, 4, 5, 18, 19, 18, 15, 15, 15, 8, 19, 10, 9, 6, 16, 6, 9, 13, 17, 8, 6, 1, 2, 6, 13, 13, 16, 9, 18, 6, 12, 2, 11, 19, 10, 1, 2, 3, 4, 5, 7, 9, 13, 18, 19, 18, 2, 18, 13, 1, 7, 18, 14, 17, 15, 1, 3, 5, 10, 12, 13, 14, 15, 16, 18, 2, 8, 9, 12, 19, 20, 4, 11, 2, 19, 3, 7, 8, 11, 15, 19, 7, 9, 11, 13, 3, 1, 11, 3, 11, 1, 16, 9, 7, 9, 1, 4, 14, 3, 4, 5, 9, 12, 13, 14, 10, 2, 4, 7, 10, 18, 13, 15, 18, 3, 12, 16, 1, 8, 4, 4, 11, 12, 9, 18, 14, 11, 7, 1, 3, 6, 7, 13, 15, 1, 2, 5, 11, 12, 17, 10, 17, 6, 7, 9, 18, 20, 10, 12, 5, 17, 3, 7, 18, 1, 19, 20, 1, 2, 3, 4, 6, 10, 7, 14, 1, 7, 13, 8, 11, 1, 5, 7, 10, 11, 3, 5, 14, 5, 9, 14, 15, 7, 18, 20, 14, 4, 5, 6, 7, 8, 10, 17, 11, 4, 10, 11, 13, 17, 18, 7, 12, 8, 9, 12, 16, 17, 16, 1, 8, 16, 7, 10, 9, 16, 4, 15, 16, 9, 3, 11, 14, 15, 10, 18, 8, 11, 14, 18, 19, 1, 2, 5, 7, 8, 9, 13, 14, 15, 17, 18, 19, 13, 1, 12, 4, 10, 15, 3, 13, 1, 3, 1, 3, 5, 15, 20, 9, 10, 15, 5, 3, 4, 6, 7, 8, 10, 11, 13, 16, 19, 20, 13, 12, 1, 2, 3, 4, 6, 7, 8, 9, 10, 11, 12, 13, 15, 17, 20, 6, 5, 6, 9, 19, 11, 5, 7, 4, 5, 20, 7, 13, 17, 3, 9, 11, 12, 13, 15, 20, 3, 4, 5, 5, 15, 15, 19, 20, 4, 1, 5, 10, 12, 13, 14, 20, 3, 9, 14, 7, 18, 11, 11, 15, 3, 7, 15, 9, 1, 6, 7, 8, 15, 18, 19, 2, 8, 11, 12, 16, 5, 14, 3, 5, 6, 11, 14, 1, 3, 4, 9, 20, 5, 3, 4, 5, 8, 9, 14, 15, 18, 5, 6, 13, 17, 19, 1, 7, 8, 9, 10, 15, 17, 18, 11, 14, 1, 3, 19, 20, 4, 17, 2, 4, 5, 10, 12, 16, 18, 5, 4, 5, 8, 16, 7, 1, 7, 9, 11, 12, 5, 8, 16, 8, 8, 15, 16, 1, 2, 5, 8, 17, 1, 9, 1, 17, 16, 17, 9, 14, 2, 1, 6, 6, 5, 14, 17, 5, 3, 13, 3, 1, 3, 5, 7, 9, 10, 11, 13, 3, 6, 12, 15, 7, 8, 12, 20, 3, 15, 5, 8, 13, 1, 1, 11, 17, 1, 2, 4, 6, 7, 1, 20, 13, 10, 15, 4, 11, 12, 2, 3, 10, 15, 18, 5, 8, 4, 7, 19, 1, 2, 3, 6, 7, 8, 9, 11, 12, 13, 15, 16, 17, 18, 19, 20, 12, 8, 20, 6, 10, 12, 17, 2, 6, 3, 11, 20, 2, 2, 4, 5, 13, 15, 16, 1, 2, 3, 7, 12, 14, 9, 3, 10, 5, 3, 14, 16, 8, 16, 6, 11, 15, 10, 18, 18, 15, 3, 3, 6, 6, 17, 19, 12, 2, 7, 6, 7, 1, 8, 14, 17, 20, 3, 2, 3, 10, 13, 14, 12, 18, 5, 7, 12, 1, 6, 10, 11, 12, 13, 14, 17, 19, 5, 12, 1, 11, 12, 13, 14, 9, 12, 5, 11, 14, 15, 19, 16, 19, 15, 5, 10, 2, 6, 19, 6, 3, 17, 9, 2, 4, 7, 9, 16, 2, 16, 2, 1, 2, 4, 5, 6, 7, 12, 15, 20, 13, 1, 9, 12, 2, 6, 15, 2, 3, 4, 5, 7, 12, 15, 19, 3, 20, 3, 18, 7, 9, 15, 1, 5, 6, 7, 9, 13, 16, 18, 20, 4, 8, 15, 6, 3, 12, 3, 1, 2, 3, 4, 5, 6, 7, 8, 9, 10, 11, 12, 13, 14, 16, 17, 18, 20, 1, 2, 9, 19, 3, 10, 17, 2, 20, 14, 11, 13, 20, 10, 14, 15, 6, 10, 17, 1, 13, 1, 7, 13, 16, 9, 5, 7, 8, 9, 12, 13, 16, 3, 4, 6, 1, 5, 11, 12, 13, 15, 20, 2, 12, 17, 14, 15, 19, 11, 7, 1, 15, 1, 4, 8, 11, 14, 20, 17, 6, 8, 9, 13, 1, 3, 8, 9, 13, 3, 5, 8, 10, 18, 3, 14, 4, 5, 2, 13, 12, 6, 9, 8, 10, 4, 9, 12, 20, 2, 5, 7, 8, 12, 10, 18, 4, 11, 13, 20, 9, 10, 1, 2, 3, 5, 7, 9, 20, 14, 1, 11, 19, 8, 20, 6, 14, 2, 8, 3, 1, 12, 1, 3, 17, 5, 8, 13, 17, 19, 2, 3, 4, 6, 7, 13, 16, 8, 10, 16, 14, 4, 7, 10, 18, 5, 7, 1, 3, 3, 4, 7, 20, 20, 9, 11, 12, 15, 16, 11, 15, 13, 19, 11, 7, 11, 2, 4, 4, 12, 3, 17, 16, 15, 19, 1, 5, 7, 18, 10, 2, 3, 5, 6, 7, 11, 13, 14, 16, 17, 1, 2, 3, 6, 9, 11, 12, 16, 18, 20, 7, 12, 14, 13, 18, 16, 1, 2, 13, 16, 1, 2, 9, 11, 6, 2, 4, 7, 9, 14, 15, 4, 6, 1, 5, 8, 9, 11, 12, 17, 20, 2, 3, 7, 1, 15, 14, 20, 14, 16, 9, 13, 4, 16, 20, 12, 1, 15, 1, 3, 10, 13, 14, 19, 1, 2, 3, 7, 14, 19, 1, 1, 2, 3, 6, 12, 7, 3, 9, 11, 13, 2, 16, 6, 7, 11, 13, 2, 11, 13, 17, 2, 3, 4, 5, 9, 11, 11, 14, 10, 11, 13, 17, 4, 18, 1, 2, 13, 16, 17, 18, 1, 3, 8, 9, 19, 7, 20, 3, 9, 2, 4, 1, 2, 3, 5, 6, 11, 14, 6, 2, 1, 19, 5, 1, 2, 5, 7, 8, 10, 11, 13, 19, 1, 7, 8, 17, 10, 11, 1, 11, 20, 14, 19, 11, 19, 18, 7, 15, 10, 18, 9, 11, 6, 1, 8, 1, 16, 8, 9, 2, 10, 12, 13, 4, 10, 19, 5, 20, 17, 2, 4, 6, 7, 11, 12, 9, 12, 1, 10, 17, 1, 5, 6, 10, 12, 13, 19, 1, 2, 3, 4, 5, 6, 7, 9, 10, 11, 12, 13, 14, 15, 16, 7, 8, 13, 17, 19, 18, 6, 18, 6, 14, 19, 4, 15, 4, 9, 13, 17, 19, 9, 1, 5, 7, 13, 7, 7, 8, 12, 12, 2, 1, 4, 5, 7, 12, 13, 16, 20, 1, 3, 6, 7, 9, 16, 19, 13, 12, 15, 3, 5, 11, 17, 8, 1, 3, 4, 10, 13, 14, 16, 18, 20, 8, 15, 12, 9, 4, 4, 6, 11, 5, 7, 8, 10, 1, 2, 3, 4, 6, 12, 13, 14, 17, 4, 7, 17, 19, 12, 18, 2, 6, 1, 2, 7, 8, 13, 14, 17, 1, 7, 20, 1, 4, 14, 1, 2, 13, 16, 1, 2, 3, 4, 5, 6, 9, 10, 11, 12, 13, 14, 15, 20, 17, 6, 7, 1, 2, 3, 8, 11, 12, 14, 20, 10, 20, 3, 4, 6, 7, 9, 10, 12, 13, 16, 17, 12, 12, 10, 5, 15, 17, 3, 7, 16, 7, 7, 14, 14, 8, 15, 13, 10, 2, 20, 15, 10, 16, 20, 9, 13, 20, 13, 4, 5, 6, 20, 1, 2, 14, 15, 1, 4, 7, 11, 12, 15, 16, 19, 9, 5, 18, 14, 7, 4, 9, 11, 1, 2, 5, 9, 10, 19, 1, 5, 7, 11, 19, 9, 14, 6, 6, 2, 3, 4, 5, 6, 7, 8, 10, 11, 12, 13, 14, 15, 16, 19, 13, 16, 20, 1, 2, 4, 5, 6, 9, 10, 11, 13, 18, 19, 20, 7, 13, 10, 18, 15, 5, 9, 12, 14, 19, 1, 2, 4, 5, 11, 12, 18, 9, 2, 3, 10, 1, 2, 5, 9, 12, 1, 2, 6, 13, 15, 18, 6, 8, 12, 15, 16, 4, 10, 19, 1, 15, 13, 1, 3, 4, 8, 9, 13, 18], \"Freq\": [0.6552453080738974, 0.9974605739229203, 0.7041141434226177, 0.7466219343242135, 0.6585414452793368, 0.546827264107529, 0.3645515094050194, 0.8822218081841253, 0.8611170492435677, 0.9352762357014579, 0.7403063808604989, 0.9601423194803425, 0.913103676545593, 0.8723681904516764, 0.8990784105209721, 0.8822218060457335, 0.33404105215648333, 0.6680821043129667, 0.8733714471367072, 0.7828802189907039, 0.8445262435486715, 0.8990784105209721, 0.746621932988647, 0.8706736910411709, 0.7924812222078056, 0.730443984641351, 0.714818657297072, 0.7639724552513086, 0.6855802154927558, 0.7061720911316313, 0.7401733593514518, 0.8663894947463299, 0.39635436972775834, 0.5548961176188617, 0.6364885126183719, 0.6744162176141892, 0.9706482211990819, 0.7301227752590378, 0.801471859492691, 0.7631499948822287, 0.16958888775160638, 0.08479444387580319, 0.13547862389316973, 0.18063816519089299, 0.3161167890840627, 0.36127633038178597, 0.7005005676707154, 0.15566679281571455, 0.11675009461178591, 0.7304469464482707, 0.9290169387054277, 0.10229291770798359, 0.8694898005178605, 0.6961365286741735, 0.7080313574411128, 0.34997011436448927, 0.17498505718224464, 0.058328352394081545, 0.029164176197040773, 0.058328352394081545, 0.029164176197040773, 0.11665670478816309, 0.029164176197040773, 0.17498505718224464, 0.029164176197040773, 0.2085531176914209, 0.4171062353828418, 0.31282967653713134, 0.17347051083989895, 0.7806172987795452, 0.674416216471277, 0.6552453080738974, 0.03383300816026663, 0.11841552856093321, 0.15224853672119984, 0.06766601632053326, 0.06766601632053326, 0.08458252040066658, 0.05074951224039995, 0.1014990244807999, 0.16916504080133316, 0.03383300816026663, 0.11841552856093321, 0.7183362724078702, 0.7979207036540954, 0.7669295369882302, 0.8917229869524501, 0.8721507203974035, 0.9157018736798667, 0.6773458330321043, 0.8573094747760546, 0.8120918310701635, 0.6445145405587314, 0.9034530474774015, 0.16392482368686853, 0.27320803947811423, 0.10928321579124568, 0.3824912552693599, 0.8686277137440551, 0.35800545195711997, 0.6137236319264914, 0.15161382445543056, 0.833876034504868, 0.6961365942414728, 0.8783261240188244, 0.6585414420687424, 0.7669294063698467, 0.7965894249572342, 0.11379848927960488, 0.8229367930153964, 0.6364885126183719, 0.9290169300607244, 0.5512705368344696, 0.4134529026258522, 0.7892102760717477, 0.917100519686829, 0.08651028260415064, 0.8651028260415065, 0.8930750277429328, 0.426880567531957, 0.5336007094149463, 0.8113837345368357, 0.24192953219505048, 0.04032158869917508, 0.349453768726184, 0.14784582523030862, 0.04032158869917508, 0.13440529566391693, 0.013440529566391694, 0.026881059132783387, 0.23649052525796468, 0.5912263131449117, 0.11824526262898234, 0.7769641390076758, 0.09781553795815083, 0.8803398416233574, 0.1879042046745929, 0.6889820838068407, 0.12526946978306194, 0.6664006051045519, 0.22213353503485062, 0.6852252313145555, 0.9647940920451139, 0.883466979215248, 0.13375314873928673, 0.13375314873928673, 0.26750629747857346, 0.40125944621786014, 0.1785802421866658, 0.22123475863252545, 0.11203919653112471, 0.04891051219125241, 0.050047965963142, 0.05402905416475557, 0.038104701358301296, 0.029573798069129364, 0.03298615938479814, 0.04663560464747323, 0.026730163639405388, 0.018199260350233455, 0.029573798069129364, 0.027298890525350183, 0.019336714122123046, 0.02900507118318457, 0.009668357061061523, 0.02104289477995743, 0.003412361315668773, 0.002274907543779182, 0.8990784105209721, 0.7407876976323028, 0.8939628306374554, 0.7737240457152672, 0.8223843775184617, 0.8565060111723157, 0.656973226202114, 0.4167310921878174, 0.5556414562504232, 0.8990784085045469, 0.9165324222458322, 0.9168999883612425, 0.7872133028783026, 0.7983529418938551, 0.12271148328134744, 0.7976246413287583, 0.7304686693209749, 0.17404617661002533, 0.6961847064401013, 0.7399056612109672, 0.925110465611606, 0.44007277060356037, 0.7994159014918464, 0.8445262002500526, 0.8264200085153087, 0.3915985516742382, 0.48949818959279773, 0.9113939188412118, 0.8496721461811684, 0.8223845858307937, 0.2791274036327844, 0.5582548072655688, 0.7669297422320135, 0.8102847040187449, 0.8681726508664038, 0.8466493293848492, 0.9285179231218631, 0.8039596472419289, 0.9967068930052393, 0.7235771934480477, 0.2713414475430179, 0.65697319414276, 0.7137543509545838, 0.08977560753398386, 0.8079804678058549, 0.18770118273005093, 0.09385059136502547, 0.6569541395551782, 0.5867428315355078, 0.19558094384516925, 0.19558094384516925, 0.721369433863809, 0.6145286681596394, 0.892182622483805, 0.677345832438425, 0.9128630101533479, 0.7984557234673341, 0.8322074617775082, 0.773724198448851, 0.44007277060356037, 0.5205908634825893, 0.41647269078607146, 0.7583860776794039, 0.8049566391978751, 0.917100542600036, 0.6745303744065829, 0.22484345813552764, 0.3445890904477712, 0.5743151507462853, 0.8565060111723157, 0.8681727929690192, 0.2986953727664976, 0.17068307015228434, 0.469378442918782, 0.8582140180419072, 0.9165324191306649, 0.7545851198114203, 0.23599331012211092, 0.5899832753052773, 0.8142171985665173, 0.7885685256441664, 0.8759700918589601, 0.09733001020655112, 0.2969769641962587, 0.5939539283925174, 0.12917633590428101, 0.3552349237367728, 0.06458816795214051, 0.12917633590428101, 0.09688225192821077, 0.12917633590428101, 0.06458816795214051, 0.9221706655844842, 0.8834694279637336, 0.8512803140888912, 0.9103149136732852, 0.9732695553703244, 0.6569731682248106, 0.7481040305077926, 0.9026796503387524, 0.2263555866374035, 0.6790667599122104, 0.9285179564559444, 0.9162330737952968, 0.7990908291720645, 0.7481040336496007, 0.7398809109964857, 0.9291041660249775, 0.7769642828722451, 0.8481109559819235, 0.7892103785527679, 0.6564178340414957, 0.21880594468049855, 0.775381025849104, 0.1409783683362007, 0.2851875478829854, 0.6654376117269659, 0.8869673335776488, 0.16064088391390566, 0.16064088391390566, 0.08032044195695283, 0.5622430936986698, 0.8854038361008635, 0.772136947514685, 0.1286894912524475, 0.8733716339585944, 0.834251624678117, 0.6585414434809491, 0.7961328838048861, 0.29449559627472793, 0.5153672934807739, 0.14724779813736397, 0.840986875779536, 0.8172992553071153, 0.6855802154927558, 0.22196850881244143, 0.5549212720311035, 0.11098425440622071, 0.11098425440622071, 0.2834949970794239, 0.0809985705941211, 0.1619971411882422, 0.44549213826766604, 0.6920770995449782, 0.65697319414276, 0.21336235555693575, 0.7467682444492751, 0.9909081582823209, 0.8930750284918445, 0.8920569779397036, 0.7822218818944262, 0.8102847040187449, 0.7213683743720117, 0.892361259086825, 0.9382139507135782, 0.21009678843003585, 0.47271777396758063, 0.15757259132252688, 0.10504839421501792, 0.7924813030437351, 0.8930750276178756, 0.5976921257222324, 0.23907685028889294, 0.8939628306374554, 0.7621147734956636, 0.8131050799057378, 0.812704567233456, 0.9157018736798667, 0.816841483123341, 0.8618323454969495, 0.6961365286741735, 0.19856549537594542, 0.694979233815809, 0.7466219323592842, 0.9162418270592164, 0.6719930283822135, 0.26879721135288537, 0.17054885579155757, 0.6821954231662303, 0.14323574470538478, 0.21485361705807715, 0.5729429788215391, 0.7516486646443485, 0.7984556891532667, 0.892182622483805, 0.8828593782732949, 0.6403770643462675, 0.16009426608656688, 0.16009426608656688, 0.8939627178197959, 0.8930750284918445, 0.7632132002029328, 0.8236993717051247, 0.8833421875311636, 0.6773458330321043, 0.4380123991226461, 0.004866804434696068, 0.06813526208574495, 0.17033815521436238, 0.08760247982452922, 0.02433402217348034, 0.019467217738784272, 0.058401653216352815, 0.004866804434696068, 0.08273567538983316, 0.03406763104287248, 0.9225089603139356, 0.8834694279637336, 0.6585414434809491, 0.8298778896029559, 0.8544344811876246, 0.24182493381912443, 0.16121662254608296, 0.08060831127304148, 0.2821290894556452, 0.08060831127304148, 0.08060831127304148, 0.7304477661862577, 0.7213683743720117, 0.7545845817025356, 0.8168414859300238, 0.1990864732635765, 0.6968026564225178, 0.6585414452793368, 0.8873445546572677, 0.22131407866055705, 0.5163995168746331, 0.22131407866055705, 0.6585414452793368, 0.8922942764926862, 0.6364885126183719, 0.8421874370469589, 0.6293549526153686, 0.2517419810461474, 0.8841135743361216, 0.8730056347088481, 0.20529366360127685, 0.06843122120042561, 0.06843122120042561, 0.4105873272025537, 0.13686244240085121, 0.8370709569003854, 0.16741419138007707, 0.2378647829258961, 0.7135943487776883, 0.8255026527436385, 0.9729556149381033, 0.9766826528660348, 0.8990784105209721, 0.8384419519238678, 0.7388600847995137, 0.6445145712913735, 0.8611170114971434, 0.8885598708441925, 0.45526330146770755, 0.22763165073385377, 0.22763165073385377, 0.0910526602935415, 0.792481302291001, 0.35251618172418986, 0.17625809086209493, 0.44064522715523735, 0.6982429346027582, 0.1837481406849364, 0.07349925627397455, 0.15392149974915406, 0.11971672202711983, 0.03420477772203424, 0.01710238886101712, 0.08551194430508559, 0.23943344405423966, 0.03420477772203424, 0.2736382217762739, 0.01710238886101712, 0.8990784084641041, 0.19370443290572692, 0.7748177316229077, 0.8079104257304378, 0.804659262090558, 0.16093185241811162, 0.8990784089894842, 0.04379692797098331, 0.10949231992745827, 0.7007508475357329, 0.08759385594196661, 0.04379692797098331, 0.33938745018904354, 0.5939280378308261, 0.16902157026477177, 0.16902157026477177, 0.6197457576374965, 0.8131050803399411, 0.7213677045994065, 0.8342515589835213, 0.6701728745809962, 0.20105186237429884, 0.06701728745809961, 0.08755443058296876, 0.2626632917489063, 0.04377721529148438, 0.5253265834978126, 0.04377721529148438, 0.6445145405587314, 0.7183362724078702, 0.7545851741203013, 0.7218402292442136, 0.8618324165010588, 0.6852251760242715, 0.6445145567749812, 0.9157015630889186, 0.8172991763762869, 0.9302539489622843, 0.981558802213795, 0.14384056282886762, 0.09589370855257842, 0.5753622513154705, 0.14384056282886762, 0.8271375023230548, 0.8939628311623097, 0.9251038355903621, 0.5867428315355078, 0.19558094384516925, 0.19558094384516925, 0.6192185016160012, 0.3096092508080006, 0.9311579094626807, 0.889955447512779, 0.804653559547015, 0.160930711909403, 0.8466494598385463, 0.7487472853977923, 0.7466219343242135, 0.8450281442700494, 0.05713656035365943, 0.04285242026524457, 0.08570484053048914, 0.11427312070731886, 0.14284140088414857, 0.11427312070731886, 0.2713986616798823, 0.028568280176829716, 0.11427312070731886, 0.014284140088414858, 0.9014734490597552, 0.7407877765633428, 0.9176179611398697, 0.6552453080738974, 0.9447952336689831, 0.2811026834852148, 0.5622053669704296, 0.663562975970139, 0.221187658656713, 0.66974408343522, 0.07129832214259185, 0.014259664428518372, 0.042778993285555116, 0.05703865771407349, 0.042778993285555116, 0.07129832214259185, 0.32797228185592253, 0.08555798657111023, 0.0998176509996286, 0.18537563757073883, 0.2451678018885387, 0.7355034056656161, 0.16127447701235953, 0.48382343103707853, 0.10751631800823967, 0.16127447701235953, 0.9880449630720882, 0.8930750276946211, 0.7901278003812856, 0.7591346461054662, 0.674091774470522, 0.28087157269605084, 0.4645224479759266, 0.06636034971084666, 0.19908104913254, 0.19908104913254, 0.18111605520941587, 0.12074403680627725, 0.482976147225109, 0.18111605520941587, 0.8410658090309778, 0.9150845318710857, 0.9219528257619228, 0.17422047498965582, 0.7839921374534512, 0.720847312003371, 0.8423400756296308, 0.8223849402720832, 0.9113942844807205, 0.9650171631822347, 0.22438186398760782, 0.08975274559504313, 0.6282692191653019, 0.20577005882193383, 0.2469240705863206, 0.041154011764386766, 0.08230802352877353, 0.041154011764386766, 0.2469240705863206, 0.1234620352931603, 0.9628527868997807, 0.23727273306651275, 0.7118181991995383, 0.3005416529333677, 0.4207583141067148, 0.18032499176002062, 0.8730052252005053, 0.3033594859053364, 0.6067189718106728, 0.28116117682833014, 0.42174176524249524, 0.21087088262124762, 0.41616777116093784, 0.5350728486354914, 0.8018491633399433, 0.14699363610509958, 0.5879745444203983, 0.14699363610509958, 0.15041076374065276, 0.7520538187032638, 0.7077727986542421, 0.7828800566140899, 0.9131037002594747, 0.253290818247848, 0.07236880521367085, 0.2894752208546834, 0.21710641564101257, 0.07236880521367085, 0.10855320782050629, 0.18670685474204704, 0.07468274189681881, 0.3734137094840941, 0.14936548379363762, 0.07468274189681881, 0.11202411284522822, 0.8043458034732359, 0.11490654335331942, 0.21961997512794562, 0.38433495647390487, 0.16471498134595922, 0.054904993781986405, 0.10980998756397281, 0.8168411736513287, 0.960268917611702, 0.8990784095294416, 0.7822218291988432, 0.8593881208252939, 0.12276973154647057, 0.8681724648058915, 0.12153401052061583, 0.6076700526030792, 0.12153401052061583, 0.4241484947061888, 0.09088896315132618, 0.06059264210088412, 0.09088896315132618, 0.12118528420176825, 0.2120742473530944, 0.11718761877346719, 0.8789071408010038, 0.836709530013041, 0.14941241607375733, 0.8421873430472935, 0.6852252313145555, 0.807902851836697, 0.15253485177079776, 0.07626742588539888, 0.11440113882809833, 0.5338719811977922, 0.11440113882809833, 0.11183422005201094, 0.27958555013002734, 0.5591711002600547, 0.09843804909433847, 0.5906282945660308, 0.19687609818867693, 0.09843804909433847, 0.6113526661960877, 0.2445410664784351, 0.6961364846023395, 0.9274053440836942, 0.09939870360302684, 0.14909805540454027, 0.19879740720605368, 0.12424837950378355, 0.29819611080908054, 0.02484967590075671, 0.09939870360302684, 0.8930750271739835, 0.6811070375289633, 0.08513837969112041, 0.08513837969112041, 0.08513837969112041, 0.08513837969112041, 0.08513837969112041, 0.8793711067602975, 0.7983574229054611, 0.6852252313145555, 0.8172992533487539, 0.9057350766953888, 0.26219842569726015, 0.6554960642431503, 0.740173358322603, 0.8115750351437105, 0.13160676245573685, 0.04386892081857895, 0.9113935513554531, 0.8842699765839657, 0.27340170651670814, 0.5468034130334163, 0.6773458330321043, 0.37120631587487934, 0.556809473812319, 0.9225088989641304, 0.14110689890248607, 0.21166034835372907, 0.5644275956099443, 0.8618324815982953, 0.8278257615252964, 0.8681727665577463, 0.5347574304450717, 0.15278783727002052, 0.11459087795251538, 0.11459087795251538, 0.07639391863501026, 0.10367269484160978, 0.16846812911761588, 0.025918173710402444, 0.038877260565603665, 0.07775452113120733, 0.038877260565603665, 0.038877260565603665, 0.07775452113120733, 0.038877260565603665, 0.2980589976696281, 0.038877260565603665, 0.038877260565603665, 0.6552453080738974, 0.7208472053527655, 0.8827430136204214, 0.6297374400883886, 0.20991248002946286, 0.8618324543711926, 0.7148186558466625, 0.6552453080738974, 0.7685136084447124, 0.1921284021111781, 0.3068320702142651, 0.18409924212855905, 0.12273282808570604, 0.3681984842571181, 0.854433830093249, 0.1291111015558793, 0.7101110585573361, 0.06455555077793965, 0.7583860786656325, 0.1494279158308598, 0.18144818350890118, 0.032020267678041385, 0.08538738047477702, 0.09606080303412415, 0.032020267678041385, 0.13875449327151268, 0.04269369023738851, 0.06404053535608277, 0.010673422559347128, 0.16010133839020693, 0.8384802352889723, 0.6855802154927558, 0.13056637059995305, 0.0957486717732989, 0.017408849413327075, 0.10445309647996244, 0.043522123533317685, 0.05222654823998122, 0.060930972946644756, 0.02611327411999061, 0.2611327411999061, 0.017408849413327075, 0.05222654823998122, 0.02611327411999061, 0.05222654823998122, 0.060930972946644756, 0.6961365002385312, 0.8145039729792574, 0.6103321718374679, 0.30516608591873395, 0.179449684168337, 0.717798736673348, 0.9168621801525584, 0.7669293984694443, 0.9131036999722827, 0.7270706821999927, 0.24235689406666422, 0.7045601395490868, 0.8432902353954289, 0.8384803103299833, 0.7822216233940161, 0.18768681420082572, 0.10427045233379208, 0.04170818093351683, 0.06256227140027525, 0.4587899902686851, 0.08341636186703366, 0.06256227140027525, 0.7433780595982553, 0.86978848916941, 0.8915325314695831, 0.7670023542469938, 0.17044496761044306, 0.28086646453680486, 0.5617329290736097, 0.9341645925691311, 0.9455300514333789, 0.8362448572635347, 0.15587731812471856, 0.20783642416629142, 0.36371374229101, 0.10391821208314571, 0.051959106041572854, 0.10391821208314571, 0.7148186560835286, 0.8409248588557807, 0.65697319414276, 0.9131037017887575, 0.6744162152117383, 0.8930750273585167, 0.3295562235820633, 0.6591124471641266, 0.7148186568254338, 0.6585589234053703, 0.28223953860230155, 0.8409249025371878, 0.5788086323203626, 0.056013738611648, 0.056013738611648, 0.07468498481553067, 0.168041215834944, 0.018671246203882667, 0.018671246203882667, 0.7680729268882439, 0.16891375246345097, 0.2815229207724183, 0.3941320890813856, 0.11260916830896732, 0.4592717158730824, 0.4592717158730824, 0.1345008315344864, 0.1345008315344864, 0.0672504157672432, 0.40350249460345916, 0.1345008315344864, 0.1628398037176335, 0.04070995092940838, 0.2035497546470419, 0.24425970557645027, 0.325679607435267, 0.7583860782935136, 0.2547378730496152, 0.5822579955419775, 0.0090977811803434, 0.027293343541030197, 0.0090977811803434, 0.0090977811803434, 0.0363911247213736, 0.0636844682624038, 0.3022653895798141, 0.18135923374788845, 0.06045307791596282, 0.06045307791596282, 0.3627184674957769, 0.18580686182910178, 0.1161292886431886, 0.13935514637182633, 0.046451715457275444, 0.06967757318591317, 0.27871029274365267, 0.09290343091455089, 0.06967757318591317, 0.8079029760286756, 0.895354557423112, 0.3091685771399154, 0.2061123847599436, 0.4122247695198872, 0.6145274059805413, 0.787213306506278, 0.8921826458157287, 0.1552197044744726, 0.10347980298298172, 0.4139192119319269, 0.10347980298298172, 0.10347980298298172, 0.5054948835313595, 0.37912116264851964, 0.7669294999697119, 0.1195697702876119, 0.757275211821542, 0.07971318019174127, 0.8733716791057639, 0.9113938601831931, 0.24272238288457365, 0.08090746096152455, 0.3640835743268605, 0.04045373048076228, 0.28317611336533594, 0.8990784083450509, 0.922608974650474, 0.8063738325676777, 0.6852252313145555, 0.73213015161182, 0.2440433838706067, 0.7401733566371094, 0.7909413415300393, 0.0988676676912549, 0.24783811213418203, 0.16522540808945468, 0.5782889283130914, 0.880080236948434, 0.0880080236948434, 0.2585631892768368, 0.6033141083126192, 0.8423399456156848, 0.7822217842732201, 0.147858259288553, 0.739291296442765, 0.6585413464352373, 0.10328840028949517, 0.8263072023159613, 0.7990909381014919, 0.16952260041184702, 0.16952260041184702, 0.6780904016473881, 0.9170041165937591, 0.7148186583757088, 0.7367367061959721, 0.7148186202915344, 0.3534267498211059, 0.025244767844364704, 0.15146860706618823, 0.17671337491055294, 0.13884622314400588, 0.07573430353309411, 0.05048953568872941, 0.025244767844364704, 0.9084135472033965, 0.6121213384941705, 0.30606066924708525, 0.9638853552583942, 0.2920002256488984, 0.2920002256488984, 0.1460001128244492, 0.19466681709926556, 0.2948064768668205, 0.6633145729503461, 0.030846205176901745, 0.8636937449532488, 0.09253861553070523, 0.9579862097363492, 0.523735411865419, 0.2618677059327095, 0.17457847062180634, 0.18099527428861661, 0.45248818572154154, 0.13574645571646246, 0.13574645571646246, 0.06787322785823123, 0.836244826393714, 0.8834694279637336, 0.8421872304226651, 0.5295376823122675, 0.4633454720232341, 0.14796780670955434, 0.14796780670955434, 0.5918712268382174, 0.13180135005382135, 0.3075364834589165, 0.1757351334050951, 0.04393378335127378, 0.2636027001076427, 0.8319505310103149, 0.8828591190556326, 0.212893088447988, 0.496750539711972, 0.283857451263984, 0.8723682123472545, 0.09963400554703969, 0.04649586925528519, 0.08634947147410106, 0.06642267036469313, 0.13948760776585556, 0.01992680110940794, 0.03321133518234656, 0.053138136291754505, 0.07306493740116243, 0.08634947147410106, 0.11291853961997832, 0.08634947147410106, 0.01992680110940794, 0.053138136291754505, 0.026569068145877252, 0.774163871164719, 0.8828592317519054, 0.824212702097948, 0.3039511954100317, 0.15197559770501584, 0.4052682605467089, 0.10131706513667722, 0.8859935372751268, 0.1022300235317454, 0.18194216167509572, 0.18194216167509572, 0.5458264850252872, 0.8466490250757618, 0.40485401728502995, 0.1667045953526594, 0.11907471096618528, 0.09525976877294823, 0.07144482657971117, 0.11907471096618528, 0.29872859880922537, 0.059745719761845076, 0.0896185796427676, 0.5377114778566057, 0.8414284295526998, 0.10517855369408748, 0.834251626322145, 0.12828427104573523, 0.833847761797279, 0.766929398486599, 0.8825599778341663, 0.6923338992223498, 0.2307779664074499, 0.9559749756285785, 0.6386127527048939, 0.14265464834507122, 0.665721692276999, 0.1902061977934283, 0.7514275716600661, 0.18785689291501653, 0.8490294974595621, 0.8396792933985223, 0.9930551370832166, 0.7148186572832345, 0.7924813002019212, 0.9598774377504907, 0.8921824060443223, 0.9405916130677044, 0.7741638885136465, 0.8432632552792592, 0.7061720911316313, 0.1415708366333499, 0.8494250198000993, 0.14620619232516346, 0.3216536231153596, 0.40937733851045766, 0.08772371539509807, 0.02924123846503269, 0.7433756144169972, 0.08811042376688483, 0.2643312713006545, 0.528662542601309, 0.029370141255628274, 0.08811042376688483, 0.8090657346521863, 0.13484428910869772, 0.07129985473368829, 0.21389956420106487, 0.712998547336883, 0.4579628729412912, 0.09394110214180332, 0.1643969287481558, 0.12916901544497955, 0.03522791330317625, 0.05871318883862708, 0.011742637767725415, 0.02348527553545083, 0.02348527553545083, 0.9407554658891303, 0.7403315846199049, 0.5923080914506672, 0.0740385114313334, 0.0740385114313334, 0.1480770228626668, 0.0740385114313334, 0.3409754923167707, 0.5967071115543487, 0.2400929680885423, 0.12004648404427115, 0.060023242022135576, 0.2400929680885423, 0.30011621011067785, 0.7228510479063252, 0.8019091126621893, 0.7545851724325218, 0.704387949632817, 0.2641454811123064, 0.1963016049774044, 0.6870556174209155, 0.9374458472135381, 0.7924813011835182, 0.7148186558719649, 0.8367137773150857, 0.8511371229851403, 0.11529306134702827, 0.1729395920205424, 0.5188187760616272, 0.057646530673514135, 0.11529306134702827, 0.4958292056338217, 0.3966633645070574, 0.998496920574857, 0.1641890150487084, 0.4597292421363835, 0.03283780300974168, 0.0820945075243542, 0.0820945075243542, 0.04925670451461252, 0.03283780300974168, 0.04925670451461252, 0.04925670451461252, 0.7575189158727742, 0.3034664465320843, 0.6069328930641686, 0.06069328930641686, 0.5964077644586114, 0.3313376469214508, 0.06626752938429015, 0.15545728322410657, 0.03886432080602664, 0.15545728322410657, 0.1943216040301332, 0.03886432080602664, 0.15545728322410657, 0.1943216040301332, 0.03886432080602664, 0.9150715269303598, 0.1016746141033733, 0.7776231152265038, 0.1555246230453008, 0.7685327961816982, 0.10979039945452833, 0.6697440822043077, 0.16557292052679043, 0.07358796467857352, 0.11038194701786029, 0.16557292052679043, 0.11038194701786029, 0.11038194701786029, 0.22076389403572058, 0.01839699116964338, 0.03679398233928676, 0.09679783754749852, 0.7743827003799881, 0.09679783754749852, 0.8939627910651194, 0.9410852534335259, 0.9301999418669781, 0.7148186562329256, 0.27023687817358194, 0.029214797640387237, 0.12051104026659736, 0.2300665314180495, 0.04017034675553245, 0.0036518497050484046, 0.02191109823029043, 0.007303699410096809, 0.029214797640387237, 0.08399254321611331, 0.032866647345435644, 0.018259248525242022, 0.02191109823029043, 0.010955549115145215, 0.014607398820193618, 0.02191109823029043, 0.029214797640387237, 0.010955549115145215, 0.6393342002157941, 0.10655570003596568, 0.15983355005394853, 0.7820613321579005, 0.87310499895978, 0.6364885117145954, 0.9285225218142087, 0.3333400744586192, 0.5000101116879287, 0.806876155428553, 0.2693875715378075, 0.06734689288445188, 0.6734689288445187, 0.10435274761996607, 0.5217637380998303, 0.3130582428598982, 0.643586544942993, 0.3217932724714965, 0.8922942751887184, 0.9056411035161228, 0.8421874721189521, 0.4607470524470205, 0.3544208095746312, 0.03544208095746312, 0.10632624287238934, 0.9271132961722859, 0.13853198865266556, 0.09235465910177704, 0.48486196028432943, 0.03463299716316639, 0.12698765626494343, 0.02308866477544426, 0.09235465910177704, 0.120011842950433, 0.6600651362273815, 0.1800177644256495, 0.031104649226660452, 0.3110464922666045, 0.031104649226660452, 0.21773254458662317, 0.12441859690664181, 0.21773254458662317, 0.062209298453320905, 0.7784055109085862, 0.0915771189304219, 0.0915771189304219, 0.45741444978579604, 0.20329531101590936, 0.2541191387698867, 0.8374563122133347, 0.939166050416536, 0.9161358056800437, 0.754585192706666, 0.2672272659393464, 0.16033635956360787, 0.45428635209688895, 0.026722726593934643, 0.026722726593934643, 0.026722726593934643, 0.7822215628598562, 0.09546308890560933, 0.28638926671682796, 0.09546308890560933, 0.47731544452804664, 0.1324837342946279, 0.19872560144194185, 0.5299349371785116, 0.06624186714731395, 0.06624186714731395, 0.1424124257461234, 0.24922174505571593, 0.10680931930959253, 0.462840383674901, 0.8681726348303116, 0.2388749287043235, 0.7166247861129704, 0.7304685321420687, 0.1826171330355172, 0.6585414425752446, 0.8384802371004014, 0.9057452507388316, 0.8255019529377717, 0.8924529581930046, 0.7245602490032865, 0.18114006225082163, 0.1331586533162253, 0.1331586533162253, 0.2663173066324506, 0.5326346132649012, 0.16226796123915788, 0.2839689321685263, 0.36510291278810525, 0.16226796123915788, 0.9412622875320668, 0.9477670141445655, 0.6744162176141892, 0.3574231161904748, 0.1531813355102035, 0.2553022258503391, 0.20424178068027132, 0.7187761376689785, 0.915701952132768, 0.5630902958901789, 0.17137530744483703, 0.024482186777833863, 0.09792874711133545, 0.024482186777833863, 0.024482186777833863, 0.0734465603335016, 0.8445262484933932, 0.8873445548084306, 0.9219524495369791, 0.6445145941125731, 0.1566122188099959, 0.7830610940499795, 0.7990909738686801, 0.65697319414276, 0.2442365500635392, 0.610591375158848, 0.8945790310208886, 0.9579862102620299, 0.6855802154927558, 0.8212509965476348, 0.12318764948214521, 0.8732121958770753, 0.04833330219267189, 0.7008328817937424, 0.024166651096335943, 0.04833330219267189, 0.14499990657801565, 0.2034164987529602, 0.2034164987529602, 0.05547722693262551, 0.3698481795508367, 0.05547722693262551, 0.07396963591016734, 0.03698481795508367, 0.18947202348264464, 0.5684160704479339, 0.18947202348264464, 0.866198591027953, 0.11471588821018067, 0.11471588821018067, 0.6882953292610839, 0.11471588821018067, 0.7669297069385965, 0.7124785926505747, 0.7086170348455736, 0.2657313880670901, 0.74337747129811, 0.23946124009541378, 0.15964082673027585, 0.5587428935559655, 0.7213693582231948, 0.4151865737296737, 0.1383955245765579, 0.20759328686483686, 0.20759328686483686, 0.7516487710465752, 0.21958373597435982, 0.7465847023128234, 0.7929604272613001, 0.15859208545226003, 0.9171007602787884, 0.8264201123128386, 0.9136659458876589, 0.2751869398155196, 0.6421028595695458, 0.677345832246832, 0.8136134797535497, 0.2915667711855996, 0.5831335423711992, 0.8733716062054516, 0.8640385434902145, 0.9137225052196891, 0.5817019625392491, 0.2181382359522184, 0.07271274531740614, 0.1090691179761092, 0.8720901768313845, 0.05869459478639942, 0.11738918957279884, 0.2641256765387974, 0.05869459478639942, 0.205431081752398, 0.08804189217959914, 0.08804189217959914, 0.11738918957279884, 0.9417612555374576, 0.8473218468491885, 0.29381813298360365, 0.029381813298360364, 0.14690906649180183, 0.04407271994754055, 0.10283634654426127, 0.11752725319344146, 0.04407271994754055, 0.0881454398950811, 0.05876362659672073, 0.05876362659672073, 0.06748512834050621, 0.5398810267240497, 0.33742564170253103, 0.25218178212137043, 0.7565453463641113, 0.7228509843732968, 0.20362090729716184, 0.15271568047287137, 0.4581470414186141, 0.15271568047287137, 0.15631709068652, 0.15631709068652, 0.46895127205955994, 0.07815854534326, 0.799090992460516, 0.18342748985375715, 0.4891399729433524, 0.06114249661791905, 0.06114249661791905, 0.1222849932358381, 0.06114249661791905, 0.9416760617278616, 0.7913474313088975, 0.27592430098672033, 0.03449053762334004, 0.1724526881167002, 0.03449053762334004, 0.06898107524668008, 0.10347161287002013, 0.10347161287002013, 0.1724526881167002, 0.9379572274263269, 0.21106603537537386, 0.7387311238138085, 0.8916261522513812, 0.9818624303616841, 0.6569731933510923, 0.6961365709090888, 0.9354301765172616, 0.6386106492200572, 0.9156816656360469, 0.9283821915759954, 0.8224950010379596, 0.13266048403838057, 0.7900476440421675, 0.8833422576160458, 0.9056411040778262, 0.6697440817845892, 0.18012563158762135, 0.27018844738143205, 0.27018844738143205, 0.13509422369071603, 0.13509422369071603, 0.6445145650262372, 0.2304545804142833, 0.5596754095775451, 0.09876624874897856, 0.03292208291632619, 0.06584416583265237, 0.9328444100285868, 0.8296929134200421, 0.8873445540777766, 0.6467437526354715, 0.2586975010541886, 0.7078299395086431, 0.1769574848771608, 0.9131036015802071, 0.7150274292894143, 0.17875685732235358, 0.2200985788073721, 0.6602957364221163, 0.9978113202301434, 0.7401733593514518, 0.17244071735483468, 0.517322152064504, 0.258661076032252, 0.8421873115304733, 0.7619278201429361, 0.15052954741737667, 0.07526477370868834, 0.7526477370868834, 0.6585414452793368, 0.24115214957926123, 0.5305347290743747, 0.048230429915852246, 0.14469128974755674, 0.048230429915852246, 0.91366594617353, 0.8445264074495684, 0.12199676408729239, 0.24399352817458478, 0.6099838204364619, 0.8922942742555016, 0.6773458330321043, 0.6744162176141892, 0.3154817167040497, 0.34177185976272045, 0.052580286117341606, 0.052580286117341606, 0.10516057223468321, 0.10516057223468321, 0.7006981480175668, 0.09664802041621612, 0.09664802041621612, 0.09664802041621612, 0.9392874138831119, 0.9113938436784268, 0.883466979215248, 0.8605150315795939, 0.8409247987488753, 0.19821890573860498, 0.6937661700851174, 0.1694383092210166, 0.3388766184420332, 0.14825852056838953, 0.0847191546105083, 0.10589894326313538, 0.04235957730525415, 0.10589894326313538, 0.7924813016056345, 0.8686278136242063, 0.2548660734416189, 0.6371651836040472, 0.9509083362578028, 0.5079116780693657, 0.015391262971798958, 0.13852136674619062, 0.09234757783079375, 0.04617378891539688, 0.015391262971798958, 0.07695631485899479, 0.09234757783079375, 0.015391262971798958, 0.40552384217231485, 0.460822547923085, 0.055298705750770207, 0.0737316076676936, 0.7137543577672629, 0.8553668673969099, 0.22377536810774934, 0.5370608834585984, 0.22377536810774934, 0.6681857785280275, 0.2505696669480103, 0.3031806873729749, 0.6063613747459498, 0.8681727195906628, 0.3296603520582061, 0.6593207041164122, 0.8346219021196128, 0.610825788491105, 0.16798139410285923, 0.8399069705142961, 0.8145168582558273, 0.7208474193685661, 0.6852252313145555, 0.2819781778790399, 0.7049454446975997, 0.8828591091175456, 0.7654876351345405, 0.9380034853687622, 0.8450281851460081, 0.28841584143393484, 0.6729702966791813, 0.8267539419377894, 0.13779232365629823, 0.9524495701265406, 0.7669296500883375, 0.8543862990636915, 0.9285226354231406, 0.1944758101761349, 0.46674194442272376, 0.11668548610568094, 0.03889516203522698, 0.07779032407045396, 0.07779032407045396, 0.8342523036490619, 0.7983576219667178, 0.3332397462921342, 0.6664794925842684, 0.8229367930153964, 0.22735514834617945, 0.0974379207197912, 0.32479306906597066, 0.06495861381319414, 0.03247930690659707, 0.06495861381319414, 0.16239653453298533, 0.31377366766659626, 0.17585117638457592, 0.11206202416664152, 0.03792868510255559, 0.041376747384606095, 0.025860467115378812, 0.022412404833328303, 0.012068217987176779, 0.13792249128202033, 0.006896124564101016, 0.003448062282050508, 0.04999690308973237, 0.03792868510255559, 0.006896124564101016, 0.015516280269227287, 0.4168651863039612, 0.17865650841598335, 0.1191043389439889, 0.05955216947199445, 0.17865650841598335, 0.8681727473916913, 0.2564102410027148, 0.6410256025067871, 0.13032611104920744, 0.13032611104920744, 0.6516305552460372, 0.6674448647396515, 0.28604779917413636, 0.5054981472662552, 0.16849938242208506, 0.16849938242208506, 0.11233292161472337, 0.8823641177836216, 0.8342516845186064, 0.8640232318125788, 0.06400172087500583, 0.06400172087500583, 0.8573088647462593, 0.9049661275063557, 0.7097664715117019, 0.20279042043191484, 0.7403069689186934, 0.8827430128223567, 0.9380024097760458, 0.22344826586553787, 0.13965516616596116, 0.027931033233192234, 0.1675861993991534, 0.19551723263234563, 0.11172413293276894, 0.0837930996995767, 0.027931033233192234, 0.1829263375087708, 0.3201210906403489, 0.1829263375087708, 0.0457315843771927, 0.0914631687543854, 0.0914631687543854, 0.0457315843771927, 0.8810602984643998, 0.2585304875084468, 0.646326218771117, 0.1156546857181123, 0.09252374857448983, 0.6939281143086737, 0.06939281143086738, 0.882859268456441, 0.34081862467863483, 0.12780698425448805, 0.17040931233931741, 0.042602328084829354, 0.021301164042414677, 0.06390349212724403, 0.06390349212724403, 0.08520465616965871, 0.042602328084829354, 0.601401833788785, 0.24056073351551396, 0.9186731103742543, 0.9545193433669359, 0.6773458321905763, 0.21755645921550423, 0.14503763947700282, 0.5801505579080113, 0.6145994592910888, 0.053443431242703385, 0.2404954405921652, 0.053443431242703385, 0.2892258373459969, 0.10122904307109891, 0.07230645933649922, 0.11569033493839875, 0.014461291867299844, 0.02892258373459969, 0.11569033493839875, 0.14461291867299844, 0.10122904307109891, 0.24069127852803351, 0.42120973742405865, 0.18051845889602514, 0.18051845889602514, 0.2034794224189883, 0.8139176896759532, 0.23898390515384704, 0.7169517154615411, 0.37504792934695147, 0.16073482686297919, 0.19645367727697458, 0.053578275620993064, 0.053578275620993064, 0.10715655124198613, 0.053578275620993064, 0.3198887154733234, 0.4569838792476049, 0.18279355169904196, 0.2375242320299802, 0.17814317402248514, 0.5344295220674554, 0.18046175828186112, 0.6917700734138009, 0.06015391942728703, 0.030076959713643516, 0.2559698633372174, 0.1990876714845024, 0.028441095926357487, 0.13509520565019806, 0.0497719178711256, 0.0497719178711256, 0.028441095926357487, 0.035551369907946856, 0.014220547963178743, 0.07110273981589371, 0.035551369907946856, 0.028441095926357487, 0.04266164388953623, 0.014220547963178743, 0.8538235794813419, 0.4110957467193601, 0.49331489606323214, 0.4103708066091796, 0.12959078103447777, 0.04319692701149259, 0.17278770804597035, 0.04319692701149259, 0.15118924454022406, 0.04319692701149259, 0.8834694738155663, 0.8168414517882344, 0.8834686628858343, 0.4491416557763442, 0.010207764904007823, 0.05103882452003911, 0.05103882452003911, 0.11228541394408605, 0.061246589424046934, 0.061246589424046934, 0.10207764904007822, 0.07145435432805476, 0.030623294712023467, 0.9173516302994136, 0.8851166485379047, 0.8168414030542339, 0.9312964514170059, 0.18884033338502879, 0.7553613335401151, 0.8634435515637857, 0.8565069522627977, 0.7984556586598129, 0.9113935703862952, 0.07343433510266326, 0.8077776861292958, 0.927590674470731, 0.9586599817552448, 0.949174204283663, 0.8384803104772655, 0.8113838107782795, 0.6585414436975916, 0.7213694406016693, 0.861832507180685, 0.8278257783873341, 0.6541859105008732, 0.2803653902146599, 0.8172992548106577, 0.842187647886868, 0.6961365436419611, 0.8730059961732834, 0.9453180549806995, 0.6045672809614081, 0.30228364048070405, 0.6145284783318036, 0.20421665907465805, 0.6892312243769709, 0.10210832953732903, 0.6697440824521875, 0.08022928011368125, 0.08022928011368125, 0.18720165359858956, 0.1604585602273625, 0.2674309337122708, 0.02674309337122708, 0.1604585602273625, 0.02674309337122708, 0.9489928396983254, 0.19977252161547202, 0.7990900864618881, 0.926745912025155, 0.8681861326607683, 0.9887710089879119, 0.9225087882949735, 0.8481110777194754, 0.3169363936822357, 0.09055325533778162, 0.13582988300667242, 0.22638313834445406, 0.15846819684111785, 0.06791494150333621, 0.491671336168004, 0.122917834042001, 0.122917834042001, 0.08194522269466734, 0.16389044538933467, 0.1800565578634541, 0.7202262314538164, 0.799090937302052, 0.7990909745114347, 0.011307802173038789, 0.022615604346077577, 0.21484824128773697, 0.14700142824950424, 0.011307802173038789, 0.045231208692155155, 0.056539010865193945, 0.07915461521127153, 0.011307802173038789, 0.09046241738431031, 0.011307802173038789, 0.09046241738431031, 0.056539010865193945, 0.033923406519116364, 0.10177021955734909, 0.12989786037421963, 0.25979572074843926, 0.5195914414968785, 0.019741574438756505, 0.10857865941316079, 0.1875449571681868, 0.1875449571681868, 0.06909551053564778, 0.019741574438756505, 0.009870787219378252, 0.02961236165813476, 0.1480618082906738, 0.08883708497440428, 0.10857865941316079, 0.019741574438756505, 0.7765088393446132, 0.15530176786892264, 0.9723345023177177, 0.8945542737488157, 0.66974408343522, 0.21537282465269006, 0.21537282465269006, 0.4307456493053801, 0.08614912986107602, 0.885050868744973, 0.071925559885699, 0.10788833982854851, 0.21577667965709701, 0.287702239542796, 0.0359627799428495, 0.071925559885699, 0.17981389971424752, 0.9271179986719087, 0.12960410938630018, 0.12960410938630018, 0.712822601624651, 0.03326793881146374, 0.36594732692610116, 0.19960763286878244, 0.06653587762292748, 0.29941144930317365, 0.164076412029931, 0.328152824059862, 0.05469213734331033, 0.10938427468662067, 0.05469213734331033, 0.27346068671655166, 0.20589148537627394, 0.06863049512542466, 0.5147287134406848, 0.10294574268813697, 0.06863049512542466, 0.21774446299584727, 0.5806519013222594, 0.14516297533056485, 0.11911326507353, 0.7146795904411799, 0.6552453080738974, 0.7251210450049744, 0.14928962691278885, 0.04265417911793967, 0.021327089558969836, 0.021327089558969836, 0.021327089558969836, 0.04265417911793967], \"Term\": [\"'Get\", \"'Mad\", \"'Medicare\", \"'Shark\", \"'Take\", \"'The\", \"'The\", \"'There\", \"'This\", \"'You\", \"'beginning\", \"'big\", \"'buy\", \"'can\", \"'creates\", \"'for\", \"'good\", \"'good\", \"'have\", \"'huge\", \"'incredible\", \"'like\", \"'might\", \"'most\", \"'new\", \"'next\", \"'not\", \"'real\", \"'retail\", \"'rocky\", \"'show-me\", \"'stay-at-home\", \"'too\", \"'too\", \"'undervalued\", \"'value\", \"'very\", \"1,000\", \"2009\", \"2018\", \"2018\", \"2018\", \"2019\", \"2019\", \"2019\", \"2019\", \"2020\", \"2020\", \"2020\", \"2022\", \"Alibaba\", \"Alphabet\", \"Alphabet\", \"Alto\", \"Amarin\", \"Amazon\", \"Amazon\", \"Amazon\", \"Amazon\", \"Amazon\", \"Amazon\", \"Amazon\", \"Amazon\", \"Amazon\", \"Amazon\", \"America\", \"America\", \"America\", \"American\", \"American\", \"Another\", \"Apeel\", \"Apple\", \"Apple\", \"Apple\", \"Apple\", \"Apple\", \"Apple\", \"Apple\", \"Apple\", \"Apple\", \"Apple\", \"Apple\", \"Armour\", \"Aurora\", \"Axon\", \"Bank\", \"Banks\", \"Bargain\", \"Barrick\", \"Barstool\", \"Bath\", \"Beauty\", \"Benioff\", \"Beyond\", \"Beyond\", \"Beyond\", \"Beyond\", \"Blackstone\", \"Boeing\", \"Boeing\", \"Brands\", \"Brands\", \"Brian\", \"Buffett\", \"Burlington\", \"Business\", \"CEOs\", \"CEOs\", \"Calvin\", \"Campbell\", \"Cannabis\", \"Canopy\", \"Canopy\", \"Capital\", \"Carnival\", \"Caterpillar\", \"Caterpillar\", \"Chart\", \"Charts\", \"Charts\", \"Chevron\", \"China\", \"China\", \"China\", \"China\", \"China\", \"China\", \"China\", \"China\", \"Chinese\", \"Chinese\", \"Chinese\", \"Cigna\", \"Cisco\", \"Cisco\", \"Clorox\", \"Clorox\", \"Clorox\", \"Coca-Cola\", \"Coca-Cola\", \"Coffee\", \"Constellation\", \"Corona\", \"Costco\", \"Costco\", \"Costco\", \"Costco\", \"Cramer\", \"Cramer\", \"Cramer\", \"Cramer\", \"Cramer\", \"Cramer\", \"Cramer\", \"Cramer\", \"Cramer\", \"Cramer\", \"Cramer\", \"Cramer\", \"Cramer\", \"Cramer\", \"Cramer\", \"Cramer\", \"Cramer\", \"Cramer\", \"Cramer\", \"Cramer\", \"Credit\", \"Cronos\", \"Cruise\", \"Culp\", \"Danaher\", \"Daryl\", \"Data\", \"Delta\", \"Delta\", \"Democratic\", \"Depot\", \"Desk\", \"Dexcom\", \"Digital\", \"Disney\", \"Disney\", \"Dividend\", \"Domino\", \"Domino\", \"Dorsey\", \"Dropbox\", \"E'Forget\", \"E'We\", \"ECramer\", \"EJim\", \"ETFs\", \"ETFs\", \"Eand\", \"Ehere\", \"Electric\", \"Elizabeth\", \"Elizabeth\", \"Elliott\", \"Elon\", \"Energy\", \"Enterprise\", \"Estee\", \"Etsy\", \"Everything\", \"Expect\", \"Expect\", \"Exxon\", \"FAANG\", \"FANG\", \"FANG\", \"Facebook\", \"Facebook\", \"Facebook\", \"Fargo\", \"Fargo\", \"Fargo\", \"Fidelity\", \"FireEye\", \"Fitness\", \"Follow\", \"Foods\", \"Ford\", \"Four\", \"Gamble\", \"Gannett\", \"General\", \"General\", \"GlaxoSmithKline\", \"Global\", \"Great\", \"Growth\", \"Growth\", \"GrubHub\", \"GrubHub\", \"Guppy\", \"Healthcare\", \"Here\", \"Here\", \"Here\", \"Hogan\", \"Home\", \"Honeywell\", \"IPOs\", \"IPOs\", \"Impossible\", \"Inogen\", \"Intel\", \"Intel\", \"Investor\", \"Investor\", \"Investors\", \"Investors\", \"Investors\", \"Investors\", \"Investors\", \"Investors\", \"Investors\", \"Iran\", \"Island\", \"JEDI\", \"Jack\", \"Johnson\", \"Keep\", \"Klein-parent\", \"Labs\", \"Larry\", \"Larry\", \"Lauder\", \"Lilly\", \"Line\", \"Lines\", \"LivePerson\", \"Lockheed\", \"Look\", \"Lowe\", \"Lululemon\", \"Lyft\", \"Lyft\", \"Macy\", \"Macy\", \"Management\", \"Management\", \"Marc\", \"Markets\", \"Markets\", \"Markets\", \"Markets\", \"Martin\", \"Marvell\", \"Marvell\", \"Mastercard\", \"Mattel\", \"Mazor\", \"McCormick\", \"Meat\", \"Meat\", \"Meat\", \"Medical\", \"Medicare\", \"Mellanox\", \"Micron\", \"Micron\", \"Micron\", \"Micron\", \"Microsoft\", \"Microsoft\", \"Microsoft\", \"Microsoft\", \"Mills\", \"Mobil\", \"Monday\", \"Monday\", \"Money\", \"More\", \"Morgan\", \"Most\", \"Musk\", \"Nadella\", \"Nancy\", \"Nasdaq\", \"Netflix\", \"Netflix\", \"Netflix\", \"Netflix\", \"Never\", \"Nokia\", \"Nordstrom\", \"Nordstrom\", \"Norwegian\", \"Nucor\", \"OPEC\", \"Okta\", \"Ollie\", \"Outlet\", \"Pacific\", \"Palo\", \"PayPal\", \"PayPal\", \"Payroll\", \"Pelosi\", \"Peloton\", \"Peloton\", \"People\", \"People\", \"Pharma\", \"Pharma\", \"Pharma\", \"Pharmaceuticals\", \"Pinterest\", \"Planet\", \"Procter\", \"Qualcomm\", \"Qualcomm\", \"Qualcomm\", \"Raytheon\", \"RealReal\", \"Recent\", \"Recession\", \"Regeneron\", \"Remember\", \"Remix\", \"Remix\", \"Remix\", \"Remix\", \"Remix\", \"Remix\", \"Remix\", \"Remix\", \"Remix\", \"Remix\", \"Remix\", \"Retailers\", \"Rhode\", \"Robotics\", \"Roku\", \"Roth\", \"Salesforce\", \"Salesforce\", \"Salesforce\", \"Salesforce\", \"Salesforce\", \"Salesforce\", \"Sanofi\", \"Satya\", \"Scripts\", \"Shares\", \"Shopify\", \"Shopify\", \"Skyworks\", \"Slack\", \"Snap\", \"Snap\", \"Snap\", \"Solutions\", \"Sonos\", \"Soup\", \"Sports\", \"Spotify\", \"Spotify\", \"Square\", \"Stanley\", \"Starbucks\", \"Starbucks\", \"Starbucks\", \"Starbucks\", \"Starbucks\", \"Stay\", \"Stay\", \"Stocks\", \"Stocks\", \"Stop\", \"Strategist\", \"Street\", \"Suisse\", \"Systems\", \"Tableau\", \"Tank\", \"Technologies\", \"Technology\", \"Tesla\", \"Tesla\", \"Tesla\", \"Tesla\", \"Texas\", \"There\", \"There\", \"There\", \"These\", \"These\", \"These\", \"This\", \"This\", \"This\", \"This\", \"This\", \"This\", \"This\", \"This\", \"This\", \"Three\", \"Time\", \"Time\", \"Tower\", \"Trade\", \"Trade\", \"Traders\", \"Trump\", \"Trump\", \"Trump\", \"Trump\", \"Trump\", \"Tuesday\", \"Tuesday\", \"Twitter\", \"Twitter\", \"Twitter\", \"Tyson\", \"U-shaped\", \"U.S.\", \"US-China\", \"US-China\", \"US-China\", \"Uber\", \"Uber\", \"Uber\", \"Uber\", \"Uber\", \"Ulta\", \"Under\", \"Union\", \"V-shaped\", \"VMware\", \"Ventas\", \"Verizon\", \"Viacom\", \"Victoria\", \"Wait\", \"Wall\", \"Warren\", \"Warren\", \"Warren\", \"Warren\", \"Washington\", \"Waste\", \"Wednesday\", \"Wells\", \"Wells\", \"Wells\", \"Wendy\", \"Wendy\", \"What\", \"When\", \"With\", \"With\", \"Yeti\", \"Zappos\", \"Zebra\", \"able\", \"about\", \"about\", \"about\", \"about\", \"about\", \"about\", \"about\", \"about\", \"about\", \"about\", \"accord\", \"acquire\", \"acquisition\", \"acquisitions\", \"advantage\", \"advertise\", \"advertise\", \"advise\", \"advise\", \"affect\", \"after\", \"after\", \"after\", \"after\", \"after\", \"after\", \"after\", \"after\", \"after\", \"after\", \"again\", \"again\", \"against\", \"against\", \"against\", \"against\", \"ahead\", \"airline\", \"all-time\", \"always\", \"amid\", \"amid\", \"analyst\", \"analyst\", \"analyst\", \"analyst\", \"another\", \"another\", \"another\", \"another\", \"anything\", \"approach\", \"approval\", \"around\", \"around\", \"aside\", \"attractive\", \"autos\", \"avoid\", \"away\", \"back\", \"back\", \"back\", \"bank\", \"bank\", \"bank\", \"bank\", \"bank\", \"bank\", \"bank\", \"bargain\", \"base\", \"base\", \"bear\", \"bear\", \"bear\", \"bearish\", \"beat\", \"beat\", \"become\", \"become\", \"become\", \"before\", \"before\", \"begin\", \"behind\", \"behind\", \"behind\", \"believe\", \"believe\", \"believer\", \"below\", \"beneficiaries\", \"best\", \"best\", \"best\", \"best\", \"best\", \"best\", \"better\", \"better\", \"better\", \"better\", \"better\", \"better\", \"between\", \"between\", \"biggest\", \"biggest\", \"biggest\", \"biggest\", \"biggest\", \"bill\", \"billion\", \"bite\", \"bless\", \"bond\", \"bond\", \"boon\", \"boost\", \"boost\", \"boost\", \"bottom\", \"bottom\", \"bottom\", \"bottom\", \"bottom\", \"bottom\", \"bounce\", \"bounce\", \"break\", \"break\", \"breakfast\", \"bridge\", \"build\", \"bull\", \"bull\", \"bull\", \"bull\", \"bull\", \"bullish\", \"bullish\", \"bullish\", \"business\", \"business\", \"business\", \"business\", \"businesses\", \"businesses\", \"buyback\", \"buyer\", \"call\", \"call\", \"call\", \"call\", \"call\", \"call\", \"call\", \"cancer\", \"cannabis\", \"cannabis\", \"cannabis\", \"cannabis\", \"cannabis\", \"cannabis\", \"case\", \"caution\", \"celebrate\", \"center\", \"chain\", \"chance\", \"chance\", \"changer\", \"chart\", \"chart\", \"chart\", \"chase\", \"cheap\", \"chipmakers\", \"chipmakers\", \"clients\", \"climate\", \"climate\", \"climb\", \"cloud\", \"cloud\", \"cloud\", \"club\", \"co-CEO\", \"coffee\", \"come\", \"come\", \"come\", \"come\", \"come\", \"company\", \"company\", \"company\", \"company\", \"company\", \"company\", \"company\", \"company\", \"company\", \"company\", \"company\", \"company\", \"compel\", \"compete\", \"complete\", \"concern\", \"concern\", \"confidence\", \"confident\", \"confuse\", \"consider\", \"consider\", \"consumer\", \"consumer\", \"consumer\", \"consumer\", \"contact\", \"continue\", \"continue\", \"continue\", \"contract\", \"coronavirus\", \"coronavirus\", \"coronavirus\", \"coronavirus\", \"coronavirus\", \"coronavirus\", \"coronavirus\", \"coronavirus\", \"coronavirus\", \"coronavirus\", \"coronavirus\", \"corporate\", \"costly\", \"could\", \"could\", \"could\", \"could\", \"could\", \"could\", \"could\", \"could\", \"could\", \"could\", \"could\", \"could\", \"could\", \"could\", \"countries\", \"crash\", \"create\", \"create\", \"crisis\", \"crisis\", \"cruise\", \"crush\", \"cure\", \"current\", \"current\", \"cybersecurity\", \"cyclical\", \"dangerous\", \"dead\", \"deal\", \"deal\", \"deal\", \"deal\", \"deal\", \"deal\", \"deal\", \"decide\", \"decipher\", \"delay\", \"deliver\", \"deliver\", \"delivery\", \"delivery\", \"demand\", \"depression\", \"deserve\", \"despite\", \"despite\", \"despite\", \"despite\", \"despite\", \"despite\", \"difference\", \"different\", \"difficult\", \"digits\", \"ding\", \"discount\", \"dividend\", \"dividend\", \"dividends\", \"double\", \"double\", \"double-digit\", \"down\", \"down\", \"down\", \"down\", \"down\", \"down\", \"down\", \"downgrade\", \"drive\", \"drive\", \"drive\", \"drive\", \"drop\", \"drop\", \"drug\", \"drug\", \"drug\", \"drug\", \"drug\", \"during\", \"during\", \"during\", \"during\", \"during\", \"early\", \"earn\", \"earn\", \"earn\", \"earn\", \"earn\", \"earn\", \"earn\", \"earn\", \"economic\", \"economic\", \"economic\", \"economic\", \"economic\", \"economy\", \"economy\", \"economy\", \"economy\", \"economy\", \"economy\", \"economy\", \"economy\", \"election\", \"energy\", \"enough\", \"enough\", \"enough\", \"enterprise\", \"entire\", \"esports\", \"even\", \"even\", \"even\", \"even\", \"even\", \"ever\", \"ever\", \"exit\", \"expect\", \"expect\", \"expect\", \"expectations\", \"expert\", \"explain\", \"explain\", \"explain\", \"explain\", \"explain\", \"explode\", \"face\", \"faith\", \"fake\", \"fall\", \"fall\", \"fashion\", \"favorite\", \"favorite\", \"fight\", \"fight\", \"fight\", \"finally\", \"finally\", \"find\", \"find\", \"fine\", \"firm\", \"first\", \"first\", \"flood\", \"focus\", \"focus\", \"follow\", \"food\", \"food\", \"food\", \"forecast\", \"fossil\", \"founder\", \"four\", \"from\", \"from\", \"from\", \"from\", \"from\", \"from\", \"from\", \"from\", \"fuel\", \"fund\", \"fund\", \"further\", \"future\", \"future\", \"future\", \"future\", \"gain\", \"gain\", \"game\", \"game\", \"game\", \"gift\", \"give\", \"give\", \"give\", \"good\", \"good\", \"good\", \"good\", \"good\", \"goods\", \"governor\", \"grocery\", \"group\", \"group\", \"grow\", \"grow\", \"grow\", \"growth\", \"growth\", \"growth\", \"growth\", \"growth\", \"guidance\", \"hammer\", \"happen\", \"happen\", \"happen\", \"hard\", \"have\", \"have\", \"have\", \"have\", \"have\", \"have\", \"have\", \"have\", \"have\", \"have\", \"have\", \"have\", \"have\", \"have\", \"have\", \"headwinds\", \"hear\", \"hedge\", \"help\", \"help\", \"help\", \"help\", \"here\", \"here\", \"high\", \"high\", \"high\", \"high-growth\", \"higher\", \"higher\", \"higher\", \"higher\", \"higher\", \"higher\", \"highs\", \"highs\", \"highs\", \"highs\", \"hike\", \"hike\", \"hire\", \"hold\", \"hold\", \"holiday\", \"hope\", \"house\", \"house\", \"huge\", \"hurdle\", \"impact\", \"impact\", \"impact\", \"impeachment\", \"impeachment\", \"important\", \"improve\", \"include\", \"income\", \"increase\", \"index\", \"indicate\", \"industry\", \"innovation\", \"instead\", \"intensify\", \"interest\", \"interest\", \"into\", \"into\", \"into\", \"into\", \"into\", \"introduce\", \"invest\", \"invest\", \"invest\", \"invest\", \"invest\", \"investment\", \"investment\", \"investor\", \"investor\", \"investor\", \"investors\", \"investors\", \"investors\", \"investors\", \"investors\", \"investors\", \"investors\", \"investors\", \"investors\", \"issue\", \"issuer\", \"just\", \"just\", \"just\", \"just\", \"just\", \"keep\", \"keep\", \"know\", \"know\", \"know\", \"know\", \"know\", \"land\", \"last\", \"later\", \"latest\", \"latest\", \"launch\", \"launch\", \"lead\", \"leadership\", \"least\", \"leave\", \"less\", \"level\", \"level\", \"level\", \"level\", \"level\", \"light\", \"light\", \"lightning\", \"like\", \"like\", \"like\", \"like\", \"like\", \"like\", \"like\", \"like\", \"like\", \"loan\", \"long\", \"long\", \"long\", \"long-term\", \"long-term\", \"long-term\", \"look\", \"look\", \"look\", \"look\", \"look\", \"look\", \"look\", \"look\", \"loom\", \"loom\", \"lose\", \"lose\", \"losers\", \"losers\", \"loyalty\", \"make\", \"make\", \"make\", \"make\", \"make\", \"make\", \"make\", \"make\", \"make\", \"maker\", \"maker\", \"maker\", \"malls\", \"manage\", \"manager\", \"manufacture\", \"market\", \"market\", \"market\", \"market\", \"market\", \"market\", \"market\", \"market\", \"market\", \"market\", \"market\", \"market\", \"market\", \"market\", \"market\", \"market\", \"market\", \"market\", \"mean\", \"mean\", \"mean\", \"meat\", \"medical\", \"medicine\", \"meet\", \"mergers\", \"mergers\", \"millennials\", \"million\", \"million\", \"million\", \"miss\", \"miss\", \"miss\", \"mistake\", \"mistake\", \"mitigate\", \"moment\", \"momentum\", \"money\", \"money\", \"money\", \"money\", \"months\", \"more\", \"more\", \"more\", \"more\", \"more\", \"more\", \"more\", \"most\", \"most\", \"most\", \"move\", \"move\", \"move\", \"move\", \"move\", \"move\", \"move\", \"much\", \"much\", \"much\", \"must\", \"must\", \"must\", \"natural\", \"near\", \"near-term\", \"nearly\", \"need\", \"need\", \"need\", \"need\", \"need\", \"need\", \"negative\", \"never\", \"never\", \"never\", \"never\", \"news\", \"news\", \"news\", \"news\", \"news\", \"next\", \"next\", \"next\", \"next\", \"nice\", \"normal\", \"normal\", \"nothing\", \"nothing\", \"obstacles\", \"odds\", \"offer\", \"once\", \"online\", \"open\", \"open\", \"opportunities\", \"opportunities\", \"opportunities\", \"opportunities\", \"opportunity\", \"opportunity\", \"opportunity\", \"opportunity\", \"optimism\", \"other\", \"ourselves\", \"outbreak\", \"outbreak\", \"outbreak\", \"outbreak\", \"outlook\", \"outperform\", \"over\", \"over\", \"over\", \"over\", \"over\", \"over\", \"over\", \"overbought\", \"overlook\", \"owner\", \"pack\", \"pandemic\", \"pandemic\", \"patient\", \"penalty\", \"people\", \"people\", \"perfect\", \"performers\", \"personalization\", \"pick\", \"pick\", \"pinpoint\", \"plan\", \"plan\", \"plan\", \"plan\", \"plan\", \"play\", \"play\", \"play\", \"play\", \"play\", \"play\", \"play\", \"playbook\", \"playbook\", \"playbook\", \"plunge\", \"point\", \"point\", \"point\", \"point\", \"policy\", \"political\", \"portfolio\", \"portfolio\", \"possible\", \"potential\", \"potential\", \"potential\", \"power\", \"predict\", \"predict\", \"predict\", \"predict\", \"prefer\", \"price\", \"price\", \"problem\", \"problem\", \"produce\", \"product\", \"production\", \"profit\", \"profit\", \"profitability\", \"program\", \"progress\", \"progress\", \"promise\", \"prove\", \"pull\", \"pullback\", \"pullback\", \"pullback\", \"pullback\", \"push\", \"quarter\", \"quarter\", \"quarter\", \"quarter\", \"quarter\", \"quarter\", \"quarter\", \"quarter\", \"quarterly\", \"race\", \"rally\", \"rally\", \"rally\", \"rally\", \"rally\", \"rally\", \"rally\", \"rally\", \"rally\", \"rally\", \"rate\", \"rate\", \"rate\", \"reach\", \"reach\", \"react\", \"ready\", \"ready\", \"ready\", \"ready\", \"real\", \"real\", \"real\", \"real\", \"reality\", \"reason\", \"reason\", \"reason\", \"reason\", \"reason\", \"reason\", \"rebound\", \"recent\", \"recession\", \"recession\", \"recession\", \"recession\", \"recession\", \"recession\", \"recession\", \"recession\", \"recommend\", \"record\", \"record\", \"recover\", \"recovery\", \"reflective\", \"register\", \"remain\", \"reminiscent\", \"renege\", \"reopen\", \"report\", \"report\", \"response\", \"restaurants\", \"return\", \"revamp\", \"reveal\", \"reveal\", \"reveal\", \"reveal\", \"reveal\", \"ride\", \"right\", \"right\", \"right\", \"right\", \"right\", \"risk\", \"roar\", \"roll\", \"rollout\", \"rollout\", \"room\", \"room\", \"rotate\", \"rotation\", \"rotation\", \"rough\", \"rough\", \"round\", \"rout\", \"rule\", \"rule\", \"rule\", \"rumor\", \"rush\", \"sales\", \"sales\", \"sales\", \"scenario\", \"season\", \"season\", \"season\", \"season\", \"season\", \"second\", \"second-quarter\", \"sectors\", \"sectors\", \"sectors\", \"secular\", \"seek\", \"self-driving\", \"sell\", \"sell\", \"sell\", \"sell\", \"sell\", \"sell\", \"sell-off\", \"sell-off\", \"sell-off\", \"sell-off\", \"sell-offs\", \"sellers\", \"seltzer\", \"session\", \"shake\", \"shape\", \"shape\", \"share\", \"share\", \"share\", \"share\", \"share\", \"share\", \"share\", \"shareholders\", \"ship\", \"shop\", \"shop\", \"short\", \"should\", \"should\", \"should\", \"should\", \"should\", \"should\", \"should\", \"should\", \"should\", \"show\", \"show\", \"show\", \"show\", \"shutdown\", \"side\", \"sign\", \"sign\", \"sign\", \"since\", \"since\", \"situation\", \"situation\", \"skeptical\", \"slow\", \"slow\", \"slowly\", \"small\", \"social\", \"social\", \"software\", \"solar\", \"solution\", \"some\", \"some\", \"something\", \"spark\", \"spec\", \"speculation\", \"spend\", \"spend\", \"spike\", \"spike\", \"sport\", \"spread\", \"spring\", \"stake\", \"start\", \"start\", \"start\", \"start\", \"start\", \"start\", \"state\", \"stave\", \"stay\", \"stay\", \"step\", \"still\", \"still\", \"still\", \"still\", \"still\", \"still\", \"still\", \"stock\", \"stock\", \"stock\", \"stock\", \"stock\", \"stock\", \"stock\", \"stock\", \"stock\", \"stock\", \"stock\", \"stock\", \"stock\", \"stock\", \"stock\", \"store\", \"store\", \"store\", \"store\", \"store\", \"stories\", \"story\", \"story\", \"strategist\", \"strategist\", \"strategist\", \"strategy\", \"strategy\", \"strong\", \"strong\", \"strong\", \"strong\", \"success\", \"such\", \"suggest\", \"suggest\", \"suggest\", \"supplier\", \"support\", \"surge\", \"surge\", \"survivors\", \"sustainability\", \"table\", \"take\", \"take\", \"take\", \"take\", \"take\", \"take\", \"take\", \"take\", \"talk\", \"talk\", \"talk\", \"talk\", \"talk\", \"talk\", \"talk\", \"tank\", \"target\", \"target\", \"tariff\", \"tariff\", \"tariff\", \"tariff\", \"team\", \"tech\", \"tech\", \"tech\", \"tech\", \"tech\", \"tech\", \"tech\", \"tech\", \"tech\", \"technical\", \"technical\", \"technology\", \"term\", \"terrible\", \"test\", \"test\", \"test\", \"than\", \"than\", \"than\", \"than\", \"that\", \"that\", \"that\", \"that\", \"that\", \"that\", \"that\", \"that\", \"that\", \"their\", \"their\", \"their\", \"their\", \"them\", \"them\", \"then\", \"then\", \"these\", \"these\", \"these\", \"these\", \"these\", \"these\", \"these\", \"they\", \"they\", \"they\", \"things\", \"things\", \"things\", \"think\", \"think\", \"think\", \"think\", \"this\", \"this\", \"this\", \"this\", \"this\", \"this\", \"this\", \"this\", \"this\", \"this\", \"this\", \"this\", \"this\", \"this\", \"three\", \"through\", \"through\", \"time\", \"time\", \"time\", \"time\", \"time\", \"time\", \"time\", \"tool\", \"touch\", \"trace\", \"trade\", \"trade\", \"trade\", \"trade\", \"trade\", \"trade\", \"trade\", \"trade\", \"trade\", \"trade\", \"trader\", \"traders\", \"treat\", \"trend\", \"trillion\", \"trillion\", \"trim\", \"trouble\", \"tumble\", \"turmoil\", \"turn\", \"turn\", \"ugly\", \"uncertainty\", \"until\", \"unusual\", \"unveil\", \"urge\", \"users\", \"valuation\", \"valuations\", \"very\", \"very\", \"victory\", \"vision\", \"voice\", \"volatile\", \"volatility\", \"wait\", \"wait\", \"wake\", \"want\", \"want\", \"want\", \"warm\", \"warn\", \"warn\", \"warn\", \"warn\", \"warn\", \"warn\", \"warn\", \"warn\", \"watch\", \"ways\", \"ways\", \"weakness\", \"weed\", \"week\", \"weeks\", \"well\", \"what\", \"what\", \"what\", \"what\", \"what\", \"what\", \"when\", \"when\", \"when\", \"when\", \"when\", \"where\", \"where\", \"whole\", \"wild\", \"will\", \"will\", \"will\", \"will\", \"will\", \"will\", \"will\", \"will\", \"will\", \"will\", \"will\", \"will\", \"will\", \"will\", \"will\", \"winner\", \"winner\", \"winner\", \"with\", \"with\", \"with\", \"with\", \"with\", \"with\", \"with\", \"with\", \"with\", \"with\", \"with\", \"with\", \"within\", \"within\", \"without\", \"woes\", \"women\", \"work\", \"work\", \"work\", \"work\", \"world\", \"worry\", \"worry\", \"worry\", \"worry\", \"worry\", \"worry\", \"worry\", \"worst\", \"worth\", \"worth\", \"worth\", \"would\", \"would\", \"would\", \"would\", \"would\", \"wrong\", \"wrong\", \"wrong\", \"wrong\", \"wrong\", \"wrong\", \"year\", \"year\", \"year\", \"year\", \"year\", \"years\", \"years\", \"years\", \"yield\", \"yield\", \"younger\", \"your\", \"your\", \"your\", \"your\", \"your\", \"your\", \"your\"]}, \"R\": 30, \"lambda.step\": 0.01, \"plot.opts\": {\"xlab\": \"PC1\", \"ylab\": \"PC2\"}, \"topic.order\": [1, 10, 6, 15, 19, 5, 8, 18, 16, 17, 12, 13, 4, 14, 11, 7, 3, 9, 2, 20]};\n",
              "\n",
              "function LDAvis_load_lib(url, callback){\n",
              "  var s = document.createElement('script');\n",
              "  s.src = url;\n",
              "  s.async = true;\n",
              "  s.onreadystatechange = s.onload = callback;\n",
              "  s.onerror = function(){console.warn(\"failed to load library \" + url);};\n",
              "  document.getElementsByTagName(\"head\")[0].appendChild(s);\n",
              "}\n",
              "\n",
              "if(typeof(LDAvis) !== \"undefined\"){\n",
              "   // already loaded: just create the visualization\n",
              "   !function(LDAvis){\n",
              "       new LDAvis(\"#\" + \"ldavis_el73140635685809616898087823\", ldavis_el73140635685809616898087823_data);\n",
              "   }(LDAvis);\n",
              "}else if(typeof define === \"function\" && define.amd){\n",
              "   // require.js is available: use it to load d3/LDAvis\n",
              "   require.config({paths: {d3: \"https://d3js.org/d3.v5\"}});\n",
              "   require([\"d3\"], function(d3){\n",
              "      window.d3 = d3;\n",
              "      LDAvis_load_lib(\"https://cdn.jsdelivr.net/gh/bmabey/pyLDAvis@3.3.1/pyLDAvis/js/ldavis.v3.0.0.js\", function(){\n",
              "        new LDAvis(\"#\" + \"ldavis_el73140635685809616898087823\", ldavis_el73140635685809616898087823_data);\n",
              "      });\n",
              "    });\n",
              "}else{\n",
              "    // require.js not available: dynamically load d3 & LDAvis\n",
              "    LDAvis_load_lib(\"https://d3js.org/d3.v5.js\", function(){\n",
              "         LDAvis_load_lib(\"https://cdn.jsdelivr.net/gh/bmabey/pyLDAvis@3.3.1/pyLDAvis/js/ldavis.v3.0.0.js\", function(){\n",
              "                 new LDAvis(\"#\" + \"ldavis_el73140635685809616898087823\", ldavis_el73140635685809616898087823_data);\n",
              "            })\n",
              "         });\n",
              "}\n",
              "</script>"
            ]
          },
          "metadata": {},
          "execution_count": 34
        }
      ]
    },
    {
      "cell_type": "markdown",
      "source": [
        "문서 별 토픽 분포 보기"
      ],
      "metadata": {
        "id": "rBGq1cXUdEou"
      }
    },
    {
      "cell_type": "code",
      "source": [
        "for i, topic_list in enumerate(ldamodel[corpus]):\n",
        "    if i==5:\n",
        "        break\n",
        "    print(i,'번째 문서의 topic 비율은',topic_list)"
      ],
      "metadata": {
        "colab": {
          "base_uri": "https://localhost:8080/"
        },
        "id": "K7CGWwOudBZV",
        "outputId": "50c78558-6882-4466-801d-7cbe85a7e9e7"
      },
      "execution_count": null,
      "outputs": [
        {
          "output_type": "stream",
          "name": "stdout",
          "text": [
            "0 번째 문서의 topic 비율은 [(4, 0.89444447)]\n",
            "1 번째 문서의 topic 비율은 [(4, 0.90500003)]\n",
            "2 번째 문서의 topic 비율은 [(5, 0.86428577)]\n",
            "3 번째 문서의 topic 비율은 [(0, 0.010000001), (1, 0.010000001), (2, 0.010000001), (3, 0.010000001), (4, 0.010000001), (5, 0.010000001), (6, 0.010000001), (7, 0.010000001), (8, 0.010000001), (9, 0.010000001), (10, 0.21000001), (11, 0.61), (12, 0.010000001), (13, 0.010000001), (14, 0.010000001), (15, 0.010000001), (16, 0.010000001), (17, 0.010000001), (18, 0.010000001), (19, 0.010000001)]\n",
            "4 번째 문서의 topic 비율은 [(12, 0.1690191), (13, 0.4063827), (14, 0.31834817)]\n"
          ]
        }
      ]
    },
    {
      "cell_type": "code",
      "source": [
        "def make_topictable_per_doc(ldamodel, corpus):\n",
        "    topic_table = pd.DataFrame()\n",
        "\n",
        "    # 몇 번째 문서인지를 의미하는 문서 번호와 해당 문서의 토픽 비중을 한 줄씩 꺼내온다.\n",
        "    for i, topic_list in enumerate(ldamodel[corpus]):\n",
        "        doc = topic_list[0] if ldamodel.per_word_topics else topic_list            \n",
        "        doc = sorted(doc, key=lambda x: (x[1]), reverse=True)\n",
        "        # 각 문서에 대해서 비중이 높은 토픽순으로 토픽을 정렬한다.\n",
        "        # EX) 정렬 전 0번 문서 : (2번 토픽, 48.5%), (8번 토픽, 25%), (10번 토픽, 5%), (12번 토픽, 21.5%), \n",
        "        # Ex) 정렬 후 0번 문서 : (2번 토픽, 48.5%), (8번 토픽, 25%), (12번 토픽, 21.5%), (10번 토픽, 5%)\n",
        "        # 48 > 25 > 21 > 5 순으로 정렬이 된 것.\n",
        "\n",
        "        # 모든 문서에 대해서 각각 아래를 수행\n",
        "        for j, (topic_num, prop_topic) in enumerate(doc): #  몇 번 토픽인지와 비중을 나눠서 저장한다.\n",
        "            if j == 0:  # 정렬을 한 상태이므로 가장 앞에 있는 것이 가장 비중이 높은 토픽\n",
        "                topic_table = topic_table.append(pd.Series([int(topic_num), round(prop_topic,4), topic_list]), ignore_index=True)\n",
        "                # 가장 비중이 높은 토픽과, 가장 비중이 높은 토픽의 비중과, 전체 토픽의 비중을 저장한다.\n",
        "            else:\n",
        "                break\n",
        "    return(topic_table)"
      ],
      "metadata": {
        "id": "QalqlRxAdEPk"
      },
      "execution_count": null,
      "outputs": []
    },
    {
      "cell_type": "code",
      "source": [
        "topictable = make_topictable_per_doc(ldamodel, corpus)\n",
        "topictable = topictable.reset_index() # 문서 번호을 의미하는 열(column)로 사용하기 위해서 인덱스 열을 하나 더 만든다.\n",
        "topictable.columns = ['문서 번호', '가장 비중이 높은 토픽', '가장 높은 토픽의 비중', '각 토픽의 비중']\n",
        "topictable[:10]"
      ],
      "metadata": {
        "colab": {
          "base_uri": "https://localhost:8080/",
          "height": 363
        },
        "id": "gQvsc6NfdKZM",
        "outputId": "a234087c-6ece-4bec-d290-65e5d551e21d"
      },
      "execution_count": null,
      "outputs": [
        {
          "output_type": "execute_result",
          "data": {
            "text/plain": [
              "   문서 번호  가장 비중이 높은 토픽  가장 높은 토픽의 비중  \\\n",
              "0      0           4.0        0.8944   \n",
              "1      1           4.0        0.9050   \n",
              "2      2           5.0        0.8643   \n",
              "3      3          11.0        0.6100   \n",
              "4      4          13.0        0.4064   \n",
              "5      5          10.0        0.3864   \n",
              "6      6           0.0        0.5602   \n",
              "7      7           9.0        0.4779   \n",
              "8      8           4.0        0.8417   \n",
              "9      9           3.0        0.3390   \n",
              "\n",
              "                                            각 토픽의 비중  \n",
              "0                                  [(4, 0.89444447)]  \n",
              "1                                  [(4, 0.90500003)]  \n",
              "2                                  [(5, 0.86428577)]  \n",
              "3                           [(10, 0.21), (11, 0.61)]  \n",
              "4  [(12, 0.16888294), (13, 0.40639022), (14, 0.31...  \n",
              "5  [(0, 0.19410077), (4, 0.31327757), (10, 0.3863...  \n",
              "6  [(0, 0.56023335), (10, 0.13849847), (13, 0.195...  \n",
              "7                 [(9, 0.47792253), (10, 0.4320775)]  \n",
              "8                                   [(4, 0.8416667)]  \n",
              "9  [(3, 0.33899438), (5, 0.2608911), (11, 0.30567...  "
            ],
            "text/html": [
              "\n",
              "  <div id=\"df-67cef93e-9939-47b9-8b5a-10c8ede467dc\">\n",
              "    <div class=\"colab-df-container\">\n",
              "      <div>\n",
              "<style scoped>\n",
              "    .dataframe tbody tr th:only-of-type {\n",
              "        vertical-align: middle;\n",
              "    }\n",
              "\n",
              "    .dataframe tbody tr th {\n",
              "        vertical-align: top;\n",
              "    }\n",
              "\n",
              "    .dataframe thead th {\n",
              "        text-align: right;\n",
              "    }\n",
              "</style>\n",
              "<table border=\"1\" class=\"dataframe\">\n",
              "  <thead>\n",
              "    <tr style=\"text-align: right;\">\n",
              "      <th></th>\n",
              "      <th>문서 번호</th>\n",
              "      <th>가장 비중이 높은 토픽</th>\n",
              "      <th>가장 높은 토픽의 비중</th>\n",
              "      <th>각 토픽의 비중</th>\n",
              "    </tr>\n",
              "  </thead>\n",
              "  <tbody>\n",
              "    <tr>\n",
              "      <th>0</th>\n",
              "      <td>0</td>\n",
              "      <td>4.0</td>\n",
              "      <td>0.8944</td>\n",
              "      <td>[(4, 0.89444447)]</td>\n",
              "    </tr>\n",
              "    <tr>\n",
              "      <th>1</th>\n",
              "      <td>1</td>\n",
              "      <td>4.0</td>\n",
              "      <td>0.9050</td>\n",
              "      <td>[(4, 0.90500003)]</td>\n",
              "    </tr>\n",
              "    <tr>\n",
              "      <th>2</th>\n",
              "      <td>2</td>\n",
              "      <td>5.0</td>\n",
              "      <td>0.8643</td>\n",
              "      <td>[(5, 0.86428577)]</td>\n",
              "    </tr>\n",
              "    <tr>\n",
              "      <th>3</th>\n",
              "      <td>3</td>\n",
              "      <td>11.0</td>\n",
              "      <td>0.6100</td>\n",
              "      <td>[(10, 0.21), (11, 0.61)]</td>\n",
              "    </tr>\n",
              "    <tr>\n",
              "      <th>4</th>\n",
              "      <td>4</td>\n",
              "      <td>13.0</td>\n",
              "      <td>0.4064</td>\n",
              "      <td>[(12, 0.16888294), (13, 0.40639022), (14, 0.31...</td>\n",
              "    </tr>\n",
              "    <tr>\n",
              "      <th>5</th>\n",
              "      <td>5</td>\n",
              "      <td>10.0</td>\n",
              "      <td>0.3864</td>\n",
              "      <td>[(0, 0.19410077), (4, 0.31327757), (10, 0.3863...</td>\n",
              "    </tr>\n",
              "    <tr>\n",
              "      <th>6</th>\n",
              "      <td>6</td>\n",
              "      <td>0.0</td>\n",
              "      <td>0.5602</td>\n",
              "      <td>[(0, 0.56023335), (10, 0.13849847), (13, 0.195...</td>\n",
              "    </tr>\n",
              "    <tr>\n",
              "      <th>7</th>\n",
              "      <td>7</td>\n",
              "      <td>9.0</td>\n",
              "      <td>0.4779</td>\n",
              "      <td>[(9, 0.47792253), (10, 0.4320775)]</td>\n",
              "    </tr>\n",
              "    <tr>\n",
              "      <th>8</th>\n",
              "      <td>8</td>\n",
              "      <td>4.0</td>\n",
              "      <td>0.8417</td>\n",
              "      <td>[(4, 0.8416667)]</td>\n",
              "    </tr>\n",
              "    <tr>\n",
              "      <th>9</th>\n",
              "      <td>9</td>\n",
              "      <td>3.0</td>\n",
              "      <td>0.3390</td>\n",
              "      <td>[(3, 0.33899438), (5, 0.2608911), (11, 0.30567...</td>\n",
              "    </tr>\n",
              "  </tbody>\n",
              "</table>\n",
              "</div>\n",
              "      <button class=\"colab-df-convert\" onclick=\"convertToInteractive('df-67cef93e-9939-47b9-8b5a-10c8ede467dc')\"\n",
              "              title=\"Convert this dataframe to an interactive table.\"\n",
              "              style=\"display:none;\">\n",
              "        \n",
              "  <svg xmlns=\"http://www.w3.org/2000/svg\" height=\"24px\"viewBox=\"0 0 24 24\"\n",
              "       width=\"24px\">\n",
              "    <path d=\"M0 0h24v24H0V0z\" fill=\"none\"/>\n",
              "    <path d=\"M18.56 5.44l.94 2.06.94-2.06 2.06-.94-2.06-.94-.94-2.06-.94 2.06-2.06.94zm-11 1L8.5 8.5l.94-2.06 2.06-.94-2.06-.94L8.5 2.5l-.94 2.06-2.06.94zm10 10l.94 2.06.94-2.06 2.06-.94-2.06-.94-.94-2.06-.94 2.06-2.06.94z\"/><path d=\"M17.41 7.96l-1.37-1.37c-.4-.4-.92-.59-1.43-.59-.52 0-1.04.2-1.43.59L10.3 9.45l-7.72 7.72c-.78.78-.78 2.05 0 2.83L4 21.41c.39.39.9.59 1.41.59.51 0 1.02-.2 1.41-.59l7.78-7.78 2.81-2.81c.8-.78.8-2.07 0-2.86zM5.41 20L4 18.59l7.72-7.72 1.47 1.35L5.41 20z\"/>\n",
              "  </svg>\n",
              "      </button>\n",
              "      \n",
              "  <style>\n",
              "    .colab-df-container {\n",
              "      display:flex;\n",
              "      flex-wrap:wrap;\n",
              "      gap: 12px;\n",
              "    }\n",
              "\n",
              "    .colab-df-convert {\n",
              "      background-color: #E8F0FE;\n",
              "      border: none;\n",
              "      border-radius: 50%;\n",
              "      cursor: pointer;\n",
              "      display: none;\n",
              "      fill: #1967D2;\n",
              "      height: 32px;\n",
              "      padding: 0 0 0 0;\n",
              "      width: 32px;\n",
              "    }\n",
              "\n",
              "    .colab-df-convert:hover {\n",
              "      background-color: #E2EBFA;\n",
              "      box-shadow: 0px 1px 2px rgba(60, 64, 67, 0.3), 0px 1px 3px 1px rgba(60, 64, 67, 0.15);\n",
              "      fill: #174EA6;\n",
              "    }\n",
              "\n",
              "    [theme=dark] .colab-df-convert {\n",
              "      background-color: #3B4455;\n",
              "      fill: #D2E3FC;\n",
              "    }\n",
              "\n",
              "    [theme=dark] .colab-df-convert:hover {\n",
              "      background-color: #434B5C;\n",
              "      box-shadow: 0px 1px 3px 1px rgba(0, 0, 0, 0.15);\n",
              "      filter: drop-shadow(0px 1px 2px rgba(0, 0, 0, 0.3));\n",
              "      fill: #FFFFFF;\n",
              "    }\n",
              "  </style>\n",
              "\n",
              "      <script>\n",
              "        const buttonEl =\n",
              "          document.querySelector('#df-67cef93e-9939-47b9-8b5a-10c8ede467dc button.colab-df-convert');\n",
              "        buttonEl.style.display =\n",
              "          google.colab.kernel.accessAllowed ? 'block' : 'none';\n",
              "\n",
              "        async function convertToInteractive(key) {\n",
              "          const element = document.querySelector('#df-67cef93e-9939-47b9-8b5a-10c8ede467dc');\n",
              "          const dataTable =\n",
              "            await google.colab.kernel.invokeFunction('convertToInteractive',\n",
              "                                                     [key], {});\n",
              "          if (!dataTable) return;\n",
              "\n",
              "          const docLinkHtml = 'Like what you see? Visit the ' +\n",
              "            '<a target=\"_blank\" href=https://colab.research.google.com/notebooks/data_table.ipynb>data table notebook</a>'\n",
              "            + ' to learn more about interactive tables.';\n",
              "          element.innerHTML = '';\n",
              "          dataTable['output_type'] = 'display_data';\n",
              "          await google.colab.output.renderOutput(dataTable, element);\n",
              "          const docLink = document.createElement('div');\n",
              "          docLink.innerHTML = docLinkHtml;\n",
              "          element.appendChild(docLink);\n",
              "        }\n",
              "      </script>\n",
              "    </div>\n",
              "  </div>\n",
              "  "
            ]
          },
          "metadata": {},
          "execution_count": 37
        }
      ]
    },
    {
      "cell_type": "code",
      "source": [],
      "metadata": {
        "id": "O_cLd8rUdLgs"
      },
      "execution_count": null,
      "outputs": []
    }
  ]
}