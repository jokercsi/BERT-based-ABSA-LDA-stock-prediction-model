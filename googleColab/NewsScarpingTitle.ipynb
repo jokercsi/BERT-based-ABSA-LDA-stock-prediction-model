{
  "cells": [
    {
      "cell_type": "markdown",
      "metadata": {
        "colab_type": "text",
        "id": "view-in-github"
      },
      "source": [
        "<a href=\"https://colab.research.google.com/github/jokercsi/Investment-Portfolio-Optimization/blob/main/NewsScarpingTitle.ipynb\" target=\"_parent\"><img src=\"https://colab.research.google.com/assets/colab-badge.svg\" alt=\"Open In Colab\"/></a>"
      ]
    },
    {
      "cell_type": "code",
      "execution_count": 5,
      "metadata": {
        "id": "8E9T1GLvwdiJ"
      },
      "outputs": [],
      "source": [
        "# 필요한 라이브러리 가져오기\n",
        "from bs4 import BeautifulSoup\n",
        "import requests\n",
        "import re"
      ]
    },
    {
      "cell_type": "code",
      "execution_count": 6,
      "metadata": {
        "colab": {
          "base_uri": "https://localhost:8080/"
        },
        "id": "FoXipRMQwevA",
        "outputId": "6c1b5c24-5856-4633-93ae-3c7da9ffb9de"
      },
      "outputs": [
        {
          "name": "stdout",
          "output_type": "stream",
          "text": [
            "<Response [200]>\n"
          ]
        }
      ],
      "source": [
        "# 대상 사이트 : investing.com\n",
        "url = \"https://www.investing.com/news/stock-market-news\"\n",
        "\n",
        "# 프로토콜 status 확인\n",
        "# 200이면 정상\n",
        "resp = requests.get(url)\n",
        "print(resp)"
      ]
    },
    {
      "cell_type": "code",
      "execution_count": 7,
      "metadata": {
        "id": "tQIkY2eHeuq3"
      },
      "outputs": [],
      "source": [
        "import pandas as pd\n",
        "\n",
        "# csv 만들리 위해 DataFrame 사용하기\n",
        "sample = [('sampleTitle','sampleDate','samplePublisher')]\n",
        "df = pd.DataFrame(sample, columns=['Title','Date','Publisher'])"
      ]
    },
    {
      "cell_type": "code",
      "execution_count": 8,
      "metadata": {
        "id": "vtDW7B_BsHIB"
      },
      "outputs": [],
      "source": [
        "# string date to datetime\n",
        "# stirng 날짜를 datetime으로 바꾸기 \n",
        "# 현재 데이터 값 예시: Sep 15, 2022 \n",
        "from datetime import datetime"
      ]
    },
    {
      "cell_type": "code",
      "execution_count": 9,
      "metadata": {
        "id": "BR7Lkg6CwGz2"
      },
      "outputs": [],
      "source": [
        "# 링크가 주어지면, 기사 제목과 본문을 크롤링하는 코드\n",
        "def get_news_by_url(url):\n",
        "\n",
        "    # 각자 본인의 User-Agent 정보 입력 \n",
        "    headers = {'User-Agent': 'Mozilla/5.0 (Windows NT 10.0; Win64; x64) AppleWebKit/537.36 (KHTML, like Gecko) Chrome/105.0.0.0 Safari/537.36'}\n",
        "    res = requests.get(url, headers = headers)\n",
        "    bs = BeautifulSoup(res.content, 'html.parser')\n",
        "\n",
        "    news_list = []\n",
        "\n",
        "    # 뉴스 기사 가져오기 \n",
        "    # Article 태그의 js-article-item클래스만 가져오기 \n",
        "    for i in bs.find('section',id=\"leftColumn\").find_all('article', \"js-article-item\"):\n",
        "      # i['class'] => i의 클래스 이름 가져오기\n",
        "      # 스폰서 광고 기사는 없애기\n",
        "      if \"sponsoredArticle\" in i['class']:\n",
        "        continue\n",
        "        \n",
        "      else:\n",
        "        # 댓글이 없으면 무시\n",
        "        if i.find('a', 'js-scrollto-comment') == None:\n",
        "          continue\n",
        "\n",
        "        # 댓글이 있으면\n",
        "        else:\n",
        "          # 댓글수가 5보다 많은 기사만 가져오기\n",
        "          if int(i.find('a', 'js-scrollto-comment').text) > 5:\n",
        "\n",
        "            #출판사 구하기\n",
        "            span = i.find('span', 'articleDetails').text\n",
        "            x = span.split(\"-\")\n",
        "            publisher = x[0][3:]\n",
        "            #쓸데 없는 빈칸 없애기\n",
        "            publisher = publisher[:-1]\n",
        "\n",
        "            #기사 제목 구하기\n",
        "            title = i.find('a', 'title').text\n",
        "\n",
        "            #기사 날짜 구하기\n",
        "            #Sep 15, 2022 \n",
        "            dateOutput = i.find('span', 'date').text\n",
        "            date = dateOutput[3:]\n",
        "            date = datetime.strptime(date, '%b %d, %Y')\n",
        "\n",
        "            news = [title, date, publisher]\n",
        "\n",
        "            news_list.append(news)\n",
        "\n",
        "    return news_list"
      ]
    },
    {
      "cell_type": "code",
      "execution_count": 10,
      "metadata": {
        "colab": {
          "base_uri": "https://localhost:8080/"
        },
        "id": "FydVy9nDWbJk",
        "outputId": "794cb87a-b69a-4be0-c9ff-bc72d971fdc1"
      },
      "outputs": [
        {
          "name": "stdout",
          "output_type": "stream",
          "text": [
            "Yes, we have data in 5\n",
            "Yes, we have data in 6\n",
            "Yes, we have data in 7\n",
            "Yes, we have data in 9\n",
            "Yes, we have data in 11\n",
            "Yes, we have data in 12\n",
            "Yes, we have data in 13\n",
            "Yes, we have data in 14\n",
            "Yes, we have data in 16\n",
            "Yes, we have data in 17\n",
            "Yes, we have data in 18\n",
            "Yes, we have data in 19\n",
            "Yes, we have data in 21\n",
            "Yes, we have data in 22\n",
            "Yes, we have data in 24\n",
            "Yes, we have data in 27\n",
            "Yes, we have data in 28\n",
            "Yes, we have data in 29\n",
            "Yes, we have data in 32\n",
            "Yes, we have data in 35\n",
            "Yes, we have data in 36\n",
            "Yes, we have data in 37\n",
            "Yes, we have data in 40\n",
            "Yes, we have data in 41\n",
            "Yes, we have data in 42\n",
            "Yes, we have data in 43\n",
            "Yes, we have data in 45\n",
            "Yes, we have data in 47\n",
            "Yes, we have data in 49\n",
            "Yes, we have data in 50\n",
            "Yes, we have data in 51\n",
            "Yes, we have data in 53\n",
            "Yes, we have data in 56\n",
            "Yes, we have data in 57\n",
            "Yes, we have data in 58\n",
            "Yes, we have data in 60\n",
            "Yes, we have data in 61\n",
            "Yes, we have data in 62\n",
            "Yes, we have data in 64\n",
            "Yes, we have data in 65\n",
            "Yes, we have data in 66\n",
            "Yes, we have data in 67\n",
            "Yes, we have data in 68\n",
            "Yes, we have data in 69\n",
            "Yes, we have data in 71\n",
            "Yes, we have data in 72\n",
            "Yes, we have data in 73\n",
            "Yes, we have data in 74\n",
            "Yes, we have data in 75\n",
            "Yes, we have data in 76\n",
            "Yes, we have data in 78\n",
            "Yes, we have data in 79\n",
            "Yes, we have data in 80\n",
            "Yes, we have data in 82\n",
            "Yes, we have data in 84\n",
            "Yes, we have data in 85\n",
            "Yes, we have data in 86\n",
            "Yes, we have data in 88\n",
            "Yes, we have data in 90\n",
            "Yes, we have data in 91\n",
            "Yes, we have data in 92\n",
            "Yes, we have data in 94\n",
            "Yes, we have data in 96\n",
            "Yes, we have data in 97\n",
            "Yes, we have data in 98\n",
            "Yes, we have data in 99\n"
          ]
        }
      ],
      "source": [
        "for i in range(5,100):\n",
        "  url = 'https://www.investing.com/news/stock-market-news/' + str(i)\n",
        "\n",
        "  list = get_news_by_url(url)\n",
        "\n",
        "  # output이 존재한다면 (없을수도있으니까)\n",
        "  if list:\n",
        "    print(\"Yes, we have data in\", i)\n",
        "    for j in list:\n",
        "      # 행 추가하기 \n",
        "      df = df.append({'Title': j[0], 'Date':j[1], 'Publisher':j[2] }, ignore_index=True)\n"
      ]
    },
    {
      "cell_type": "code",
      "execution_count": 11,
      "metadata": {
        "colab": {
          "base_uri": "https://localhost:8080/",
          "height": 624
        },
        "id": "AH-CSpn6s-le",
        "outputId": "56e518d3-7674-467d-923a-e13e41d37161"
      },
      "outputs": [
        {
          "data": {
            "text/html": [
              "\n",
              "  <div id=\"df-5bf89291-9994-43d4-881d-1770e52793c0\">\n",
              "    <div class=\"colab-df-container\">\n",
              "      <div>\n",
              "<style scoped>\n",
              "    .dataframe tbody tr th:only-of-type {\n",
              "        vertical-align: middle;\n",
              "    }\n",
              "\n",
              "    .dataframe tbody tr th {\n",
              "        vertical-align: top;\n",
              "    }\n",
              "\n",
              "    .dataframe thead th {\n",
              "        text-align: right;\n",
              "    }\n",
              "</style>\n",
              "<table border=\"1\" class=\"dataframe\">\n",
              "  <thead>\n",
              "    <tr style=\"text-align: right;\">\n",
              "      <th></th>\n",
              "      <th>Title</th>\n",
              "      <th>Date</th>\n",
              "      <th>Publisher</th>\n",
              "    </tr>\n",
              "  </thead>\n",
              "  <tbody>\n",
              "    <tr>\n",
              "      <th>0</th>\n",
              "      <td>sampleTitle</td>\n",
              "      <td>sampleDate</td>\n",
              "      <td>samplePublisher</td>\n",
              "    </tr>\n",
              "    <tr>\n",
              "      <th>1</th>\n",
              "      <td>European Stock Futures Weaken; Recessionary Fe...</td>\n",
              "      <td>2022-09-16 00:00:00</td>\n",
              "      <td>Investing.com</td>\n",
              "    </tr>\n",
              "    <tr>\n",
              "      <th>2</th>\n",
              "      <td>U.S. rail strike averted, but labor deal faces...</td>\n",
              "      <td>2022-09-15 00:00:00</td>\n",
              "      <td>Reuters</td>\n",
              "    </tr>\n",
              "    <tr>\n",
              "      <th>3</th>\n",
              "      <td>Wall St tumbles amid Fed tightening jitters, e...</td>\n",
              "      <td>2022-09-15 00:00:00</td>\n",
              "      <td>Reuters</td>\n",
              "    </tr>\n",
              "    <tr>\n",
              "      <th>4</th>\n",
              "      <td>Elon Musk accuses Twitter of security lapses i...</td>\n",
              "      <td>2022-09-15 00:00:00</td>\n",
              "      <td>Reuters</td>\n",
              "    </tr>\n",
              "    <tr>\n",
              "      <th>...</th>\n",
              "      <td>...</td>\n",
              "      <td>...</td>\n",
              "      <td>...</td>\n",
              "    </tr>\n",
              "    <tr>\n",
              "      <th>112</th>\n",
              "      <td>Rate fever propels dollar, wallops stocks and ...</td>\n",
              "      <td>2022-08-29 00:00:00</td>\n",
              "      <td>Reuters</td>\n",
              "    </tr>\n",
              "    <tr>\n",
              "      <th>113</th>\n",
              "      <td>Elon Musk subpoenas Twitter whistleblower, see...</td>\n",
              "      <td>2022-08-29 00:00:00</td>\n",
              "      <td>Reuters</td>\n",
              "    </tr>\n",
              "    <tr>\n",
              "      <th>114</th>\n",
              "      <td>U.S. agency: 'unlawful' for Tesla to prevent e...</td>\n",
              "      <td>2022-08-29 00:00:00</td>\n",
              "      <td>Reuters</td>\n",
              "    </tr>\n",
              "    <tr>\n",
              "      <th>115</th>\n",
              "      <td>Stock Market Today: Dow Fights Back, but Ends ...</td>\n",
              "      <td>2022-08-29 00:00:00</td>\n",
              "      <td>Investing.com</td>\n",
              "    </tr>\n",
              "    <tr>\n",
              "      <th>116</th>\n",
              "      <td>S&amp;P 500 Cuts Losses on Energy Rally, but Tech ...</td>\n",
              "      <td>2022-08-29 00:00:00</td>\n",
              "      <td>Investing.com</td>\n",
              "    </tr>\n",
              "  </tbody>\n",
              "</table>\n",
              "<p>117 rows × 3 columns</p>\n",
              "</div>\n",
              "      <button class=\"colab-df-convert\" onclick=\"convertToInteractive('df-5bf89291-9994-43d4-881d-1770e52793c0')\"\n",
              "              title=\"Convert this dataframe to an interactive table.\"\n",
              "              style=\"display:none;\">\n",
              "        \n",
              "  <svg xmlns=\"http://www.w3.org/2000/svg\" height=\"24px\"viewBox=\"0 0 24 24\"\n",
              "       width=\"24px\">\n",
              "    <path d=\"M0 0h24v24H0V0z\" fill=\"none\"/>\n",
              "    <path d=\"M18.56 5.44l.94 2.06.94-2.06 2.06-.94-2.06-.94-.94-2.06-.94 2.06-2.06.94zm-11 1L8.5 8.5l.94-2.06 2.06-.94-2.06-.94L8.5 2.5l-.94 2.06-2.06.94zm10 10l.94 2.06.94-2.06 2.06-.94-2.06-.94-.94-2.06-.94 2.06-2.06.94z\"/><path d=\"M17.41 7.96l-1.37-1.37c-.4-.4-.92-.59-1.43-.59-.52 0-1.04.2-1.43.59L10.3 9.45l-7.72 7.72c-.78.78-.78 2.05 0 2.83L4 21.41c.39.39.9.59 1.41.59.51 0 1.02-.2 1.41-.59l7.78-7.78 2.81-2.81c.8-.78.8-2.07 0-2.86zM5.41 20L4 18.59l7.72-7.72 1.47 1.35L5.41 20z\"/>\n",
              "  </svg>\n",
              "      </button>\n",
              "      \n",
              "  <style>\n",
              "    .colab-df-container {\n",
              "      display:flex;\n",
              "      flex-wrap:wrap;\n",
              "      gap: 12px;\n",
              "    }\n",
              "\n",
              "    .colab-df-convert {\n",
              "      background-color: #E8F0FE;\n",
              "      border: none;\n",
              "      border-radius: 50%;\n",
              "      cursor: pointer;\n",
              "      display: none;\n",
              "      fill: #1967D2;\n",
              "      height: 32px;\n",
              "      padding: 0 0 0 0;\n",
              "      width: 32px;\n",
              "    }\n",
              "\n",
              "    .colab-df-convert:hover {\n",
              "      background-color: #E2EBFA;\n",
              "      box-shadow: 0px 1px 2px rgba(60, 64, 67, 0.3), 0px 1px 3px 1px rgba(60, 64, 67, 0.15);\n",
              "      fill: #174EA6;\n",
              "    }\n",
              "\n",
              "    [theme=dark] .colab-df-convert {\n",
              "      background-color: #3B4455;\n",
              "      fill: #D2E3FC;\n",
              "    }\n",
              "\n",
              "    [theme=dark] .colab-df-convert:hover {\n",
              "      background-color: #434B5C;\n",
              "      box-shadow: 0px 1px 3px 1px rgba(0, 0, 0, 0.15);\n",
              "      filter: drop-shadow(0px 1px 2px rgba(0, 0, 0, 0.3));\n",
              "      fill: #FFFFFF;\n",
              "    }\n",
              "  </style>\n",
              "\n",
              "      <script>\n",
              "        const buttonEl =\n",
              "          document.querySelector('#df-5bf89291-9994-43d4-881d-1770e52793c0 button.colab-df-convert');\n",
              "        buttonEl.style.display =\n",
              "          google.colab.kernel.accessAllowed ? 'block' : 'none';\n",
              "\n",
              "        async function convertToInteractive(key) {\n",
              "          const element = document.querySelector('#df-5bf89291-9994-43d4-881d-1770e52793c0');\n",
              "          const dataTable =\n",
              "            await google.colab.kernel.invokeFunction('convertToInteractive',\n",
              "                                                     [key], {});\n",
              "          if (!dataTable) return;\n",
              "\n",
              "          const docLinkHtml = 'Like what you see? Visit the ' +\n",
              "            '<a target=\"_blank\" href=https://colab.research.google.com/notebooks/data_table.ipynb>data table notebook</a>'\n",
              "            + ' to learn more about interactive tables.';\n",
              "          element.innerHTML = '';\n",
              "          dataTable['output_type'] = 'display_data';\n",
              "          await google.colab.output.renderOutput(dataTable, element);\n",
              "          const docLink = document.createElement('div');\n",
              "          docLink.innerHTML = docLinkHtml;\n",
              "          element.appendChild(docLink);\n",
              "        }\n",
              "      </script>\n",
              "    </div>\n",
              "  </div>\n",
              "  "
            ],
            "text/plain": [
              "                                                 Title                 Date  \\\n",
              "0                                          sampleTitle           sampleDate   \n",
              "1    European Stock Futures Weaken; Recessionary Fe...  2022-09-16 00:00:00   \n",
              "2    U.S. rail strike averted, but labor deal faces...  2022-09-15 00:00:00   \n",
              "3    Wall St tumbles amid Fed tightening jitters, e...  2022-09-15 00:00:00   \n",
              "4    Elon Musk accuses Twitter of security lapses i...  2022-09-15 00:00:00   \n",
              "..                                                 ...                  ...   \n",
              "112  Rate fever propels dollar, wallops stocks and ...  2022-08-29 00:00:00   \n",
              "113  Elon Musk subpoenas Twitter whistleblower, see...  2022-08-29 00:00:00   \n",
              "114  U.S. agency: 'unlawful' for Tesla to prevent e...  2022-08-29 00:00:00   \n",
              "115  Stock Market Today: Dow Fights Back, but Ends ...  2022-08-29 00:00:00   \n",
              "116  S&P 500 Cuts Losses on Energy Rally, but Tech ...  2022-08-29 00:00:00   \n",
              "\n",
              "           Publisher  \n",
              "0    samplePublisher  \n",
              "1      Investing.com  \n",
              "2            Reuters  \n",
              "3            Reuters  \n",
              "4            Reuters  \n",
              "..               ...  \n",
              "112          Reuters  \n",
              "113          Reuters  \n",
              "114          Reuters  \n",
              "115    Investing.com  \n",
              "116    Investing.com  \n",
              "\n",
              "[117 rows x 3 columns]"
            ]
          },
          "execution_count": 11,
          "metadata": {},
          "output_type": "execute_result"
        }
      ],
      "source": [
        "df"
      ]
    },
    {
      "cell_type": "code",
      "execution_count": 12,
      "metadata": {
        "id": "zYEjAXZFcwnL"
      },
      "outputs": [],
      "source": [
        "# csv파일로 저장하기\n",
        "df.to_csv('investingcom.csv', sep=',')"
      ]
    },
    {
      "cell_type": "code",
      "execution_count": null,
      "metadata": {
        "id": "EQWksI6apeDm"
      },
      "outputs": [],
      "source": [
        "|"
      ]
    },
    {
      "cell_type": "code",
      "execution_count": null,
      "metadata": {
        "id": "ucayA0ydkJgN"
      },
      "outputs": [],
      "source": []
    }
  ],
  "metadata": {
    "colab": {
      "authorship_tag": "ABX9TyPxUfMp2iyD70ZB9yl1elx5",
      "collapsed_sections": [],
      "include_colab_link": true,
      "provenance": []
    },
    "kernelspec": {
      "display_name": "Python 3.6.13 ('bert')",
      "language": "python",
      "name": "python3"
    },
    "language_info": {
      "name": "python",
      "version": "3.6.13"
    },
    "vscode": {
      "interpreter": {
        "hash": "bb26b34c45cda5fd7a752a76a77b6ddc0e8235d9c9c23f79fb2f23ba41484082"
      }
    }
  },
  "nbformat": 4,
  "nbformat_minor": 0
}
