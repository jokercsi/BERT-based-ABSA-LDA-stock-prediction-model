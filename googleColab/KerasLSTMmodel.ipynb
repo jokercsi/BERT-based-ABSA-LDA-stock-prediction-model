{
  "nbformat": 4,
  "nbformat_minor": 0,
  "metadata": {
    "colab": {
      "provenance": []
    },
    "kernelspec": {
      "name": "python3",
      "display_name": "Python 3"
    },
    "language_info": {
      "name": "python"
    }
  },
  "cells": [
    {
      "cell_type": "code",
      "execution_count": 1,
      "metadata": {
        "colab": {
          "base_uri": "https://localhost:8080/"
        },
        "id": "P60KOtz4oIwl",
        "outputId": "f26b4676-33ae-478d-ebff-22cb66bd55ed"
      },
      "outputs": [
        {
          "output_type": "stream",
          "name": "stdout",
          "text": [
            "Looking in indexes: https://pypi.org/simple, https://us-python.pkg.dev/colab-wheels/public/simple/\n",
            "Collecting yfinance\n",
            "  Downloading yfinance-0.1.87-py2.py3-none-any.whl (29 kB)\n",
            "Requirement already satisfied: numpy>=1.15 in /usr/local/lib/python3.7/dist-packages (from yfinance) (1.21.6)\n",
            "Collecting requests>=2.26\n",
            "  Downloading requests-2.28.1-py3-none-any.whl (62 kB)\n",
            "\u001b[K     |████████████████████████████████| 62 kB 1.4 MB/s \n",
            "\u001b[?25hRequirement already satisfied: appdirs>=1.4.4 in /usr/local/lib/python3.7/dist-packages (from yfinance) (1.4.4)\n",
            "Requirement already satisfied: lxml>=4.5.1 in /usr/local/lib/python3.7/dist-packages (from yfinance) (4.9.1)\n",
            "Requirement already satisfied: multitasking>=0.0.7 in /usr/local/lib/python3.7/dist-packages (from yfinance) (0.0.11)\n",
            "Requirement already satisfied: pandas>=0.24.0 in /usr/local/lib/python3.7/dist-packages (from yfinance) (1.3.5)\n",
            "Requirement already satisfied: pytz>=2017.3 in /usr/local/lib/python3.7/dist-packages (from pandas>=0.24.0->yfinance) (2022.6)\n",
            "Requirement already satisfied: python-dateutil>=2.7.3 in /usr/local/lib/python3.7/dist-packages (from pandas>=0.24.0->yfinance) (2.8.2)\n",
            "Requirement already satisfied: six>=1.5 in /usr/local/lib/python3.7/dist-packages (from python-dateutil>=2.7.3->pandas>=0.24.0->yfinance) (1.15.0)\n",
            "Requirement already satisfied: idna<4,>=2.5 in /usr/local/lib/python3.7/dist-packages (from requests>=2.26->yfinance) (2.10)\n",
            "Requirement already satisfied: charset-normalizer<3,>=2 in /usr/local/lib/python3.7/dist-packages (from requests>=2.26->yfinance) (2.1.1)\n",
            "Requirement already satisfied: certifi>=2017.4.17 in /usr/local/lib/python3.7/dist-packages (from requests>=2.26->yfinance) (2022.9.24)\n",
            "Requirement already satisfied: urllib3<1.27,>=1.21.1 in /usr/local/lib/python3.7/dist-packages (from requests>=2.26->yfinance) (1.24.3)\n",
            "Installing collected packages: requests, yfinance\n",
            "  Attempting uninstall: requests\n",
            "    Found existing installation: requests 2.23.0\n",
            "    Uninstalling requests-2.23.0:\n",
            "      Successfully uninstalled requests-2.23.0\n",
            "Successfully installed requests-2.28.1 yfinance-0.1.87\n"
          ]
        }
      ],
      "source": [
        "!pip install yfinance\n",
        "import yfinance as yf"
      ]
    },
    {
      "cell_type": "code",
      "source": [
        "import numpy as np\n",
        "import pandas as pd"
      ],
      "metadata": {
        "id": "GOLXuXDIoJYO"
      },
      "execution_count": 2,
      "outputs": []
    },
    {
      "cell_type": "code",
      "source": [
        "print(yf)"
      ],
      "metadata": {
        "colab": {
          "base_uri": "https://localhost:8080/"
        },
        "id": "nfurXOA-oKu-",
        "outputId": "71962105-05b3-49f4-8afc-540c958efe4e"
      },
      "execution_count": 4,
      "outputs": [
        {
          "output_type": "stream",
          "name": "stdout",
          "text": [
            "<module 'yfinance' from '/usr/local/lib/python3.7/dist-packages/yfinance/__init__.py'>\n"
          ]
        }
      ]
    },
    {
      "cell_type": "markdown",
      "source": [
        "samsung 데이터 확인 \\\n",
        "데이터 형식 : pandas Dataframe"
      ],
      "metadata": {
        "id": "ArAajo-arXYh"
      }
    },
    {
      "cell_type": "code",
      "source": [
        "df_price = yf.download('005930.KS', start='1985-01-04', end='2020-01-07', progress=False)\n",
        "df_price.info()"
      ],
      "metadata": {
        "colab": {
          "base_uri": "https://localhost:8080/"
        },
        "id": "H1DAHxbQrUOP",
        "outputId": "8bbdb048-c171-4eb2-d89b-a96f0a87b3c7"
      },
      "execution_count": 89,
      "outputs": [
        {
          "output_type": "stream",
          "name": "stdout",
          "text": [
            "<class 'pandas.core.frame.DataFrame'>\n",
            "DatetimeIndex: 5035 entries, 2000-01-04 to 2020-01-06\n",
            "Data columns (total 6 columns):\n",
            " #   Column     Non-Null Count  Dtype  \n",
            "---  ------     --------------  -----  \n",
            " 0   Open       5035 non-null   float64\n",
            " 1   High       5035 non-null   float64\n",
            " 2   Low        5035 non-null   float64\n",
            " 3   Close      5035 non-null   float64\n",
            " 4   Adj Close  5035 non-null   float64\n",
            " 5   Volume     5035 non-null   int64  \n",
            "dtypes: float64(5), int64(1)\n",
            "memory usage: 275.4 KB\n"
          ]
        }
      ]
    },
    {
      "cell_type": "code",
      "source": [
        "df_price.describe()"
      ],
      "metadata": {
        "colab": {
          "base_uri": "https://localhost:8080/",
          "height": 300
        },
        "id": "-D_kTlR5rkWT",
        "outputId": "713b4417-0f28-45e8-bb38-020cb678c961"
      },
      "execution_count": 90,
      "outputs": [
        {
          "output_type": "execute_result",
          "data": {
            "text/plain": [
              "               Open          High           Low         Close     Adj Close  \\\n",
              "count   5035.000000   5035.000000   5035.000000   5035.000000   5035.000000   \n",
              "mean   19780.129096  19987.817279  19568.432969  19780.806356  16273.781915   \n",
              "std    13624.639751  13738.644747  13502.098630  13621.824091  12226.174363   \n",
              "min     2540.000000   2760.000000   2420.000000   2730.000000   2051.707520   \n",
              "25%     9500.000000   9635.000000   9380.000000   9515.000000   7224.817627   \n",
              "50%    14900.000000  15040.000000  14680.000000  14880.000000  11653.909180   \n",
              "75%    26960.000000  27130.000000  26640.000000  26900.000000  21937.523438   \n",
              "max    57500.000000  57520.000000  56760.000000  57220.000000  52093.160156   \n",
              "\n",
              "             Volume  \n",
              "count  5.035000e+03  \n",
              "mean   2.207492e+07  \n",
              "std    1.597614e+07  \n",
              "min    0.000000e+00  \n",
              "25%    1.157920e+07  \n",
              "50%    1.787500e+07  \n",
              "75%    2.789948e+07  \n",
              "max    1.642150e+08  "
            ],
            "text/html": [
              "\n",
              "  <div id=\"df-99e0db9c-b87e-4f4a-9f4b-1874fc72f155\">\n",
              "    <div class=\"colab-df-container\">\n",
              "      <div>\n",
              "<style scoped>\n",
              "    .dataframe tbody tr th:only-of-type {\n",
              "        vertical-align: middle;\n",
              "    }\n",
              "\n",
              "    .dataframe tbody tr th {\n",
              "        vertical-align: top;\n",
              "    }\n",
              "\n",
              "    .dataframe thead th {\n",
              "        text-align: right;\n",
              "    }\n",
              "</style>\n",
              "<table border=\"1\" class=\"dataframe\">\n",
              "  <thead>\n",
              "    <tr style=\"text-align: right;\">\n",
              "      <th></th>\n",
              "      <th>Open</th>\n",
              "      <th>High</th>\n",
              "      <th>Low</th>\n",
              "      <th>Close</th>\n",
              "      <th>Adj Close</th>\n",
              "      <th>Volume</th>\n",
              "    </tr>\n",
              "  </thead>\n",
              "  <tbody>\n",
              "    <tr>\n",
              "      <th>count</th>\n",
              "      <td>5035.000000</td>\n",
              "      <td>5035.000000</td>\n",
              "      <td>5035.000000</td>\n",
              "      <td>5035.000000</td>\n",
              "      <td>5035.000000</td>\n",
              "      <td>5.035000e+03</td>\n",
              "    </tr>\n",
              "    <tr>\n",
              "      <th>mean</th>\n",
              "      <td>19780.129096</td>\n",
              "      <td>19987.817279</td>\n",
              "      <td>19568.432969</td>\n",
              "      <td>19780.806356</td>\n",
              "      <td>16273.781915</td>\n",
              "      <td>2.207492e+07</td>\n",
              "    </tr>\n",
              "    <tr>\n",
              "      <th>std</th>\n",
              "      <td>13624.639751</td>\n",
              "      <td>13738.644747</td>\n",
              "      <td>13502.098630</td>\n",
              "      <td>13621.824091</td>\n",
              "      <td>12226.174363</td>\n",
              "      <td>1.597614e+07</td>\n",
              "    </tr>\n",
              "    <tr>\n",
              "      <th>min</th>\n",
              "      <td>2540.000000</td>\n",
              "      <td>2760.000000</td>\n",
              "      <td>2420.000000</td>\n",
              "      <td>2730.000000</td>\n",
              "      <td>2051.707520</td>\n",
              "      <td>0.000000e+00</td>\n",
              "    </tr>\n",
              "    <tr>\n",
              "      <th>25%</th>\n",
              "      <td>9500.000000</td>\n",
              "      <td>9635.000000</td>\n",
              "      <td>9380.000000</td>\n",
              "      <td>9515.000000</td>\n",
              "      <td>7224.817627</td>\n",
              "      <td>1.157920e+07</td>\n",
              "    </tr>\n",
              "    <tr>\n",
              "      <th>50%</th>\n",
              "      <td>14900.000000</td>\n",
              "      <td>15040.000000</td>\n",
              "      <td>14680.000000</td>\n",
              "      <td>14880.000000</td>\n",
              "      <td>11653.909180</td>\n",
              "      <td>1.787500e+07</td>\n",
              "    </tr>\n",
              "    <tr>\n",
              "      <th>75%</th>\n",
              "      <td>26960.000000</td>\n",
              "      <td>27130.000000</td>\n",
              "      <td>26640.000000</td>\n",
              "      <td>26900.000000</td>\n",
              "      <td>21937.523438</td>\n",
              "      <td>2.789948e+07</td>\n",
              "    </tr>\n",
              "    <tr>\n",
              "      <th>max</th>\n",
              "      <td>57500.000000</td>\n",
              "      <td>57520.000000</td>\n",
              "      <td>56760.000000</td>\n",
              "      <td>57220.000000</td>\n",
              "      <td>52093.160156</td>\n",
              "      <td>1.642150e+08</td>\n",
              "    </tr>\n",
              "  </tbody>\n",
              "</table>\n",
              "</div>\n",
              "      <button class=\"colab-df-convert\" onclick=\"convertToInteractive('df-99e0db9c-b87e-4f4a-9f4b-1874fc72f155')\"\n",
              "              title=\"Convert this dataframe to an interactive table.\"\n",
              "              style=\"display:none;\">\n",
              "        \n",
              "  <svg xmlns=\"http://www.w3.org/2000/svg\" height=\"24px\"viewBox=\"0 0 24 24\"\n",
              "       width=\"24px\">\n",
              "    <path d=\"M0 0h24v24H0V0z\" fill=\"none\"/>\n",
              "    <path d=\"M18.56 5.44l.94 2.06.94-2.06 2.06-.94-2.06-.94-.94-2.06-.94 2.06-2.06.94zm-11 1L8.5 8.5l.94-2.06 2.06-.94-2.06-.94L8.5 2.5l-.94 2.06-2.06.94zm10 10l.94 2.06.94-2.06 2.06-.94-2.06-.94-.94-2.06-.94 2.06-2.06.94z\"/><path d=\"M17.41 7.96l-1.37-1.37c-.4-.4-.92-.59-1.43-.59-.52 0-1.04.2-1.43.59L10.3 9.45l-7.72 7.72c-.78.78-.78 2.05 0 2.83L4 21.41c.39.39.9.59 1.41.59.51 0 1.02-.2 1.41-.59l7.78-7.78 2.81-2.81c.8-.78.8-2.07 0-2.86zM5.41 20L4 18.59l7.72-7.72 1.47 1.35L5.41 20z\"/>\n",
              "  </svg>\n",
              "      </button>\n",
              "      \n",
              "  <style>\n",
              "    .colab-df-container {\n",
              "      display:flex;\n",
              "      flex-wrap:wrap;\n",
              "      gap: 12px;\n",
              "    }\n",
              "\n",
              "    .colab-df-convert {\n",
              "      background-color: #E8F0FE;\n",
              "      border: none;\n",
              "      border-radius: 50%;\n",
              "      cursor: pointer;\n",
              "      display: none;\n",
              "      fill: #1967D2;\n",
              "      height: 32px;\n",
              "      padding: 0 0 0 0;\n",
              "      width: 32px;\n",
              "    }\n",
              "\n",
              "    .colab-df-convert:hover {\n",
              "      background-color: #E2EBFA;\n",
              "      box-shadow: 0px 1px 2px rgba(60, 64, 67, 0.3), 0px 1px 3px 1px rgba(60, 64, 67, 0.15);\n",
              "      fill: #174EA6;\n",
              "    }\n",
              "\n",
              "    [theme=dark] .colab-df-convert {\n",
              "      background-color: #3B4455;\n",
              "      fill: #D2E3FC;\n",
              "    }\n",
              "\n",
              "    [theme=dark] .colab-df-convert:hover {\n",
              "      background-color: #434B5C;\n",
              "      box-shadow: 0px 1px 3px 1px rgba(0, 0, 0, 0.15);\n",
              "      filter: drop-shadow(0px 1px 2px rgba(0, 0, 0, 0.3));\n",
              "      fill: #FFFFFF;\n",
              "    }\n",
              "  </style>\n",
              "\n",
              "      <script>\n",
              "        const buttonEl =\n",
              "          document.querySelector('#df-99e0db9c-b87e-4f4a-9f4b-1874fc72f155 button.colab-df-convert');\n",
              "        buttonEl.style.display =\n",
              "          google.colab.kernel.accessAllowed ? 'block' : 'none';\n",
              "\n",
              "        async function convertToInteractive(key) {\n",
              "          const element = document.querySelector('#df-99e0db9c-b87e-4f4a-9f4b-1874fc72f155');\n",
              "          const dataTable =\n",
              "            await google.colab.kernel.invokeFunction('convertToInteractive',\n",
              "                                                     [key], {});\n",
              "          if (!dataTable) return;\n",
              "\n",
              "          const docLinkHtml = 'Like what you see? Visit the ' +\n",
              "            '<a target=\"_blank\" href=https://colab.research.google.com/notebooks/data_table.ipynb>data table notebook</a>'\n",
              "            + ' to learn more about interactive tables.';\n",
              "          element.innerHTML = '';\n",
              "          dataTable['output_type'] = 'display_data';\n",
              "          await google.colab.output.renderOutput(dataTable, element);\n",
              "          const docLink = document.createElement('div');\n",
              "          docLink.innerHTML = docLinkHtml;\n",
              "          element.appendChild(docLink);\n",
              "        }\n",
              "      </script>\n",
              "    </div>\n",
              "  </div>\n",
              "  "
            ]
          },
          "metadata": {},
          "execution_count": 90
        }
      ]
    },
    {
      "cell_type": "code",
      "source": [
        "df_price"
      ],
      "metadata": {
        "colab": {
          "base_uri": "https://localhost:8080/",
          "height": 455
        },
        "id": "udk_XoSYoSdl",
        "outputId": "a9450125-1672-4a77-9cd0-cf7738c3db54"
      },
      "execution_count": 91,
      "outputs": [
        {
          "output_type": "execute_result",
          "data": {
            "text/plain": [
              "               Open     High      Low    Close     Adj Close    Volume\n",
              "Date                                                                  \n",
              "2000-01-04   6000.0   6110.0   5660.0   6110.0   4591.915527  74195000\n",
              "2000-01-05   5800.0   6060.0   5520.0   5580.0   4193.598145  74680000\n",
              "2000-01-06   5750.0   5780.0   5580.0   5620.0   4223.661621  54390000\n",
              "2000-01-07   5560.0   5670.0   5360.0   5540.0   4163.537109  40305000\n",
              "2000-01-10   5600.0   5770.0   5580.0   5770.0   4336.392578  46880000\n",
              "...             ...      ...      ...      ...           ...       ...\n",
              "2019-12-27  55700.0  56900.0  55500.0  56500.0  52093.160156  12313056\n",
              "2019-12-30  56200.0  56600.0  55700.0  55800.0  51447.757812   8356767\n",
              "2020-01-02  55500.0  56000.0  55000.0  55200.0  50894.550781  12993228\n",
              "2020-01-03  56000.0  56600.0  54900.0  55500.0  51171.156250  15422255\n",
              "2020-01-06  54900.0  55600.0  54600.0  55500.0  51171.156250  10278951\n",
              "\n",
              "[5035 rows x 6 columns]"
            ],
            "text/html": [
              "\n",
              "  <div id=\"df-302ba390-2171-4e18-a390-04467564d4bb\">\n",
              "    <div class=\"colab-df-container\">\n",
              "      <div>\n",
              "<style scoped>\n",
              "    .dataframe tbody tr th:only-of-type {\n",
              "        vertical-align: middle;\n",
              "    }\n",
              "\n",
              "    .dataframe tbody tr th {\n",
              "        vertical-align: top;\n",
              "    }\n",
              "\n",
              "    .dataframe thead th {\n",
              "        text-align: right;\n",
              "    }\n",
              "</style>\n",
              "<table border=\"1\" class=\"dataframe\">\n",
              "  <thead>\n",
              "    <tr style=\"text-align: right;\">\n",
              "      <th></th>\n",
              "      <th>Open</th>\n",
              "      <th>High</th>\n",
              "      <th>Low</th>\n",
              "      <th>Close</th>\n",
              "      <th>Adj Close</th>\n",
              "      <th>Volume</th>\n",
              "    </tr>\n",
              "    <tr>\n",
              "      <th>Date</th>\n",
              "      <th></th>\n",
              "      <th></th>\n",
              "      <th></th>\n",
              "      <th></th>\n",
              "      <th></th>\n",
              "      <th></th>\n",
              "    </tr>\n",
              "  </thead>\n",
              "  <tbody>\n",
              "    <tr>\n",
              "      <th>2000-01-04</th>\n",
              "      <td>6000.0</td>\n",
              "      <td>6110.0</td>\n",
              "      <td>5660.0</td>\n",
              "      <td>6110.0</td>\n",
              "      <td>4591.915527</td>\n",
              "      <td>74195000</td>\n",
              "    </tr>\n",
              "    <tr>\n",
              "      <th>2000-01-05</th>\n",
              "      <td>5800.0</td>\n",
              "      <td>6060.0</td>\n",
              "      <td>5520.0</td>\n",
              "      <td>5580.0</td>\n",
              "      <td>4193.598145</td>\n",
              "      <td>74680000</td>\n",
              "    </tr>\n",
              "    <tr>\n",
              "      <th>2000-01-06</th>\n",
              "      <td>5750.0</td>\n",
              "      <td>5780.0</td>\n",
              "      <td>5580.0</td>\n",
              "      <td>5620.0</td>\n",
              "      <td>4223.661621</td>\n",
              "      <td>54390000</td>\n",
              "    </tr>\n",
              "    <tr>\n",
              "      <th>2000-01-07</th>\n",
              "      <td>5560.0</td>\n",
              "      <td>5670.0</td>\n",
              "      <td>5360.0</td>\n",
              "      <td>5540.0</td>\n",
              "      <td>4163.537109</td>\n",
              "      <td>40305000</td>\n",
              "    </tr>\n",
              "    <tr>\n",
              "      <th>2000-01-10</th>\n",
              "      <td>5600.0</td>\n",
              "      <td>5770.0</td>\n",
              "      <td>5580.0</td>\n",
              "      <td>5770.0</td>\n",
              "      <td>4336.392578</td>\n",
              "      <td>46880000</td>\n",
              "    </tr>\n",
              "    <tr>\n",
              "      <th>...</th>\n",
              "      <td>...</td>\n",
              "      <td>...</td>\n",
              "      <td>...</td>\n",
              "      <td>...</td>\n",
              "      <td>...</td>\n",
              "      <td>...</td>\n",
              "    </tr>\n",
              "    <tr>\n",
              "      <th>2019-12-27</th>\n",
              "      <td>55700.0</td>\n",
              "      <td>56900.0</td>\n",
              "      <td>55500.0</td>\n",
              "      <td>56500.0</td>\n",
              "      <td>52093.160156</td>\n",
              "      <td>12313056</td>\n",
              "    </tr>\n",
              "    <tr>\n",
              "      <th>2019-12-30</th>\n",
              "      <td>56200.0</td>\n",
              "      <td>56600.0</td>\n",
              "      <td>55700.0</td>\n",
              "      <td>55800.0</td>\n",
              "      <td>51447.757812</td>\n",
              "      <td>8356767</td>\n",
              "    </tr>\n",
              "    <tr>\n",
              "      <th>2020-01-02</th>\n",
              "      <td>55500.0</td>\n",
              "      <td>56000.0</td>\n",
              "      <td>55000.0</td>\n",
              "      <td>55200.0</td>\n",
              "      <td>50894.550781</td>\n",
              "      <td>12993228</td>\n",
              "    </tr>\n",
              "    <tr>\n",
              "      <th>2020-01-03</th>\n",
              "      <td>56000.0</td>\n",
              "      <td>56600.0</td>\n",
              "      <td>54900.0</td>\n",
              "      <td>55500.0</td>\n",
              "      <td>51171.156250</td>\n",
              "      <td>15422255</td>\n",
              "    </tr>\n",
              "    <tr>\n",
              "      <th>2020-01-06</th>\n",
              "      <td>54900.0</td>\n",
              "      <td>55600.0</td>\n",
              "      <td>54600.0</td>\n",
              "      <td>55500.0</td>\n",
              "      <td>51171.156250</td>\n",
              "      <td>10278951</td>\n",
              "    </tr>\n",
              "  </tbody>\n",
              "</table>\n",
              "<p>5035 rows × 6 columns</p>\n",
              "</div>\n",
              "      <button class=\"colab-df-convert\" onclick=\"convertToInteractive('df-302ba390-2171-4e18-a390-04467564d4bb')\"\n",
              "              title=\"Convert this dataframe to an interactive table.\"\n",
              "              style=\"display:none;\">\n",
              "        \n",
              "  <svg xmlns=\"http://www.w3.org/2000/svg\" height=\"24px\"viewBox=\"0 0 24 24\"\n",
              "       width=\"24px\">\n",
              "    <path d=\"M0 0h24v24H0V0z\" fill=\"none\"/>\n",
              "    <path d=\"M18.56 5.44l.94 2.06.94-2.06 2.06-.94-2.06-.94-.94-2.06-.94 2.06-2.06.94zm-11 1L8.5 8.5l.94-2.06 2.06-.94-2.06-.94L8.5 2.5l-.94 2.06-2.06.94zm10 10l.94 2.06.94-2.06 2.06-.94-2.06-.94-.94-2.06-.94 2.06-2.06.94z\"/><path d=\"M17.41 7.96l-1.37-1.37c-.4-.4-.92-.59-1.43-.59-.52 0-1.04.2-1.43.59L10.3 9.45l-7.72 7.72c-.78.78-.78 2.05 0 2.83L4 21.41c.39.39.9.59 1.41.59.51 0 1.02-.2 1.41-.59l7.78-7.78 2.81-2.81c.8-.78.8-2.07 0-2.86zM5.41 20L4 18.59l7.72-7.72 1.47 1.35L5.41 20z\"/>\n",
              "  </svg>\n",
              "      </button>\n",
              "      \n",
              "  <style>\n",
              "    .colab-df-container {\n",
              "      display:flex;\n",
              "      flex-wrap:wrap;\n",
              "      gap: 12px;\n",
              "    }\n",
              "\n",
              "    .colab-df-convert {\n",
              "      background-color: #E8F0FE;\n",
              "      border: none;\n",
              "      border-radius: 50%;\n",
              "      cursor: pointer;\n",
              "      display: none;\n",
              "      fill: #1967D2;\n",
              "      height: 32px;\n",
              "      padding: 0 0 0 0;\n",
              "      width: 32px;\n",
              "    }\n",
              "\n",
              "    .colab-df-convert:hover {\n",
              "      background-color: #E2EBFA;\n",
              "      box-shadow: 0px 1px 2px rgba(60, 64, 67, 0.3), 0px 1px 3px 1px rgba(60, 64, 67, 0.15);\n",
              "      fill: #174EA6;\n",
              "    }\n",
              "\n",
              "    [theme=dark] .colab-df-convert {\n",
              "      background-color: #3B4455;\n",
              "      fill: #D2E3FC;\n",
              "    }\n",
              "\n",
              "    [theme=dark] .colab-df-convert:hover {\n",
              "      background-color: #434B5C;\n",
              "      box-shadow: 0px 1px 3px 1px rgba(0, 0, 0, 0.15);\n",
              "      filter: drop-shadow(0px 1px 2px rgba(0, 0, 0, 0.3));\n",
              "      fill: #FFFFFF;\n",
              "    }\n",
              "  </style>\n",
              "\n",
              "      <script>\n",
              "        const buttonEl =\n",
              "          document.querySelector('#df-302ba390-2171-4e18-a390-04467564d4bb button.colab-df-convert');\n",
              "        buttonEl.style.display =\n",
              "          google.colab.kernel.accessAllowed ? 'block' : 'none';\n",
              "\n",
              "        async function convertToInteractive(key) {\n",
              "          const element = document.querySelector('#df-302ba390-2171-4e18-a390-04467564d4bb');\n",
              "          const dataTable =\n",
              "            await google.colab.kernel.invokeFunction('convertToInteractive',\n",
              "                                                     [key], {});\n",
              "          if (!dataTable) return;\n",
              "\n",
              "          const docLinkHtml = 'Like what you see? Visit the ' +\n",
              "            '<a target=\"_blank\" href=https://colab.research.google.com/notebooks/data_table.ipynb>data table notebook</a>'\n",
              "            + ' to learn more about interactive tables.';\n",
              "          element.innerHTML = '';\n",
              "          dataTable['output_type'] = 'display_data';\n",
              "          await google.colab.output.renderOutput(dataTable, element);\n",
              "          const docLink = document.createElement('div');\n",
              "          docLink.innerHTML = docLinkHtml;\n",
              "          element.appendChild(docLink);\n",
              "        }\n",
              "      </script>\n",
              "    </div>\n",
              "  </div>\n",
              "  "
            ]
          },
          "metadata": {},
          "execution_count": 91
        }
      ]
    },
    {
      "cell_type": "code",
      "source": [
        "import seaborn as sns\n",
        "import matplotlib.pyplot as plt\n",
        "\n",
        "plt.figure(figsize=(16, 9))\n",
        "sns.lineplot(y=df_price['Close'], x=df_price.index) # .index => 인덱스 부분이 \"Date\"이기 때문\n",
        "plt.xlabel('time')\n",
        "plt.ylabel('price')"
      ],
      "metadata": {
        "colab": {
          "base_uri": "https://localhost:8080/",
          "height": 501
        },
        "id": "scPas1Vnr4Pq",
        "outputId": "c8ec2db6-300a-46d3-e06e-bbffa77ba31a"
      },
      "execution_count": 92,
      "outputs": [
        {
          "output_type": "execute_result",
          "data": {
            "text/plain": [
              "Text(0, 0.5, 'price')"
            ]
          },
          "metadata": {},
          "execution_count": 92
        },
        {
          "output_type": "display_data",
          "data": {
            "text/plain": [
              "<Figure size 1152x648 with 1 Axes>"
            ],
            "image/png": "[encoded data removed]"
          },
          "metadata": {
            "needs_background": "light"
          }
        }
      ]
    },
    {
      "cell_type": "markdown",
      "source": [
        "시각화를 위해 일자를 날짜형으로 변환한다."
      ],
      "metadata": {
        "id": "ab4ETZkSu4iN"
      }
    },
    {
      "cell_type": "code",
      "source": [
        "df_price['Date'] = pd.to_datetime(df_price.index, format='%Y%m%d')\n",
        "df_price['Year'] = df_price.index.year\n",
        "df_price['Month'] = df_price.index.month\n",
        "df_price['Day'] = df_price.index.day"
      ],
      "metadata": {
        "id": "yBMzXc6tu39r"
      },
      "execution_count": 93,
      "outputs": []
    },
    {
      "cell_type": "code",
      "source": [
        "df_price"
      ],
      "metadata": {
        "colab": {
          "base_uri": "https://localhost:8080/",
          "height": 455
        },
        "id": "rRgrnBAXvj1Z",
        "outputId": "6f0792d7-98a0-477b-8140-758e35a9bb5f"
      },
      "execution_count": 94,
      "outputs": [
        {
          "output_type": "execute_result",
          "data": {
            "text/plain": [
              "               Open     High      Low    Close     Adj Close    Volume  \\\n",
              "Date                                                                     \n",
              "2000-01-04   6000.0   6110.0   5660.0   6110.0   4591.915527  74195000   \n",
              "2000-01-05   5800.0   6060.0   5520.0   5580.0   4193.598145  74680000   \n",
              "2000-01-06   5750.0   5780.0   5580.0   5620.0   4223.661621  54390000   \n",
              "2000-01-07   5560.0   5670.0   5360.0   5540.0   4163.537109  40305000   \n",
              "2000-01-10   5600.0   5770.0   5580.0   5770.0   4336.392578  46880000   \n",
              "...             ...      ...      ...      ...           ...       ...   \n",
              "2019-12-27  55700.0  56900.0  55500.0  56500.0  52093.160156  12313056   \n",
              "2019-12-30  56200.0  56600.0  55700.0  55800.0  51447.757812   8356767   \n",
              "2020-01-02  55500.0  56000.0  55000.0  55200.0  50894.550781  12993228   \n",
              "2020-01-03  56000.0  56600.0  54900.0  55500.0  51171.156250  15422255   \n",
              "2020-01-06  54900.0  55600.0  54600.0  55500.0  51171.156250  10278951   \n",
              "\n",
              "                 Date  Year  Month  Day  \n",
              "Date                                     \n",
              "2000-01-04 2000-01-04  2000      1    4  \n",
              "2000-01-05 2000-01-05  2000      1    5  \n",
              "2000-01-06 2000-01-06  2000      1    6  \n",
              "2000-01-07 2000-01-07  2000      1    7  \n",
              "2000-01-10 2000-01-10  2000      1   10  \n",
              "...               ...   ...    ...  ...  \n",
              "2019-12-27 2019-12-27  2019     12   27  \n",
              "2019-12-30 2019-12-30  2019     12   30  \n",
              "2020-01-02 2020-01-02  2020      1    2  \n",
              "2020-01-03 2020-01-03  2020      1    3  \n",
              "2020-01-06 2020-01-06  2020      1    6  \n",
              "\n",
              "[5035 rows x 10 columns]"
            ],
            "text/html": [
              "\n",
              "  <div id=\"df-15f9fc8c-0edf-41b7-bbd2-4ac6e787d179\">\n",
              "    <div class=\"colab-df-container\">\n",
              "      <div>\n",
              "<style scoped>\n",
              "    .dataframe tbody tr th:only-of-type {\n",
              "        vertical-align: middle;\n",
              "    }\n",
              "\n",
              "    .dataframe tbody tr th {\n",
              "        vertical-align: top;\n",
              "    }\n",
              "\n",
              "    .dataframe thead th {\n",
              "        text-align: right;\n",
              "    }\n",
              "</style>\n",
              "<table border=\"1\" class=\"dataframe\">\n",
              "  <thead>\n",
              "    <tr style=\"text-align: right;\">\n",
              "      <th></th>\n",
              "      <th>Open</th>\n",
              "      <th>High</th>\n",
              "      <th>Low</th>\n",
              "      <th>Close</th>\n",
              "      <th>Adj Close</th>\n",
              "      <th>Volume</th>\n",
              "      <th>Date</th>\n",
              "      <th>Year</th>\n",
              "      <th>Month</th>\n",
              "      <th>Day</th>\n",
              "    </tr>\n",
              "    <tr>\n",
              "      <th>Date</th>\n",
              "      <th></th>\n",
              "      <th></th>\n",
              "      <th></th>\n",
              "      <th></th>\n",
              "      <th></th>\n",
              "      <th></th>\n",
              "      <th></th>\n",
              "      <th></th>\n",
              "      <th></th>\n",
              "      <th></th>\n",
              "    </tr>\n",
              "  </thead>\n",
              "  <tbody>\n",
              "    <tr>\n",
              "      <th>2000-01-04</th>\n",
              "      <td>6000.0</td>\n",
              "      <td>6110.0</td>\n",
              "      <td>5660.0</td>\n",
              "      <td>6110.0</td>\n",
              "      <td>4591.915527</td>\n",
              "      <td>74195000</td>\n",
              "      <td>2000-01-04</td>\n",
              "      <td>2000</td>\n",
              "      <td>1</td>\n",
              "      <td>4</td>\n",
              "    </tr>\n",
              "    <tr>\n",
              "      <th>2000-01-05</th>\n",
              "      <td>5800.0</td>\n",
              "      <td>6060.0</td>\n",
              "      <td>5520.0</td>\n",
              "      <td>5580.0</td>\n",
              "      <td>4193.598145</td>\n",
              "      <td>74680000</td>\n",
              "      <td>2000-01-05</td>\n",
              "      <td>2000</td>\n",
              "      <td>1</td>\n",
              "      <td>5</td>\n",
              "    </tr>\n",
              "    <tr>\n",
              "      <th>2000-01-06</th>\n",
              "      <td>5750.0</td>\n",
              "      <td>5780.0</td>\n",
              "      <td>5580.0</td>\n",
              "      <td>5620.0</td>\n",
              "      <td>4223.661621</td>\n",
              "      <td>54390000</td>\n",
              "      <td>2000-01-06</td>\n",
              "      <td>2000</td>\n",
              "      <td>1</td>\n",
              "      <td>6</td>\n",
              "    </tr>\n",
              "    <tr>\n",
              "      <th>2000-01-07</th>\n",
              "      <td>5560.0</td>\n",
              "      <td>5670.0</td>\n",
              "      <td>5360.0</td>\n",
              "      <td>5540.0</td>\n",
              "      <td>4163.537109</td>\n",
              "      <td>40305000</td>\n",
              "      <td>2000-01-07</td>\n",
              "      <td>2000</td>\n",
              "      <td>1</td>\n",
              "      <td>7</td>\n",
              "    </tr>\n",
              "    <tr>\n",
              "      <th>2000-01-10</th>\n",
              "      <td>5600.0</td>\n",
              "      <td>5770.0</td>\n",
              "      <td>5580.0</td>\n",
              "      <td>5770.0</td>\n",
              "      <td>4336.392578</td>\n",
              "      <td>46880000</td>\n",
              "      <td>2000-01-10</td>\n",
              "      <td>2000</td>\n",
              "      <td>1</td>\n",
              "      <td>10</td>\n",
              "    </tr>\n",
              "    <tr>\n",
              "      <th>...</th>\n",
              "      <td>...</td>\n",
              "      <td>...</td>\n",
              "      <td>...</td>\n",
              "      <td>...</td>\n",
              "      <td>...</td>\n",
              "      <td>...</td>\n",
              "      <td>...</td>\n",
              "      <td>...</td>\n",
              "      <td>...</td>\n",
              "      <td>...</td>\n",
              "    </tr>\n",
              "    <tr>\n",
              "      <th>2019-12-27</th>\n",
              "      <td>55700.0</td>\n",
              "      <td>56900.0</td>\n",
              "      <td>55500.0</td>\n",
              "      <td>56500.0</td>\n",
              "      <td>52093.160156</td>\n",
              "      <td>12313056</td>\n",
              "      <td>2019-12-27</td>\n",
              "      <td>2019</td>\n",
              "      <td>12</td>\n",
              "      <td>27</td>\n",
              "    </tr>\n",
              "    <tr>\n",
              "      <th>2019-12-30</th>\n",
              "      <td>56200.0</td>\n",
              "      <td>56600.0</td>\n",
              "      <td>55700.0</td>\n",
              "      <td>55800.0</td>\n",
              "      <td>51447.757812</td>\n",
              "      <td>8356767</td>\n",
              "      <td>2019-12-30</td>\n",
              "      <td>2019</td>\n",
              "      <td>12</td>\n",
              "      <td>30</td>\n",
              "    </tr>\n",
              "    <tr>\n",
              "      <th>2020-01-02</th>\n",
              "      <td>55500.0</td>\n",
              "      <td>56000.0</td>\n",
              "      <td>55000.0</td>\n",
              "      <td>55200.0</td>\n",
              "      <td>50894.550781</td>\n",
              "      <td>12993228</td>\n",
              "      <td>2020-01-02</td>\n",
              "      <td>2020</td>\n",
              "      <td>1</td>\n",
              "      <td>2</td>\n",
              "    </tr>\n",
              "    <tr>\n",
              "      <th>2020-01-03</th>\n",
              "      <td>56000.0</td>\n",
              "      <td>56600.0</td>\n",
              "      <td>54900.0</td>\n",
              "      <td>55500.0</td>\n",
              "      <td>51171.156250</td>\n",
              "      <td>15422255</td>\n",
              "      <td>2020-01-03</td>\n",
              "      <td>2020</td>\n",
              "      <td>1</td>\n",
              "      <td>3</td>\n",
              "    </tr>\n",
              "    <tr>\n",
              "      <th>2020-01-06</th>\n",
              "      <td>54900.0</td>\n",
              "      <td>55600.0</td>\n",
              "      <td>54600.0</td>\n",
              "      <td>55500.0</td>\n",
              "      <td>51171.156250</td>\n",
              "      <td>10278951</td>\n",
              "      <td>2020-01-06</td>\n",
              "      <td>2020</td>\n",
              "      <td>1</td>\n",
              "      <td>6</td>\n",
              "    </tr>\n",
              "  </tbody>\n",
              "</table>\n",
              "<p>5035 rows × 10 columns</p>\n",
              "</div>\n",
              "      <button class=\"colab-df-convert\" onclick=\"convertToInteractive('df-15f9fc8c-0edf-41b7-bbd2-4ac6e787d179')\"\n",
              "              title=\"Convert this dataframe to an interactive table.\"\n",
              "              style=\"display:none;\">\n",
              "        \n",
              "  <svg xmlns=\"http://www.w3.org/2000/svg\" height=\"24px\"viewBox=\"0 0 24 24\"\n",
              "       width=\"24px\">\n",
              "    <path d=\"M0 0h24v24H0V0z\" fill=\"none\"/>\n",
              "    <path d=\"M18.56 5.44l.94 2.06.94-2.06 2.06-.94-2.06-.94-.94-2.06-.94 2.06-2.06.94zm-11 1L8.5 8.5l.94-2.06 2.06-.94-2.06-.94L8.5 2.5l-.94 2.06-2.06.94zm10 10l.94 2.06.94-2.06 2.06-.94-2.06-.94-.94-2.06-.94 2.06-2.06.94z\"/><path d=\"M17.41 7.96l-1.37-1.37c-.4-.4-.92-.59-1.43-.59-.52 0-1.04.2-1.43.59L10.3 9.45l-7.72 7.72c-.78.78-.78 2.05 0 2.83L4 21.41c.39.39.9.59 1.41.59.51 0 1.02-.2 1.41-.59l7.78-7.78 2.81-2.81c.8-.78.8-2.07 0-2.86zM5.41 20L4 18.59l7.72-7.72 1.47 1.35L5.41 20z\"/>\n",
              "  </svg>\n",
              "      </button>\n",
              "      \n",
              "  <style>\n",
              "    .colab-df-container {\n",
              "      display:flex;\n",
              "      flex-wrap:wrap;\n",
              "      gap: 12px;\n",
              "    }\n",
              "\n",
              "    .colab-df-convert {\n",
              "      background-color: #E8F0FE;\n",
              "      border: none;\n",
              "      border-radius: 50%;\n",
              "      cursor: pointer;\n",
              "      display: none;\n",
              "      fill: #1967D2;\n",
              "      height: 32px;\n",
              "      padding: 0 0 0 0;\n",
              "      width: 32px;\n",
              "    }\n",
              "\n",
              "    .colab-df-convert:hover {\n",
              "      background-color: #E2EBFA;\n",
              "      box-shadow: 0px 1px 2px rgba(60, 64, 67, 0.3), 0px 1px 3px 1px rgba(60, 64, 67, 0.15);\n",
              "      fill: #174EA6;\n",
              "    }\n",
              "\n",
              "    [theme=dark] .colab-df-convert {\n",
              "      background-color: #3B4455;\n",
              "      fill: #D2E3FC;\n",
              "    }\n",
              "\n",
              "    [theme=dark] .colab-df-convert:hover {\n",
              "      background-color: #434B5C;\n",
              "      box-shadow: 0px 1px 3px 1px rgba(0, 0, 0, 0.15);\n",
              "      filter: drop-shadow(0px 1px 2px rgba(0, 0, 0, 0.3));\n",
              "      fill: #FFFFFF;\n",
              "    }\n",
              "  </style>\n",
              "\n",
              "      <script>\n",
              "        const buttonEl =\n",
              "          document.querySelector('#df-15f9fc8c-0edf-41b7-bbd2-4ac6e787d179 button.colab-df-convert');\n",
              "        buttonEl.style.display =\n",
              "          google.colab.kernel.accessAllowed ? 'block' : 'none';\n",
              "\n",
              "        async function convertToInteractive(key) {\n",
              "          const element = document.querySelector('#df-15f9fc8c-0edf-41b7-bbd2-4ac6e787d179');\n",
              "          const dataTable =\n",
              "            await google.colab.kernel.invokeFunction('convertToInteractive',\n",
              "                                                     [key], {});\n",
              "          if (!dataTable) return;\n",
              "\n",
              "          const docLinkHtml = 'Like what you see? Visit the ' +\n",
              "            '<a target=\"_blank\" href=https://colab.research.google.com/notebooks/data_table.ipynb>data table notebook</a>'\n",
              "            + ' to learn more about interactive tables.';\n",
              "          element.innerHTML = '';\n",
              "          dataTable['output_type'] = 'display_data';\n",
              "          await google.colab.output.renderOutput(dataTable, element);\n",
              "          const docLink = document.createElement('div');\n",
              "          docLink.innerHTML = docLinkHtml;\n",
              "          element.appendChild(docLink);\n",
              "        }\n",
              "      </script>\n",
              "    </div>\n",
              "  </div>\n",
              "  "
            ]
          },
          "metadata": {},
          "execution_count": 94
        }
      ]
    },
    {
      "cell_type": "markdown",
      "source": [
        "sklearn 패키지에 있는 MinMaxScaler를 활용하여 전체 학습 데이터를 Normalize 해 주도록 하겠습니다."
      ],
      "metadata": {
        "id": "2MaWdtapwQa5"
      }
    },
    {
      "cell_type": "code",
      "source": [
        "from sklearn.preprocessing import MinMaxScaler\n",
        "\n",
        "scaler = MinMaxScaler()\n",
        "scale_cols = ['Open', 'High', 'Low', 'Close', 'Volume']\n",
        "df_scaled = scaler.fit_transform(df_price[scale_cols])\n",
        "\n",
        "df_scaled = pd.DataFrame(df_scaled)\n",
        "df_scaled.columns = scale_cols\n",
        "\n",
        "print(df_scaled)"
      ],
      "metadata": {
        "colab": {
          "base_uri": "https://localhost:8080/"
        },
        "id": "gNzvgcHPpPm5",
        "outputId": "fffe7409-de86-48b4-c211-4f00c27d2a29"
      },
      "execution_count": 95,
      "outputs": [
        {
          "output_type": "stream",
          "name": "stdout",
          "text": [
            "          Open      High       Low     Close    Volume\n",
            "0     0.062955  0.061176  0.059625  0.062030  0.451816\n",
            "1     0.059316  0.060263  0.057048  0.052303  0.454770\n",
            "2     0.058406  0.055150  0.058152  0.053037  0.331212\n",
            "3     0.054949  0.053141  0.054104  0.051569  0.245440\n",
            "4     0.055677  0.054967  0.058152  0.055790  0.285479\n",
            "...        ...       ...       ...       ...       ...\n",
            "5030  0.967249  0.988678  0.976813  0.986787  0.074981\n",
            "5031  0.976346  0.983199  0.980493  0.973940  0.050889\n",
            "5032  0.963610  0.972243  0.967611  0.962929  0.079123\n",
            "5033  0.972707  0.983199  0.965771  0.968435  0.093915\n",
            "5034  0.952693  0.964938  0.960250  0.968435  0.062594\n",
            "\n",
            "[5035 rows x 5 columns]\n"
          ]
        }
      ]
    },
    {
      "cell_type": "code",
      "source": [
        "TEST_SIZE = 200"
      ],
      "metadata": {
        "id": "4MOVAb5Ewgid"
      },
      "execution_count": 96,
      "outputs": []
    },
    {
      "cell_type": "code",
      "source": [
        "train = df_scaled[:-TEST_SIZE]\n",
        "test = df_scaled[-TEST_SIZE:]"
      ],
      "metadata": {
        "id": "a7GiUNxSw7Le"
      },
      "execution_count": 97,
      "outputs": []
    },
    {
      "cell_type": "markdown",
      "source": [
        "##Dataset을 만들어 주는 함수\n",
        "window_size는 내가 얼마동안(기간)의 주가 데이터에 기반하여 다음날 종가를 예측할 것인가를 정하는 parameter 입니다. 즉 내가 과거 20일을 기반으로 내일 데이터를 예측한다라고 가정했을 때는 window_size=20이 됩니다.\n"
      ],
      "metadata": {
        "id": "HGdRXZZ7xpjI"
      }
    },
    {
      "cell_type": "code",
      "source": [
        "def make_dataset(data, label, window_size = 20):\n",
        "    feature_list = []\n",
        "    label_list = []\n",
        "    for i in range(len(data) - window_size):\n",
        "        feature_list.append(np.array(data.iloc[i:i+window_size]))\n",
        "        label_list.append(np.array(label.iloc[i+window_size]))\n",
        "    return np.array(feature_list), np.array(label_list)"
      ],
      "metadata": {
        "id": "mtaAv9-NxX2U"
      },
      "execution_count": 98,
      "outputs": []
    },
    {
      "cell_type": "code",
      "source": [
        "feature_cols = ['Open', 'High', 'Low', 'Volume']\n",
        "label_cols = ['Close']\n",
        "\n",
        "train_feature = train[feature_cols]\n",
        "train_label = train[label_cols]\n",
        "\n",
        "test_feature = test[feature_cols]\n",
        "test_label = test[label_cols]"
      ],
      "metadata": {
        "id": "ZsPtwfs70cMM"
      },
      "execution_count": 99,
      "outputs": []
    },
    {
      "cell_type": "code",
      "source": [
        "# train dataset\n",
        "train_feature, train_label = make_dataset(train_feature, train_label, 20)\n",
        "\n",
        "# train, validation set 생성\n",
        "from sklearn.model_selection import train_test_split\n",
        "x_train, x_valid, y_train, y_valid = train_test_split(train_feature, train_label, test_size=0.2)"
      ],
      "metadata": {
        "id": "UMDh_kzn0f9Z"
      },
      "execution_count": 100,
      "outputs": []
    },
    {
      "cell_type": "code",
      "source": [
        "x_train.shape, x_valid.shape\n",
        "# ((6086, 20, 4), (1522, 20, 4))"
      ],
      "metadata": {
        "colab": {
          "base_uri": "https://localhost:8080/"
        },
        "id": "IxUCcFof0gh6",
        "outputId": "91ce728e-7d3b-450f-9fd8-5248ea11c33f"
      },
      "execution_count": 101,
      "outputs": [
        {
          "output_type": "execute_result",
          "data": {
            "text/plain": [
              "((3852, 20, 4), (963, 20, 4))"
            ]
          },
          "metadata": {},
          "execution_count": 101
        }
      ]
    },
    {
      "cell_type": "code",
      "source": [
        "# test dataset (실제 예측 해볼 데이터)\n",
        "test_feature, test_label = make_dataset(test_feature, test_label, 20)\n",
        "test_feature.shape, test_label.shape\n",
        "# ((180, 20, 4), (180, 1))"
      ],
      "metadata": {
        "colab": {
          "base_uri": "https://localhost:8080/"
        },
        "id": "XtCO5ik5xYJe",
        "outputId": "187b5c3a-d3c4-4bac-e6b2-38501d85d761"
      },
      "execution_count": 102,
      "outputs": [
        {
          "output_type": "execute_result",
          "data": {
            "text/plain": [
              "((180, 20, 4), (180, 1))"
            ]
          },
          "metadata": {},
          "execution_count": 102
        }
      ]
    },
    {
      "cell_type": "code",
      "source": [
        "train_feature.shape"
      ],
      "metadata": {
        "colab": {
          "base_uri": "https://localhost:8080/"
        },
        "id": "XrfvZR8W1RU3",
        "outputId": "343a0d43-55e5-415a-ca6c-21957b428f16"
      },
      "execution_count": 103,
      "outputs": [
        {
          "output_type": "execute_result",
          "data": {
            "text/plain": [
              "(4815, 20, 4)"
            ]
          },
          "metadata": {},
          "execution_count": 103
        }
      ]
    },
    {
      "cell_type": "markdown",
      "source": [
        "#Keras를 활용한 LSTM 모델 생성\n",
        "모델은 매우 간단한 모델을 적용하였습니다. 이미 우리의 feature 데이터의 복잡도가 그렇게 크지 않고 학습해야할 데이터도 10,000개 이하 수준이기 때문에 아주 단순한 모델로도 충분히 좋은 성능을 기대해 볼 수 있습니다. 오히려 너무 복잡한 모델이 과적합을 유발하고, 학습도 잘 되지 못하는 결과를 낳을 수 있습니다."
      ],
      "metadata": {
        "id": "pyxNkexx4Zry"
      }
    },
    {
      "cell_type": "code",
      "source": [
        "from keras.models import Sequential\n",
        "from keras.layers import Dense\n",
        "from keras.callbacks import EarlyStopping, ModelCheckpoint\n",
        "from keras.layers import LSTM\n",
        "\n",
        "\n",
        "model = Sequential()\n",
        "model.add(LSTM(16, \n",
        "      input_shape=(train_feature.shape[1], train_feature.shape[2]), \n",
        "      activation='relu', \n",
        "      return_sequences=False)\n",
        "          )\n",
        "model.add(Dense(1))"
      ],
      "metadata": {
        "id": "Q6f2TQNWxqXB"
      },
      "execution_count": 104,
      "outputs": []
    },
    {
      "cell_type": "markdown",
      "source": [
        "모델의 학습"
      ],
      "metadata": {
        "id": "3ciSTKd-4gPu"
      }
    },
    {
      "cell_type": "code",
      "source": [
        "import os\n",
        "model_path = os.getcwd()\n",
        "\n",
        "model.compile(loss='mean_squared_error', optimizer='adam')\n",
        "early_stop = EarlyStopping(monitor='val_loss', patience=5)\n",
        "filename = os.path.join(model_path, 'tmp_checkpoint.h5')\n",
        "checkpoint = ModelCheckpoint(filename, monitor='val_loss', verbose=1, save_best_only=True, mode='auto')\n",
        "\n",
        "history = model.fit(x_train, y_train, \n",
        "                    epochs=200, \n",
        "                    batch_size=16,\n",
        "                    validation_data=(x_valid, y_valid), \n",
        "                    callbacks=[early_stop, checkpoint])"
      ],
      "metadata": {
        "colab": {
          "base_uri": "https://localhost:8080/"
        },
        "id": "tr0tzE4e1DAr",
        "outputId": "e7f47242-a8e9-40f7-afb2-7db64b171e9b"
      },
      "execution_count": 112,
      "outputs": [
        {
          "output_type": "stream",
          "name": "stdout",
          "text": [
            "Epoch 1/200\n",
            "240/241 [============================>.] - ETA: 0s - loss: 0.0024\n",
            "Epoch 1: val_loss improved from inf to 0.00029, saving model to /content/tmp_checkpoint.h5\n",
            "241/241 [==============================] - 4s 9ms/step - loss: 0.0024 - val_loss: 2.9080e-04\n",
            "Epoch 2/200\n",
            "234/241 [============================>.] - ETA: 0s - loss: 2.6433e-04\n",
            "Epoch 2: val_loss improved from 0.00029 to 0.00024, saving model to /content/tmp_checkpoint.h5\n",
            "241/241 [==============================] - 2s 8ms/step - loss: 2.6280e-04 - val_loss: 2.3645e-04\n",
            "Epoch 3/200\n",
            "237/241 [============================>.] - ETA: 0s - loss: 2.1785e-04\n",
            "Epoch 3: val_loss improved from 0.00024 to 0.00019, saving model to /content/tmp_checkpoint.h5\n",
            "241/241 [==============================] - 2s 8ms/step - loss: 2.1802e-04 - val_loss: 1.8930e-04\n",
            "Epoch 4/200\n",
            "238/241 [============================>.] - ETA: 0s - loss: 1.9244e-04\n",
            "Epoch 4: val_loss did not improve from 0.00019\n",
            "241/241 [==============================] - 2s 8ms/step - loss: 1.9388e-04 - val_loss: 2.2140e-04\n",
            "Epoch 5/200\n",
            "240/241 [============================>.] - ETA: 0s - loss: 1.7934e-04\n",
            "Epoch 5: val_loss improved from 0.00019 to 0.00016, saving model to /content/tmp_checkpoint.h5\n",
            "241/241 [==============================] - 2s 8ms/step - loss: 1.7945e-04 - val_loss: 1.5940e-04\n",
            "Epoch 6/200\n",
            "241/241 [==============================] - ETA: 0s - loss: 1.8968e-04\n",
            "Epoch 6: val_loss improved from 0.00016 to 0.00015, saving model to /content/tmp_checkpoint.h5\n",
            "241/241 [==============================] - 2s 8ms/step - loss: 1.8968e-04 - val_loss: 1.5017e-04\n",
            "Epoch 7/200\n",
            "240/241 [============================>.] - ETA: 0s - loss: 1.6525e-04\n",
            "Epoch 7: val_loss improved from 0.00015 to 0.00015, saving model to /content/tmp_checkpoint.h5\n",
            "241/241 [==============================] - 2s 9ms/step - loss: 1.6509e-04 - val_loss: 1.5006e-04\n",
            "Epoch 8/200\n",
            "234/241 [============================>.] - ETA: 0s - loss: 1.5647e-04\n",
            "Epoch 8: val_loss improved from 0.00015 to 0.00014, saving model to /content/tmp_checkpoint.h5\n",
            "241/241 [==============================] - 2s 8ms/step - loss: 1.5607e-04 - val_loss: 1.4036e-04\n",
            "Epoch 9/200\n",
            "234/241 [============================>.] - ETA: 0s - loss: 1.5093e-04\n",
            "Epoch 9: val_loss improved from 0.00014 to 0.00013, saving model to /content/tmp_checkpoint.h5\n",
            "241/241 [==============================] - 2s 9ms/step - loss: 1.5052e-04 - val_loss: 1.3081e-04\n",
            "Epoch 10/200\n",
            "236/241 [============================>.] - ETA: 0s - loss: 1.4502e-04\n",
            "Epoch 10: val_loss improved from 0.00013 to 0.00013, saving model to /content/tmp_checkpoint.h5\n",
            "241/241 [==============================] - 3s 10ms/step - loss: 1.4380e-04 - val_loss: 1.2667e-04\n",
            "Epoch 11/200\n",
            "241/241 [==============================] - ETA: 0s - loss: 1.4552e-04\n",
            "Epoch 11: val_loss improved from 0.00013 to 0.00012, saving model to /content/tmp_checkpoint.h5\n",
            "241/241 [==============================] - 2s 8ms/step - loss: 1.4552e-04 - val_loss: 1.2248e-04\n",
            "Epoch 12/200\n",
            "236/241 [============================>.] - ETA: 0s - loss: 1.4137e-04\n",
            "Epoch 12: val_loss did not improve from 0.00012\n",
            "241/241 [==============================] - 2s 8ms/step - loss: 1.4052e-04 - val_loss: 1.3095e-04\n",
            "Epoch 13/200\n",
            "236/241 [============================>.] - ETA: 0s - loss: 1.3503e-04\n",
            "Epoch 13: val_loss improved from 0.00012 to 0.00012, saving model to /content/tmp_checkpoint.h5\n",
            "241/241 [==============================] - 2s 8ms/step - loss: 1.3557e-04 - val_loss: 1.1832e-04\n",
            "Epoch 14/200\n",
            "236/241 [============================>.] - ETA: 0s - loss: 1.3482e-04\n",
            "Epoch 14: val_loss improved from 0.00012 to 0.00011, saving model to /content/tmp_checkpoint.h5\n",
            "241/241 [==============================] - 2s 8ms/step - loss: 1.3417e-04 - val_loss: 1.1263e-04\n",
            "Epoch 15/200\n",
            "236/241 [============================>.] - ETA: 0s - loss: 1.2296e-04\n",
            "Epoch 15: val_loss improved from 0.00011 to 0.00011, saving model to /content/tmp_checkpoint.h5\n",
            "241/241 [==============================] - 2s 8ms/step - loss: 1.2318e-04 - val_loss: 1.0858e-04\n",
            "Epoch 16/200\n",
            "237/241 [============================>.] - ETA: 0s - loss: 1.2647e-04\n",
            "Epoch 16: val_loss did not improve from 0.00011\n",
            "241/241 [==============================] - 2s 10ms/step - loss: 1.2564e-04 - val_loss: 1.1562e-04\n",
            "Epoch 17/200\n",
            "240/241 [============================>.] - ETA: 0s - loss: 1.2462e-04\n",
            "Epoch 17: val_loss improved from 0.00011 to 0.00011, saving model to /content/tmp_checkpoint.h5\n",
            "241/241 [==============================] - 2s 10ms/step - loss: 1.2442e-04 - val_loss: 1.0641e-04\n",
            "Epoch 18/200\n",
            "237/241 [============================>.] - ETA: 0s - loss: 1.2024e-04\n",
            "Epoch 18: val_loss did not improve from 0.00011\n",
            "241/241 [==============================] - 2s 8ms/step - loss: 1.2031e-04 - val_loss: 1.1790e-04\n",
            "Epoch 19/200\n",
            "239/241 [============================>.] - ETA: 0s - loss: 1.1020e-04\n",
            "Epoch 19: val_loss improved from 0.00011 to 0.00010, saving model to /content/tmp_checkpoint.h5\n",
            "241/241 [==============================] - 2s 8ms/step - loss: 1.1121e-04 - val_loss: 1.0083e-04\n",
            "Epoch 20/200\n",
            "239/241 [============================>.] - ETA: 0s - loss: 1.1112e-04\n",
            "Epoch 20: val_loss did not improve from 0.00010\n",
            "241/241 [==============================] - 2s 8ms/step - loss: 1.1120e-04 - val_loss: 1.1930e-04\n",
            "Epoch 21/200\n",
            "236/241 [============================>.] - ETA: 0s - loss: 1.0579e-04\n",
            "Epoch 21: val_loss improved from 0.00010 to 0.00010, saving model to /content/tmp_checkpoint.h5\n",
            "241/241 [==============================] - 2s 8ms/step - loss: 1.0669e-04 - val_loss: 9.8714e-05\n",
            "Epoch 22/200\n",
            "238/241 [============================>.] - ETA: 0s - loss: 1.0986e-04\n",
            "Epoch 22: val_loss improved from 0.00010 to 0.00010, saving model to /content/tmp_checkpoint.h5\n",
            "241/241 [==============================] - 2s 8ms/step - loss: 1.0973e-04 - val_loss: 9.7421e-05\n",
            "Epoch 23/200\n",
            "237/241 [============================>.] - ETA: 0s - loss: 1.0544e-04\n",
            "Epoch 23: val_loss improved from 0.00010 to 0.00009, saving model to /content/tmp_checkpoint.h5\n",
            "241/241 [==============================] - 2s 8ms/step - loss: 1.0651e-04 - val_loss: 9.4501e-05\n",
            "Epoch 24/200\n",
            "235/241 [============================>.] - ETA: 0s - loss: 1.1158e-04\n",
            "Epoch 24: val_loss did not improve from 0.00009\n",
            "241/241 [==============================] - 2s 8ms/step - loss: 1.1128e-04 - val_loss: 1.0634e-04\n",
            "Epoch 25/200\n",
            "240/241 [============================>.] - ETA: 0s - loss: 1.0783e-04\n",
            "Epoch 25: val_loss improved from 0.00009 to 0.00009, saving model to /content/tmp_checkpoint.h5\n",
            "241/241 [==============================] - 2s 8ms/step - loss: 1.0773e-04 - val_loss: 9.4019e-05\n",
            "Epoch 26/200\n",
            "238/241 [============================>.] - ETA: 0s - loss: 1.0287e-04\n",
            "Epoch 26: val_loss improved from 0.00009 to 0.00009, saving model to /content/tmp_checkpoint.h5\n",
            "241/241 [==============================] - 2s 8ms/step - loss: 1.0295e-04 - val_loss: 9.0303e-05\n",
            "Epoch 27/200\n",
            "239/241 [============================>.] - ETA: 0s - loss: 9.9039e-05\n",
            "Epoch 27: val_loss did not improve from 0.00009\n",
            "241/241 [==============================] - 2s 8ms/step - loss: 9.8632e-05 - val_loss: 9.1527e-05\n",
            "Epoch 28/200\n",
            "241/241 [==============================] - ETA: 0s - loss: 9.4613e-05\n",
            "Epoch 28: val_loss improved from 0.00009 to 0.00009, saving model to /content/tmp_checkpoint.h5\n",
            "241/241 [==============================] - 2s 8ms/step - loss: 9.4613e-05 - val_loss: 8.7925e-05\n",
            "Epoch 29/200\n",
            "241/241 [==============================] - ETA: 0s - loss: 9.5476e-05\n",
            "Epoch 29: val_loss did not improve from 0.00009\n",
            "241/241 [==============================] - 2s 8ms/step - loss: 9.5476e-05 - val_loss: 9.4886e-05\n",
            "Epoch 30/200\n",
            "241/241 [==============================] - ETA: 0s - loss: 9.6678e-05\n",
            "Epoch 30: val_loss improved from 0.00009 to 0.00009, saving model to /content/tmp_checkpoint.h5\n",
            "241/241 [==============================] - 2s 8ms/step - loss: 9.6678e-05 - val_loss: 8.6877e-05\n",
            "Epoch 31/200\n",
            "235/241 [============================>.] - ETA: 0s - loss: 9.7196e-05\n",
            "Epoch 31: val_loss improved from 0.00009 to 0.00009, saving model to /content/tmp_checkpoint.h5\n",
            "241/241 [==============================] - 2s 8ms/step - loss: 9.8416e-05 - val_loss: 8.5510e-05\n",
            "Epoch 32/200\n",
            "237/241 [============================>.] - ETA: 0s - loss: 9.3486e-05\n",
            "Epoch 32: val_loss did not improve from 0.00009\n",
            "241/241 [==============================] - 2s 8ms/step - loss: 9.3549e-05 - val_loss: 1.0310e-04\n",
            "Epoch 33/200\n",
            "236/241 [============================>.] - ETA: 0s - loss: 9.2939e-05\n",
            "Epoch 33: val_loss did not improve from 0.00009\n",
            "241/241 [==============================] - 2s 8ms/step - loss: 9.2478e-05 - val_loss: 8.5695e-05\n",
            "Epoch 34/200\n",
            "240/241 [============================>.] - ETA: 0s - loss: 9.1965e-05\n",
            "Epoch 34: val_loss did not improve from 0.00009\n",
            "241/241 [==============================] - 2s 8ms/step - loss: 9.1788e-05 - val_loss: 9.4387e-05\n",
            "Epoch 35/200\n",
            "238/241 [============================>.] - ETA: 0s - loss: 9.1552e-05\n",
            "Epoch 35: val_loss improved from 0.00009 to 0.00008, saving model to /content/tmp_checkpoint.h5\n",
            "241/241 [==============================] - 2s 8ms/step - loss: 9.2511e-05 - val_loss: 8.4497e-05\n",
            "Epoch 36/200\n",
            "235/241 [============================>.] - ETA: 0s - loss: 9.2042e-05\n",
            "Epoch 36: val_loss did not improve from 0.00008\n",
            "241/241 [==============================] - 2s 8ms/step - loss: 9.1662e-05 - val_loss: 8.5259e-05\n",
            "Epoch 37/200\n",
            "239/241 [============================>.] - ETA: 0s - loss: 9.1082e-05\n",
            "Epoch 37: val_loss did not improve from 0.00008\n",
            "241/241 [==============================] - 2s 10ms/step - loss: 9.0859e-05 - val_loss: 8.5087e-05\n",
            "Epoch 38/200\n",
            "235/241 [============================>.] - ETA: 0s - loss: 9.1992e-05\n",
            "Epoch 38: val_loss did not improve from 0.00008\n",
            "241/241 [==============================] - 3s 11ms/step - loss: 9.2838e-05 - val_loss: 8.5358e-05\n",
            "Epoch 39/200\n",
            "237/241 [============================>.] - ETA: 0s - loss: 9.0542e-05\n",
            "Epoch 39: val_loss improved from 0.00008 to 0.00008, saving model to /content/tmp_checkpoint.h5\n",
            "241/241 [==============================] - 2s 8ms/step - loss: 9.0179e-05 - val_loss: 8.3262e-05\n",
            "Epoch 40/200\n",
            "237/241 [============================>.] - ETA: 0s - loss: 8.9128e-05\n",
            "Epoch 40: val_loss did not improve from 0.00008\n",
            "241/241 [==============================] - 2s 8ms/step - loss: 8.8767e-05 - val_loss: 8.5434e-05\n",
            "Epoch 41/200\n",
            "237/241 [============================>.] - ETA: 0s - loss: 8.5628e-05\n",
            "Epoch 41: val_loss improved from 0.00008 to 0.00008, saving model to /content/tmp_checkpoint.h5\n",
            "241/241 [==============================] - 2s 8ms/step - loss: 8.5361e-05 - val_loss: 8.0441e-05\n",
            "Epoch 42/200\n",
            "236/241 [============================>.] - ETA: 0s - loss: 8.0584e-05\n",
            "Epoch 42: val_loss did not improve from 0.00008\n",
            "241/241 [==============================] - 2s 8ms/step - loss: 8.0822e-05 - val_loss: 8.3921e-05\n",
            "Epoch 43/200\n",
            "238/241 [============================>.] - ETA: 0s - loss: 8.1064e-05\n",
            "Epoch 43: val_loss did not improve from 0.00008\n",
            "241/241 [==============================] - 2s 8ms/step - loss: 8.1796e-05 - val_loss: 1.0621e-04\n",
            "Epoch 44/200\n",
            "237/241 [============================>.] - ETA: 0s - loss: 8.6917e-05\n",
            "Epoch 44: val_loss improved from 0.00008 to 0.00008, saving model to /content/tmp_checkpoint.h5\n",
            "241/241 [==============================] - 2s 8ms/step - loss: 8.6284e-05 - val_loss: 7.8026e-05\n",
            "Epoch 45/200\n",
            "238/241 [============================>.] - ETA: 0s - loss: 8.7025e-05\n",
            "Epoch 45: val_loss did not improve from 0.00008\n",
            "241/241 [==============================] - 2s 8ms/step - loss: 8.6603e-05 - val_loss: 8.0312e-05\n",
            "Epoch 46/200\n",
            "241/241 [==============================] - ETA: 0s - loss: 7.9104e-05\n",
            "Epoch 46: val_loss did not improve from 0.00008\n",
            "241/241 [==============================] - 2s 8ms/step - loss: 7.9104e-05 - val_loss: 8.1750e-05\n",
            "Epoch 47/200\n",
            "234/241 [============================>.] - ETA: 0s - loss: 8.4179e-05\n",
            "Epoch 47: val_loss did not improve from 0.00008\n",
            "241/241 [==============================] - 2s 8ms/step - loss: 8.3939e-05 - val_loss: 7.9502e-05\n",
            "Epoch 48/200\n",
            "238/241 [============================>.] - ETA: 0s - loss: 7.6123e-05\n",
            "Epoch 48: val_loss did not improve from 0.00008\n",
            "241/241 [==============================] - 2s 8ms/step - loss: 7.6061e-05 - val_loss: 8.8034e-05\n",
            "Epoch 49/200\n",
            "238/241 [============================>.] - ETA: 0s - loss: 7.8086e-05\n",
            "Epoch 49: val_loss did not improve from 0.00008\n",
            "241/241 [==============================] - 2s 8ms/step - loss: 7.7889e-05 - val_loss: 8.8625e-05\n"
          ]
        }
      ]
    },
    {
      "cell_type": "code",
      "source": [
        "# weight 로딩\n",
        "model.load_weights(filename)\n",
        "\n",
        "# 예측\n",
        "pred = model.predict(test_feature)"
      ],
      "metadata": {
        "colab": {
          "base_uri": "https://localhost:8080/"
        },
        "id": "GtlePWfA32Om",
        "outputId": "e517c87a-6438-446e-ac5f-04d75f61ff43"
      },
      "execution_count": 113,
      "outputs": [
        {
          "output_type": "stream",
          "name": "stdout",
          "text": [
            "6/6 [==============================] - 0s 3ms/step\n"
          ]
        }
      ]
    },
    {
      "cell_type": "code",
      "source": [
        "plt.figure(figsize=(12, 9))\n",
        "plt.plot(test_label, label='actual')\n",
        "plt.plot(pred, label='prediction')\n",
        "plt.legend()\n",
        "plt.show()"
      ],
      "metadata": {
        "colab": {
          "base_uri": "https://localhost:8080/",
          "height": 537
        },
        "id": "eRgcadij4nRT",
        "outputId": "6a6fbb6e-61b1-4d34-bec1-bf4b8b979bb3"
      },
      "execution_count": 114,
      "outputs": [
        {
          "output_type": "display_data",
          "data": {
            "text/plain": [
              "<Figure size 864x648 with 1 Axes>"
            ],
            "image/png": "[encoded data removed]"
          },
          "metadata": {
            "needs_background": "light"
          }
        }
      ]
    }
  ]
}
