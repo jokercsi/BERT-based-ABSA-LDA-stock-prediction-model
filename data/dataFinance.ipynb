{
 "cells": [
  {
   "cell_type": "code",
   "execution_count": 104,
   "metadata": {},
   "outputs": [
    {
     "ename": "UnicodeDecodeError",
     "evalue": "'utf-8' codec can't decode byte 0x81 in position 105020: invalid start byte",
     "output_type": "error",
     "traceback": [
      "\u001b[1;31m---------------------------------------------------------------------------\u001b[0m",
      "\u001b[1;31mUnicodeDecodeError\u001b[0m                        Traceback (most recent call last)",
      "\u001b[1;32m<ipython-input-104-a25ac831419e>\u001b[0m in \u001b[0;36m<module>\u001b[1;34m\u001b[0m\n\u001b[0;32m      1\u001b[0m \u001b[1;32mimport\u001b[0m \u001b[0mpandas\u001b[0m \u001b[1;32mas\u001b[0m \u001b[0mpd\u001b[0m\u001b[1;33m\u001b[0m\u001b[1;33m\u001b[0m\u001b[0m\n\u001b[0;32m      2\u001b[0m \u001b[1;33m\u001b[0m\u001b[0m\n\u001b[1;32m----> 3\u001b[1;33m \u001b[0mdf\u001b[0m \u001b[1;33m=\u001b[0m \u001b[0mpd\u001b[0m\u001b[1;33m.\u001b[0m\u001b[0mread_csv\u001b[0m\u001b[1;33m(\u001b[0m\u001b[1;34m'finance_news.csv'\u001b[0m\u001b[1;33m,\u001b[0m \u001b[0mencoding\u001b[0m \u001b[1;33m=\u001b[0m \u001b[1;34m\"utf-8\"\u001b[0m\u001b[1;33m)\u001b[0m\u001b[1;33m\u001b[0m\u001b[1;33m\u001b[0m\u001b[0m\n\u001b[0m",
      "\u001b[1;32mc:\\Users\\kim\\anaconda3\\envs\\bert\\lib\\site-packages\\pandas\\io\\parsers.py\u001b[0m in \u001b[0;36mread_csv\u001b[1;34m(filepath_or_buffer, sep, delimiter, header, names, index_col, usecols, squeeze, prefix, mangle_dupe_cols, dtype, engine, converters, true_values, false_values, skipinitialspace, skiprows, skipfooter, nrows, na_values, keep_default_na, na_filter, verbose, skip_blank_lines, parse_dates, infer_datetime_format, keep_date_col, date_parser, dayfirst, cache_dates, iterator, chunksize, compression, thousands, decimal, lineterminator, quotechar, quoting, doublequote, escapechar, comment, encoding, dialect, error_bad_lines, warn_bad_lines, delim_whitespace, low_memory, memory_map, float_precision)\u001b[0m\n\u001b[0;32m    686\u001b[0m     )\n\u001b[0;32m    687\u001b[0m \u001b[1;33m\u001b[0m\u001b[0m\n\u001b[1;32m--> 688\u001b[1;33m     \u001b[1;32mreturn\u001b[0m \u001b[0m_read\u001b[0m\u001b[1;33m(\u001b[0m\u001b[0mfilepath_or_buffer\u001b[0m\u001b[1;33m,\u001b[0m \u001b[0mkwds\u001b[0m\u001b[1;33m)\u001b[0m\u001b[1;33m\u001b[0m\u001b[1;33m\u001b[0m\u001b[0m\n\u001b[0m\u001b[0;32m    689\u001b[0m \u001b[1;33m\u001b[0m\u001b[0m\n\u001b[0;32m    690\u001b[0m \u001b[1;33m\u001b[0m\u001b[0m\n",
      "\u001b[1;32mc:\\Users\\kim\\anaconda3\\envs\\bert\\lib\\site-packages\\pandas\\io\\parsers.py\u001b[0m in \u001b[0;36m_read\u001b[1;34m(filepath_or_buffer, kwds)\u001b[0m\n\u001b[0;32m    452\u001b[0m \u001b[1;33m\u001b[0m\u001b[0m\n\u001b[0;32m    453\u001b[0m     \u001b[1;31m# Create the parser.\u001b[0m\u001b[1;33m\u001b[0m\u001b[1;33m\u001b[0m\u001b[1;33m\u001b[0m\u001b[0m\n\u001b[1;32m--> 454\u001b[1;33m     \u001b[0mparser\u001b[0m \u001b[1;33m=\u001b[0m \u001b[0mTextFileReader\u001b[0m\u001b[1;33m(\u001b[0m\u001b[0mfp_or_buf\u001b[0m\u001b[1;33m,\u001b[0m \u001b[1;33m**\u001b[0m\u001b[0mkwds\u001b[0m\u001b[1;33m)\u001b[0m\u001b[1;33m\u001b[0m\u001b[1;33m\u001b[0m\u001b[0m\n\u001b[0m\u001b[0;32m    455\u001b[0m \u001b[1;33m\u001b[0m\u001b[0m\n\u001b[0;32m    456\u001b[0m     \u001b[1;32mif\u001b[0m \u001b[0mchunksize\u001b[0m \u001b[1;32mor\u001b[0m \u001b[0miterator\u001b[0m\u001b[1;33m:\u001b[0m\u001b[1;33m\u001b[0m\u001b[1;33m\u001b[0m\u001b[0m\n",
      "\u001b[1;32mc:\\Users\\kim\\anaconda3\\envs\\bert\\lib\\site-packages\\pandas\\io\\parsers.py\u001b[0m in \u001b[0;36m__init__\u001b[1;34m(self, f, engine, **kwds)\u001b[0m\n\u001b[0;32m    946\u001b[0m             \u001b[0mself\u001b[0m\u001b[1;33m.\u001b[0m\u001b[0moptions\u001b[0m\u001b[1;33m[\u001b[0m\u001b[1;34m\"has_index_names\"\u001b[0m\u001b[1;33m]\u001b[0m \u001b[1;33m=\u001b[0m \u001b[0mkwds\u001b[0m\u001b[1;33m[\u001b[0m\u001b[1;34m\"has_index_names\"\u001b[0m\u001b[1;33m]\u001b[0m\u001b[1;33m\u001b[0m\u001b[1;33m\u001b[0m\u001b[0m\n\u001b[0;32m    947\u001b[0m \u001b[1;33m\u001b[0m\u001b[0m\n\u001b[1;32m--> 948\u001b[1;33m         \u001b[0mself\u001b[0m\u001b[1;33m.\u001b[0m\u001b[0m_make_engine\u001b[0m\u001b[1;33m(\u001b[0m\u001b[0mself\u001b[0m\u001b[1;33m.\u001b[0m\u001b[0mengine\u001b[0m\u001b[1;33m)\u001b[0m\u001b[1;33m\u001b[0m\u001b[1;33m\u001b[0m\u001b[0m\n\u001b[0m\u001b[0;32m    949\u001b[0m \u001b[1;33m\u001b[0m\u001b[0m\n\u001b[0;32m    950\u001b[0m     \u001b[1;32mdef\u001b[0m \u001b[0mclose\u001b[0m\u001b[1;33m(\u001b[0m\u001b[0mself\u001b[0m\u001b[1;33m)\u001b[0m\u001b[1;33m:\u001b[0m\u001b[1;33m\u001b[0m\u001b[1;33m\u001b[0m\u001b[0m\n",
      "\u001b[1;32mc:\\Users\\kim\\anaconda3\\envs\\bert\\lib\\site-packages\\pandas\\io\\parsers.py\u001b[0m in \u001b[0;36m_make_engine\u001b[1;34m(self, engine)\u001b[0m\n\u001b[0;32m   1178\u001b[0m     \u001b[1;32mdef\u001b[0m \u001b[0m_make_engine\u001b[0m\u001b[1;33m(\u001b[0m\u001b[0mself\u001b[0m\u001b[1;33m,\u001b[0m \u001b[0mengine\u001b[0m\u001b[1;33m=\u001b[0m\u001b[1;34m\"c\"\u001b[0m\u001b[1;33m)\u001b[0m\u001b[1;33m:\u001b[0m\u001b[1;33m\u001b[0m\u001b[1;33m\u001b[0m\u001b[0m\n\u001b[0;32m   1179\u001b[0m         \u001b[1;32mif\u001b[0m \u001b[0mengine\u001b[0m \u001b[1;33m==\u001b[0m \u001b[1;34m\"c\"\u001b[0m\u001b[1;33m:\u001b[0m\u001b[1;33m\u001b[0m\u001b[1;33m\u001b[0m\u001b[0m\n\u001b[1;32m-> 1180\u001b[1;33m             \u001b[0mself\u001b[0m\u001b[1;33m.\u001b[0m\u001b[0m_engine\u001b[0m \u001b[1;33m=\u001b[0m \u001b[0mCParserWrapper\u001b[0m\u001b[1;33m(\u001b[0m\u001b[0mself\u001b[0m\u001b[1;33m.\u001b[0m\u001b[0mf\u001b[0m\u001b[1;33m,\u001b[0m \u001b[1;33m**\u001b[0m\u001b[0mself\u001b[0m\u001b[1;33m.\u001b[0m\u001b[0moptions\u001b[0m\u001b[1;33m)\u001b[0m\u001b[1;33m\u001b[0m\u001b[1;33m\u001b[0m\u001b[0m\n\u001b[0m\u001b[0;32m   1181\u001b[0m         \u001b[1;32melse\u001b[0m\u001b[1;33m:\u001b[0m\u001b[1;33m\u001b[0m\u001b[1;33m\u001b[0m\u001b[0m\n\u001b[0;32m   1182\u001b[0m             \u001b[1;32mif\u001b[0m \u001b[0mengine\u001b[0m \u001b[1;33m==\u001b[0m \u001b[1;34m\"python\"\u001b[0m\u001b[1;33m:\u001b[0m\u001b[1;33m\u001b[0m\u001b[1;33m\u001b[0m\u001b[0m\n",
      "\u001b[1;32mc:\\Users\\kim\\anaconda3\\envs\\bert\\lib\\site-packages\\pandas\\io\\parsers.py\u001b[0m in \u001b[0;36m__init__\u001b[1;34m(self, src, **kwds)\u001b[0m\n\u001b[0;32m   2008\u001b[0m         \u001b[0mkwds\u001b[0m\u001b[1;33m[\u001b[0m\u001b[1;34m\"usecols\"\u001b[0m\u001b[1;33m]\u001b[0m \u001b[1;33m=\u001b[0m \u001b[0mself\u001b[0m\u001b[1;33m.\u001b[0m\u001b[0musecols\u001b[0m\u001b[1;33m\u001b[0m\u001b[1;33m\u001b[0m\u001b[0m\n\u001b[0;32m   2009\u001b[0m \u001b[1;33m\u001b[0m\u001b[0m\n\u001b[1;32m-> 2010\u001b[1;33m         \u001b[0mself\u001b[0m\u001b[1;33m.\u001b[0m\u001b[0m_reader\u001b[0m \u001b[1;33m=\u001b[0m \u001b[0mparsers\u001b[0m\u001b[1;33m.\u001b[0m\u001b[0mTextReader\u001b[0m\u001b[1;33m(\u001b[0m\u001b[0msrc\u001b[0m\u001b[1;33m,\u001b[0m \u001b[1;33m**\u001b[0m\u001b[0mkwds\u001b[0m\u001b[1;33m)\u001b[0m\u001b[1;33m\u001b[0m\u001b[1;33m\u001b[0m\u001b[0m\n\u001b[0m\u001b[0;32m   2011\u001b[0m         \u001b[0mself\u001b[0m\u001b[1;33m.\u001b[0m\u001b[0munnamed_cols\u001b[0m \u001b[1;33m=\u001b[0m \u001b[0mself\u001b[0m\u001b[1;33m.\u001b[0m\u001b[0m_reader\u001b[0m\u001b[1;33m.\u001b[0m\u001b[0munnamed_cols\u001b[0m\u001b[1;33m\u001b[0m\u001b[1;33m\u001b[0m\u001b[0m\n\u001b[0;32m   2012\u001b[0m \u001b[1;33m\u001b[0m\u001b[0m\n",
      "\u001b[1;32mpandas\\_libs\\parsers.pyx\u001b[0m in \u001b[0;36mpandas._libs.parsers.TextReader.__cinit__\u001b[1;34m()\u001b[0m\n",
      "\u001b[1;32mpandas\\_libs\\parsers.pyx\u001b[0m in \u001b[0;36mpandas._libs.parsers.TextReader._get_header\u001b[1;34m()\u001b[0m\n",
      "\u001b[1;32mpandas\\_libs\\parsers.pyx\u001b[0m in \u001b[0;36mpandas._libs.parsers.TextReader._tokenize_rows\u001b[1;34m()\u001b[0m\n",
      "\u001b[1;32mpandas\\_libs\\parsers.pyx\u001b[0m in \u001b[0;36mpandas._libs.parsers.raise_parser_error\u001b[1;34m()\u001b[0m\n",
      "\u001b[1;31mUnicodeDecodeError\u001b[0m: 'utf-8' codec can't decode byte 0x81 in position 105020: invalid start byte"
     ]
    }
   ],
   "source": [
    "import pandas as pd\n",
    "\n",
    "df = pd.read_csv('finance_news.csv', encoding = \"utf-8\")"
   ]
  },
  {
   "cell_type": "code",
   "execution_count": 82,
   "metadata": {},
   "outputs": [
    {
     "data": {
      "text/html": [
       "<div>\n",
       "<style scoped>\n",
       "    .dataframe tbody tr th:only-of-type {\n",
       "        vertical-align: middle;\n",
       "    }\n",
       "\n",
       "    .dataframe tbody tr th {\n",
       "        vertical-align: top;\n",
       "    }\n",
       "\n",
       "    .dataframe thead th {\n",
       "        text-align: right;\n",
       "    }\n",
       "</style>\n",
       "<table border=\"1\" class=\"dataframe\">\n",
       "  <thead>\n",
       "    <tr style=\"text-align: right;\">\n",
       "      <th></th>\n",
       "      <th>date</th>\n",
       "      <th>text</th>\n",
       "    </tr>\n",
       "  </thead>\n",
       "  <tbody>\n",
       "    <tr>\n",
       "      <th>0</th>\n",
       "      <td>2022/10/8</td>\n",
       "      <td>Have you read your account statements for the ...</td>\n",
       "    </tr>\n",
       "    <tr>\n",
       "      <th>1</th>\n",
       "      <td>2022/10/8</td>\n",
       "      <td>Wall Street fell sharply on Friday following a...</td>\n",
       "    </tr>\n",
       "    <tr>\n",
       "      <th>2</th>\n",
       "      <td>2022/10/8</td>\n",
       "      <td>By Matthew Shaw 8th Oct, 2022 | 8:10am\\n\\nStoc...</td>\n",
       "    </tr>\n",
       "    <tr>\n",
       "      <th>3</th>\n",
       "      <td>2022/10/8</td>\n",
       "      <td>Stock split 2022: The board of directors of An...</td>\n",
       "    </tr>\n",
       "    <tr>\n",
       "      <th>4</th>\n",
       "      <td>2022/10/8</td>\n",
       "      <td>(Reuters) - Cryptocurrency exchange Huobi Glob...</td>\n",
       "    </tr>\n",
       "    <tr>\n",
       "      <th>...</th>\n",
       "      <td>...</td>\n",
       "      <td>...</td>\n",
       "    </tr>\n",
       "    <tr>\n",
       "      <th>4637</th>\n",
       "      <td>2022/1/1</td>\n",
       "      <td>RomoloTavani/iStock via Getty Images\\n\\n2021 w...</td>\n",
       "    </tr>\n",
       "    <tr>\n",
       "      <th>4638</th>\n",
       "      <td>2022/1/1</td>\n",
       "      <td>MUMBAI: After a strong run post its debut earl...</td>\n",
       "    </tr>\n",
       "    <tr>\n",
       "      <th>4639</th>\n",
       "      <td>2022/1/1</td>\n",
       "      <td>Indian stock market ended the year on a high n...</td>\n",
       "    </tr>\n",
       "    <tr>\n",
       "      <th>4640</th>\n",
       "      <td>2022/1/1</td>\n",
       "      <td>Rather than being pessimistic and expecting ma...</td>\n",
       "    </tr>\n",
       "    <tr>\n",
       "      <th>4641</th>\n",
       "      <td>2022/1/1</td>\n",
       "      <td>Nearly two years after the coronavirus pandemi...</td>\n",
       "    </tr>\n",
       "  </tbody>\n",
       "</table>\n",
       "<p>4642 rows × 2 columns</p>\n",
       "</div>"
      ],
      "text/plain": [
       "           date                                               text\n",
       "0     2022/10/8  Have you read your account statements for the ...\n",
       "1     2022/10/8  Wall Street fell sharply on Friday following a...\n",
       "2     2022/10/8  By Matthew Shaw 8th Oct, 2022 | 8:10am\\n\\nStoc...\n",
       "3     2022/10/8  Stock split 2022: The board of directors of An...\n",
       "4     2022/10/8  (Reuters) - Cryptocurrency exchange Huobi Glob...\n",
       "...         ...                                                ...\n",
       "4637   2022/1/1  RomoloTavani/iStock via Getty Images\\n\\n2021 w...\n",
       "4638   2022/1/1  MUMBAI: After a strong run post its debut earl...\n",
       "4639   2022/1/1  Indian stock market ended the year on a high n...\n",
       "4640   2022/1/1  Rather than being pessimistic and expecting ma...\n",
       "4641   2022/1/1  Nearly two years after the coronavirus pandemi...\n",
       "\n",
       "[4642 rows x 2 columns]"
      ]
     },
     "execution_count": 82,
     "metadata": {},
     "output_type": "execute_result"
    }
   ],
   "source": [
    "df"
   ]
  },
  {
   "cell_type": "code",
   "execution_count": 83,
   "metadata": {},
   "outputs": [
    {
     "data": {
      "text/plain": [
       "'Have you read your account statements for the just-finished third quarter?\\n\\nIf youâ\\x80\\x99re anything like me, your answer is no. You probably already know stocks are down 20% and bonds 14% for the year to date.\\n\\nLooking at our losses wonâ\\x80\\x99t make them any smaller. But it might make us feel smaller. And itâ\\x80\\x99s natural to avoid looking too closely at any evidence that might undermine our belief that we are skilled investors. In down markets, however, making good decisions often requires admitting things about ourselves we would much rather ignore.\\n\\nLetâ\\x80\\x99s start by recognizing that inertia can be a choice.\\n\\nSince the end of March, when stocks were within a whisker of their all-time highs, investors have withdrawn about $80 billion from stock mutual funds and exchange-traded funds, according to the Investment Company Institute.\\n\\nU.S. and international stock funds held $19.3 trillion at the end of March. So, even though inflation canâ\\x80\\x99t seem to fall and stocks canâ\\x80\\x99t seem to rise, investors have taken only 0.4% of their money out of stock funds.\\n\\nThatâ\\x80\\x99s partly because of sheer inertia, partly because millions of people invest on autopilot and partly because changing course when youâ\\x80\\x99re losing money feels intensely painful.\\n\\nJust about every investor recognizes the wisdom of the old saying, â\\x80\\x9cCut your losses and let your profits run.\" But the only thing worse than losing is having to admit that youâ\\x80\\x99re a loser.\\n\\nSo most investors will avoid selling an investment when itâ\\x80\\x99s down. You can pretend that a paper loss isnâ\\x80\\x99t there, or that it will just work out later. On the other hand, you canâ\\x80\\x99t realize a loss without realizing that youâ\\x80\\x99ve made a mistake.\\n\\nWorse, what you just sold could go back up, or whatever you put the money into instead could go downâ\\x80\\x94making you feel like an idiot twice.\\n\\nNo wonder selling at a loss is so hard and so many people freeze in the face of a bear market.\\n\\nIn a recent study, researchers looked at how nearly 190,000 traders at an international online brokerage used stop-loss orders. These instructions are designed to limit how much you can lose by automatically selling an investment if it falls to a predetermined price.\\n\\nYou might buy a stock at $20 and set a stop-loss order at $15, in theory handcuffing your loss at 25%. In practice, however, people can tear off the cuffs: As a stock falls toward $15, they might drop their stop loss, say to $10. If it keeps dropping until it approaches $10, they cut their stop loss again, maybe to $7.50â\\x80\\x94and so on.\\n\\nHow common is this kind of behavior? In the recent study, 40% of the time the online traders whoâ\\x80\\x99d already placed stop-loss orders took any action related to their positions, it was to lower those stop-loss thresholds even further.\\n\\nThe more the prices of their holdings fell, the farther the traders dropped the levels at which they would automatically be forced to sell. Instead of stopping their losses, these traders ended up chasing them. They intended to quit, but they couldnâ\\x80\\x99t.\\n\\nSurely professional investors are better at selling?\\n\\nSurely you jest.\\n\\nNew research shows that fund managers lose an average of about 0.8 percentage points of return annually through poor selling decisions. The managers tend to sell either their most extreme recent winners or losersâ\\x80\\x94which, on average, go on to outperform after the funds dump them.\\n\\nâ\\x80\\x9cThey could have done substantially better by throwing a dart at their portfolio and selling whatever it hit instead of the stocks they actually sold,\" says Alex Imas, one of the studyâ\\x80\\x99s authors and a finance professor at the University of Chicago.\\n\\nTo learn whether your selling decisions are any good, youâ\\x80\\x99ll have to track not only the investments you hold, but those you sold. If what you sold is outperforming what you hold, youâ\\x80\\x99ve been selling the wrong investmentsâ\\x80\\x94something youâ\\x80\\x99ll never learn unless you are willing to look.\\n\\nMaking peace with your losses requires planning ahead, says Annie Duke, a cognitive psychologist, former poker champion and author of the book â\\x80\\x9cQuit: The Power of Knowing When to Walk Away.\"\\n\\nâ\\x80\\x9cOur bias against quitting is really strong,\" she says. â\\x80\\x9cWhen the facts conflict with our feelings, weâ\\x80\\x99ll find a way to ignore the facts.\"\\n\\nOne of the best ways to determine whether you should quit is to design, in advance, what Ms. Duke calls â\\x80\\x9ckill criteria.\" That commits you to a set of conditions an investment has to meetâ\\x80\\x94or else be sold.\\n\\nLetâ\\x80\\x99s say you bought bitcoin last year because you believed it was a protective hedge against inflation. Putting kill criteria in place would have committed you to something along these lines: â\\x80\\x9cIf bitcoin goes down when inflation goes up, my thesis has been disproved, and therefore I must sell if I lose at least 25% in a period when inflation exceeds 5%.\"\\n\\nOther people might have different reasons for owning bitcoin, but you canâ\\x80\\x99t switch kill criteria after the fact. When your rationale turned out to be wrong, you would have had to sell, thereby avoiding much of bitcoinâ\\x80\\x99s nearly 60% drop this year.\\n\\nFor most investors, buying and holding is usually the right decision. But getting rid of your losers doesnâ\\x80\\x99t make you one, too.\\n\\nDisclaimer: This story has been published from a wire agency feed without modifications to the text.'"
      ]
     },
     "execution_count": 83,
     "metadata": {},
     "output_type": "execute_result"
    }
   ],
   "source": [
    "df['text'][0]"
   ]
  },
  {
   "cell_type": "code",
   "execution_count": 84,
   "metadata": {},
   "outputs": [
    {
     "ename": "KeyError",
     "evalue": "\"['Unnamed: 2' 'Unnamed: 3' 'Unnamed: 4' 'Unnamed: 5' 'Unnamed: 6'\\n 'Unnamed: 7' 'Unnamed: 8' 'Unnamed: 9' 'Unnamed: 10' 'Unnamed: 11'] not found in axis\"",
     "output_type": "error",
     "traceback": [
      "\u001b[1;31m---------------------------------------------------------------------------\u001b[0m",
      "\u001b[1;31mKeyError\u001b[0m                                  Traceback (most recent call last)",
      "\u001b[1;32m<ipython-input-84-ab50d9046ffe>\u001b[0m in \u001b[0;36m<module>\u001b[1;34m\u001b[0m\n\u001b[1;32m----> 1\u001b[1;33m \u001b[0mdf\u001b[0m \u001b[1;33m=\u001b[0m \u001b[0mdf\u001b[0m\u001b[1;33m.\u001b[0m\u001b[0mdrop\u001b[0m\u001b[1;33m(\u001b[0m\u001b[1;33m[\u001b[0m\u001b[1;34m'Unnamed: 2'\u001b[0m\u001b[1;33m,\u001b[0m\u001b[1;34m'Unnamed: 3'\u001b[0m\u001b[1;33m,\u001b[0m\u001b[1;34m'Unnamed: 4'\u001b[0m\u001b[1;33m,\u001b[0m\u001b[1;34m'Unnamed: 5'\u001b[0m\u001b[1;33m,\u001b[0m\u001b[1;34m'Unnamed: 6'\u001b[0m\u001b[1;33m,\u001b[0m\u001b[1;34m'Unnamed: 7'\u001b[0m\u001b[1;33m,\u001b[0m\u001b[1;34m'Unnamed: 8'\u001b[0m\u001b[1;33m,\u001b[0m\u001b[1;34m'Unnamed: 9'\u001b[0m\u001b[1;33m,\u001b[0m\u001b[1;34m'Unnamed: 10'\u001b[0m\u001b[1;33m,\u001b[0m\u001b[1;34m'Unnamed: 11'\u001b[0m\u001b[1;33m]\u001b[0m\u001b[1;33m,\u001b[0m \u001b[0maxis\u001b[0m\u001b[1;33m=\u001b[0m\u001b[1;36m1\u001b[0m\u001b[1;33m)\u001b[0m\u001b[1;33m\u001b[0m\u001b[1;33m\u001b[0m\u001b[0m\n\u001b[0m",
      "\u001b[1;32mc:\\Users\\kim\\anaconda3\\envs\\bert\\lib\\site-packages\\pandas\\core\\frame.py\u001b[0m in \u001b[0;36mdrop\u001b[1;34m(self, labels, axis, index, columns, level, inplace, errors)\u001b[0m\n\u001b[0;32m   4172\u001b[0m             \u001b[0mlevel\u001b[0m\u001b[1;33m=\u001b[0m\u001b[0mlevel\u001b[0m\u001b[1;33m,\u001b[0m\u001b[1;33m\u001b[0m\u001b[1;33m\u001b[0m\u001b[0m\n\u001b[0;32m   4173\u001b[0m             \u001b[0minplace\u001b[0m\u001b[1;33m=\u001b[0m\u001b[0minplace\u001b[0m\u001b[1;33m,\u001b[0m\u001b[1;33m\u001b[0m\u001b[1;33m\u001b[0m\u001b[0m\n\u001b[1;32m-> 4174\u001b[1;33m             \u001b[0merrors\u001b[0m\u001b[1;33m=\u001b[0m\u001b[0merrors\u001b[0m\u001b[1;33m,\u001b[0m\u001b[1;33m\u001b[0m\u001b[1;33m\u001b[0m\u001b[0m\n\u001b[0m\u001b[0;32m   4175\u001b[0m         )\n\u001b[0;32m   4176\u001b[0m \u001b[1;33m\u001b[0m\u001b[0m\n",
      "\u001b[1;32mc:\\Users\\kim\\anaconda3\\envs\\bert\\lib\\site-packages\\pandas\\core\\generic.py\u001b[0m in \u001b[0;36mdrop\u001b[1;34m(self, labels, axis, index, columns, level, inplace, errors)\u001b[0m\n\u001b[0;32m   3887\u001b[0m         \u001b[1;32mfor\u001b[0m \u001b[0maxis\u001b[0m\u001b[1;33m,\u001b[0m \u001b[0mlabels\u001b[0m \u001b[1;32min\u001b[0m \u001b[0maxes\u001b[0m\u001b[1;33m.\u001b[0m\u001b[0mitems\u001b[0m\u001b[1;33m(\u001b[0m\u001b[1;33m)\u001b[0m\u001b[1;33m:\u001b[0m\u001b[1;33m\u001b[0m\u001b[1;33m\u001b[0m\u001b[0m\n\u001b[0;32m   3888\u001b[0m             \u001b[1;32mif\u001b[0m \u001b[0mlabels\u001b[0m \u001b[1;32mis\u001b[0m \u001b[1;32mnot\u001b[0m \u001b[1;32mNone\u001b[0m\u001b[1;33m:\u001b[0m\u001b[1;33m\u001b[0m\u001b[1;33m\u001b[0m\u001b[0m\n\u001b[1;32m-> 3889\u001b[1;33m                 \u001b[0mobj\u001b[0m \u001b[1;33m=\u001b[0m \u001b[0mobj\u001b[0m\u001b[1;33m.\u001b[0m\u001b[0m_drop_axis\u001b[0m\u001b[1;33m(\u001b[0m\u001b[0mlabels\u001b[0m\u001b[1;33m,\u001b[0m \u001b[0maxis\u001b[0m\u001b[1;33m,\u001b[0m \u001b[0mlevel\u001b[0m\u001b[1;33m=\u001b[0m\u001b[0mlevel\u001b[0m\u001b[1;33m,\u001b[0m \u001b[0merrors\u001b[0m\u001b[1;33m=\u001b[0m\u001b[0merrors\u001b[0m\u001b[1;33m)\u001b[0m\u001b[1;33m\u001b[0m\u001b[1;33m\u001b[0m\u001b[0m\n\u001b[0m\u001b[0;32m   3890\u001b[0m \u001b[1;33m\u001b[0m\u001b[0m\n\u001b[0;32m   3891\u001b[0m         \u001b[1;32mif\u001b[0m \u001b[0minplace\u001b[0m\u001b[1;33m:\u001b[0m\u001b[1;33m\u001b[0m\u001b[1;33m\u001b[0m\u001b[0m\n",
      "\u001b[1;32mc:\\Users\\kim\\anaconda3\\envs\\bert\\lib\\site-packages\\pandas\\core\\generic.py\u001b[0m in \u001b[0;36m_drop_axis\u001b[1;34m(self, labels, axis, level, errors)\u001b[0m\n\u001b[0;32m   3921\u001b[0m                 \u001b[0mnew_axis\u001b[0m \u001b[1;33m=\u001b[0m \u001b[0maxis\u001b[0m\u001b[1;33m.\u001b[0m\u001b[0mdrop\u001b[0m\u001b[1;33m(\u001b[0m\u001b[0mlabels\u001b[0m\u001b[1;33m,\u001b[0m \u001b[0mlevel\u001b[0m\u001b[1;33m=\u001b[0m\u001b[0mlevel\u001b[0m\u001b[1;33m,\u001b[0m \u001b[0merrors\u001b[0m\u001b[1;33m=\u001b[0m\u001b[0merrors\u001b[0m\u001b[1;33m)\u001b[0m\u001b[1;33m\u001b[0m\u001b[1;33m\u001b[0m\u001b[0m\n\u001b[0;32m   3922\u001b[0m             \u001b[1;32melse\u001b[0m\u001b[1;33m:\u001b[0m\u001b[1;33m\u001b[0m\u001b[1;33m\u001b[0m\u001b[0m\n\u001b[1;32m-> 3923\u001b[1;33m                 \u001b[0mnew_axis\u001b[0m \u001b[1;33m=\u001b[0m \u001b[0maxis\u001b[0m\u001b[1;33m.\u001b[0m\u001b[0mdrop\u001b[0m\u001b[1;33m(\u001b[0m\u001b[0mlabels\u001b[0m\u001b[1;33m,\u001b[0m \u001b[0merrors\u001b[0m\u001b[1;33m=\u001b[0m\u001b[0merrors\u001b[0m\u001b[1;33m)\u001b[0m\u001b[1;33m\u001b[0m\u001b[1;33m\u001b[0m\u001b[0m\n\u001b[0m\u001b[0;32m   3924\u001b[0m             \u001b[0mresult\u001b[0m \u001b[1;33m=\u001b[0m \u001b[0mself\u001b[0m\u001b[1;33m.\u001b[0m\u001b[0mreindex\u001b[0m\u001b[1;33m(\u001b[0m\u001b[1;33m**\u001b[0m\u001b[1;33m{\u001b[0m\u001b[0maxis_name\u001b[0m\u001b[1;33m:\u001b[0m \u001b[0mnew_axis\u001b[0m\u001b[1;33m}\u001b[0m\u001b[1;33m)\u001b[0m\u001b[1;33m\u001b[0m\u001b[1;33m\u001b[0m\u001b[0m\n\u001b[0;32m   3925\u001b[0m \u001b[1;33m\u001b[0m\u001b[0m\n",
      "\u001b[1;32mc:\\Users\\kim\\anaconda3\\envs\\bert\\lib\\site-packages\\pandas\\core\\indexes\\base.py\u001b[0m in \u001b[0;36mdrop\u001b[1;34m(self, labels, errors)\u001b[0m\n\u001b[0;32m   5285\u001b[0m         \u001b[1;32mif\u001b[0m \u001b[0mmask\u001b[0m\u001b[1;33m.\u001b[0m\u001b[0many\u001b[0m\u001b[1;33m(\u001b[0m\u001b[1;33m)\u001b[0m\u001b[1;33m:\u001b[0m\u001b[1;33m\u001b[0m\u001b[1;33m\u001b[0m\u001b[0m\n\u001b[0;32m   5286\u001b[0m             \u001b[1;32mif\u001b[0m \u001b[0merrors\u001b[0m \u001b[1;33m!=\u001b[0m \u001b[1;34m\"ignore\"\u001b[0m\u001b[1;33m:\u001b[0m\u001b[1;33m\u001b[0m\u001b[1;33m\u001b[0m\u001b[0m\n\u001b[1;32m-> 5287\u001b[1;33m                 \u001b[1;32mraise\u001b[0m \u001b[0mKeyError\u001b[0m\u001b[1;33m(\u001b[0m\u001b[1;34mf\"{labels[mask]} not found in axis\"\u001b[0m\u001b[1;33m)\u001b[0m\u001b[1;33m\u001b[0m\u001b[1;33m\u001b[0m\u001b[0m\n\u001b[0m\u001b[0;32m   5288\u001b[0m             \u001b[0mindexer\u001b[0m \u001b[1;33m=\u001b[0m \u001b[0mindexer\u001b[0m\u001b[1;33m[\u001b[0m\u001b[1;33m~\u001b[0m\u001b[0mmask\u001b[0m\u001b[1;33m]\u001b[0m\u001b[1;33m\u001b[0m\u001b[1;33m\u001b[0m\u001b[0m\n\u001b[0;32m   5289\u001b[0m         \u001b[1;32mreturn\u001b[0m \u001b[0mself\u001b[0m\u001b[1;33m.\u001b[0m\u001b[0mdelete\u001b[0m\u001b[1;33m(\u001b[0m\u001b[0mindexer\u001b[0m\u001b[1;33m)\u001b[0m\u001b[1;33m\u001b[0m\u001b[1;33m\u001b[0m\u001b[0m\n",
      "\u001b[1;31mKeyError\u001b[0m: \"['Unnamed: 2' 'Unnamed: 3' 'Unnamed: 4' 'Unnamed: 5' 'Unnamed: 6'\\n 'Unnamed: 7' 'Unnamed: 8' 'Unnamed: 9' 'Unnamed: 10' 'Unnamed: 11'] not found in axis\""
     ]
    }
   ],
   "source": [
    "df = df.drop(['Unnamed: 2','Unnamed: 3','Unnamed: 4','Unnamed: 5','Unnamed: 6','Unnamed: 7','Unnamed: 8','Unnamed: 9','Unnamed: 10','Unnamed: 11'], axis=1)"
   ]
  },
  {
   "cell_type": "code",
   "execution_count": 85,
   "metadata": {},
   "outputs": [
    {
     "data": {
      "text/html": [
       "<div>\n",
       "<style scoped>\n",
       "    .dataframe tbody tr th:only-of-type {\n",
       "        vertical-align: middle;\n",
       "    }\n",
       "\n",
       "    .dataframe tbody tr th {\n",
       "        vertical-align: top;\n",
       "    }\n",
       "\n",
       "    .dataframe thead th {\n",
       "        text-align: right;\n",
       "    }\n",
       "</style>\n",
       "<table border=\"1\" class=\"dataframe\">\n",
       "  <thead>\n",
       "    <tr style=\"text-align: right;\">\n",
       "      <th></th>\n",
       "      <th>date</th>\n",
       "      <th>text</th>\n",
       "    </tr>\n",
       "  </thead>\n",
       "  <tbody>\n",
       "    <tr>\n",
       "      <th>0</th>\n",
       "      <td>2022/10/8</td>\n",
       "      <td>Have you read your account statements for the ...</td>\n",
       "    </tr>\n",
       "    <tr>\n",
       "      <th>1</th>\n",
       "      <td>2022/10/8</td>\n",
       "      <td>Wall Street fell sharply on Friday following a...</td>\n",
       "    </tr>\n",
       "    <tr>\n",
       "      <th>2</th>\n",
       "      <td>2022/10/8</td>\n",
       "      <td>By Matthew Shaw 8th Oct, 2022 | 8:10am\\n\\nStoc...</td>\n",
       "    </tr>\n",
       "    <tr>\n",
       "      <th>3</th>\n",
       "      <td>2022/10/8</td>\n",
       "      <td>Stock split 2022: The board of directors of An...</td>\n",
       "    </tr>\n",
       "    <tr>\n",
       "      <th>4</th>\n",
       "      <td>2022/10/8</td>\n",
       "      <td>(Reuters) - Cryptocurrency exchange Huobi Glob...</td>\n",
       "    </tr>\n",
       "    <tr>\n",
       "      <th>...</th>\n",
       "      <td>...</td>\n",
       "      <td>...</td>\n",
       "    </tr>\n",
       "    <tr>\n",
       "      <th>4637</th>\n",
       "      <td>2022/1/1</td>\n",
       "      <td>RomoloTavani/iStock via Getty Images\\n\\n2021 w...</td>\n",
       "    </tr>\n",
       "    <tr>\n",
       "      <th>4638</th>\n",
       "      <td>2022/1/1</td>\n",
       "      <td>MUMBAI: After a strong run post its debut earl...</td>\n",
       "    </tr>\n",
       "    <tr>\n",
       "      <th>4639</th>\n",
       "      <td>2022/1/1</td>\n",
       "      <td>Indian stock market ended the year on a high n...</td>\n",
       "    </tr>\n",
       "    <tr>\n",
       "      <th>4640</th>\n",
       "      <td>2022/1/1</td>\n",
       "      <td>Rather than being pessimistic and expecting ma...</td>\n",
       "    </tr>\n",
       "    <tr>\n",
       "      <th>4641</th>\n",
       "      <td>2022/1/1</td>\n",
       "      <td>Nearly two years after the coronavirus pandemi...</td>\n",
       "    </tr>\n",
       "  </tbody>\n",
       "</table>\n",
       "<p>4642 rows × 2 columns</p>\n",
       "</div>"
      ],
      "text/plain": [
       "           date                                               text\n",
       "0     2022/10/8  Have you read your account statements for the ...\n",
       "1     2022/10/8  Wall Street fell sharply on Friday following a...\n",
       "2     2022/10/8  By Matthew Shaw 8th Oct, 2022 | 8:10am\\n\\nStoc...\n",
       "3     2022/10/8  Stock split 2022: The board of directors of An...\n",
       "4     2022/10/8  (Reuters) - Cryptocurrency exchange Huobi Glob...\n",
       "...         ...                                                ...\n",
       "4637   2022/1/1  RomoloTavani/iStock via Getty Images\\n\\n2021 w...\n",
       "4638   2022/1/1  MUMBAI: After a strong run post its debut earl...\n",
       "4639   2022/1/1  Indian stock market ended the year on a high n...\n",
       "4640   2022/1/1  Rather than being pessimistic and expecting ma...\n",
       "4641   2022/1/1  Nearly two years after the coronavirus pandemi...\n",
       "\n",
       "[4642 rows x 2 columns]"
      ]
     },
     "execution_count": 85,
     "metadata": {},
     "output_type": "execute_result"
    }
   ],
   "source": [
    "df"
   ]
  },
  {
   "cell_type": "code",
   "execution_count": 86,
   "metadata": {},
   "outputs": [
    {
     "data": {
      "text/html": [
       "<div>\n",
       "<style scoped>\n",
       "    .dataframe tbody tr th:only-of-type {\n",
       "        vertical-align: middle;\n",
       "    }\n",
       "\n",
       "    .dataframe tbody tr th {\n",
       "        vertical-align: top;\n",
       "    }\n",
       "\n",
       "    .dataframe thead th {\n",
       "        text-align: right;\n",
       "    }\n",
       "</style>\n",
       "<table border=\"1\" class=\"dataframe\">\n",
       "  <thead>\n",
       "    <tr style=\"text-align: right;\">\n",
       "      <th></th>\n",
       "      <th>date</th>\n",
       "      <th>text</th>\n",
       "    </tr>\n",
       "  </thead>\n",
       "  <tbody>\n",
       "    <tr>\n",
       "      <th>0</th>\n",
       "      <td>2022/10/8</td>\n",
       "      <td>Have you read your account statements for the ...</td>\n",
       "    </tr>\n",
       "    <tr>\n",
       "      <th>1</th>\n",
       "      <td>2022/10/8</td>\n",
       "      <td>Wall Street fell sharply on Friday following a...</td>\n",
       "    </tr>\n",
       "    <tr>\n",
       "      <th>2</th>\n",
       "      <td>2022/10/8</td>\n",
       "      <td>By Matthew Shaw 8th Oct, 2022 | 8:10am\\n\\nStoc...</td>\n",
       "    </tr>\n",
       "    <tr>\n",
       "      <th>3</th>\n",
       "      <td>2022/10/8</td>\n",
       "      <td>Stock split 2022: The board of directors of An...</td>\n",
       "    </tr>\n",
       "    <tr>\n",
       "      <th>4</th>\n",
       "      <td>2022/10/8</td>\n",
       "      <td>(Reuters) - Cryptocurrency exchange Huobi Glob...</td>\n",
       "    </tr>\n",
       "    <tr>\n",
       "      <th>...</th>\n",
       "      <td>...</td>\n",
       "      <td>...</td>\n",
       "    </tr>\n",
       "    <tr>\n",
       "      <th>4637</th>\n",
       "      <td>2022/1/1</td>\n",
       "      <td>RomoloTavani/iStock via Getty Images\\n\\n2021 w...</td>\n",
       "    </tr>\n",
       "    <tr>\n",
       "      <th>4638</th>\n",
       "      <td>2022/1/1</td>\n",
       "      <td>MUMBAI: After a strong run post its debut earl...</td>\n",
       "    </tr>\n",
       "    <tr>\n",
       "      <th>4639</th>\n",
       "      <td>2022/1/1</td>\n",
       "      <td>Indian stock market ended the year on a high n...</td>\n",
       "    </tr>\n",
       "    <tr>\n",
       "      <th>4640</th>\n",
       "      <td>2022/1/1</td>\n",
       "      <td>Rather than being pessimistic and expecting ma...</td>\n",
       "    </tr>\n",
       "    <tr>\n",
       "      <th>4641</th>\n",
       "      <td>2022/1/1</td>\n",
       "      <td>Nearly two years after the coronavirus pandemi...</td>\n",
       "    </tr>\n",
       "  </tbody>\n",
       "</table>\n",
       "<p>4073 rows × 2 columns</p>\n",
       "</div>"
      ],
      "text/plain": [
       "           date                                               text\n",
       "0     2022/10/8  Have you read your account statements for the ...\n",
       "1     2022/10/8  Wall Street fell sharply on Friday following a...\n",
       "2     2022/10/8  By Matthew Shaw 8th Oct, 2022 | 8:10am\\n\\nStoc...\n",
       "3     2022/10/8  Stock split 2022: The board of directors of An...\n",
       "4     2022/10/8  (Reuters) - Cryptocurrency exchange Huobi Glob...\n",
       "...         ...                                                ...\n",
       "4637   2022/1/1  RomoloTavani/iStock via Getty Images\\n\\n2021 w...\n",
       "4638   2022/1/1  MUMBAI: After a strong run post its debut earl...\n",
       "4639   2022/1/1  Indian stock market ended the year on a high n...\n",
       "4640   2022/1/1  Rather than being pessimistic and expecting ma...\n",
       "4641   2022/1/1  Nearly two years after the coronavirus pandemi...\n",
       "\n",
       "[4073 rows x 2 columns]"
      ]
     },
     "execution_count": 86,
     "metadata": {},
     "output_type": "execute_result"
    }
   ],
   "source": [
    "df.dropna()"
   ]
  },
  {
   "cell_type": "code",
   "execution_count": 87,
   "metadata": {},
   "outputs": [
    {
     "data": {
      "text/plain": [
       "0       2022/10/8\n",
       "1       2022/10/8\n",
       "2       2022/10/8\n",
       "3       2022/10/8\n",
       "4       2022/10/8\n",
       "          ...    \n",
       "4637     2022/1/1\n",
       "4638     2022/1/1\n",
       "4639     2022/1/1\n",
       "4640     2022/1/1\n",
       "4641     2022/1/1\n",
       "Name: date, Length: 4642, dtype: object"
      ]
     },
     "execution_count": 87,
     "metadata": {},
     "output_type": "execute_result"
    }
   ],
   "source": [
    "df['date']"
   ]
  },
  {
   "cell_type": "code",
   "execution_count": 88,
   "metadata": {},
   "outputs": [
    {
     "ename": "SyntaxError",
     "evalue": "invalid syntax (<ipython-input-88-80295d04bc4a>, line 4)",
     "output_type": "error",
     "traceback": [
      "\u001b[1;36m  File \u001b[1;32m\"<ipython-input-88-80295d04bc4a>\"\u001b[1;36m, line \u001b[1;32m4\u001b[0m\n\u001b[1;33m    if\u001b[0m\n\u001b[1;37m       ^\u001b[0m\n\u001b[1;31mSyntaxError\u001b[0m\u001b[1;31m:\u001b[0m invalid syntax\n"
     ]
    }
   ],
   "source": [
    "for label, content in df['date'].items():\n",
    "    #i.str.isalpha()\n",
    "    print(len(content))\n",
    "    if \n",
    "    #if content \n",
    "    #df.drop(label)"
   ]
  },
  {
   "cell_type": "code",
   "execution_count": 89,
   "metadata": {},
   "outputs": [],
   "source": [
    "df['date'] = pd.to_datetime(df['date'], format='%Y/%m/%d', errors='coerce')"
   ]
  },
  {
   "cell_type": "code",
   "execution_count": 90,
   "metadata": {},
   "outputs": [
    {
     "data": {
      "text/plain": [
       "0      2022-10-08\n",
       "1      2022-10-08\n",
       "2      2022-10-08\n",
       "3      2022-10-08\n",
       "4      2022-10-08\n",
       "          ...    \n",
       "4637   2022-01-01\n",
       "4638   2022-01-01\n",
       "4639   2022-01-01\n",
       "4640   2022-01-01\n",
       "4641   2022-01-01\n",
       "Name: date, Length: 4642, dtype: datetime64[ns]"
      ]
     },
     "execution_count": 90,
     "metadata": {},
     "output_type": "execute_result"
    }
   ],
   "source": [
    "df['date']"
   ]
  },
  {
   "cell_type": "code",
   "execution_count": 91,
   "metadata": {},
   "outputs": [],
   "source": [
    "dfNew = df[df['date'].notnull()]"
   ]
  },
  {
   "cell_type": "code",
   "execution_count": 99,
   "metadata": {},
   "outputs": [
    {
     "data": {
      "text/plain": [
       "'Have you read your account statements for the just-finished third quarter?\\n\\nIf youâ\\x80\\x99re anything like me, your answer is no. You probably already know stocks are down 20% and bonds 14% for the year to date.\\n\\nLooking at our losses wonâ\\x80\\x99t make them any smaller. But it might make us feel smaller. And itâ\\x80\\x99s natural to avoid looking too closely at any evidence that might undermine our belief that we are skilled investors. In down markets, however, making good decisions often requires admitting things about ourselves we would much rather ignore.\\n\\nLetâ\\x80\\x99s start by recognizing that inertia can be a choice.\\n\\nSince the end of March, when stocks were within a whisker of their all-time highs, investors have withdrawn about $80 billion from stock mutual funds and exchange-traded funds, according to the Investment Company Institute.\\n\\nU.S. and international stock funds held $19.3 trillion at the end of March. So, even though inflation canâ\\x80\\x99t seem to fall and stocks canâ\\x80\\x99t seem to rise, investors have taken only 0.4% of their money out of stock funds.\\n\\nThatâ\\x80\\x99s partly because of sheer inertia, partly because millions of people invest on autopilot and partly because changing course when youâ\\x80\\x99re losing money feels intensely painful.\\n\\nJust about every investor recognizes the wisdom of the old saying, â\\x80\\x9cCut your losses and let your profits run.\" But the only thing worse than losing is having to admit that youâ\\x80\\x99re a loser.\\n\\nSo most investors will avoid selling an investment when itâ\\x80\\x99s down. You can pretend that a paper loss isnâ\\x80\\x99t there, or that it will just work out later. On the other hand, you canâ\\x80\\x99t realize a loss without realizing that youâ\\x80\\x99ve made a mistake.\\n\\nWorse, what you just sold could go back up, or whatever you put the money into instead could go downâ\\x80\\x94making you feel like an idiot twice.\\n\\nNo wonder selling at a loss is so hard and so many people freeze in the face of a bear market.\\n\\nIn a recent study, researchers looked at how nearly 190,000 traders at an international online brokerage used stop-loss orders. These instructions are designed to limit how much you can lose by automatically selling an investment if it falls to a predetermined price.\\n\\nYou might buy a stock at $20 and set a stop-loss order at $15, in theory handcuffing your loss at 25%. In practice, however, people can tear off the cuffs: As a stock falls toward $15, they might drop their stop loss, say to $10. If it keeps dropping until it approaches $10, they cut their stop loss again, maybe to $7.50â\\x80\\x94and so on.\\n\\nHow common is this kind of behavior? In the recent study, 40% of the time the online traders whoâ\\x80\\x99d already placed stop-loss orders took any action related to their positions, it was to lower those stop-loss thresholds even further.\\n\\nThe more the prices of their holdings fell, the farther the traders dropped the levels at which they would automatically be forced to sell. Instead of stopping their losses, these traders ended up chasing them. They intended to quit, but they couldnâ\\x80\\x99t.\\n\\nSurely professional investors are better at selling?\\n\\nSurely you jest.\\n\\nNew research shows that fund managers lose an average of about 0.8 percentage points of return annually through poor selling decisions. The managers tend to sell either their most extreme recent winners or losersâ\\x80\\x94which, on average, go on to outperform after the funds dump them.\\n\\nâ\\x80\\x9cThey could have done substantially better by throwing a dart at their portfolio and selling whatever it hit instead of the stocks they actually sold,\" says Alex Imas, one of the studyâ\\x80\\x99s authors and a finance professor at the University of Chicago.\\n\\nTo learn whether your selling decisions are any good, youâ\\x80\\x99ll have to track not only the investments you hold, but those you sold. If what you sold is outperforming what you hold, youâ\\x80\\x99ve been selling the wrong investmentsâ\\x80\\x94something youâ\\x80\\x99ll never learn unless you are willing to look.\\n\\nMaking peace with your losses requires planning ahead, says Annie Duke, a cognitive psychologist, former poker champion and author of the book â\\x80\\x9cQuit: The Power of Knowing When to Walk Away.\"\\n\\nâ\\x80\\x9cOur bias against quitting is really strong,\" she says. â\\x80\\x9cWhen the facts conflict with our feelings, weâ\\x80\\x99ll find a way to ignore the facts.\"\\n\\nOne of the best ways to determine whether you should quit is to design, in advance, what Ms. Duke calls â\\x80\\x9ckill criteria.\" That commits you to a set of conditions an investment has to meetâ\\x80\\x94or else be sold.\\n\\nLetâ\\x80\\x99s say you bought bitcoin last year because you believed it was a protective hedge against inflation. Putting kill criteria in place would have committed you to something along these lines: â\\x80\\x9cIf bitcoin goes down when inflation goes up, my thesis has been disproved, and therefore I must sell if I lose at least 25% in a period when inflation exceeds 5%.\"\\n\\nOther people might have different reasons for owning bitcoin, but you canâ\\x80\\x99t switch kill criteria after the fact. When your rationale turned out to be wrong, you would have had to sell, thereby avoiding much of bitcoinâ\\x80\\x99s nearly 60% drop this year.\\n\\nFor most investors, buying and holding is usually the right decision. But getting rid of your losers doesnâ\\x80\\x99t make you one, too.\\n\\nDisclaimer: This story has been published from a wire agency feed without modifications to the text.'"
      ]
     },
     "execution_count": 99,
     "metadata": {},
     "output_type": "execute_result"
    }
   ],
   "source": [
    "dfNew['text'][0]"
   ]
  },
  {
   "cell_type": "markdown",
   "metadata": {},
   "source": [
    "index 새로 적용하기"
   ]
  },
  {
   "cell_type": "code",
   "execution_count": 93,
   "metadata": {},
   "outputs": [
    {
     "data": {
      "text/html": [
       "<div>\n",
       "<style scoped>\n",
       "    .dataframe tbody tr th:only-of-type {\n",
       "        vertical-align: middle;\n",
       "    }\n",
       "\n",
       "    .dataframe tbody tr th {\n",
       "        vertical-align: top;\n",
       "    }\n",
       "\n",
       "    .dataframe thead th {\n",
       "        text-align: right;\n",
       "    }\n",
       "</style>\n",
       "<table border=\"1\" class=\"dataframe\">\n",
       "  <thead>\n",
       "    <tr style=\"text-align: right;\">\n",
       "      <th></th>\n",
       "      <th>index</th>\n",
       "      <th>date</th>\n",
       "      <th>text</th>\n",
       "    </tr>\n",
       "  </thead>\n",
       "  <tbody>\n",
       "    <tr>\n",
       "      <th>0</th>\n",
       "      <td>0</td>\n",
       "      <td>2022-10-08</td>\n",
       "      <td>Have you read your account statements for the ...</td>\n",
       "    </tr>\n",
       "    <tr>\n",
       "      <th>1</th>\n",
       "      <td>1</td>\n",
       "      <td>2022-10-08</td>\n",
       "      <td>Wall Street fell sharply on Friday following a...</td>\n",
       "    </tr>\n",
       "    <tr>\n",
       "      <th>2</th>\n",
       "      <td>2</td>\n",
       "      <td>2022-10-08</td>\n",
       "      <td>By Matthew Shaw 8th Oct, 2022 | 8:10am\\n\\nStoc...</td>\n",
       "    </tr>\n",
       "    <tr>\n",
       "      <th>3</th>\n",
       "      <td>3</td>\n",
       "      <td>2022-10-08</td>\n",
       "      <td>Stock split 2022: The board of directors of An...</td>\n",
       "    </tr>\n",
       "    <tr>\n",
       "      <th>4</th>\n",
       "      <td>4</td>\n",
       "      <td>2022-10-08</td>\n",
       "      <td>(Reuters) - Cryptocurrency exchange Huobi Glob...</td>\n",
       "    </tr>\n",
       "    <tr>\n",
       "      <th>...</th>\n",
       "      <td>...</td>\n",
       "      <td>...</td>\n",
       "      <td>...</td>\n",
       "    </tr>\n",
       "    <tr>\n",
       "      <th>3684</th>\n",
       "      <td>4637</td>\n",
       "      <td>2022-01-01</td>\n",
       "      <td>RomoloTavani/iStock via Getty Images\\n\\n2021 w...</td>\n",
       "    </tr>\n",
       "    <tr>\n",
       "      <th>3685</th>\n",
       "      <td>4638</td>\n",
       "      <td>2022-01-01</td>\n",
       "      <td>MUMBAI: After a strong run post its debut earl...</td>\n",
       "    </tr>\n",
       "    <tr>\n",
       "      <th>3686</th>\n",
       "      <td>4639</td>\n",
       "      <td>2022-01-01</td>\n",
       "      <td>Indian stock market ended the year on a high n...</td>\n",
       "    </tr>\n",
       "    <tr>\n",
       "      <th>3687</th>\n",
       "      <td>4640</td>\n",
       "      <td>2022-01-01</td>\n",
       "      <td>Rather than being pessimistic and expecting ma...</td>\n",
       "    </tr>\n",
       "    <tr>\n",
       "      <th>3688</th>\n",
       "      <td>4641</td>\n",
       "      <td>2022-01-01</td>\n",
       "      <td>Nearly two years after the coronavirus pandemi...</td>\n",
       "    </tr>\n",
       "  </tbody>\n",
       "</table>\n",
       "<p>3689 rows × 3 columns</p>\n",
       "</div>"
      ],
      "text/plain": [
       "      index       date                                               text\n",
       "0         0 2022-10-08  Have you read your account statements for the ...\n",
       "1         1 2022-10-08  Wall Street fell sharply on Friday following a...\n",
       "2         2 2022-10-08  By Matthew Shaw 8th Oct, 2022 | 8:10am\\n\\nStoc...\n",
       "3         3 2022-10-08  Stock split 2022: The board of directors of An...\n",
       "4         4 2022-10-08  (Reuters) - Cryptocurrency exchange Huobi Glob...\n",
       "...     ...        ...                                                ...\n",
       "3684   4637 2022-01-01  RomoloTavani/iStock via Getty Images\\n\\n2021 w...\n",
       "3685   4638 2022-01-01  MUMBAI: After a strong run post its debut earl...\n",
       "3686   4639 2022-01-01  Indian stock market ended the year on a high n...\n",
       "3687   4640 2022-01-01  Rather than being pessimistic and expecting ma...\n",
       "3688   4641 2022-01-01  Nearly two years after the coronavirus pandemi...\n",
       "\n",
       "[3689 rows x 3 columns]"
      ]
     },
     "execution_count": 93,
     "metadata": {},
     "output_type": "execute_result"
    }
   ],
   "source": [
    "dfNew.reset_index()"
   ]
  },
  {
   "cell_type": "code",
   "execution_count": 98,
   "metadata": {},
   "outputs": [],
   "source": [
    "dfNew.to_csv('output.csv',index=False, encoding = \"iso-8859-1\")"
   ]
  },
  {
   "cell_type": "code",
   "execution_count": null,
   "metadata": {},
   "outputs": [],
   "source": []
  }
 ],
 "metadata": {
  "kernelspec": {
   "display_name": "Python 3.6.13 ('bert')",
   "language": "python",
   "name": "python3"
  },
  "language_info": {
   "codemirror_mode": {
    "name": "ipython",
    "version": 3
   },
   "file_extension": ".py",
   "mimetype": "text/x-python",
   "name": "python",
   "nbconvert_exporter": "python",
   "pygments_lexer": "ipython3",
   "version": "3.6.13"
  },
  "orig_nbformat": 4,
  "vscode": {
   "interpreter": {
    "hash": "bb26b34c45cda5fd7a752a76a77b6ddc0e8235d9c9c23f79fb2f23ba41484082"
   }
  }
 },
 "nbformat": 4,
 "nbformat_minor": 2
}
