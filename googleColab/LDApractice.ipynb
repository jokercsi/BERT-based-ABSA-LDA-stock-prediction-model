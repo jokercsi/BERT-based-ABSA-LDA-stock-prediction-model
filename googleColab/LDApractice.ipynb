{
  "nbformat": 4,
  "nbformat_minor": 0,
  "metadata": {
    "colab": {
      "provenance": [],
      "collapsed_sections": []
    },
    "kernelspec": {
      "name": "python3",
      "display_name": "Python 3"
    },
    "language_info": {
      "name": "python"
    }
  },
  "cells": [
    {
      "cell_type": "markdown",
      "source": [
        "뉴스 기사 제목 데이터에 대한 이해\n",
        "약 15년 동안 발행되었던 뉴스 기사 제목을 모아놓은 영어 데이터를 아래 링크에서 다운받을 수 있습니다.\n",
        "\n",
        "데이터 다운 받으면 됨\n",
        "\n",
        "링크 : https://www.kaggle.com/therohk/million-headlines"
      ],
      "metadata": {
        "id": "_W_5-pvILzyu"
      }
    },
    {
      "cell_type": "code",
      "execution_count": 48,
      "metadata": {
        "id": "mL0OwaH9LgWG"
      },
      "outputs": [],
      "source": [
        "import pandas as pd\n",
        "import urllib.request\n",
        "import nltk\n",
        "from nltk.corpus import stopwords\n",
        "from nltk.stem import WordNetLemmatizer\n",
        "from sklearn.feature_extraction.text import TfidfVectorizer\n",
        "from sklearn.decomposition import LatentDirichletAllocation\n"
      ]
    },
    {
      "cell_type": "code",
      "source": [
        "data = pd.read_csv('abcnews-date-text.csv', error_bad_lines=False)\n",
        "print('뉴스 제목 개수 :',len(data))"
      ],
      "metadata": {
        "colab": {
          "base_uri": "https://localhost:8080/"
        },
        "id": "DGQPUpWKLxSz",
        "outputId": "19c8c723-4687-4db8-b3dc-69638ac2458a"
      },
      "execution_count": 49,
      "outputs": [
        {
          "output_type": "stream",
          "name": "stderr",
          "text": [
            "/usr/local/lib/python3.7/dist-packages/IPython/core/interactiveshell.py:3326: FutureWarning: The error_bad_lines argument has been deprecated and will be removed in a future version.\n",
            "\n",
            "\n",
            "  exec(code_obj, self.user_global_ns, self.user_ns)\n"
          ]
        },
        {
          "output_type": "stream",
          "name": "stdout",
          "text": [
            "뉴스 제목 개수 : 1244184\n"
          ]
        }
      ]
    },
    {
      "cell_type": "code",
      "source": [
        "print(data.head(5))"
      ],
      "metadata": {
        "colab": {
          "base_uri": "https://localhost:8080/"
        },
        "id": "_XdYTnqYM7mK",
        "outputId": "2a2b6662-306d-4fd5-ce23-edb7081aed56"
      },
      "execution_count": 50,
      "outputs": [
        {
          "output_type": "stream",
          "name": "stdout",
          "text": [
            "   publish_date                                      headline_text\n",
            "0      20030219  aba decides against community broadcasting lic...\n",
            "1      20030219     act fire witnesses must be aware of defamation\n",
            "2      20030219     a g calls for infrastructure protection summit\n",
            "3      20030219           air nz staff in aust strike for pay rise\n",
            "4      20030219      air nz strike to affect australian travellers\n"
          ]
        }
      ]
    },
    {
      "cell_type": "markdown",
      "source": [
        "기사의 헤드라인만 필요하기 때문에 text라는 이름으로 따로 저장"
      ],
      "metadata": {
        "id": "WJ24Sx-fShyj"
      }
    },
    {
      "cell_type": "code",
      "source": [
        "text = data[['headline_text']]\n",
        "text.head(5)"
      ],
      "metadata": {
        "colab": {
          "base_uri": "https://localhost:8080/",
          "height": 206
        },
        "id": "xrkiYcfkM72i",
        "outputId": "ad2829f9-1a29-4646-c43a-35dd80e4cc3b"
      },
      "execution_count": 51,
      "outputs": [
        {
          "output_type": "execute_result",
          "data": {
            "text/plain": [
              "                                       headline_text\n",
              "0  aba decides against community broadcasting lic...\n",
              "1     act fire witnesses must be aware of defamation\n",
              "2     a g calls for infrastructure protection summit\n",
              "3           air nz staff in aust strike for pay rise\n",
              "4      air nz strike to affect australian travellers"
            ],
            "text/html": [
              "\n",
              "  <div id=\"df-3d676cec-7aa9-468b-a62d-9504d6c8573e\">\n",
              "    <div class=\"colab-df-container\">\n",
              "      <div>\n",
              "<style scoped>\n",
              "    .dataframe tbody tr th:only-of-type {\n",
              "        vertical-align: middle;\n",
              "    }\n",
              "\n",
              "    .dataframe tbody tr th {\n",
              "        vertical-align: top;\n",
              "    }\n",
              "\n",
              "    .dataframe thead th {\n",
              "        text-align: right;\n",
              "    }\n",
              "</style>\n",
              "<table border=\"1\" class=\"dataframe\">\n",
              "  <thead>\n",
              "    <tr style=\"text-align: right;\">\n",
              "      <th></th>\n",
              "      <th>headline_text</th>\n",
              "    </tr>\n",
              "  </thead>\n",
              "  <tbody>\n",
              "    <tr>\n",
              "      <th>0</th>\n",
              "      <td>aba decides against community broadcasting lic...</td>\n",
              "    </tr>\n",
              "    <tr>\n",
              "      <th>1</th>\n",
              "      <td>act fire witnesses must be aware of defamation</td>\n",
              "    </tr>\n",
              "    <tr>\n",
              "      <th>2</th>\n",
              "      <td>a g calls for infrastructure protection summit</td>\n",
              "    </tr>\n",
              "    <tr>\n",
              "      <th>3</th>\n",
              "      <td>air nz staff in aust strike for pay rise</td>\n",
              "    </tr>\n",
              "    <tr>\n",
              "      <th>4</th>\n",
              "      <td>air nz strike to affect australian travellers</td>\n",
              "    </tr>\n",
              "  </tbody>\n",
              "</table>\n",
              "</div>\n",
              "      <button class=\"colab-df-convert\" onclick=\"convertToInteractive('df-3d676cec-7aa9-468b-a62d-9504d6c8573e')\"\n",
              "              title=\"Convert this dataframe to an interactive table.\"\n",
              "              style=\"display:none;\">\n",
              "        \n",
              "  <svg xmlns=\"http://www.w3.org/2000/svg\" height=\"24px\"viewBox=\"0 0 24 24\"\n",
              "       width=\"24px\">\n",
              "    <path d=\"M0 0h24v24H0V0z\" fill=\"none\"/>\n",
              "    <path d=\"M18.56 5.44l.94 2.06.94-2.06 2.06-.94-2.06-.94-.94-2.06-.94 2.06-2.06.94zm-11 1L8.5 8.5l.94-2.06 2.06-.94-2.06-.94L8.5 2.5l-.94 2.06-2.06.94zm10 10l.94 2.06.94-2.06 2.06-.94-2.06-.94-.94-2.06-.94 2.06-2.06.94z\"/><path d=\"M17.41 7.96l-1.37-1.37c-.4-.4-.92-.59-1.43-.59-.52 0-1.04.2-1.43.59L10.3 9.45l-7.72 7.72c-.78.78-.78 2.05 0 2.83L4 21.41c.39.39.9.59 1.41.59.51 0 1.02-.2 1.41-.59l7.78-7.78 2.81-2.81c.8-.78.8-2.07 0-2.86zM5.41 20L4 18.59l7.72-7.72 1.47 1.35L5.41 20z\"/>\n",
              "  </svg>\n",
              "      </button>\n",
              "      \n",
              "  <style>\n",
              "    .colab-df-container {\n",
              "      display:flex;\n",
              "      flex-wrap:wrap;\n",
              "      gap: 12px;\n",
              "    }\n",
              "\n",
              "    .colab-df-convert {\n",
              "      background-color: #E8F0FE;\n",
              "      border: none;\n",
              "      border-radius: 50%;\n",
              "      cursor: pointer;\n",
              "      display: none;\n",
              "      fill: #1967D2;\n",
              "      height: 32px;\n",
              "      padding: 0 0 0 0;\n",
              "      width: 32px;\n",
              "    }\n",
              "\n",
              "    .colab-df-convert:hover {\n",
              "      background-color: #E2EBFA;\n",
              "      box-shadow: 0px 1px 2px rgba(60, 64, 67, 0.3), 0px 1px 3px 1px rgba(60, 64, 67, 0.15);\n",
              "      fill: #174EA6;\n",
              "    }\n",
              "\n",
              "    [theme=dark] .colab-df-convert {\n",
              "      background-color: #3B4455;\n",
              "      fill: #D2E3FC;\n",
              "    }\n",
              "\n",
              "    [theme=dark] .colab-df-convert:hover {\n",
              "      background-color: #434B5C;\n",
              "      box-shadow: 0px 1px 3px 1px rgba(0, 0, 0, 0.15);\n",
              "      filter: drop-shadow(0px 1px 2px rgba(0, 0, 0, 0.3));\n",
              "      fill: #FFFFFF;\n",
              "    }\n",
              "  </style>\n",
              "\n",
              "      <script>\n",
              "        const buttonEl =\n",
              "          document.querySelector('#df-3d676cec-7aa9-468b-a62d-9504d6c8573e button.colab-df-convert');\n",
              "        buttonEl.style.display =\n",
              "          google.colab.kernel.accessAllowed ? 'block' : 'none';\n",
              "\n",
              "        async function convertToInteractive(key) {\n",
              "          const element = document.querySelector('#df-3d676cec-7aa9-468b-a62d-9504d6c8573e');\n",
              "          const dataTable =\n",
              "            await google.colab.kernel.invokeFunction('convertToInteractive',\n",
              "                                                     [key], {});\n",
              "          if (!dataTable) return;\n",
              "\n",
              "          const docLinkHtml = 'Like what you see? Visit the ' +\n",
              "            '<a target=\"_blank\" href=https://colab.research.google.com/notebooks/data_table.ipynb>data table notebook</a>'\n",
              "            + ' to learn more about interactive tables.';\n",
              "          element.innerHTML = '';\n",
              "          dataTable['output_type'] = 'display_data';\n",
              "          await google.colab.output.renderOutput(dataTable, element);\n",
              "          const docLink = document.createElement('div');\n",
              "          docLink.innerHTML = docLinkHtml;\n",
              "          element.appendChild(docLink);\n",
              "        }\n",
              "      </script>\n",
              "    </div>\n",
              "  </div>\n",
              "  "
            ]
          },
          "metadata": {},
          "execution_count": 51
        }
      ]
    },
    {
      "cell_type": "markdown",
      "source": [
        "## 텍스트 전처리\n",
        "불용어 제거, 표제어 추출, 길이가 짧은 단어 제거라는 세 가지 전처리 기법\n",
        "NLTK의 word_tokenize를 통해 단어 토큰화를 수행합니다."
      ],
      "metadata": {
        "id": "hWlsGhB_NyvN"
      }
    },
    {
      "cell_type": "code",
      "source": [
        "nltk.download('punkt')"
      ],
      "metadata": {
        "colab": {
          "base_uri": "https://localhost:8080/"
        },
        "id": "WCDM7CInNMI8",
        "outputId": "2bce7200-3a25-4892-8c6e-4aee4ced4ddb"
      },
      "execution_count": 52,
      "outputs": [
        {
          "output_type": "stream",
          "name": "stderr",
          "text": [
            "[nltk_data] Downloading package punkt to /root/nltk_data...\n",
            "[nltk_data]   Package punkt is already up-to-date!\n"
          ]
        },
        {
          "output_type": "execute_result",
          "data": {
            "text/plain": [
              "True"
            ]
          },
          "metadata": {},
          "execution_count": 52
        }
      ]
    },
    {
      "cell_type": "code",
      "source": [
        "text['headline_text'] = text.apply(lambda row: nltk.word_tokenize(row['headline_text']), axis=1)"
      ],
      "metadata": {
        "colab": {
          "base_uri": "https://localhost:8080/"
        },
        "id": "jgC6zwwgM_U7",
        "outputId": "d8a52033-478e-414f-f276-0d8df105c531"
      },
      "execution_count": 53,
      "outputs": [
        {
          "output_type": "stream",
          "name": "stderr",
          "text": [
            "/usr/local/lib/python3.7/dist-packages/ipykernel_launcher.py:1: SettingWithCopyWarning: \n",
            "A value is trying to be set on a copy of a slice from a DataFrame.\n",
            "Try using .loc[row_indexer,col_indexer] = value instead\n",
            "\n",
            "See the caveats in the documentation: https://pandas.pydata.org/pandas-docs/stable/user_guide/indexing.html#returning-a-view-versus-a-copy\n",
            "  \"\"\"Entry point for launching an IPython kernel.\n"
          ]
        }
      ]
    },
    {
      "cell_type": "code",
      "source": [
        "print(text.head(5))"
      ],
      "metadata": {
        "colab": {
          "base_uri": "https://localhost:8080/"
        },
        "id": "ZWQTHlxtNuQF",
        "outputId": "83762fea-0e59-4c2d-93ec-4123164ac973"
      },
      "execution_count": 54,
      "outputs": [
        {
          "output_type": "stream",
          "name": "stdout",
          "text": [
            "                                       headline_text\n",
            "0  [aba, decides, against, community, broadcastin...\n",
            "1  [act, fire, witnesses, must, be, aware, of, de...\n",
            "2  [a, g, calls, for, infrastructure, protection,...\n",
            "3  [air, nz, staff, in, aust, strike, for, pay, r...\n",
            "4  [air, nz, strike, to, affect, australian, trav...\n"
          ]
        }
      ]
    },
    {
      "cell_type": "markdown",
      "source": [
        "NLTK가 제공하는 영어 불용어를 통해서 text 데이터로부터 불용어를 제거"
      ],
      "metadata": {
        "id": "722zKE3eS-Ii"
      }
    },
    {
      "cell_type": "code",
      "source": [
        "stop_words = stopwords.words('english')\n",
        "text['headline_text'] = text['headline_text'].apply(lambda x: [word for word in x if word not in (stop_words)])"
      ],
      "metadata": {
        "colab": {
          "base_uri": "https://localhost:8080/"
        },
        "id": "2gQShm8vM_oq",
        "outputId": "2ae823a6-5c27-4c15-dd29-b12259be5018"
      },
      "execution_count": 55,
      "outputs": [
        {
          "output_type": "stream",
          "name": "stderr",
          "text": [
            "/usr/local/lib/python3.7/dist-packages/ipykernel_launcher.py:2: SettingWithCopyWarning: \n",
            "A value is trying to be set on a copy of a slice from a DataFrame.\n",
            "Try using .loc[row_indexer,col_indexer] = value instead\n",
            "\n",
            "See the caveats in the documentation: https://pandas.pydata.org/pandas-docs/stable/user_guide/indexing.html#returning-a-view-versus-a-copy\n",
            "  \n"
          ]
        }
      ]
    },
    {
      "cell_type": "code",
      "source": [
        "print(text.head(5))"
      ],
      "metadata": {
        "colab": {
          "base_uri": "https://localhost:8080/"
        },
        "id": "1kkaGQvVNAwC",
        "outputId": "19452871-caad-4953-cd80-844b0f2767dc"
      },
      "execution_count": 56,
      "outputs": [
        {
          "output_type": "stream",
          "name": "stdout",
          "text": [
            "                                       headline_text\n",
            "0   [aba, decides, community, broadcasting, licence]\n",
            "1    [act, fire, witnesses, must, aware, defamation]\n",
            "2     [g, calls, infrastructure, protection, summit]\n",
            "3          [air, nz, staff, aust, strike, pay, rise]\n",
            "4  [air, nz, strike, affect, australian, travellers]\n"
          ]
        }
      ]
    },
    {
      "cell_type": "markdown",
      "source": [
        "against, be, of, a, in, to 등의 단어가 제거 된걸 확인 할 수 있다."
      ],
      "metadata": {
        "id": "uyePrKPgTLOC"
      }
    },
    {
      "cell_type": "code",
      "source": [
        " nltk.download('wordnet')\n",
        " nltk.download('omw-1.4')"
      ],
      "metadata": {
        "colab": {
          "base_uri": "https://localhost:8080/"
        },
        "id": "K3-1CkFSPtTk",
        "outputId": "e24b38a8-3473-4746-eef9-0adef4778f32"
      },
      "execution_count": 60,
      "outputs": [
        {
          "output_type": "stream",
          "name": "stderr",
          "text": [
            "[nltk_data] Downloading package wordnet to /root/nltk_data...\n",
            "[nltk_data]   Package wordnet is already up-to-date!\n",
            "[nltk_data] Downloading package omw-1.4 to /root/nltk_data...\n"
          ]
        },
        {
          "output_type": "execute_result",
          "data": {
            "text/plain": [
              "True"
            ]
          },
          "metadata": {},
          "execution_count": 60
        }
      ]
    },
    {
      "cell_type": "markdown",
      "source": [
        "표제어 추출을 수행합니다. \n",
        "표제어 추출로 3인칭 단수 표현을 1인칭으로 바꾸고, 과거 현재형 동사를 현재형으로 바꿉니다."
      ],
      "metadata": {
        "id": "drrqrAVRTSh6"
      }
    },
    {
      "cell_type": "code",
      "source": [
        "text['headline_text'] = text['headline_text'].apply(lambda x: [WordNetLemmatizer().lemmatize(word, pos='v') for word in x])\n",
        "print(text.head(5))"
      ],
      "metadata": {
        "colab": {
          "base_uri": "https://localhost:8080/"
        },
        "id": "3--fjn0NOIiL",
        "outputId": "825f6c7f-b2e5-48c6-b41f-1e03020f4f70"
      },
      "execution_count": 61,
      "outputs": [
        {
          "output_type": "stream",
          "name": "stdout",
          "text": [
            "                                       headline_text\n",
            "0       [aba, decide, community, broadcast, licence]\n",
            "1      [act, fire, witness, must, aware, defamation]\n",
            "2      [g, call, infrastructure, protection, summit]\n",
            "3          [air, nz, staff, aust, strike, pay, rise]\n",
            "4  [air, nz, strike, affect, australian, travellers]\n"
          ]
        },
        {
          "output_type": "stream",
          "name": "stderr",
          "text": [
            "/usr/local/lib/python3.7/dist-packages/ipykernel_launcher.py:1: SettingWithCopyWarning: \n",
            "A value is trying to be set on a copy of a slice from a DataFrame.\n",
            "Try using .loc[row_indexer,col_indexer] = value instead\n",
            "\n",
            "See the caveats in the documentation: https://pandas.pydata.org/pandas-docs/stable/user_guide/indexing.html#returning-a-view-versus-a-copy\n",
            "  \"\"\"Entry point for launching an IPython kernel.\n"
          ]
        }
      ]
    },
    {
      "cell_type": "markdown",
      "source": [
        "길이가 3이하인 단어에 대해서 제거하는 작업을 수행합니다."
      ],
      "metadata": {
        "id": "F3fPTXFHTaoC"
      }
    },
    {
      "cell_type": "code",
      "source": [
        "tokenized_doc = text['headline_text'].apply(lambda x: [word for word in x if len(word) > 3])\n",
        "print(tokenized_doc[:5])"
      ],
      "metadata": {
        "colab": {
          "base_uri": "https://localhost:8080/"
        },
        "id": "dbDv7gX6OKjD",
        "outputId": "c1597e15-1b02-4600-f13e-346bff5b4285"
      },
      "execution_count": 63,
      "outputs": [
        {
          "output_type": "stream",
          "name": "stdout",
          "text": [
            "0       [decide, community, broadcast, licence]\n",
            "1      [fire, witness, must, aware, defamation]\n",
            "2    [call, infrastructure, protection, summit]\n",
            "3                   [staff, aust, strike, rise]\n",
            "4      [strike, affect, australian, travellers]\n",
            "Name: headline_text, dtype: object\n"
          ]
        }
      ]
    },
    {
      "cell_type": "markdown",
      "source": [
        "## TF-IDF 행렬 만들기"
      ],
      "metadata": {
        "id": "1-F8WPLXOxaU"
      }
    },
    {
      "cell_type": "code",
      "source": [
        "# 역토큰화 (토큰화 작업을 되돌림)\n",
        "detokenized_doc = []\n",
        "for i in range(len(text)):\n",
        "    t = ' '.join(tokenized_doc[i])\n",
        "    detokenized_doc.append(t)\n",
        "\n",
        "# 다시 text['headline_text']에 재저장\n",
        "text['headline_text'] = detokenized_doc"
      ],
      "metadata": {
        "colab": {
          "base_uri": "https://localhost:8080/"
        },
        "id": "nrqHaU20OwvC",
        "outputId": "df84f938-f74f-4396-9008-898afb212326"
      },
      "execution_count": 64,
      "outputs": [
        {
          "output_type": "stream",
          "name": "stderr",
          "text": [
            "/usr/local/lib/python3.7/dist-packages/ipykernel_launcher.py:8: SettingWithCopyWarning: \n",
            "A value is trying to be set on a copy of a slice from a DataFrame.\n",
            "Try using .loc[row_indexer,col_indexer] = value instead\n",
            "\n",
            "See the caveats in the documentation: https://pandas.pydata.org/pandas-docs/stable/user_guide/indexing.html#returning-a-view-versus-a-copy\n",
            "  \n"
          ]
        }
      ]
    },
    {
      "cell_type": "code",
      "source": [
        "text['headline_text'][:5]"
      ],
      "metadata": {
        "colab": {
          "base_uri": "https://localhost:8080/"
        },
        "id": "_G2zkMcDO6M5",
        "outputId": "b0d2a77e-70af-4d63-9877-ce6a3fe510e8"
      },
      "execution_count": 65,
      "outputs": [
        {
          "output_type": "execute_result",
          "data": {
            "text/plain": [
              "0       decide community broadcast licence\n",
              "1       fire witness must aware defamation\n",
              "2    call infrastructure protection summit\n",
              "3                   staff aust strike rise\n",
              "4      strike affect australian travellers\n",
              "Name: headline_text, dtype: object"
            ]
          },
          "metadata": {},
          "execution_count": 65
        }
      ]
    },
    {
      "cell_type": "code",
      "source": [
        "# 상위 1,000개의 단어를 보존 \n",
        "vectorizer = TfidfVectorizer(stop_words='english', max_features= 1000)\n",
        "X = vectorizer.fit_transform(text['headline_text'])"
      ],
      "metadata": {
        "id": "reeb58VFO8ZZ"
      },
      "execution_count": 66,
      "outputs": []
    },
    {
      "cell_type": "code",
      "source": [
        "# TF-IDF 행렬의 크기 확인\n",
        "print('TF-IDF 행렬의 크기 :',X.shape)"
      ],
      "metadata": {
        "colab": {
          "base_uri": "https://localhost:8080/"
        },
        "id": "bXBE1XHpO-cS",
        "outputId": "7530a129-55b2-4da5-d224-1537c869fb9d"
      },
      "execution_count": 67,
      "outputs": [
        {
          "output_type": "stream",
          "name": "stdout",
          "text": [
            "TF-IDF 행렬의 크기 : (1244184, 1000)\n"
          ]
        }
      ]
    },
    {
      "cell_type": "code",
      "source": [
        "lda_model = LatentDirichletAllocation(n_components=10,learning_method='online',random_state=777,max_iter=1)\n",
        "lda_top = lda_model.fit_transform(X)\n",
        "print(lda_model.components_)\n",
        "print(lda_model.components_.shape) "
      ],
      "metadata": {
        "colab": {
          "base_uri": "https://localhost:8080/"
        },
        "id": "D2AYSnyIPAWK",
        "outputId": "4c5ca180-f9ae-49cf-eda9-40467fffa74c"
      },
      "execution_count": 68,
      "outputs": [
        {
          "output_type": "stream",
          "name": "stdout",
          "text": [
            "[[1.00005784e-01 1.00000401e-01 1.00000837e-01 ... 1.00008966e-01\n",
            "  1.00003001e-01 1.00003989e-01]\n",
            " [1.00001271e-01 1.00000170e-01 1.00000702e-01 ... 1.00009027e-01\n",
            "  1.00004822e-01 6.11677308e+02]\n",
            " [1.00001893e-01 1.00000747e-01 5.29631843e+02 ... 1.00004665e-01\n",
            "  1.00003828e-01 1.00003730e-01]\n",
            " ...\n",
            " [1.00006258e-01 1.00000570e-01 1.00000388e-01 ... 1.00006276e-01\n",
            "  1.00001666e-01 1.00008566e-01]\n",
            " [1.00000280e-01 1.00000135e-01 1.00001609e-01 ... 1.00003391e-01\n",
            "  1.00001003e-01 1.00006488e-01]\n",
            " [1.03272231e+02 1.00000349e-01 1.00001881e-01 ... 1.00005116e-01\n",
            "  1.00004106e-01 1.00006425e-01]]\n",
            "(10, 1000)\n"
          ]
        }
      ]
    },
    {
      "cell_type": "code",
      "source": [
        "# 단어 집합. 1,000개의 단어가 저장됨.\n",
        "terms = vectorizer.get_feature_names()\n",
        "\n",
        "def get_topics(components, feature_names, n=5):\n",
        "    for idx, topic in enumerate(components):\n",
        "        print(\"Topic %d:\" % (idx+1), [(feature_names[i], topic[i].round(2)) for i in topic.argsort()[:-n - 1:-1]])\n",
        "\n",
        "get_topics(lda_model.components_,terms)"
      ],
      "metadata": {
        "colab": {
          "base_uri": "https://localhost:8080/"
        },
        "id": "JNdyRSDIPGY6",
        "outputId": "3f82a98d-285a-4137-9daa-4343f027c8e4"
      },
      "execution_count": 69,
      "outputs": [
        {
          "output_type": "stream",
          "name": "stdout",
          "text": [
            "Topic 1: [('australia', 20556.0), ('sydney', 11219.29), ('melbourne', 8765.73), ('kill', 6646.06), ('court', 6004.12)]\n",
            "Topic 2: [('coronavirus', 41719.62), ('covid', 28960.68), ('government', 9793.89), ('change', 7576.98), ('home', 7457.74)]\n",
            "Topic 3: [('south', 7102.98), ('death', 6825.39), ('speak', 5402.31), ('care', 4521.48), ('interview', 4058.71)]\n",
            "Topic 4: [('donald', 8536.49), ('restrictions', 6456.4), ('world', 6320.61), ('state', 6087.5), ('water', 4219.67)]\n",
            "Topic 5: [('vaccine', 8040.87), ('open', 6915.17), ('coast', 5990.55), ('warn', 5472.84), ('morrison', 5247.93)]\n",
            "Topic 6: [('trump', 14878.13), ('charge', 7717.96), ('health', 6836.95), ('murder', 6663.45), ('house', 6624.13)]\n",
            "Topic 7: [('australian', 13885.88), ('queensland', 13373.53), ('record', 9037.88), ('test', 7713.9), ('help', 5922.05)]\n",
            "Topic 8: [('case', 13146.83), ('police', 11143.1), ('live', 7528.03), ('border', 6855.54), ('tasmania', 5664.64)]\n",
            "Topic 9: [('victoria', 11777.5), ('school', 6009.78), ('attack', 5503.39), ('national', 4672.53), ('concern', 4112.28)]\n",
            "Topic 10: [('election', 8942.32), ('news', 8568.78), ('china', 8452.56), ('people', 6645.62), ('make', 6482.1)]\n"
          ]
        },
        {
          "output_type": "stream",
          "name": "stderr",
          "text": [
            "/usr/local/lib/python3.7/dist-packages/sklearn/utils/deprecation.py:87: FutureWarning: Function get_feature_names is deprecated; get_feature_names is deprecated in 1.0 and will be removed in 1.2. Please use get_feature_names_out instead.\n",
            "  warnings.warn(msg, category=FutureWarning)\n"
          ]
        }
      ]
    },
    {
      "cell_type": "markdown",
      "source": [
        "새로운 TASK"
      ],
      "metadata": {
        "id": "cUbIwEb0cb_f"
      }
    },
    {
      "cell_type": "code",
      "source": [
        "tokenized_doc[:5]"
      ],
      "metadata": {
        "colab": {
          "base_uri": "https://localhost:8080/"
        },
        "id": "0BjgkS8NQ2Jh",
        "outputId": "b8ff8224-f1f0-4abf-92d0-4ba84e0940e4"
      },
      "execution_count": 72,
      "outputs": [
        {
          "output_type": "execute_result",
          "data": {
            "text/plain": [
              "0       [decide, community, broadcast, licence]\n",
              "1      [fire, witness, must, aware, defamation]\n",
              "2    [call, infrastructure, protection, summit]\n",
              "3                   [staff, aust, strike, rise]\n",
              "4      [strike, affect, australian, travellers]\n",
              "Name: headline_text, dtype: object"
            ]
          },
          "metadata": {},
          "execution_count": 72
        }
      ]
    },
    {
      "cell_type": "code",
      "source": [
        "from gensim import corpora\n",
        "dictionary = corpora.Dictionary(tokenized_doc)\n",
        "corpus = [dictionary.doc2bow(text) for text in tokenized_doc]\n",
        "print(corpus[1]) # 수행된 결과에서 두번째 뉴스 출력. 첫번째 문서의 인덱스는 0"
      ],
      "metadata": {
        "colab": {
          "base_uri": "https://localhost:8080/"
        },
        "id": "ZJs3AhO3cyWe",
        "outputId": "a30fe148-be1a-4517-954d-b652daf0515a"
      },
      "execution_count": 73,
      "outputs": [
        {
          "output_type": "stream",
          "name": "stdout",
          "text": [
            "[(4, 1), (5, 1), (6, 1), (7, 1), (8, 1)]\n"
          ]
        }
      ]
    },
    {
      "cell_type": "code",
      "source": [
        "print(dictionary[66])"
      ],
      "metadata": {
        "colab": {
          "base_uri": "https://localhost:8080/"
        },
        "id": "9OR_veqocypN",
        "outputId": "84039557-f9f6-483a-866e-d5e6262fb217"
      },
      "execution_count": 74,
      "outputs": [
        {
          "output_type": "stream",
          "name": "stdout",
          "text": [
            "dismiss\n"
          ]
        }
      ]
    },
    {
      "cell_type": "code",
      "source": [
        "len(dictionary)"
      ],
      "metadata": {
        "colab": {
          "base_uri": "https://localhost:8080/"
        },
        "id": "u828orTzc1X1",
        "outputId": "be2d89e1-876e-48af-f0b3-f78ecf9841cc"
      },
      "execution_count": 75,
      "outputs": [
        {
          "output_type": "execute_result",
          "data": {
            "text/plain": [
              "92311"
            ]
          },
          "metadata": {},
          "execution_count": 75
        }
      ]
    },
    {
      "cell_type": "code",
      "source": [
        "import gensim\n",
        "NUM_TOPICS = 20 # 20개의 토픽, k=20\n",
        "ldamodel = gensim.models.ldamodel.LdaModel(corpus, num_topics = NUM_TOPICS, id2word=dictionary, passes=15)\n",
        "topics = ldamodel.print_topics(num_words=4)\n",
        "for topic in topics:\n",
        "    print(topic)"
      ],
      "metadata": {
        "colab": {
          "base_uri": "https://localhost:8080/"
        },
        "id": "DEB3LpfEc1kk",
        "outputId": "a75efe85-5d51-4125-b3f2-8ec07bea580f"
      },
      "execution_count": 76,
      "outputs": [
        {
          "output_type": "stream",
          "name": "stdout",
          "text": [
            "(0, '0.170*\"covid\" + 0.039*\"fire\" + 0.038*\"coronavirus\" + 0.031*\"lockdown\"')\n",
            "(1, '0.052*\"court\" + 0.051*\"charge\" + 0.040*\"face\" + 0.040*\"murder\"')\n",
            "(2, '0.080*\"australian\" + 0.045*\"restrictions\" + 0.025*\"perth\" + 0.023*\"water\"')\n",
            "(3, '0.055*\"melbourne\" + 0.040*\"people\" + 0.031*\"federal\" + 0.030*\"premier\"')\n",
            "(4, '0.043*\"kill\" + 0.032*\"concern\" + 0.027*\"amid\" + 0.027*\"hospital\"')\n",
            "(5, '0.089*\"queensland\" + 0.057*\"test\" + 0.029*\"adelaide\" + 0.020*\"coronavirus\"')\n",
            "(6, '0.041*\"first\" + 0.040*\"death\" + 0.034*\"police\" + 0.027*\"time\"')\n",
            "(7, '0.032*\"return\" + 0.029*\"pandemic\" + 0.027*\"work\" + 0.027*\"former\"')\n",
            "(8, '0.040*\"donald\" + 0.039*\"live\" + 0.030*\"school\" + 0.029*\"scott\"')\n",
            "(9, '0.089*\"case\" + 0.068*\"victoria\" + 0.034*\"coronavirus\" + 0.027*\"quarantine\"')\n",
            "(10, '0.079*\"trump\" + 0.031*\"could\" + 0.025*\"women\" + 0.019*\"president\"')\n",
            "(11, '0.074*\"sydney\" + 0.060*\"government\" + 0.030*\"national\" + 0.028*\"rise\"')\n",
            "(12, '0.044*\"state\" + 0.042*\"coast\" + 0.027*\"rule\" + 0.026*\"gold\"')\n",
            "(13, '0.054*\"find\" + 0.053*\"vaccine\" + 0.032*\"morrison\" + 0.030*\"woman\"')\n",
            "(14, '0.051*\"election\" + 0.048*\"news\" + 0.037*\"warn\" + 0.036*\"minister\"')\n",
            "(15, '0.049*\"home\" + 0.042*\"open\" + 0.030*\"show\" + 0.027*\"close\"')\n",
            "(16, '0.131*\"australia\" + 0.044*\"south\" + 0.032*\"make\" + 0.025*\"biden\"')\n",
            "(17, '0.051*\"change\" + 0.049*\"border\" + 0.020*\"coronavirus\" + 0.019*\"price\"')\n",
            "(18, '0.046*\"china\" + 0.034*\"record\" + 0.030*\"coronavirus\" + 0.026*\"care\"')\n",
            "(19, '0.051*\"health\" + 0.035*\"help\" + 0.029*\"family\" + 0.027*\"indigenous\"')\n"
          ]
        }
      ]
    },
    {
      "cell_type": "code",
      "source": [
        "print(ldamodel.print_topics())"
      ],
      "metadata": {
        "colab": {
          "base_uri": "https://localhost:8080/"
        },
        "id": "NlQMY-qYc3LM",
        "outputId": "aa3547f0-e726-4287-ddb6-e563cdeb4cad"
      },
      "execution_count": 77,
      "outputs": [
        {
          "output_type": "stream",
          "name": "stdout",
          "text": [
            "[(0, '0.170*\"covid\" + 0.039*\"fire\" + 0.038*\"coronavirus\" + 0.031*\"lockdown\" + 0.030*\"house\" + 0.028*\"year\" + 0.024*\"report\" + 0.023*\"record\" + 0.022*\"world\" + 0.016*\"three\"'), (1, '0.052*\"court\" + 0.051*\"charge\" + 0.040*\"face\" + 0.040*\"murder\" + 0.036*\"brisbane\" + 0.033*\"market\" + 0.023*\"accuse\" + 0.021*\"release\" + 0.020*\"hear\" + 0.020*\"police\"'), (2, '0.080*\"australian\" + 0.045*\"restrictions\" + 0.025*\"perth\" + 0.023*\"water\" + 0.021*\"fight\" + 0.020*\"royal\" + 0.018*\"fall\" + 0.017*\"commission\" + 0.016*\"deal\" + 0.015*\"build\"'), (3, '0.055*\"melbourne\" + 0.040*\"people\" + 0.031*\"federal\" + 0.030*\"premier\" + 0.025*\"back\" + 0.020*\"fund\" + 0.018*\"officer\" + 0.017*\"abuse\" + 0.017*\"council\" + 0.017*\"meet\"'), (4, '0.043*\"kill\" + 0.032*\"concern\" + 0.027*\"amid\" + 0.027*\"hospital\" + 0.027*\"crash\" + 0.020*\"flight\" + 0.017*\"continue\" + 0.017*\"media\" + 0.016*\"violence\" + 0.016*\"doctor\"'), (5, '0.089*\"queensland\" + 0.057*\"test\" + 0.029*\"adelaide\" + 0.020*\"coronavirus\" + 0.019*\"final\" + 0.018*\"beach\" + 0.016*\"inquiry\" + 0.015*\"wall\" + 0.014*\"2021\" + 0.014*\"tell\"'), (6, '0.041*\"first\" + 0.040*\"death\" + 0.034*\"police\" + 0.027*\"time\" + 0.022*\"australians\" + 0.021*\"dead\" + 0.021*\"climate\" + 0.017*\"black\" + 0.017*\"power\" + 0.016*\"review\"'), (7, '0.032*\"return\" + 0.029*\"pandemic\" + 0.027*\"work\" + 0.027*\"former\" + 0.026*\"workers\" + 0.022*\"labor\" + 0.020*\"support\" + 0.019*\"coronavirus\" + 0.019*\"deaths\" + 0.018*\"mine\"'), (8, '0.040*\"donald\" + 0.039*\"live\" + 0.030*\"school\" + 0.029*\"scott\" + 0.027*\"bushfire\" + 0.027*\"years\" + 0.025*\"canberra\" + 0.024*\"victorian\" + 0.023*\"australias\" + 0.017*\"jail\"'), (9, '0.089*\"case\" + 0.068*\"victoria\" + 0.034*\"coronavirus\" + 0.027*\"quarantine\" + 0.022*\"arrest\" + 0.018*\"2020\" + 0.017*\"allege\" + 0.017*\"look\" + 0.016*\"sentence\" + 0.015*\"police\"'), (10, '0.079*\"trump\" + 0.031*\"could\" + 0.025*\"women\" + 0.019*\"president\" + 0.017*\"farm\" + 0.017*\"mark\" + 0.015*\"second\" + 0.015*\"beat\" + 0.014*\"weather\" + 0.013*\"river\"'), (11, '0.074*\"sydney\" + 0.060*\"government\" + 0.030*\"national\" + 0.028*\"rise\" + 0.027*\"tasmania\" + 0.025*\"protest\" + 0.020*\"island\" + 0.019*\"christmas\" + 0.018*\"need\" + 0.017*\"reveal\"'), (12, '0.044*\"state\" + 0.042*\"coast\" + 0.027*\"rule\" + 0.026*\"gold\" + 0.023*\"flood\" + 0.023*\"life\" + 0.021*\"lose\" + 0.020*\"claim\" + 0.019*\"four\" + 0.018*\"force\"'), (13, '0.054*\"find\" + 0.053*\"vaccine\" + 0.032*\"morrison\" + 0.030*\"woman\" + 0.028*\"attack\" + 0.019*\"child\" + 0.018*\"police\" + 0.017*\"shoot\" + 0.014*\"local\" + 0.014*\"still\"'), (14, '0.051*\"election\" + 0.048*\"news\" + 0.037*\"warn\" + 0.036*\"minister\" + 0.030*\"leave\" + 0.025*\"north\" + 0.024*\"travel\" + 0.020*\"residents\" + 0.019*\"coronavirus\" + 0.018*\"risk\"'), (15, '0.049*\"home\" + 0.042*\"open\" + 0.030*\"show\" + 0.027*\"close\" + 0.027*\"trial\" + 0.020*\"break\" + 0.020*\"miss\" + 0.018*\"india\" + 0.018*\"emergency\" + 0.017*\"andrews\"'), (16, '0.131*\"australia\" + 0.044*\"south\" + 0.032*\"make\" + 0.025*\"biden\" + 0.019*\"west\" + 0.017*\"darwin\" + 0.016*\"lead\" + 0.015*\"grow\" + 0.012*\"next\" + 0.012*\"east\"'), (17, '0.051*\"change\" + 0.049*\"border\" + 0.020*\"coronavirus\" + 0.019*\"price\" + 0.019*\"storm\" + 0.018*\"industry\" + 0.017*\"service\" + 0.017*\"students\" + 0.016*\"western\" + 0.015*\"international\"'), (18, '0.046*\"china\" + 0.034*\"record\" + 0.030*\"coronavirus\" + 0.026*\"care\" + 0.024*\"announce\" + 0.023*\"speak\" + 0.021*\"hotel\" + 0.020*\"regional\" + 0.017*\"business\" + 0.017*\"number\"'), (19, '0.051*\"health\" + 0.035*\"help\" + 0.029*\"family\" + 0.027*\"indigenous\" + 0.021*\"community\" + 0.017*\"budget\" + 0.016*\"mental\" + 0.015*\"interview\" + 0.014*\"hobart\" + 0.012*\"aboriginal\"')]\n"
          ]
        }
      ]
    },
    {
      "cell_type": "markdown",
      "source": [
        "시각화 하기"
      ],
      "metadata": {
        "id": "pphPThtuc7ju"
      }
    },
    {
      "cell_type": "code",
      "source": [
        "pip install pyLDAvis"
      ],
      "metadata": {
        "colab": {
          "base_uri": "https://localhost:8080/"
        },
        "id": "jgAoRI3Qc5_E",
        "outputId": "720b7e7b-e36e-4a97-db08-ff9a6685bd09"
      },
      "execution_count": 78,
      "outputs": [
        {
          "output_type": "stream",
          "name": "stdout",
          "text": [
            "Looking in indexes: https://pypi.org/simple, https://us-python.pkg.dev/colab-wheels/public/simple/\n",
            "Collecting pyLDAvis\n",
            "  Downloading pyLDAvis-3.3.1.tar.gz (1.7 MB)\n",
            "\u001b[K     |████████████████████████████████| 1.7 MB 18.3 MB/s \n",
            "\u001b[?25h  Installing build dependencies ... \u001b[?25l\u001b[?25hdone\n",
            "  Getting requirements to build wheel ... \u001b[?25l\u001b[?25hdone\n",
            "  Installing backend dependencies ... \u001b[?25l\u001b[?25hdone\n",
            "    Preparing wheel metadata ... \u001b[?25l\u001b[?25hdone\n",
            "Requirement already satisfied: numexpr in /usr/local/lib/python3.7/dist-packages (from pyLDAvis) (2.8.3)\n",
            "Requirement already satisfied: numpy>=1.20.0 in /usr/local/lib/python3.7/dist-packages (from pyLDAvis) (1.21.6)\n",
            "Requirement already satisfied: gensim in /usr/local/lib/python3.7/dist-packages (from pyLDAvis) (3.6.0)\n",
            "Requirement already satisfied: pandas>=1.2.0 in /usr/local/lib/python3.7/dist-packages (from pyLDAvis) (1.3.5)\n",
            "Requirement already satisfied: scipy in /usr/local/lib/python3.7/dist-packages (from pyLDAvis) (1.7.3)\n",
            "Requirement already satisfied: jinja2 in /usr/local/lib/python3.7/dist-packages (from pyLDAvis) (2.11.3)\n",
            "Requirement already satisfied: joblib in /usr/local/lib/python3.7/dist-packages (from pyLDAvis) (1.2.0)\n",
            "Collecting sklearn\n",
            "  Downloading sklearn-0.0.tar.gz (1.1 kB)\n",
            "Collecting funcy\n",
            "  Downloading funcy-1.17-py2.py3-none-any.whl (33 kB)\n",
            "Requirement already satisfied: setuptools in /usr/local/lib/python3.7/dist-packages (from pyLDAvis) (57.4.0)\n",
            "Requirement already satisfied: future in /usr/local/lib/python3.7/dist-packages (from pyLDAvis) (0.16.0)\n",
            "Requirement already satisfied: scikit-learn in /usr/local/lib/python3.7/dist-packages (from pyLDAvis) (1.0.2)\n",
            "Requirement already satisfied: pytz>=2017.3 in /usr/local/lib/python3.7/dist-packages (from pandas>=1.2.0->pyLDAvis) (2022.5)\n",
            "Requirement already satisfied: python-dateutil>=2.7.3 in /usr/local/lib/python3.7/dist-packages (from pandas>=1.2.0->pyLDAvis) (2.8.2)\n",
            "Requirement already satisfied: six>=1.5 in /usr/local/lib/python3.7/dist-packages (from python-dateutil>=2.7.3->pandas>=1.2.0->pyLDAvis) (1.15.0)\n",
            "Requirement already satisfied: smart-open>=1.2.1 in /usr/local/lib/python3.7/dist-packages (from gensim->pyLDAvis) (5.2.1)\n",
            "Requirement already satisfied: MarkupSafe>=0.23 in /usr/local/lib/python3.7/dist-packages (from jinja2->pyLDAvis) (2.0.1)\n",
            "Requirement already satisfied: packaging in /usr/local/lib/python3.7/dist-packages (from numexpr->pyLDAvis) (21.3)\n",
            "Requirement already satisfied: pyparsing!=3.0.5,>=2.0.2 in /usr/local/lib/python3.7/dist-packages (from packaging->numexpr->pyLDAvis) (3.0.9)\n",
            "Requirement already satisfied: threadpoolctl>=2.0.0 in /usr/local/lib/python3.7/dist-packages (from scikit-learn->pyLDAvis) (3.1.0)\n",
            "Building wheels for collected packages: pyLDAvis, sklearn\n",
            "  Building wheel for pyLDAvis (PEP 517) ... \u001b[?25l\u001b[?25hdone\n",
            "  Created wheel for pyLDAvis: filename=pyLDAvis-3.3.1-py2.py3-none-any.whl size=136898 sha256=a88e9f5bd7b7cdbd53c784c8d889f75524b4ebb247abbc33a46abb07365dbd73\n",
            "  Stored in directory: /root/.cache/pip/wheels/c9/21/f6/17bcf2667e8a68532ba2fbf6d5c72fdf4c7f7d9abfa4852d2f\n",
            "  Building wheel for sklearn (setup.py) ... \u001b[?25l\u001b[?25hdone\n",
            "  Created wheel for sklearn: filename=sklearn-0.0-py2.py3-none-any.whl size=1310 sha256=2b20e4560f0bb17e29728c51eb5b477ef642b6f60c1972749dbace4709fa8897\n",
            "  Stored in directory: /root/.cache/pip/wheels/46/ef/c3/157e41f5ee1372d1be90b09f74f82b10e391eaacca8f22d33e\n",
            "Successfully built pyLDAvis sklearn\n",
            "Installing collected packages: sklearn, funcy, pyLDAvis\n",
            "Successfully installed funcy-1.17 pyLDAvis-3.3.1 sklearn-0.0\n"
          ]
        }
      ]
    },
    {
      "cell_type": "code",
      "source": [
        "import pyLDAvis.gensim_models"
      ],
      "metadata": {
        "colab": {
          "base_uri": "https://localhost:8080/"
        },
        "id": "mPXaHwHBc_18",
        "outputId": "047b40a0-31de-489e-fb2e-82b7a19a28a7"
      },
      "execution_count": 79,
      "outputs": [
        {
          "output_type": "stream",
          "name": "stderr",
          "text": [
            "/usr/local/lib/python3.7/dist-packages/past/types/oldstr.py:5: DeprecationWarning: Using or importing the ABCs from 'collections' instead of from 'collections.abc' is deprecated since Python 3.3,and in 3.9 it will stop working\n",
            "  from collections import Iterable\n"
          ]
        }
      ]
    },
    {
      "cell_type": "code",
      "source": [
        "pyLDAvis.enable_notebook()\n",
        "vis = pyLDAvis.gensim_models.prepare(ldamodel, corpus, dictionary)\n",
        "pyLDAvis.display(vis)"
      ],
      "metadata": {
        "colab": {
          "base_uri": "https://localhost:8080/",
          "height": 896
        },
        "id": "ffbVXRMtdAOc",
        "outputId": "12dd6a21-f875-4813-e8fc-14d5eaf8a5ea"
      },
      "execution_count": 80,
      "outputs": [
        {
          "output_type": "stream",
          "name": "stderr",
          "text": [
            "/usr/local/lib/python3.7/dist-packages/pyLDAvis/_prepare.py:247: FutureWarning: In a future version of pandas all arguments of DataFrame.drop except for the argument 'labels' will be keyword-only\n",
            "  by='saliency', ascending=False).head(R).drop('saliency', 1)\n"
          ]
        },
        {
          "output_type": "execute_result",
          "data": {
            "text/plain": [
              "<IPython.core.display.HTML object>"
            ],
            "text/html": [
              "\n",
              "<link rel=\"stylesheet\" type=\"text/css\" href=\"https://cdn.jsdelivr.net/gh/bmabey/pyLDAvis@3.3.1/pyLDAvis/js/ldavis.v1.0.0.css\">\n",
              "\n",
              "\n",
              "<div id=\"ldavis_el701399383125618723468274373\"></div>\n",
              "<script type=\"text/javascript\">\n",
              "\n",
              "var ldavis_el701399383125618723468274373_data = {\"mdsDat\": {\"x\": [0.08183411825382399, -0.21654485961742875, -0.21754426446079428, -0.12922935787942555, 0.043847564808885305, 0.042570246248942845, 0.14056225142309778, 0.04224469809398921, -0.2087958962628821, -0.04906580236653492, 0.13843189995504576, -0.13723560861547818, -0.004465894132151073, 0.08101621256238199, 0.0908524704690694, 0.08733024490194648, 0.018759016574191156, 0.019232701871694704, 0.09781166750842149, 0.07838859066320582], \"y\": [0.037930043412261055, -0.0184409223174899, -0.06027180831705397, -0.022523449314483416, 0.06018687691737163, 0.1827258518669773, -0.21152213475123183, 0.07126065889947467, 0.007592761953621636, -0.19956237948071257, -0.15872622482649754, -0.0630704927311634, 0.21269259018978032, 0.02753927918761325, -0.07031555660753948, -0.0018173962489357333, 0.14374813080882864, 0.0709671665698213, 0.008099658321007439, -0.016492653531649026], \"topics\": [1, 2, 3, 4, 5, 6, 7, 8, 9, 10, 11, 12, 13, 14, 15, 16, 17, 18, 19, 20], \"cluster\": [1, 1, 1, 1, 1, 1, 1, 1, 1, 1, 1, 1, 1, 1, 1, 1, 1, 1, 1, 1], \"Freq\": [5.514994018634095, 5.329039184911669, 5.316587795505841, 5.275510616245159, 5.259848118453507, 5.122516898387412, 5.097844262634501, 5.027364122607705, 5.004796872627628, 4.955602124863068, 4.940149852695568, 4.9247277271094845, 4.879740306739295, 4.874920336685067, 4.822625935583701, 4.819616512213121, 4.730836465953164, 4.710735279342505, 4.700675312799352, 4.691868256008174]}, \"tinfo\": {\"Term\": [\"covid\", \"australia\", \"case\", \"queensland\", \"australian\", \"trump\", \"sydney\", \"victoria\", \"government\", \"melbourne\", \"court\", \"test\", \"find\", \"vaccine\", \"charge\", \"health\", \"home\", \"election\", \"change\", \"border\", \"news\", \"police\", \"china\", \"record\", \"restrictions\", \"open\", \"south\", \"first\", \"state\", \"kill\", \"melbourne\", \"people\", \"federal\", \"premier\", \"fund\", \"officer\", \"abuse\", \"council\", \"meet\", \"drug\", \"vote\", \"brief\", \"port\", \"league\", \"bushfires\", \"push\", \"link\", \"target\", \"surge\", \"study\", \"cancer\", \"boost\", \"summer\", \"2019\", \"wave\", \"father\", \"raid\", \"cluster\", \"scheme\", \"treatment\", \"back\", \"coronavirus\", \"court\", \"charge\", \"face\", \"murder\", \"brisbane\", \"market\", \"accuse\", \"release\", \"hear\", \"assault\", \"bank\", \"white\", \"post\", \"share\", \"security\", \"leader\", \"stab\", \"challenge\", \"outback\", \"kohler\", \"fish\", \"boss\", \"pacific\", \"allegedly\", \"senate\", \"unveil\", \"likely\", \"attempt\", \"evacuate\", \"would\", \"driver\", \"police\", \"first\", \"death\", \"time\", \"australians\", \"dead\", \"climate\", \"black\", \"power\", \"review\", \"race\", \"question\", \"michael\", \"investigate\", \"reopen\", \"cricket\", \"road\", \"station\", \"become\", \"fatal\", \"prince\", \"steal\", \"prison\", \"demand\", \"send\", \"truck\", \"spend\", \"girl\", \"prepare\", \"tour\", \"rugby\", \"police\", \"crash\", \"home\", \"open\", \"show\", \"close\", \"trial\", \"break\", \"india\", \"emergency\", \"andrews\", \"search\", \"season\", \"drum\", \"party\", \"ahead\", \"john\", \"action\", \"explain\", \"hill\", \"closure\", \"week\", \"threaten\", \"stand\", \"sign\", \"crew\", \"french\", \"plant\", \"japan\", \"england\", \"site\", \"book\", \"miss\", \"police\", \"health\", \"help\", \"family\", \"indigenous\", \"community\", \"budget\", \"mental\", \"interview\", \"hobart\", \"aboriginal\", \"mask\", \"protesters\", \"group\", \"play\", \"cabinet\", \"global\", \"club\", \"economy\", \"breach\", \"mount\", \"inquest\", \"defend\", \"online\", \"whale\", \"behind\", \"deny\", \"allegations\", \"offer\", \"pressure\", \"paul\", \"park\", \"coronavirus\", \"donald\", \"live\", \"school\", \"scott\", \"bushfire\", \"years\", \"canberra\", \"victorian\", \"australias\", \"jail\", \"farmers\", \"tasmanian\", \"save\", \"baby\", \"appeal\", \"begin\", \"five\", \"peter\", \"parent\", \"burn\", \"berejiklian\", \"andrew\", \"tuesday\", \"russia\", \"gladys\", \"days\", \"families\", \"indonesia\", \"learn\", \"analysis\", \"fire\", \"lockdown\", \"house\", \"year\", \"report\", \"world\", \"three\", \"high\", \"update\", \"million\", \"outbreak\", \"social\", \"sport\", \"footage\", \"pfizer\", \"grant\", \"award\", \"last\", \"university\", \"smith\", \"leaders\", \"dollar\", \"create\", \"southern\", \"olympics\", \"august\", \"months\", \"crowd\", \"afghan\", \"october\", \"covid\", \"record\", \"coronavirus\", \"sydney\", \"government\", \"national\", \"rise\", \"tasmania\", \"protest\", \"island\", \"christmas\", \"need\", \"reveal\", \"street\", \"launch\", \"parliament\", \"public\", \"campaign\", \"struggle\", \"nurse\", \"victims\", \"plead\", \"seek\", \"anti\", \"debate\", \"worker\", \"rally\", \"toll\", \"players\", \"suspend\", \"around\", \"impeachment\", \"walk\", \"guilty\", \"coronavirus\", \"find\", \"vaccine\", \"morrison\", \"woman\", \"attack\", \"child\", \"local\", \"still\", \"northern\", \"head\", \"drive\", \"cost\", \"friday\", \"chief\", \"system\", \"start\", \"disability\", \"contact\", \"injure\", \"defence\", \"full\", \"cancel\", \"best\", \"jack\", \"safe\", \"iran\", \"survive\", \"wont\", \"respond\", \"billion\", \"shoot\", \"police\", \"guilty\", \"case\", \"victoria\", \"quarantine\", \"arrest\", \"2020\", \"allege\", \"look\", \"sentence\", \"give\", \"want\", \"train\", \"zealand\", \"video\", \"hong\", \"keep\", \"kong\", \"prime\", \"increase\", \"despite\", \"body\", \"central\", \"monday\", \"grand\", \"laws\", \"boom\", \"thursday\", \"airport\", \"expect\", \"catch\", \"march\", \"coronavirus\", \"police\", \"china\", \"care\", \"announce\", \"speak\", \"hotel\", \"regional\", \"business\", \"number\", \"children\", \"program\", \"finance\", \"rollout\", \"game\", \"bill\", \"centre\", \"across\", \"know\", \"mother\", \"food\", \"george\", \"join\", \"businesses\", \"discuss\", \"space\", \"spring\", \"damage\", \"spread\", \"order\", \"zero\", \"point\", \"record\", \"coronavirus\", \"kill\", \"concern\", \"amid\", \"hospital\", \"flight\", \"media\", \"violence\", \"doctor\", \"star\", \"company\", \"remain\", \"team\", \"domestic\", \"rural\", \"raise\", \"great\", \"safety\", \"victim\", \"military\", \"crown\", \"plane\", \"shortage\", \"female\", \"bomb\", \"judge\", \"church\", \"story\", \"discover\", \"deliver\", \"education\", \"crash\", \"continue\", \"coronavirus\", \"police\", \"australia\", \"south\", \"make\", \"biden\", \"west\", \"darwin\", \"lead\", \"grow\", \"next\", \"east\", \"facebook\", \"super\", \"thousands\", \"name\", \"recovery\", \"energy\", \"remote\", \"battle\", \"wait\", \"like\", \"boris\", \"territory\", \"drone\", \"decision\", \"legal\", \"remove\", \"anthony\", \"refuse\", \"foreign\", \"bail\", \"australian\", \"restrictions\", \"perth\", \"water\", \"fight\", \"royal\", \"fall\", \"commission\", \"deal\", \"build\", \"ease\", \"sexual\", \"rain\", \"bring\", \"right\", \"coal\", \"cctv\", \"part\", \"lift\", \"celebrate\", \"human\", \"resign\", \"couple\", \"historic\", \"teen\", \"happen\", \"myanmar\", \"queen\", \"boat\", \"check\", \"coronavirus\", \"back\", \"election\", \"news\", \"warn\", \"minister\", \"leave\", \"north\", \"travel\", \"residents\", \"risk\", \"fear\", \"talk\", \"near\", \"issue\", \"crisis\", \"drop\", \"rape\", \"cyclone\", \"korea\", \"data\", \"inside\", \"rock\", \"crime\", \"lawyer\", \"icac\", \"greater\", \"interest\", \"meghan\", \"shock\", \"suicide\", \"blame\", \"coronavirus\", \"return\", \"pandemic\", \"work\", \"former\", \"workers\", \"labor\", \"support\", \"deaths\", \"mine\", \"track\", \"trade\", \"country\", \"free\", \"light\", \"tree\", \"morning\", \"major\", \"stories\", \"project\", \"line\", \"welcome\", \"victorias\", \"townsville\", \"mayor\", \"afghanistan\", \"communities\", \"financial\", \"patients\", \"spot\", \"harry\", \"astrazeneca\", \"coronavirus\", \"state\", \"coast\", \"rule\", \"gold\", \"flood\", \"life\", \"lose\", \"claim\", \"four\", \"force\", \"rescue\", \"daniel\", \"young\", \"chinese\", \"latest\", \"turn\", \"city\", \"land\", \"stop\", \"staff\", \"strike\", \"money\", \"watch\", \"reject\", \"follow\", \"music\", \"strand\", \"matter\", \"good\", \"qantas\", \"trump\", \"could\", \"women\", \"president\", \"farm\", \"mark\", \"second\", \"beat\", \"weather\", \"river\", \"future\", \"come\", \"delay\", \"cause\", \"confirm\", \"johnson\", \"hold\", \"ship\", \"liberal\", \"stay\", \"reach\", \"fail\", \"since\", \"france\", \"festival\", \"receive\", \"cross\", \"affect\", \"approve\", \"swan\", \"coronavirus\", \"change\", \"border\", \"price\", \"storm\", \"industry\", \"service\", \"students\", \"western\", \"international\", \"long\", \"tourism\", \"positive\", \"david\", \"investigation\", \"drought\", \"town\", \"impact\", \"unite\", \"wednesday\", \"womens\", \"economic\", \"youth\", \"hand\", \"spark\", \"early\", \"policy\", \"capture\", \"hard\", \"frydenberg\", \"general\", \"coronavirus\", \"call\", \"queensland\", \"test\", \"adelaide\", \"final\", \"beach\", \"inquiry\", \"wall\", \"2021\", \"extend\", \"move\", \"alan\", \"shark\", \"history\", \"film\", \"result\", \"slam\", \"response\", \"authorities\", \"pass\", \"hunt\", \"mean\", \"research\", \"israel\", \"step\", \"mass\", \"protect\", \"hundreds\", \"jones\", \"sunshine\", \"crop\", \"tell\", \"green\", \"coronavirus\"], \"Freq\": [51688.0, 37717.0, 25962.0, 24476.0, 22921.0, 21952.0, 21836.0, 19875.0, 17619.0, 17680.0, 16336.0, 15644.0, 15825.0, 15696.0, 15839.0, 15766.0, 15220.0, 14518.0, 14116.0, 13502.0, 13503.0, 31139.0, 13289.0, 16896.0, 12935.0, 13009.0, 12479.0, 12746.0, 12241.0, 12384.0, 17679.33402801126, 12823.708071814188, 9890.68096083688, 9747.176973224932, 6567.971529043035, 5713.774282802061, 5631.685651653739, 5387.689078093836, 5364.099141609021, 5207.2570120010005, 4891.057358431253, 4786.835612038861, 4397.45250569892, 4313.9840459350135, 4239.482660581226, 4176.186268608827, 3701.0973873974353, 3684.463055248992, 3407.8231182812337, 3069.329419784241, 3019.9064950016636, 2819.9545339421925, 2635.76824706026, 2316.927444515716, 2302.5295216792274, 2285.386434341012, 2264.299663969436, 2264.2498452119808, 2192.047369065864, 2065.815091765926, 8092.772124958977, 4095.0940126096143, 16335.232884211599, 15838.909056200604, 12600.956153419187, 12382.465931170493, 11405.950955601045, 10209.635210897184, 7276.865265205144, 6599.374960067952, 6242.6640535644065, 6100.360601473672, 5068.670785111715, 4303.59527787573, 4198.390922398586, 4110.051834914063, 3723.747134253554, 3638.2791714133714, 3582.0295187938377, 3465.1212677540107, 3401.5749148646914, 3372.554995535025, 2903.281765509393, 2555.0161841841546, 2454.041055700645, 2323.0375694835293, 2220.355695834956, 2103.431690224374, 2071.9562459918425, 2058.485504494181, 1715.1948665116204, 1571.5460032535893, 2527.5723054325517, 6227.817996390145, 12745.483796451605, 12388.319241065004, 8565.641850430156, 6883.877629942661, 6661.357227557956, 6412.912999785947, 5401.244620777013, 5373.7775442197235, 4847.357746313525, 4784.520470647568, 4742.425107773812, 4258.662437124257, 4146.180616701346, 3961.0143440127517, 3936.124106876034, 3877.106246874455, 3591.8906108024707, 3534.7778015190256, 3433.1848958960227, 3391.8771674368236, 3287.201543379022, 3285.9723563381235, 3088.7604581462033, 3036.972767715052, 2990.530862079815, 2800.941495317459, 2752.840783869747, 2675.9620182582557, 2523.7567613637398, 2522.39164480636, 10489.828068077257, 3288.370770076462, 15219.940096170869, 13008.61631359991, 9261.29002149888, 8420.212782751947, 8402.143578515537, 6212.004220872366, 5657.251173087858, 5527.4048698146225, 5232.725094335089, 5220.739610536576, 4723.529477569961, 4693.617466989288, 4669.178609764965, 4450.275003530047, 4391.781001957406, 3563.8514617375326, 3532.599034020879, 3477.566549227967, 3447.420882654402, 3362.3331321850505, 3085.2165469746283, 2775.5036510624814, 2538.8892671513236, 2438.0391238364414, 2344.233752030341, 2329.383310726904, 2295.1459204805465, 2241.7288101848408, 2115.194270128524, 1940.2542375622206, 6121.707299219102, 2765.0766440719294, 15765.969766616125, 10759.455228260898, 9062.656966585504, 8390.391149295854, 6400.594861942261, 5311.494140011445, 4930.480139095757, 4756.28453043033, 4283.808497756077, 3857.8549480245447, 3837.3122238580404, 3709.364669133532, 3673.8202101527886, 3423.841594167634, 3179.389857334232, 3060.1788204331497, 3055.042995409886, 3022.5451878867334, 3015.117175188382, 2978.567148448668, 2950.285123282711, 2887.0328379078856, 2851.5672808647014, 2797.865297530613, 2751.2593052379193, 2658.0464567627037, 2586.4170317326066, 2529.629233935423, 2518.110702904834, 2425.525902334062, 3515.290091652239, 3204.229857464973, 11961.77478657236, 11785.019440199389, 8907.639004229042, 8697.938692286156, 8019.537253559861, 7985.978114005933, 7468.923826661869, 7266.181348757065, 6802.640966107825, 5228.078355729424, 4742.7081543972245, 4228.919365623874, 3765.0682502009868, 3638.3913604387412, 3125.0086556511687, 3104.28182613676, 3062.920713872658, 3007.0322835510524, 2867.8181116174073, 2792.795777913449, 2692.871914272234, 2550.12161459227, 2418.563584103188, 2363.2214601381397, 2283.2309076150914, 2117.3052153821664, 2104.9263844897478, 2073.928406538108, 2031.0437782154859, 1992.005309300976, 11666.410708816566, 9157.818587570657, 9123.861223310152, 8257.989461482006, 7319.504703113116, 6623.635223138237, 4697.711506344983, 4659.644204169625, 4624.464966474975, 3798.9507520027714, 3204.096825392002, 2816.7342000881677, 2804.549794305963, 2712.095727800202, 2243.140117677791, 2223.1420573503474, 1948.8042597218528, 1935.7416847389768, 1820.9679146527023, 1808.9043565628197, 1613.406421210388, 1532.7238409469003, 1496.6568053093504, 1453.740524366326, 1429.6044771792758, 1402.4522613757772, 1388.7700977625213, 1323.2153879165094, 1303.6352708205945, 1284.082225840512, 50802.90963241079, 7022.427025920759, 11517.212650245181, 21835.315839158648, 17618.99511989727, 8834.298468637448, 8199.037069940856, 8020.706569234423, 7491.469137753115, 5914.660567713419, 5662.384231654175, 5335.799300024915, 4927.765616866068, 4679.251748309997, 4548.202555579633, 4399.034067994185, 4279.6003583339725, 3540.35145892217, 3393.145399522357, 2523.069147088131, 2514.2530829627335, 2502.231077251602, 2473.6049473953335, 2465.6726640418956, 2428.747086849071, 2326.209801296568, 2324.4116886266165, 2140.039221085531, 2028.24425625702, 2012.67776945548, 1883.3163200118358, 1850.6306060708512, 1693.1870294790606, 3048.5187894122555, 3203.7939241442245, 15824.52165031787, 15695.437023445731, 9344.745846807473, 8851.09672057439, 8337.668091707865, 5448.668259790065, 4195.806867080987, 4088.1323160701336, 4063.5627477050216, 3689.738422729056, 3603.9624893481405, 3410.877520783282, 3152.2378092617887, 3117.391327763296, 3092.0534637620094, 2962.0969693027423, 2818.9282011001305, 2744.062668552608, 2727.4355344263668, 2411.586019996503, 2397.814512517983, 2174.2828153711343, 2172.885416032871, 2022.836374088404, 1938.1138332086557, 1935.301224540563, 1855.0640615367697, 1835.8736586243606, 1799.032047070659, 1775.4484672386332, 5040.902200887165, 5325.506414113201, 2050.643661920298, 25961.303073132356, 19875.128071313335, 7835.836040509137, 6379.81608558048, 5311.4617665064125, 4897.961775184658, 4854.2542846282695, 4541.35423175051, 4274.781134490107, 4024.235744939879, 3549.113346758698, 3524.780944536226, 3456.6631867679826, 3213.1066548014446, 3197.6391951856144, 3032.648980120205, 2960.99582626605, 2910.7908143481786, 2781.171923763207, 2639.4589996181353, 2547.356925973688, 2523.2149809726347, 2505.399091572471, 2486.3311222907573, 2304.3948267309806, 2257.171881122548, 2234.3491643823913, 2188.2979919068757, 2133.572198392846, 2130.7401646239273, 9803.95314000623, 4307.180837964561, 13288.634224390493, 7570.9703384471295, 7024.1709261170045, 6784.202044659786, 6056.747926485702, 5895.254813989217, 4913.506056729907, 4893.299944503876, 4560.372128382484, 4372.700321993692, 4064.906680886052, 4030.2352533568874, 3944.8121626888847, 3915.525064997705, 3800.550095700639, 3390.76359460994, 2804.0555554848906, 2739.2994419235665, 2683.8390595522937, 2671.4836074732975, 2670.558091263453, 2562.782783423447, 2561.6081729911402, 2497.0605845606724, 2330.524193056307, 2326.155172350922, 2210.4533401625763, 2203.2082413229173, 2072.9905176972366, 2014.1170576491277, 9873.596249048245, 8795.572169116254, 12384.071450352532, 9361.930607784168, 7954.29685794193, 7921.2915103508385, 5859.274223262165, 4939.856795809921, 4749.913198922796, 4588.5020153980995, 3779.278652430177, 3763.7972851360278, 3605.312516808313, 3509.9567847697163, 3508.2463390345356, 3383.76827319395, 3224.81599022172, 3040.955206422775, 2951.75778003318, 2830.8947293907827, 2613.1604335513002, 2603.561824059155, 2572.7155637075525, 2566.3437219579423, 2410.2127038301214, 2235.0784556376916, 2083.543181958014, 2053.7473466669835, 1991.1427140592846, 1959.3678952095802, 1891.6168268841745, 1869.0816234382812, 7817.10800178934, 5055.179770953187, 2607.7290134164928, 2023.6061329101951, 37716.734479743965, 12478.238908574775, 9229.475810607204, 7069.73926777509, 5571.607976571972, 4790.175367812283, 4489.693043402341, 4240.838102346851, 3431.2047867985657, 3397.8728657688885, 3048.45633084587, 2768.7187306007736, 2657.7012892314256, 2605.686266377633, 2603.570679061804, 2551.710337993068, 2520.325697673718, 2427.6496690039817, 2355.694320698306, 2325.1023243448685, 2268.341055215913, 2243.3240148047303, 2083.231439534366, 1980.350420351011, 1953.5672291954231, 1950.5764475309827, 1919.5177342889542, 1807.005970700754, 1777.533079697235, 1696.2122702553868, 22920.823474477467, 12935.103048613557, 7209.828229675514, 6481.451661214263, 6121.0334575096385, 5709.2427690161385, 5086.956362636736, 4905.189693890063, 4704.949470432313, 4405.291054528102, 4343.093533201314, 4078.955702550244, 4007.7832224291524, 3817.9783768962648, 3777.7909625281836, 2812.508362678917, 2571.6657117412406, 2558.9372195675187, 2370.8967802612615, 2368.680263287707, 2142.514130699547, 2060.993011728416, 2038.0246381600102, 1961.908564552928, 1948.7284954112044, 1921.3677885384911, 1917.6061150305125, 1900.7557820212005, 1809.1594524528186, 1794.1514573927477, 3665.094752507814, 1822.7517323670475, 14517.936170534434, 13502.238991227085, 10426.95998674375, 10159.155820081707, 8483.59997597026, 7191.9608059623515, 6674.880266554257, 5549.1701194503985, 5203.625997240364, 5176.30242530805, 4431.6886214927445, 4319.982451906639, 4063.312809783958, 3775.9672515651514, 3522.0234187791007, 3200.0151446788987, 3156.4967167711648, 2498.7423429795595, 2469.412433857294, 2411.299150417765, 2136.085476750827, 2111.922169721148, 1975.5259602860503, 1734.504903360265, 1715.283775918702, 1663.9686461792462, 1612.378532865197, 1521.147352454445, 1464.8455546656924, 1464.568722905768, 5462.967587298603, 9012.449216016987, 8136.225140102592, 7780.384394104151, 7773.166192957817, 7294.363775669671, 6373.290068169988, 5696.308502929658, 5425.9774237499305, 5229.345560909681, 4851.140423451925, 4440.124081412112, 3978.280320575058, 3917.2765469156043, 3202.6556353847936, 2900.6244733157723, 2870.6247153346153, 2730.100671983976, 2707.3294057561397, 2691.2391182176293, 2662.822794403717, 2501.1972017741377, 2343.963059710374, 2305.7730340152884, 2271.005294797318, 2158.1066497621214, 1973.9723333137058, 1851.280328699375, 1833.741968054742, 1825.4770274747361, 1819.9914742969422, 2563.8326962951555, 5451.1646078640015, 12240.307262817363, 11595.28643972032, 7578.949605175137, 7265.990641221784, 6467.9368656005545, 6434.459919793675, 5883.488661655373, 5442.256745373157, 5328.133548590127, 5114.383454224179, 5060.762946259191, 4780.424670025251, 4757.3896180642105, 4595.500895265768, 4481.360604401138, 4054.3986202384363, 3825.2630754278903, 3807.867516387758, 3651.4429426731945, 2799.553947062018, 2774.72790155142, 2695.6928972667815, 2335.852637519012, 2261.635056231016, 2220.30286192601, 2180.8484265847487, 1926.1517907547625, 1922.6915342367445, 1889.8026507370628, 1814.8388868870593, 21951.748254164937, 8677.71024870049, 7059.933933163507, 5293.446888513803, 4778.2452703432145, 4600.440242086059, 4292.23156928846, 4218.752551472631, 3897.569149961266, 3701.2695432882883, 3580.547492814807, 3479.6536255232704, 3405.871574328947, 3370.088877194832, 3284.9411400513604, 3231.5249950978427, 3217.6365240351356, 2993.0975591961983, 2820.6772406493274, 2457.654858746669, 2375.334487499738, 2209.125192658638, 2088.3711624924476, 2061.842202084935, 2042.8916551472587, 2039.9959455525905, 2022.432517786176, 2001.8784729499562, 1976.144104745968, 1954.8522058707078, 2115.57698341218, 14115.796221737204, 13501.466795693344, 5366.972280206265, 5326.167895170888, 4883.302017652348, 4815.11456426696, 4637.127708191772, 4526.112069448609, 4073.462260005228, 3878.161668643927, 3842.0564944283606, 3754.974919467458, 3672.2595444391354, 3550.3230015147283, 3487.521368722824, 3240.23916755473, 2969.614550231689, 2841.739398934995, 2638.159601041155, 2530.968440501344, 2447.5651689493984, 2429.1185790067234, 2231.7205852258458, 2215.8289659852016, 2129.340068051573, 2070.8432572196025, 1998.3668088986738, 1917.4441339016114, 1882.2070012027607, 1853.408893932009, 5420.832544941022, 2878.3098619327193, 24475.753568904398, 15643.482825569332, 8026.29040016353, 5207.739850076603, 5041.986637963687, 4409.423929103947, 4000.350613657537, 3984.009966892284, 3674.1688026015067, 3457.760741421524, 3451.252481308481, 3101.0504460865723, 2842.4130574075034, 2760.0365730087037, 2584.820093309862, 2351.8753952132165, 2290.4911770447648, 2259.2529669619857, 2195.982054609917, 2133.114296311107, 2097.6427760182405, 2066.448361899833, 2054.995139264148, 1806.255638532976, 1634.367138390695, 1631.5129515396045, 1619.8237958055324, 1601.4029049496025, 1571.3283061196196, 1456.9459621393703, 3777.38471687405, 2284.3571733545305, 5488.790754668518], \"Total\": [51688.0, 37717.0, 25962.0, 24476.0, 22921.0, 21952.0, 21836.0, 19875.0, 17619.0, 17680.0, 16336.0, 15644.0, 15825.0, 15696.0, 15839.0, 15766.0, 15220.0, 14518.0, 14116.0, 13502.0, 13503.0, 31139.0, 13289.0, 16896.0, 12935.0, 13009.0, 12479.0, 12746.0, 12241.0, 12384.0, 17680.126035069297, 12824.500078872228, 9891.47296789492, 9747.968980282973, 6568.763536101077, 5714.566289860103, 5632.477658711781, 5388.481085151878, 5364.891148667063, 5208.049019059043, 4891.849365489295, 4787.627619096903, 4398.244512756962, 4314.776052993056, 4240.274667639268, 4176.978275666869, 3701.8893944554766, 3685.2550623070333, 3408.615125339275, 3070.1214268422823, 3020.698502059705, 2820.7465410002337, 2636.560254118301, 2317.7194538444683, 2303.3215287372686, 2286.178441399053, 2265.0916710274773, 2265.041852270022, 2192.8393761239054, 2066.607098823967, 11603.05979756181, 79182.85419757782, 16336.024527750926, 15839.700699739931, 12601.747796958514, 12383.25757470982, 11406.742599140372, 10210.426854436511, 7277.656908744473, 6600.166603607281, 6243.4556971037355, 6101.152245013001, 5069.462428651044, 4304.386921415059, 4199.182565937915, 4110.843478453392, 3724.538777792882, 3639.070814952699, 3582.8211623331654, 3465.9129112933383, 3402.366558404019, 3373.3466390743524, 2904.073409048721, 2555.807827723482, 2454.8326992399725, 2323.829213022857, 2221.1473393742835, 2104.2233337637017, 2072.74788953117, 2059.2771480335086, 1715.9865100509487, 1572.3376467929177, 4023.0043185516183, 31139.5899787406, 12746.279556525107, 12389.115001138507, 8566.437610503659, 6884.673390016164, 6662.15298763146, 6413.708759859451, 5402.040380850516, 5374.573304293227, 4848.153506387029, 4785.316230721071, 4743.220867847315, 4259.4581971977605, 4146.976376774849, 3961.810104086255, 3936.919866949537, 3877.902006947958, 3592.686370875974, 3535.5735615925287, 3433.9806559695257, 3392.6729275103266, 3287.997303452525, 3286.7681164116266, 3089.5562182197064, 3037.7685277885553, 2991.326622153318, 2801.737255390962, 2753.63654394325, 2676.757778331759, 2524.552521437243, 2523.187404879863, 31139.5899787406, 11106.22596150866, 15220.735596345583, 13009.411813774625, 9262.085521673594, 8421.008282926661, 8402.939078690251, 6212.799721047079, 5658.046673262571, 5528.200369989336, 5233.520594509802, 5221.535110711289, 4724.3249777446745, 4694.412967164001, 4669.974109939678, 4451.07050370476, 4392.5765021321195, 3564.6469619122454, 3533.394534195592, 3478.3620494026795, 3448.2163828291145, 3363.1286323597633, 3086.012047149341, 2776.299151237194, 2539.6847673260363, 2438.834624011154, 2345.0292522050536, 2330.1788109016165, 2295.941420655259, 2242.5243103595535, 2115.9897703032366, 1941.0497377369338, 7957.216390020833, 31139.5899787406, 15766.767709681508, 10760.253171326282, 9063.454909650887, 8391.189092361237, 6401.392805007644, 5312.292083076828, 4931.27808216114, 4757.082473495713, 4284.60644082146, 3858.6528910899274, 3838.110166923423, 3710.1626121989148, 3674.6181532181713, 3424.6395372330167, 3180.187800399615, 3060.9767634985324, 3055.8409384752686, 3023.343130952116, 3015.915118253765, 2979.3650915140506, 2951.083066348094, 2887.8307809732682, 2852.365223930084, 2798.663240595996, 2752.057248303302, 2658.8443998280864, 2587.2149747979893, 2530.427177000806, 2518.9086459702166, 2426.3238453994445, 5069.95848863455, 79182.85419757782, 11962.579339218084, 11785.823992841179, 8908.443556870832, 8698.743244932126, 8020.341806201651, 7986.782666647723, 7469.728379303659, 7266.985901398855, 6803.445518749615, 5228.882908371214, 4743.5127070390145, 4229.723918265664, 3765.872802842776, 3639.1959130805303, 3125.813208292958, 3105.0863787785493, 3063.725266514447, 3007.8368361928415, 2868.6226642591964, 2793.600330555238, 2693.676466914023, 2550.926167234059, 2419.368136744977, 2364.026012779929, 2284.0354602568805, 2118.1097680239554, 2105.730937131537, 2074.732959179897, 2031.8483308572756, 1992.8098619427658, 11667.220622604913, 9158.628501359004, 9124.6711370985, 8258.799375270353, 7320.3146169014635, 6624.445136926584, 4698.52142013333, 4660.454117957972, 4625.274880263322, 3799.7606657911183, 3204.9067391803487, 2817.5441138765145, 2805.35970809431, 2712.905641588549, 2243.9500315699756, 2223.9519711386943, 1949.6141735101996, 1936.5515985273237, 1821.7778284410492, 1809.7142703511665, 1614.216334998735, 1533.5337547352472, 1497.4667190976973, 1454.550438154673, 1430.4143909676227, 1403.262175164124, 1389.5800115508682, 1324.0253017048562, 1304.4451846089414, 1284.8921396288588, 51688.89276453168, 16896.79491146203, 79182.85419757782, 21836.11669598313, 17619.795976721754, 8835.099325461935, 8199.837926765344, 8021.507426058912, 7492.269994577604, 5915.461424537908, 5663.185088478664, 5336.600156849404, 4928.566473690556, 4680.052605134486, 4549.003412404121, 4399.834924818673, 4280.401215158461, 3541.152315746658, 3393.946256346845, 2523.8700039126193, 2515.0539397872217, 2503.0319340760902, 2474.4058042198217, 2466.4735208663838, 2429.547943673559, 2327.010658121056, 2325.2125454511047, 2140.8400779100193, 2029.0451130815081, 2013.4786262799682, 1884.117176836324, 1851.4314629035537, 1693.9878863035487, 5099.92198162992, 79182.85419757782, 15825.322053483407, 15696.237426613396, 9345.54624997301, 8851.897123739926, 8338.468494873401, 5449.468662955602, 4196.6072702465235, 4088.9327192356695, 4064.3631508705575, 3690.538825894592, 3604.7628925136764, 3411.677923948818, 3153.0382124273247, 3118.191730928832, 3092.8538669275454, 2962.8973724682783, 2819.7286042656665, 2744.863071718144, 2728.2359375919027, 2412.386423162039, 2398.614915683519, 2175.0832185366703, 2173.685819198407, 2023.6367772539402, 1938.914236374192, 1936.1016277060992, 1855.864464702306, 1836.6740617898968, 1799.8324502361952, 1776.2488704041693, 7315.350238751899, 31139.5899787406, 5099.92198162992, 25962.10914059387, 19875.93413877485, 7836.64210797478, 6380.622153041995, 5312.267833967928, 4898.767842646173, 4855.060352089785, 4542.160299212025, 4275.587201951623, 4025.041812401394, 3549.9194142202127, 3525.587011997741, 3457.4692542294974, 3213.9127222629595, 3198.4452626471293, 3033.45504758172, 2961.8018937275647, 2911.5968818096935, 2781.977991224722, 2640.26506707965, 2548.1629934352027, 2524.0210484341496, 2506.205159033986, 2487.137189752272, 2305.2008941924955, 2257.9779485840627, 2235.155231843906, 2189.1040593683906, 2134.378265854361, 2131.546232085442, 79182.85419757782, 31139.5899787406, 13289.437676787831, 7571.773790844468, 7024.974378514343, 6785.005497057125, 6057.55137888304, 5896.058266386555, 4914.309509127245, 4894.103396901214, 4561.175580779823, 4373.503774391031, 4065.7101332833895, 4031.0387057648145, 3945.615615086222, 3916.3285173950426, 3801.3535480979763, 3391.5670470072773, 2804.859007882228, 2740.102894320904, 2684.642511949631, 2672.287059870635, 2671.3615436607906, 2563.5862358207846, 2562.4116253884777, 2497.86403695801, 2331.3276454536444, 2326.9586247482594, 2211.2567925599137, 2204.0116937202547, 2073.793970094574, 2014.9205100464653, 16896.79491146203, 79182.85419757782, 12384.864609614546, 9362.723767046182, 7955.090017203945, 7922.084669612853, 5860.067382524179, 4940.649955071935, 4750.706358184811, 4589.295174660114, 3780.0718116921903, 3764.590444398041, 3606.1056760703264, 3510.7499440317297, 3509.039498296549, 3384.5614324559633, 3225.6091494837333, 3041.7483656847885, 2952.5509392951935, 2831.687888652796, 2613.9535928133137, 2604.354983321168, 2573.508722969566, 2567.1368812199557, 2411.005863092135, 2235.871614899705, 2084.3363412200274, 2054.540505928997, 1991.9358733212985, 1960.161054471594, 1892.4099861461884, 1869.874782700295, 11106.22596150866, 6663.958218962957, 79182.85419757782, 31139.5899787406, 37717.53737154666, 12479.041800377461, 9230.27870240989, 7070.542159585994, 5572.410868374662, 4790.978259614973, 4490.49593520503, 4241.64099414954, 3432.0076786012537, 3398.6757575715765, 3049.259222648558, 2769.5216224034616, 2658.5041810341136, 2606.489158180321, 2604.373570864492, 2552.513229795756, 2521.128589476406, 2428.4525608066697, 2356.497212500994, 2325.9052161475565, 2269.1439470225364, 2244.1269066074183, 2084.034331337054, 1981.1533121536993, 1954.3701209981114, 1951.379339333671, 1920.3206260916425, 1807.8088625034422, 1778.3359714999233, 1697.015162058075, 22921.624754640266, 12935.904328776356, 7210.629509838316, 6482.252941377065, 6121.8347376724405, 5710.04404917894, 5087.757642799538, 4905.990974052865, 4705.750750595115, 4406.092334690904, 4343.894813364116, 4079.7569827130446, 4008.584502591953, 3818.7796570590654, 3778.592242690984, 2813.3096428417175, 2572.466991904041, 2559.7384997303193, 2371.698060424062, 2369.4815434505076, 2143.3154108623476, 2061.7942918912167, 2038.8259183228113, 1962.709844715729, 1949.5297755740055, 1922.1690687012922, 1918.4073951933135, 1901.5570621840016, 1809.9607326156197, 1794.9527375555488, 79182.85419757782, 11603.05979756181, 14518.736126606385, 13503.038947299035, 10427.759942815701, 10159.955776153658, 8484.399932042212, 7192.760762034303, 6675.680222626209, 5549.97007552235, 5204.425953312316, 5177.102381380002, 4432.488577564696, 4320.7824079785905, 4064.11276585591, 3776.767207637103, 3522.8233748510524, 3200.8151007508504, 3157.2966728431165, 2499.5422990515112, 2470.212389929246, 2412.0991064897166, 2136.885432822779, 2112.7221257930996, 1976.3259163580021, 1735.3048594322167, 1716.0837319906539, 1664.768602251198, 1613.2134546845843, 1521.9473085263967, 1465.6455107376441, 1465.3686789777198, 79182.85419757782, 9013.24550422943, 8137.021428317165, 7781.180682316595, 7773.962481170261, 7295.160063882115, 6374.086356382432, 5697.104791142102, 5426.773711962374, 5230.141849122125, 4851.936711664369, 4440.920369624556, 3979.0766087875018, 3918.072835128048, 3203.4519235972375, 2901.420761528216, 2871.421003547059, 2730.89696019642, 2708.1256939685836, 2692.035406430073, 2663.619082616161, 2501.9934899865816, 2344.759347922818, 2306.5693222277323, 2271.801583009762, 2158.9029379745652, 1974.7686215261497, 1852.076616911819, 1834.538256267186, 1826.27331568718, 1820.787762509386, 2683.9025712475277, 79182.85419757782, 12241.105019806047, 11596.084196709004, 7579.747362163821, 7266.788398210469, 6468.734622589239, 6435.257676782359, 5884.286418644057, 5443.0545023618415, 5328.931305578812, 5115.181211212864, 5061.560703247876, 4781.222427013935, 4758.187375052895, 4596.2986522544525, 4482.158361389822, 4055.1963772271197, 3826.0608324165737, 3808.6652733764413, 3652.240699661878, 2800.3517040507013, 2775.5256585401034, 2696.490654255465, 2336.6503945076956, 2262.4328132196993, 2221.1006189146933, 2181.646183573432, 1926.9495477434464, 1923.4892912254284, 1890.6004077257467, 1815.6366438757432, 21952.550235896546, 8678.5122304321, 7060.735914895117, 5294.248870245413, 4779.047252074824, 4601.242223817669, 4293.03355102007, 4219.554533204241, 3898.371131692875, 3702.0715250198978, 3581.3494745464163, 3480.45560725488, 3406.6735560605566, 3370.8908589264415, 3285.74312178297, 3232.326976829452, 3218.438505766745, 2993.8995409278077, 2821.479222380937, 2458.4568404782785, 2376.1364692313473, 2209.9271743902473, 2089.173144224057, 2062.6441838165442, 2043.6936368788681, 2040.7979272842, 2023.2344995177855, 2002.6804546815656, 1976.9460864775774, 1955.6541876023173, 79182.85419757782, 14116.59557411795, 13502.26614807409, 5367.77163258701, 5326.967247551633, 4884.101370033092, 4815.913916647704, 4637.927060572517, 4526.9114218293535, 4074.2616123859725, 3878.9610210246715, 3842.855846809105, 3755.7742718482027, 3673.05889681988, 3551.1223538954728, 3488.3207211035683, 3241.0385199354746, 2970.4139026124335, 2842.5387513157393, 2638.9589534218994, 2531.7677928820885, 2448.364521330143, 2429.917931387468, 2232.5199376065902, 2216.628318365946, 2130.1394204323174, 2071.642609600347, 1999.1661612794182, 1918.243486282356, 1883.0063928481304, 1854.2082463127535, 79182.85419757782, 16828.301508320466, 24476.55566626198, 15644.284922926912, 8027.09249752111, 5208.541947434183, 5042.788735321267, 4410.226026461527, 4001.1527110151173, 3984.8120642622885, 3674.970899959087, 3458.5628387791044, 3452.0545786660614, 3101.8525434441526, 2843.2151547650838, 2760.838670366284, 2585.6221906674423, 2352.677492570797, 2291.293274402345, 2260.055064319566, 2196.7841519674976, 2133.9163936686873, 2098.444873375821, 2067.2504592574132, 2055.797236621728, 1807.0577358905564, 1635.1692357482752, 1632.3150488971849, 1620.6258931631128, 1602.205002307183, 1572.1304034772, 1457.7480594969506, 5566.610333562791, 3827.371979654759, 79182.85419757782], \"Category\": [\"Default\", \"Default\", \"Default\", \"Default\", \"Default\", \"Default\", \"Default\", \"Default\", \"Default\", \"Default\", \"Default\", \"Default\", \"Default\", \"Default\", \"Default\", \"Default\", \"Default\", \"Default\", \"Default\", \"Default\", \"Default\", \"Default\", \"Default\", \"Default\", \"Default\", \"Default\", \"Default\", \"Default\", \"Default\", \"Default\", \"Topic1\", \"Topic1\", \"Topic1\", \"Topic1\", \"Topic1\", \"Topic1\", \"Topic1\", \"Topic1\", \"Topic1\", \"Topic1\", \"Topic1\", \"Topic1\", \"Topic1\", \"Topic1\", \"Topic1\", \"Topic1\", \"Topic1\", \"Topic1\", \"Topic1\", \"Topic1\", \"Topic1\", \"Topic1\", \"Topic1\", \"Topic1\", \"Topic1\", \"Topic1\", \"Topic1\", \"Topic1\", \"Topic1\", \"Topic1\", \"Topic1\", \"Topic1\", \"Topic2\", \"Topic2\", \"Topic2\", \"Topic2\", \"Topic2\", \"Topic2\", \"Topic2\", \"Topic2\", \"Topic2\", \"Topic2\", \"Topic2\", \"Topic2\", \"Topic2\", \"Topic2\", \"Topic2\", \"Topic2\", \"Topic2\", \"Topic2\", \"Topic2\", \"Topic2\", \"Topic2\", \"Topic2\", \"Topic2\", \"Topic2\", \"Topic2\", \"Topic2\", \"Topic2\", \"Topic2\", \"Topic2\", \"Topic2\", \"Topic2\", \"Topic2\", \"Topic3\", \"Topic3\", \"Topic3\", \"Topic3\", \"Topic3\", \"Topic3\", \"Topic3\", \"Topic3\", \"Topic3\", \"Topic3\", \"Topic3\", \"Topic3\", \"Topic3\", \"Topic3\", \"Topic3\", \"Topic3\", \"Topic3\", \"Topic3\", \"Topic3\", \"Topic3\", \"Topic3\", \"Topic3\", \"Topic3\", \"Topic3\", \"Topic3\", \"Topic3\", \"Topic3\", \"Topic3\", \"Topic3\", \"Topic3\", \"Topic3\", \"Topic3\", \"Topic4\", \"Topic4\", \"Topic4\", \"Topic4\", \"Topic4\", \"Topic4\", \"Topic4\", \"Topic4\", \"Topic4\", \"Topic4\", \"Topic4\", \"Topic4\", \"Topic4\", \"Topic4\", \"Topic4\", \"Topic4\", \"Topic4\", \"Topic4\", \"Topic4\", \"Topic4\", \"Topic4\", \"Topic4\", \"Topic4\", \"Topic4\", \"Topic4\", \"Topic4\", \"Topic4\", \"Topic4\", \"Topic4\", \"Topic4\", \"Topic4\", \"Topic4\", \"Topic5\", \"Topic5\", \"Topic5\", \"Topic5\", \"Topic5\", \"Topic5\", \"Topic5\", \"Topic5\", \"Topic5\", \"Topic5\", \"Topic5\", \"Topic5\", \"Topic5\", \"Topic5\", \"Topic5\", \"Topic5\", \"Topic5\", \"Topic5\", \"Topic5\", \"Topic5\", \"Topic5\", \"Topic5\", \"Topic5\", \"Topic5\", \"Topic5\", \"Topic5\", \"Topic5\", \"Topic5\", \"Topic5\", \"Topic5\", \"Topic5\", \"Topic5\", \"Topic6\", \"Topic6\", \"Topic6\", \"Topic6\", \"Topic6\", \"Topic6\", \"Topic6\", \"Topic6\", \"Topic6\", \"Topic6\", \"Topic6\", \"Topic6\", \"Topic6\", \"Topic6\", \"Topic6\", \"Topic6\", \"Topic6\", \"Topic6\", \"Topic6\", \"Topic6\", \"Topic6\", \"Topic6\", \"Topic6\", \"Topic6\", \"Topic6\", \"Topic6\", \"Topic6\", \"Topic6\", \"Topic6\", \"Topic6\", \"Topic7\", \"Topic7\", \"Topic7\", \"Topic7\", \"Topic7\", \"Topic7\", \"Topic7\", \"Topic7\", \"Topic7\", \"Topic7\", \"Topic7\", \"Topic7\", \"Topic7\", \"Topic7\", \"Topic7\", \"Topic7\", \"Topic7\", \"Topic7\", \"Topic7\", \"Topic7\", \"Topic7\", \"Topic7\", \"Topic7\", \"Topic7\", \"Topic7\", \"Topic7\", \"Topic7\", \"Topic7\", \"Topic7\", \"Topic7\", \"Topic7\", \"Topic7\", \"Topic7\", \"Topic8\", \"Topic8\", \"Topic8\", \"Topic8\", \"Topic8\", \"Topic8\", \"Topic8\", \"Topic8\", \"Topic8\", \"Topic8\", \"Topic8\", \"Topic8\", \"Topic8\", \"Topic8\", \"Topic8\", \"Topic8\", \"Topic8\", \"Topic8\", \"Topic8\", \"Topic8\", \"Topic8\", \"Topic8\", \"Topic8\", \"Topic8\", \"Topic8\", \"Topic8\", \"Topic8\", \"Topic8\", \"Topic8\", \"Topic8\", \"Topic8\", \"Topic8\", \"Topic9\", \"Topic9\", \"Topic9\", \"Topic9\", \"Topic9\", \"Topic9\", \"Topic9\", \"Topic9\", \"Topic9\", \"Topic9\", \"Topic9\", \"Topic9\", \"Topic9\", \"Topic9\", \"Topic9\", \"Topic9\", \"Topic9\", \"Topic9\", \"Topic9\", \"Topic9\", \"Topic9\", \"Topic9\", \"Topic9\", \"Topic9\", \"Topic9\", \"Topic9\", \"Topic9\", \"Topic9\", \"Topic9\", \"Topic9\", \"Topic9\", \"Topic9\", \"Topic9\", \"Topic10\", \"Topic10\", \"Topic10\", \"Topic10\", \"Topic10\", \"Topic10\", \"Topic10\", \"Topic10\", \"Topic10\", \"Topic10\", \"Topic10\", \"Topic10\", \"Topic10\", \"Topic10\", \"Topic10\", \"Topic10\", \"Topic10\", \"Topic10\", \"Topic10\", \"Topic10\", \"Topic10\", \"Topic10\", \"Topic10\", \"Topic10\", \"Topic10\", \"Topic10\", \"Topic10\", \"Topic10\", \"Topic10\", \"Topic10\", \"Topic10\", \"Topic10\", \"Topic11\", \"Topic11\", \"Topic11\", \"Topic11\", \"Topic11\", \"Topic11\", \"Topic11\", \"Topic11\", \"Topic11\", \"Topic11\", \"Topic11\", \"Topic11\", \"Topic11\", \"Topic11\", \"Topic11\", \"Topic11\", \"Topic11\", \"Topic11\", \"Topic11\", \"Topic11\", \"Topic11\", \"Topic11\", \"Topic11\", \"Topic11\", \"Topic11\", \"Topic11\", \"Topic11\", \"Topic11\", \"Topic11\", \"Topic11\", \"Topic11\", \"Topic11\", \"Topic12\", \"Topic12\", \"Topic12\", \"Topic12\", \"Topic12\", \"Topic12\", \"Topic12\", \"Topic12\", \"Topic12\", \"Topic12\", \"Topic12\", \"Topic12\", \"Topic12\", \"Topic12\", \"Topic12\", \"Topic12\", \"Topic12\", \"Topic12\", \"Topic12\", \"Topic12\", \"Topic12\", \"Topic12\", \"Topic12\", \"Topic12\", \"Topic12\", \"Topic12\", \"Topic12\", \"Topic12\", \"Topic12\", \"Topic12\", \"Topic12\", \"Topic12\", \"Topic12\", \"Topic12\", \"Topic13\", \"Topic13\", \"Topic13\", \"Topic13\", \"Topic13\", \"Topic13\", \"Topic13\", \"Topic13\", \"Topic13\", \"Topic13\", \"Topic13\", \"Topic13\", \"Topic13\", \"Topic13\", \"Topic13\", \"Topic13\", \"Topic13\", \"Topic13\", \"Topic13\", \"Topic13\", \"Topic13\", \"Topic13\", \"Topic13\", \"Topic13\", \"Topic13\", \"Topic13\", \"Topic13\", \"Topic13\", \"Topic13\", \"Topic13\", \"Topic14\", \"Topic14\", \"Topic14\", \"Topic14\", \"Topic14\", \"Topic14\", \"Topic14\", \"Topic14\", \"Topic14\", \"Topic14\", \"Topic14\", \"Topic14\", \"Topic14\", \"Topic14\", \"Topic14\", \"Topic14\", \"Topic14\", \"Topic14\", \"Topic14\", \"Topic14\", \"Topic14\", \"Topic14\", \"Topic14\", \"Topic14\", \"Topic14\", \"Topic14\", \"Topic14\", \"Topic14\", \"Topic14\", \"Topic14\", \"Topic14\", \"Topic14\", \"Topic15\", \"Topic15\", \"Topic15\", \"Topic15\", \"Topic15\", \"Topic15\", \"Topic15\", \"Topic15\", \"Topic15\", \"Topic15\", \"Topic15\", \"Topic15\", \"Topic15\", \"Topic15\", \"Topic15\", \"Topic15\", \"Topic15\", \"Topic15\", \"Topic15\", \"Topic15\", \"Topic15\", \"Topic15\", \"Topic15\", \"Topic15\", \"Topic15\", \"Topic15\", \"Topic15\", \"Topic15\", \"Topic15\", \"Topic15\", \"Topic15\", \"Topic16\", \"Topic16\", \"Topic16\", \"Topic16\", \"Topic16\", \"Topic16\", \"Topic16\", \"Topic16\", \"Topic16\", \"Topic16\", \"Topic16\", \"Topic16\", \"Topic16\", \"Topic16\", \"Topic16\", \"Topic16\", \"Topic16\", \"Topic16\", \"Topic16\", \"Topic16\", \"Topic16\", \"Topic16\", \"Topic16\", \"Topic16\", \"Topic16\", \"Topic16\", \"Topic16\", \"Topic16\", \"Topic16\", \"Topic16\", \"Topic16\", \"Topic16\", \"Topic17\", \"Topic17\", \"Topic17\", \"Topic17\", \"Topic17\", \"Topic17\", \"Topic17\", \"Topic17\", \"Topic17\", \"Topic17\", \"Topic17\", \"Topic17\", \"Topic17\", \"Topic17\", \"Topic17\", \"Topic17\", \"Topic17\", \"Topic17\", \"Topic17\", \"Topic17\", \"Topic17\", \"Topic17\", \"Topic17\", \"Topic17\", \"Topic17\", \"Topic17\", \"Topic17\", \"Topic17\", \"Topic17\", \"Topic17\", \"Topic18\", \"Topic18\", \"Topic18\", \"Topic18\", \"Topic18\", \"Topic18\", \"Topic18\", \"Topic18\", \"Topic18\", \"Topic18\", \"Topic18\", \"Topic18\", \"Topic18\", \"Topic18\", \"Topic18\", \"Topic18\", \"Topic18\", \"Topic18\", \"Topic18\", \"Topic18\", \"Topic18\", \"Topic18\", \"Topic18\", \"Topic18\", \"Topic18\", \"Topic18\", \"Topic18\", \"Topic18\", \"Topic18\", \"Topic18\", \"Topic18\", \"Topic19\", \"Topic19\", \"Topic19\", \"Topic19\", \"Topic19\", \"Topic19\", \"Topic19\", \"Topic19\", \"Topic19\", \"Topic19\", \"Topic19\", \"Topic19\", \"Topic19\", \"Topic19\", \"Topic19\", \"Topic19\", \"Topic19\", \"Topic19\", \"Topic19\", \"Topic19\", \"Topic19\", \"Topic19\", \"Topic19\", \"Topic19\", \"Topic19\", \"Topic19\", \"Topic19\", \"Topic19\", \"Topic19\", \"Topic19\", \"Topic19\", \"Topic19\", \"Topic20\", \"Topic20\", \"Topic20\", \"Topic20\", \"Topic20\", \"Topic20\", \"Topic20\", \"Topic20\", \"Topic20\", \"Topic20\", \"Topic20\", \"Topic20\", \"Topic20\", \"Topic20\", \"Topic20\", \"Topic20\", \"Topic20\", \"Topic20\", \"Topic20\", \"Topic20\", \"Topic20\", \"Topic20\", \"Topic20\", \"Topic20\", \"Topic20\", \"Topic20\", \"Topic20\", \"Topic20\", \"Topic20\", \"Topic20\", \"Topic20\", \"Topic20\", \"Topic20\"], \"logprob\": [30.0, 29.0, 28.0, 27.0, 26.0, 25.0, 24.0, 23.0, 22.0, 21.0, 20.0, 19.0, 18.0, 17.0, 16.0, 15.0, 14.0, 13.0, 12.0, 11.0, 10.0, 9.0, 8.0, 7.0, 6.0, 5.0, 4.0, 3.0, 2.0, 1.0, -2.909, -3.2301, -3.4898, -3.5044, -3.8991, -4.0385, -4.0529, -4.0972, -4.1016, -4.1313, -4.1939, -4.2155, -4.3003, -4.3195, -4.3369, -4.352, -4.4727, -4.4772, -4.5553, -4.6599, -4.6761, -4.7446, -4.8122, -4.9411, -4.9473, -4.9548, -4.9641, -4.9641, -4.9965, -5.0558, -3.6904, -4.3716, -2.9537, -2.9846, -3.2133, -3.2308, -3.3129, -3.4237, -3.7624, -3.8601, -3.9156, -3.9387, -4.124, -4.2876, -4.3124, -4.3336, -4.4323, -4.4555, -4.4711, -4.5043, -4.5228, -4.5314, -4.6812, -4.809, -4.8493, -4.9042, -4.9494, -5.0035, -5.0186, -5.0251, -5.2075, -5.295, -4.8198, -3.918, -3.1995, -3.228, -3.597, -3.8155, -3.8484, -3.8864, -4.0581, -4.0632, -4.1663, -4.1793, -4.1882, -4.2958, -4.3225, -4.3682, -4.3745, -4.3896, -4.466, -4.4821, -4.5112, -4.5233, -4.5547, -4.555, -4.6169, -4.6339, -4.6493, -4.7148, -4.7321, -4.7604, -4.819, -4.8195, -3.3943, -4.5543, -3.0143, -3.1713, -3.5111, -3.6063, -3.6085, -3.9105, -4.004, -4.0272, -4.082, -4.0843, -4.1844, -4.1908, -4.196, -4.244, -4.2572, -4.4661, -4.4749, -4.4906, -4.4993, -4.5243, -4.6103, -4.7161, -4.8052, -4.8458, -4.885, -4.8914, -4.9062, -4.9297, -4.9878, -5.0741, -3.9251, -4.7199, -2.9761, -3.3582, -3.5298, -3.6069, -3.8776, -4.0641, -4.1385, -4.1745, -4.2791, -4.3839, -4.3892, -4.4231, -4.4328, -4.5032, -4.5773, -4.6155, -4.6172, -4.6279, -4.6303, -4.6425, -4.6521, -4.6738, -4.6861, -4.7051, -4.7219, -4.7564, -4.7837, -4.8059, -4.8105, -4.8479, -4.4769, -4.5695, -3.2258, -3.2407, -3.5206, -3.5444, -3.6256, -3.6298, -3.6968, -3.7243, -3.7902, -4.0535, -4.1509, -4.2656, -4.3818, -4.416, -4.5681, -4.5747, -4.5882, -4.6066, -4.654, -4.6805, -4.7169, -4.7714, -4.8244, -4.8475, -4.8819, -4.9574, -4.9632, -4.9781, -4.999, -5.0184, -3.246, -3.4881, -3.4918, -3.5915, -3.7122, -3.8121, -4.1556, -4.1638, -4.1713, -4.368, -4.5383, -4.6671, -4.6715, -4.705, -4.8948, -4.9038, -5.0355, -5.0422, -5.1033, -5.11, -5.2244, -5.2757, -5.2995, -5.3286, -5.3453, -5.3645, -5.3743, -5.4226, -5.4375, -5.4527, -1.7747, -3.7536, -3.2589, -2.6052, -2.8198, -3.5101, -3.5848, -3.6067, -3.675, -3.9113, -3.9549, -4.0143, -4.0939, -4.1456, -4.174, -4.2074, -4.2349, -4.4246, -4.467, -4.7633, -4.7668, -4.7716, -4.7831, -4.7863, -4.8014, -4.8445, -4.8453, -4.928, -4.9816, -4.9893, -5.0557, -5.0732, -5.1622, -4.5741, -4.5244, -2.9227, -2.9309, -3.4495, -3.5037, -3.5635, -3.9889, -4.2502, -4.2762, -4.2822, -4.3787, -4.4022, -4.4573, -4.5362, -4.5473, -4.5554, -4.5984, -4.6479, -4.6748, -4.6809, -4.804, -4.8097, -4.9076, -4.9082, -4.9798, -5.0226, -5.024, -5.0664, -5.0768, -5.097, -5.1102, -4.0667, -4.0118, -4.9661, -2.4178, -2.6849, -3.6157, -3.8213, -4.0045, -4.0856, -4.0945, -4.1612, -4.2217, -4.2821, -4.4077, -4.4146, -4.4341, -4.5072, -4.512, -4.565, -4.5889, -4.606, -4.6515, -4.7038, -4.7393, -4.7489, -4.756, -4.7636, -4.8396, -4.8603, -4.8704, -4.8913, -4.9166, -4.9179, -3.3916, -4.2141, -3.0844, -3.647, -3.7219, -3.7567, -3.8701, -3.8971, -4.0793, -4.0834, -4.1539, -4.1959, -4.2689, -4.2775, -4.2989, -4.3063, -4.3361, -4.4502, -4.6402, -4.6636, -4.684, -4.6886, -4.689, -4.7302, -4.7306, -4.7562, -4.8252, -4.8271, -4.8781, -4.8814, -4.9423, -4.9711, -3.3814, -3.497, -3.1517, -3.4315, -3.5944, -3.5986, -3.9001, -4.0708, -4.11, -4.1446, -4.3386, -4.3427, -4.3857, -4.4125, -4.413, -4.4492, -4.4973, -4.556, -4.5857, -4.6276, -4.7076, -4.7113, -4.7232, -4.7257, -4.7884, -4.8639, -4.9341, -4.9485, -4.9794, -4.9955, -5.0307, -5.0427, -3.6118, -4.0477, -4.7097, -4.9633, -2.0289, -3.135, -3.4366, -3.7031, -3.9413, -4.0924, -4.1572, -4.2142, -4.4261, -4.4358, -4.5443, -4.6406, -4.6815, -4.7013, -4.7021, -4.7222, -4.7346, -4.772, -4.8021, -4.8152, -4.8399, -4.851, -4.9251, -4.9757, -4.9893, -4.9908, -5.0069, -5.0673, -5.0837, -5.1306, -2.5259, -3.098, -3.6825, -3.789, -3.8463, -3.9159, -4.0313, -4.0677, -4.1094, -4.1752, -4.1894, -4.2521, -4.2697, -4.3183, -4.3288, -4.6239, -4.7134, -4.7184, -4.7947, -4.7957, -4.896, -4.9348, -4.946, -4.9841, -4.9908, -5.0049, -5.0069, -5.0157, -5.0651, -5.0735, -4.3591, -5.0576, -2.9718, -3.0443, -3.3028, -3.3288, -3.5091, -3.6742, -3.7488, -3.9336, -3.9978, -4.0031, -4.1584, -4.1839, -4.2452, -4.3185, -4.3882, -4.484, -4.4977, -4.7314, -4.7432, -4.767, -4.8882, -4.8996, -4.9664, -5.0965, -5.1076, -5.138, -5.1695, -5.2277, -5.2654, -5.2656, -3.9492, -3.448, -3.5502, -3.595, -3.5959, -3.6595, -3.7945, -3.9068, -3.9554, -3.9923, -4.0674, -4.1559, -4.2657, -4.2812, -4.4826, -4.5816, -4.592, -4.6422, -4.6506, -4.6566, -4.6672, -4.7298, -4.7947, -4.8112, -4.8264, -4.8773, -4.9665, -5.0307, -5.0402, -5.0447, -5.0477, -4.7051, -3.9507, -3.1232, -3.1774, -3.6026, -3.6448, -3.7611, -3.7663, -3.8558, -3.9338, -3.955, -3.9959, -4.0065, -4.0635, -4.0683, -4.1029, -4.1281, -4.2282, -4.2864, -4.2909, -4.3329, -4.5985, -4.6074, -4.6363, -4.7796, -4.8119, -4.8303, -4.8483, -4.9725, -4.9743, -4.9915, -5.032, -2.5349, -3.463, -3.6693, -3.9573, -4.0597, -4.0976, -4.1669, -4.1842, -4.2634, -4.315, -4.3482, -4.3768, -4.3982, -4.4088, -4.4344, -4.4508, -4.4551, -4.5274, -4.5867, -4.7245, -4.7586, -4.8311, -4.8873, -4.9001, -4.9094, -4.9108, -4.9194, -4.9296, -4.9426, -4.9534, -4.8744, -2.9743, -3.0188, -3.9413, -3.949, -4.0358, -4.0498, -4.0875, -4.1117, -4.2171, -4.2662, -4.2756, -4.2985, -4.3208, -4.3545, -4.3724, -4.4459, -4.5332, -4.5772, -4.6515, -4.693, -4.7265, -4.7341, -4.8188, -4.826, -4.8658, -4.8936, -4.9293, -4.9706, -4.9891, -5.0046, -3.9313, -4.5644, -2.422, -2.8697, -3.537, -3.9696, -4.0019, -4.136, -4.2333, -4.2374, -4.3184, -4.3791, -4.381, -4.488, -4.5751, -4.6045, -4.6701, -4.7645, -4.7909, -4.8047, -4.8331, -4.8621, -4.8789, -4.8939, -4.8994, -5.0285, -5.1285, -5.1302, -5.1374, -5.1488, -5.1678, -5.2434, -4.2907, -4.7936, -3.917], \"loglift\": [30.0, 29.0, 28.0, 27.0, 26.0, 25.0, 24.0, 23.0, 22.0, 21.0, 20.0, 19.0, 18.0, 17.0, 16.0, 15.0, 14.0, 13.0, 12.0, 11.0, 10.0, 9.0, 8.0, 7.0, 6.0, 5.0, 4.0, 3.0, 2.0, 1.0, 2.8977, 2.8976, 2.8976, 2.8976, 2.8976, 2.8976, 2.8976, 2.8976, 2.8976, 2.8975, 2.8975, 2.8975, 2.8975, 2.8975, 2.8975, 2.8975, 2.8975, 2.8975, 2.8975, 2.8974, 2.8974, 2.8974, 2.8974, 2.8974, 2.8974, 2.8974, 2.8973, 2.8973, 2.8973, 2.8973, 2.5374, -0.0643, 2.932, 2.9319, 2.9319, 2.9319, 2.9319, 2.9319, 2.9319, 2.9319, 2.9319, 2.9319, 2.9318, 2.9318, 2.9318, 2.9318, 2.9318, 2.9318, 2.9318, 2.9318, 2.9318, 2.9318, 2.9317, 2.9317, 2.9317, 2.9317, 2.9316, 2.9316, 2.9316, 2.9316, 2.9315, 2.9315, 2.4672, 1.3225, 2.9343, 2.9343, 2.9342, 2.9342, 2.9342, 2.9342, 2.9342, 2.9342, 2.9342, 2.9342, 2.9342, 2.9342, 2.9341, 2.9341, 2.9341, 2.9341, 2.9341, 2.9341, 2.9341, 2.9341, 2.9341, 2.9341, 2.9341, 2.9341, 2.9341, 2.9341, 2.934, 2.934, 2.934, 2.934, 1.8463, 1.7172, 2.942, 2.942, 2.942, 2.942, 2.942, 2.942, 2.942, 2.942, 2.9419, 2.9419, 2.9419, 2.9419, 2.9419, 2.9419, 2.9419, 2.9419, 2.9419, 2.9419, 2.9419, 2.9419, 2.9418, 2.9418, 2.9418, 2.9418, 2.9418, 2.9418, 2.9417, 2.9417, 2.9417, 2.9417, 2.6799, 0.5207, 2.945, 2.945, 2.945, 2.945, 2.9449, 2.9449, 2.9449, 2.9449, 2.9449, 2.9449, 2.9449, 2.9449, 2.9449, 2.9448, 2.9448, 2.9448, 2.9448, 2.9448, 2.9448, 2.9448, 2.9448, 2.9448, 2.9448, 2.9448, 2.9448, 2.9448, 2.9448, 2.9448, 2.9448, 2.9447, 2.5789, -0.2622, 2.9715, 2.9715, 2.9714, 2.9714, 2.9714, 2.9714, 2.9714, 2.9714, 2.9714, 2.9714, 2.9714, 2.9713, 2.9713, 2.9713, 2.9713, 2.9713, 2.9713, 2.9713, 2.9712, 2.9712, 2.9712, 2.9712, 2.9712, 2.9712, 2.9712, 2.9711, 2.9711, 2.9711, 2.9711, 2.9711, 2.9763, 2.9763, 2.9763, 2.9763, 2.9762, 2.9762, 2.9762, 2.9762, 2.9762, 2.9761, 2.9761, 2.9761, 2.9761, 2.9761, 2.976, 2.976, 2.9759, 2.9759, 2.9759, 2.9759, 2.9759, 2.9758, 2.9758, 2.9758, 2.9758, 2.9758, 2.9758, 2.9757, 2.9757, 2.9757, 2.9591, 2.0983, 1.0484, 2.9902, 2.9902, 2.9902, 2.9902, 2.9902, 2.9902, 2.9901, 2.9901, 2.9901, 2.9901, 2.9901, 2.9901, 2.9901, 2.9901, 2.99, 2.99, 2.99, 2.99, 2.99, 2.99, 2.9899, 2.9899, 2.9899, 2.9899, 2.9899, 2.9899, 2.9899, 2.9898, 2.9898, 2.9898, 2.4757, -0.2171, 2.9947, 2.9947, 2.9947, 2.9947, 2.9947, 2.9946, 2.9946, 2.9946, 2.9946, 2.9946, 2.9946, 2.9945, 2.9945, 2.9945, 2.9945, 2.9945, 2.9945, 2.9945, 2.9945, 2.9944, 2.9944, 2.9944, 2.9944, 2.9944, 2.9944, 2.9944, 2.9943, 2.9943, 2.9943, 2.9943, 2.6224, 1.2288, 2.0837, 3.0046, 3.0046, 3.0045, 3.0045, 3.0045, 3.0045, 3.0045, 3.0045, 3.0045, 3.0045, 3.0044, 3.0044, 3.0044, 3.0044, 3.0044, 3.0044, 3.0044, 3.0044, 3.0044, 3.0043, 3.0043, 3.0043, 3.0043, 3.0043, 3.0043, 3.0043, 3.0043, 3.0043, 3.0043, 3.0043, 0.9157, 1.0265, 3.0077, 3.0077, 3.0077, 3.0077, 3.0076, 3.0076, 3.0076, 3.0076, 3.0076, 3.0076, 3.0076, 3.0076, 3.0076, 3.0076, 3.0076, 3.0075, 3.0075, 3.0075, 3.0075, 3.0075, 3.0075, 3.0075, 3.0075, 3.0075, 3.0074, 3.0074, 3.0074, 3.0074, 3.0074, 3.0074, 2.4705, 0.8103, 3.0108, 3.0108, 3.0108, 3.0108, 3.0108, 3.0107, 3.0107, 3.0107, 3.0107, 3.0107, 3.0107, 3.0107, 3.0107, 3.0107, 3.0107, 3.0106, 3.0106, 3.0106, 3.0106, 3.0106, 3.0106, 3.0106, 3.0106, 3.0105, 3.0105, 3.0105, 3.0105, 3.0105, 3.0105, 3.0105, 2.6597, 2.7346, -0.4024, 0.2773, 3.0201, 3.02, 3.02, 3.02, 3.0199, 3.0199, 3.0199, 3.0199, 3.0198, 3.0198, 3.0198, 3.0198, 3.0198, 3.0198, 3.0198, 3.0198, 3.0198, 3.0197, 3.0197, 3.0197, 3.0197, 3.0197, 3.0197, 3.0197, 3.0197, 3.0197, 3.0197, 3.0196, 3.0196, 3.0196, 3.021, 3.021, 3.021, 3.0209, 3.0209, 3.0209, 3.0209, 3.0209, 3.0209, 3.0209, 3.0209, 3.0209, 3.0209, 3.0209, 3.0209, 3.0208, 3.0208, 3.0208, 3.0207, 3.0207, 3.0207, 3.0207, 3.0207, 3.0207, 3.0207, 3.0206, 3.0206, 3.0206, 3.0206, 3.0206, -0.0518, 1.1701, 3.0318, 3.0318, 3.0318, 3.0318, 3.0318, 3.0317, 3.0317, 3.0317, 3.0317, 3.0317, 3.0317, 3.0317, 3.0317, 3.0316, 3.0316, 3.0316, 3.0316, 3.0315, 3.0315, 3.0315, 3.0315, 3.0315, 3.0314, 3.0314, 3.0314, 3.0314, 3.0313, 3.0313, 3.0313, 3.0313, 0.3581, 3.0324, 3.0324, 3.0324, 3.0324, 3.0324, 3.0324, 3.0323, 3.0323, 3.0323, 3.0323, 3.0323, 3.0323, 3.0323, 3.0322, 3.0322, 3.0322, 3.0322, 3.0322, 3.0322, 3.0322, 3.0322, 3.0321, 3.0321, 3.0321, 3.0321, 3.0321, 3.032, 3.032, 3.032, 3.032, 2.9867, 0.3565, 3.051, 3.051, 3.051, 3.051, 3.0509, 3.0509, 3.0509, 3.0509, 3.0509, 3.0509, 3.0509, 3.0509, 3.0509, 3.0509, 3.0509, 3.0509, 3.0509, 3.0509, 3.0508, 3.0508, 3.0508, 3.0508, 3.0507, 3.0507, 3.0507, 3.0507, 3.0507, 3.0507, 3.0506, 3.0506, 3.0553, 3.0552, 3.0552, 3.0552, 3.0552, 3.0552, 3.0551, 3.0551, 3.0551, 3.0551, 3.0551, 3.0551, 3.0551, 3.0551, 3.0551, 3.0551, 3.0551, 3.0551, 3.055, 3.055, 3.055, 3.055, 3.0549, 3.0549, 3.0549, 3.0549, 3.0549, 3.0549, 3.0549, 3.0549, -0.5671, 3.0574, 3.0574, 3.0573, 3.0573, 3.0573, 3.0573, 3.0573, 3.0573, 3.0573, 3.0573, 3.0573, 3.0573, 3.0572, 3.0572, 3.0572, 3.0572, 3.0572, 3.0572, 3.0572, 3.0571, 3.0571, 3.0571, 3.0571, 3.0571, 3.0571, 3.0571, 3.0571, 3.057, 3.057, 3.057, 0.376, 1.2916, 3.0593, 3.0593, 3.0592, 3.0592, 3.0592, 3.0592, 3.0591, 3.0591, 3.0591, 3.0591, 3.0591, 3.0591, 3.0591, 3.059, 3.059, 3.059, 3.059, 3.059, 3.059, 3.059, 3.059, 3.059, 3.0589, 3.0589, 3.0588, 3.0588, 3.0588, 3.0588, 3.0588, 3.0588, 2.6716, 2.5432, 0.3903]}, \"token.table\": {\"Topic\": [1, 10, 20, 5, 1, 2, 11, 4, 20, 18, 7, 16, 4, 10, 20, 5, 10, 2, 12, 6, 6, 4, 11, 13, 8, 6, 18, 8, 10, 2, 12, 16, 19, 9, 2, 7, 13, 14, 3, 6, 20, 7, 6, 1, 14, 19, 13, 2, 13, 20, 18, 3, 6, 5, 6, 9, 13, 11, 9, 3, 15, 14, 10, 12, 4, 10, 1, 19, 13, 2, 5, 4, 1, 14, 2, 5, 14, 6, 6, 1, 11, 11, 5, 1, 3, 6, 7, 9, 11, 13, 14, 15, 16, 17, 19, 20, 8, 6, 9, 1, 19, 11, 10, 10, 18, 14, 14, 10, 11, 2, 19, 2, 14, 9, 9, 11, 11, 17, 8, 12, 17, 17, 3, 4, 4, 5, 1, 14, 17, 18, 14, 16, 5, 12, 12, 18, 9, 4, 12, 1, 2, 3, 4, 5, 6, 7, 8, 9, 10, 11, 12, 13, 14, 15, 16, 17, 18, 19, 20, 9, 18, 1, 16, 14, 2, 7, 14, 15, 3, 12, 7, 4, 3, 15, 15, 20, 18, 7, 12, 15, 11, 17, 13, 15, 19, 6, 3, 14, 3, 16, 8, 13, 9, 5, 18, 12, 3, 5, 10, 9, 12, 11, 12, 7, 12, 6, 9, 2, 12, 13, 15, 19, 1, 4, 19, 14, 13, 19, 5, 12, 15, 4, 13, 4, 2, 10, 4, 20, 2, 13, 18, 14, 6, 5, 18, 6, 3, 1, 15, 1, 12, 18, 14, 20, 20, 11, 16, 9, 7, 3, 2, 6, 12, 17, 17, 11, 7, 17, 13, 16, 17, 18, 16, 4, 9, 19, 9, 1, 18, 11, 19, 11, 3, 10, 6, 5, 17, 17, 8, 10, 7, 12, 15, 16, 20, 5, 13, 8, 9, 19, 14, 19, 16, 9, 5, 2, 5, 7, 4, 14, 20, 5, 18, 4, 10, 12, 11, 7, 14, 20, 20, 15, 19, 8, 10, 4, 5, 6, 19, 9, 5, 20, 15, 15, 19, 5, 3, 19, 9, 8, 20, 15, 9, 6, 4, 4, 18, 11, 20, 12, 10, 12, 11, 2, 10, 15, 16, 17, 7, 17, 8, 10, 15, 13, 2, 7, 1, 6, 15, 13, 18, 17, 14, 16, 13, 2, 16, 1, 6, 9, 7, 19, 10, 17, 16, 13, 10, 18, 2, 5, 20, 17, 16, 20, 12, 1, 15, 1, 5, 3, 12, 7, 16, 15, 4, 9, 10, 17, 7, 16, 9, 11, 5, 20, 2, 17, 14, 13, 8, 15, 8, 15, 13, 15, 9, 11, 8, 7, 5, 1, 7, 5, 4, 11, 2, 7, 2, 16, 6, 5, 8, 8, 14, 4, 20, 16, 5, 1, 14, 6, 7, 12, 4, 5, 8, 8, 11, 2, 3, 4, 9, 10, 12, 19, 1, 19, 2, 3, 1, 3, 18, 5, 19, 10, 3, 3, 11, 16, 20, 8, 5, 8, 1, 17, 10, 14, 20, 3, 3, 1, 14, 12, 8, 15, 18, 18, 7, 11, 13, 13, 11, 17, 2, 12, 13, 13, 3, 7, 17, 20, 15, 14, 9, 20, 14, 20, 16, 8, 3, 14, 8, 15, 18, 3, 15, 11, 14, 3, 17, 12, 6, 9, 12, 6, 1, 6, 6, 4, 4, 18, 2, 8, 2, 3, 10, 19, 14, 2, 20, 18, 15, 3, 9, 12, 4, 4, 18, 4, 20, 7, 7, 13, 7, 11, 19, 11, 3, 7, 16, 11, 11, 2, 17, 4, 12, 9, 17, 3, 18, 3, 20, 9, 17, 16, 19, 12, 17, 8, 17, 8, 19, 1, 15, 1, 20, 13, 16, 1, 9, 8, 18, 8, 9, 15, 1, 8, 6, 12, 14, 2, 20, 13, 20, 13, 4, 7, 10, 3, 8, 3, 19, 19, 16, 16, 16, 10, 15, 1, 16, 4, 3, 18, 6, 17, 19, 7, 2, 7, 9, 12, 8, 10, 6, 16, 10, 12, 1, 13, 8, 20, 10, 15, 17, 14, 1, 18, 19, 4, 16, 13, 19, 5, 2, 9, 18, 19, 9, 16, 8, 16, 7, 2, 7, 6, 17, 19, 10, 11], \"Freq\": [0.9996895854486293, 0.9997613384702064, 0.9997962101476324, 0.9998307981805166, 0.9999151956313502, 0.99990973623067, 0.9998328067824053, 0.9998185060346345, 0.9998638987252922, 0.9996602280308998, 0.9996587172736776, 0.9995817607365839, 0.9997594952261778, 0.9994831536407638, 0.999694506954618, 0.9995303927930905, 0.9998432580046989, 0.9996431695504084, 0.9998629786461766, 0.9995936080214014, 0.9996369290315199, 0.9999005269014613, 0.9998612979262497, 0.9998330351258607, 0.9998080170484792, 0.9997398410465475, 0.9995214404256906, 0.9994070555430103, 0.9999024933576894, 0.9998111430486031, 0.03837695194431879, 0.955325289177023, 0.005961468263195152, 0.9999438152373318, 0.9993798076015518, 0.9991005421606434, 0.9999857527403931, 0.999972743876276, 0.9999021899837484, 0.9999345157173101, 0.9995331687549464, 0.9996849768951496, 0.9996713798572284, 0.6974884333269238, 0.1571137296373387, 0.1453926834329075, 0.9994017955285421, 0.9999087815212061, 0.9998136423111682, 0.9998435914406363, 0.9998685801546402, 0.9998377741029746, 0.9996501292891644, 0.9996158334627836, 0.9997488685362433, 0.9996844901906478, 0.9999233213558795, 0.9999161159760772, 0.9992969057292714, 0.9998074096494717, 0.9997484053105482, 0.9994691969840521, 0.9995208560324401, 0.9996101677332917, 0.9994591907066958, 0.9994790500925447, 0.9997353392127287, 0.9999062269947723, 0.9994958684643883, 0.9996839247009421, 0.9996965702886577, 0.9998712784762126, 0.9998689081217597, 0.9997958360709228, 0.9999348982293658, 0.9997567748428321, 0.9997520853836168, 0.9997851050672238, 0.9999573825891827, 0.9996993903133219, 0.9999370187965022, 0.9997713219814519, 0.9996264999194495, 0.09923758492051601, 0.08218298200303811, 0.11207310488628336, 0.021154838462098025, 0.08354972718457815, 0.05823522947431479, 0.06637627686000981, 0.075646374613064, 0.03684269619803589, 0.07582464572369967, 0.041953134702924735, 0.17102141880314076, 0.0759434931307901, 0.9996745930013984, 0.9999024891847906, 0.9995019875435391, 0.9997687614109027, 0.9994166761612892, 0.9998978058687644, 0.9999572784865873, 0.9998227746878741, 0.9997357200325598, 0.99981846534649, 0.9997967726518746, 0.9995435953515537, 0.999906994155239, 0.9997366029335695, 0.9999578103576869, 0.9999557630694409, 0.9994692130129029, 0.9996178134535438, 0.9999139984125814, 0.9997422636425626, 0.9999670658158399, 0.9999350233139646, 0.9997907381693961, 0.9997369212593097, 0.9997227350888972, 0.9998062664334182, 0.9998894929773103, 0.9998802657718904, 0.9996472428948567, 0.9997248094739878, 0.9995400295720903, 0.9998899364517143, 0.9999065032048222, 0.9998690955132626, 0.9997980073632207, 0.9996107789450515, 0.9999386375716022, 0.9998431583975038, 0.999922696956122, 0.9997738344857079, 0.9996855683888072, 0.2412980314648846, 0.7585581772730048, 0.05171574126113358, 0.004053907923033915, 0.018930865970803235, 0.028175291514917957, 0.04046330525046935, 0.017541676339857034, 0.14544815436006728, 0.04046330525046935, 0.007387963037304798, 0.12381468310724143, 0.11108465448911624, 0.032936423250069936, 0.008398282768902036, 0.04628527270379843, 0.06899220867144634, 0.06884066071170676, 0.020976763427287638, 0.026722956900746928, 0.06846179081235779, 0.06932056258421544, 0.9998012930986073, 0.9999409771607738, 0.999910719710383, 0.9997294325057416, 0.9995949049325944, 0.9999372841446714, 0.9828610613005901, 0.005455717561694514, 0.011685295770437896, 0.29605016244000143, 0.7038394524919377, 0.9996883275656514, 0.9996577775290965, 0.9997663485718215, 0.9996582012446011, 0.9997968612850822, 0.9994868389691366, 0.9993898386380423, 0.9992256177404344, 0.9998636962612848, 0.9995893091535333, 0.9995880353272878, 0.9997443275161122, 0.999795812136486, 0.9995091960779613, 0.9997117125399768, 0.9994760573598644, 0.9998269346810857, 0.9998404610369513, 0.9999100015506834, 0.9998574268979249, 0.9997744668200577, 0.9994178582007641, 0.999839817054876, 0.9997123166015329, 0.9998022833566315, 0.9997833523659303, 0.9998199682477288, 0.9996824184867151, 0.9996484547225727, 0.999741604825172, 0.9994076739414114, 0.9998393601619665, 0.9999356819187086, 0.9996519445798966, 0.9997037655754364, 0.9999515707104918, 0.9997883654108677, 0.6283861014869959, 0.3716128250486784, 0.9995036879568148, 0.9997662741603992, 0.9999080585963246, 0.9997985773453353, 0.999912030073432, 0.9994650958423716, 0.9997940066685401, 0.9998011703322769, 0.9998511163975106, 0.9998865061168204, 0.9995321704381553, 0.9999492981620461, 0.9997828642398976, 0.9997989315825027, 0.9997661963542016, 0.9994251061735214, 0.9994956569726936, 0.999888341312646, 0.9997358074429656, 0.9999406592664317, 0.9995870398163577, 0.9995804502514871, 0.9998510851237951, 0.9996528819904539, 0.9999498083616654, 0.9997808659300512, 0.9998919140580663, 0.9997144258900175, 0.9994845365621015, 0.9997870659494842, 0.9999521842806975, 0.9995828035478749, 0.9996605964483368, 0.9998636458336088, 0.999696226231802, 0.9998959502602355, 0.9998253359781909, 0.9994186974221325, 0.999979649483131, 0.9998953801728453, 0.9998996133327036, 0.9996303781283985, 0.9997632729924012, 0.9998178549060097, 0.9998864348853216, 0.9995044713844476, 0.9997606713196371, 0.9996661728389423, 0.9997690773475876, 0.9998110753506043, 0.9998761916882681, 0.9998252359571915, 0.9996876902853151, 0.9997261829544286, 0.9995610919547866, 0.9996707263415862, 0.9994655393354198, 0.9997436371801499, 0.9998837625837982, 0.9999024181949011, 0.9998439748961181, 0.9993483761518394, 0.9995183676596865, 0.9997688351628503, 0.9998626616827381, 0.9995466531606457, 0.9996808981008349, 0.9998915066509074, 0.9996824248406522, 0.9999548248616041, 0.9995191299364931, 0.9995719461791224, 0.999753968575037, 0.9993684853655732, 0.4028874141831109, 0.5967541206188232, 0.9998317775637096, 0.9998488806218102, 0.5978522830315041, 0.4021630149221433, 0.9997671072952891, 0.9993917971523275, 0.9993517578496952, 0.999567350722799, 0.9998539980420172, 0.9999513083660745, 0.99992701203855, 0.9998835370036069, 0.9999025592900439, 0.9998959138245136, 0.9996383343581629, 0.9995726124479017, 0.9998584605541172, 0.9998637520132948, 0.999951671432637, 0.9997160090077627, 0.9998630828048313, 0.9999089766064614, 0.9999264480781372, 0.9998528397356968, 0.9996137954072231, 0.9995705578384391, 0.9998243193807937, 0.9998606582698562, 0.9997669571290114, 0.9997949984719992, 0.9998150115538076, 0.999858292746338, 0.999646721195297, 0.9997744989406138, 0.9995469828782501, 0.9996329936081961, 0.9997220037126962, 0.9995443360984797, 0.9995383128621247, 0.9996903457593059, 0.9997724501305697, 0.9997645569479688, 0.9996839438961483, 0.9994310072930395, 0.999921996864692, 0.9996122007523279, 0.9997261971013062, 0.9996853302622795, 0.9998311478021814, 0.999589963120666, 0.9998687553576268, 0.9998988416605757, 0.9998646594049957, 0.9992479100330809, 0.9998386339030914, 0.9998607877857629, 0.9999301882061856, 0.999693742936877, 0.9998972417864392, 0.9998499903329431, 0.999783040658397, 0.9998295667297723, 0.9998253263732332, 0.9997151645596517, 0.9997415616994259, 0.9997794214879274, 0.999542771602243, 0.9998350897717302, 0.9998895589235163, 0.9997057449532724, 0.9992464857576008, 0.9998201406090318, 0.9995824831783001, 0.9999528626602453, 0.9998106187798643, 0.9998301520786914, 0.999804564658398, 0.9997056706181489, 0.9998589260560121, 0.9996108112483381, 0.9996391796923555, 0.9997675783973011, 0.9997597458052613, 0.9999300861066923, 0.9998552949543721, 0.9999313760396645, 0.9997522478262961, 0.9997815985769717, 0.9997813806887473, 0.9996715510656413, 0.999861466543848, 0.9997437390391914, 0.9997300242505733, 0.9999581942613569, 0.9997107516785239, 0.9992849451159469, 0.9997456231091796, 0.9996471597626497, 0.9997879985405072, 0.9998684474557303, 0.9998338924980268, 0.9992478027746046, 0.9999363106876578, 0.9997408213165337, 0.9998924282909827, 0.9996351913760307, 0.9997998121834445, 0.9997816791293497, 0.9999059271344565, 0.7693645239656441, 0.23060828184857188, 0.9995954675438293, 0.9998180396973783, 0.9995825993853921, 0.9998533814628578, 0.9999415497009594, 0.9995974989394779, 0.999877459961154, 0.9998372622371369, 0.9998984455663437, 0.9997038091793722, 0.9997876388538043, 0.9998123306291969, 0.999875572936824, 0.9998189198379567, 0.9998875394761151, 0.9999230582609522, 0.9997063880108612, 0.9998942322622046, 0.9999106499943343, 0.999774545649789, 0.9996552897291577, 0.9993056696345606, 0.9998311838393579, 0.9999009041401605, 0.999710300056935, 0.9998719575154612, 0.9999683449351501, 0.9995409762465701, 0.9998922636941885, 0.9997170778265515, 0.9996607918575346, 0.9998744714726189, 0.9997829396431415, 0.6932995620929957, 0.30651138534637706, 0.9998102372400466, 0.9997114940723839, 0.9997914099914164, 0.999643045509594, 0.9997065985049114, 0.9998665283696327, 0.9999610059753478, 0.9999126969652986, 0.9997217813869516, 0.9995766253452129, 0.9998023231998301, 0.9994941113977599, 0.9998132541465857, 0.9994849236841654, 0.9995877263641579, 0.999543153170621, 0.20000263344032262, 0.3368702030810829, 0.08879371892461337, 0.171036291859852, 0.1383126753737106, 0.06499764452203163, 0.9996898067275847, 0.9997170432991271, 0.9997938449458993, 0.9997183818709129, 0.9998933302681408, 0.9999005967002016, 0.9997169044065575, 0.9997641081339353, 0.9996392699784209, 0.9998562471282636, 0.9997292547724873, 0.9998016527013641, 0.999766300394667, 0.9998848121741701, 0.9996153815705395, 0.9998069925916583, 0.9998304926839899, 0.9996866411744078, 0.999906266927259, 0.9997657934510773, 0.9996493550194139, 0.9999180633789405, 0.9997070494516942, 0.9999772980206221, 0.9997426078436298, 0.9999339164423364, 0.999518045542509, 0.9998541872844204, 0.9998111521094145, 0.9994785227468874, 0.9997453458805979, 0.9995217155049537, 0.9996090121057396, 0.4155817737502743, 0.5843711811464267, 0.9998565601845022, 0.9995525729958409, 0.9998205129022234, 0.9998086956584212, 0.9998232463394722, 0.9996933877790484, 0.9995523475156655, 0.9998056045147017, 0.99979552172745, 0.9999570213962201, 0.9998892232493595, 0.9993951099385111, 0.9998252106751658, 0.9996147569646785, 0.9995374845941433, 0.9994355701137025, 0.9999300915689099, 0.9997593652043644, 0.9998618140126279, 0.9998850631936121, 0.9997620730479121, 0.9998432636672745, 0.9998978117893516, 0.9999181555629503, 0.999710560692127, 0.9997673982100781, 0.9995856432875724, 0.9997423230485658, 0.9998171556699128, 0.9995294028190032, 0.9999014001221793, 0.999834119584718, 0.999565989217385, 0.9995284802406209, 0.9998134022726378, 0.9997682335839604, 0.9996172195131825, 0.9999502093864095, 0.9999145572054263, 0.9998975185074995, 0.999931211814131, 0.9997592492563155, 0.9998553437552875, 0.9998359993259273, 0.9994834474264969, 0.9997470091017386, 0.9997445490393136, 0.9998102298621774, 0.9998144539696231, 0.99979481620796, 0.9997251502345093, 0.9996995420469156, 0.9993775681187584, 0.3108531957846459, 0.6890989269790676, 0.999557140397042, 0.999882799433124, 0.9997303731018723, 0.9994384648169059, 0.9995322423968549, 0.9997120333862435, 0.9996053131906685, 0.9998068836353494, 0.9999165159958492, 0.9996215750652337, 0.999654089676129, 0.9997165432017898, 0.9998518060070016, 0.9997368577693916, 0.9998717782631324, 0.9993027792301171, 0.9994316388019056, 0.9998594597141747, 0.999770805659574, 0.9998744071860001, 0.9998922481977273, 0.9997164573199707, 0.9996971300873878, 0.9999097287537146, 0.9998089532998099, 0.9998141759209449, 0.9996966836160486, 0.9994146640311771, 0.9997718917625419, 0.9996602908285884, 0.9995843272817466, 0.9998184243479107, 0.9995301689508016, 0.9995072275013333, 0.9997750869010893, 0.9998106093746653, 0.9997211928901126, 0.999800113162538, 0.9996347288310887, 0.999559572398022, 0.9997875056648426, 0.9992809734646059, 0.9998116561361203, 0.9998060784937958, 0.9998195380479591, 0.9995341983648334, 0.9997622888697595, 0.9996654891204875, 0.9999488601385182, 0.9997239226409382, 0.9998897735310206, 0.9996594367863787, 0.9999367418077476, 0.9998288497595463, 0.9997863863722324, 0.9997282546895958, 0.3212008552529001, 0.6785098603412772, 0.9994978418537293, 0.9999178663049643, 0.9998103516113646, 0.9996720534029425, 0.9998890246341975, 0.9995668918801107, 0.9999489156959338, 0.9996075942716658, 0.9997811408427628, 0.9997772888593217, 0.9996795718628191, 0.9997531735889115, 0.9998069406671944, 0.9997927525044468, 0.9997410041995518, 0.9998981043723599, 0.9997062340372718, 0.9998549808653073, 0.9998882440201629, 0.9998908102676254, 0.9999749352175199, 0.9998478376484397, 0.9997049767469122, 0.9998104682599349, 0.9995730388036862, 0.9994186293136891, 0.9997243665952131, 0.9999211641248942, 0.9997570746918992, 0.9995809474419023, 0.9999530015158871, 0.9998643314556774, 0.9996761510201502, 0.9998642781193431, 0.9998513151242039, 0.9998263712911343, 0.9997890035692144, 0.9994168280000488, 0.9997119052687132, 0.9997411673095707, 0.9999271231002758, 0.9997216551910271, 0.999806712050826, 0.9998604064898204, 0.9999047982656505, 0.9996366167724375, 0.9996644099934496, 0.9996029206348627, 0.9999262673940658, 0.9997986658574854, 0.9997630152187033, 0.9999101099826472, 0.999898651811314, 0.9998957736270004, 0.9996967364525897, 0.9996329986882703, 0.9998482643746753, 0.9995656839312149, 0.999840981709523, 0.9999328038926456, 0.9997852580877864, 0.9999032092639583, 0.9999020047645729, 0.9997504564323969, 0.9996222376996314, 0.9998334995007234, 0.9996171412849958], \"Term\": [\"2019\", \"2020\", \"2021\", \"aboriginal\", \"abuse\", \"accuse\", \"across\", \"action\", \"adelaide\", \"affect\", \"afghan\", \"afghanistan\", \"ahead\", \"airport\", \"alan\", \"allegations\", \"allege\", \"allegedly\", \"amid\", \"analysis\", \"andrew\", \"andrews\", \"announce\", \"anthony\", \"anti\", \"appeal\", \"approve\", \"around\", \"arrest\", \"assault\", \"astrazeneca\", \"astrazeneca\", \"astrazeneca\", \"attack\", \"attempt\", \"august\", \"australia\", \"australian\", \"australians\", \"australias\", \"authorities\", \"award\", \"baby\", \"back\", \"back\", \"back\", \"bail\", \"bank\", \"battle\", \"beach\", \"beat\", \"become\", \"begin\", \"behind\", \"berejiklian\", \"best\", \"biden\", \"bill\", \"billion\", \"black\", \"blame\", \"boat\", \"body\", \"bomb\", \"book\", \"boom\", \"boost\", \"border\", \"boris\", \"boss\", \"breach\", \"break\", \"brief\", \"bring\", \"brisbane\", \"budget\", \"build\", \"burn\", \"bushfire\", \"bushfires\", \"business\", \"businesses\", \"cabinet\", \"call\", \"call\", \"call\", \"call\", \"call\", \"call\", \"call\", \"call\", \"call\", \"call\", \"call\", \"call\", \"call\", \"campaign\", \"canberra\", \"cancel\", \"cancer\", \"capture\", \"care\", \"case\", \"catch\", \"cause\", \"cctv\", \"celebrate\", \"central\", \"centre\", \"challenge\", \"change\", \"charge\", \"check\", \"chief\", \"child\", \"children\", \"china\", \"chinese\", \"christmas\", \"church\", \"city\", \"claim\", \"climate\", \"close\", \"closure\", \"club\", \"cluster\", \"coal\", \"coast\", \"come\", \"commission\", \"communities\", \"community\", \"company\", \"concern\", \"confirm\", \"contact\", \"continue\", \"continue\", \"coronavirus\", \"coronavirus\", \"coronavirus\", \"coronavirus\", \"coronavirus\", \"coronavirus\", \"coronavirus\", \"coronavirus\", \"coronavirus\", \"coronavirus\", \"coronavirus\", \"coronavirus\", \"coronavirus\", \"coronavirus\", \"coronavirus\", \"coronavirus\", \"coronavirus\", \"coronavirus\", \"coronavirus\", \"coronavirus\", \"cost\", \"could\", \"council\", \"country\", \"couple\", \"court\", \"covid\", \"covid\", \"covid\", \"crash\", \"crash\", \"create\", \"crew\", \"cricket\", \"crime\", \"crisis\", \"crop\", \"cross\", \"crowd\", \"crown\", \"cyclone\", \"damage\", \"daniel\", \"darwin\", \"data\", \"david\", \"days\", \"dead\", \"deal\", \"death\", \"deaths\", \"debate\", \"decision\", \"defence\", \"defend\", \"delay\", \"deliver\", \"demand\", \"deny\", \"despite\", \"disability\", \"discover\", \"discuss\", \"doctor\", \"dollar\", \"domestic\", \"donald\", \"drive\", \"driver\", \"driver\", \"drone\", \"drop\", \"drought\", \"drug\", \"drum\", \"early\", \"ease\", \"east\", \"economic\", \"economy\", \"education\", \"election\", \"emergency\", \"energy\", \"england\", \"evacuate\", \"expect\", \"explain\", \"extend\", \"face\", \"facebook\", \"fail\", \"fall\", \"families\", \"family\", \"farm\", \"farmers\", \"fatal\", \"father\", \"fear\", \"federal\", \"female\", \"festival\", \"fight\", \"film\", \"final\", \"finance\", \"financial\", \"find\", \"fire\", \"first\", \"fish\", \"five\", \"flight\", \"flood\", \"follow\", \"food\", \"footage\", \"force\", \"foreign\", \"former\", \"four\", \"france\", \"free\", \"french\", \"friday\", \"frydenberg\", \"full\", \"fund\", \"future\", \"game\", \"general\", \"george\", \"girl\", \"give\", \"gladys\", \"global\", \"gold\", \"good\", \"government\", \"grand\", \"grant\", \"great\", \"greater\", \"green\", \"green\", \"group\", \"grow\", \"guilty\", \"guilty\", \"hand\", \"happen\", \"hard\", \"harry\", \"head\", \"health\", \"hear\", \"help\", \"high\", \"hill\", \"historic\", \"history\", \"hobart\", \"hold\", \"home\", \"hong\", \"hospital\", \"hotel\", \"house\", \"human\", \"hundreds\", \"hunt\", \"icac\", \"impact\", \"impeachment\", \"increase\", \"india\", \"indigenous\", \"indonesia\", \"industry\", \"injure\", \"inquest\", \"inquiry\", \"inside\", \"interest\", \"international\", \"interview\", \"investigate\", \"investigation\", \"iran\", \"island\", \"israel\", \"issue\", \"jack\", \"jail\", \"japan\", \"john\", \"johnson\", \"join\", \"jones\", \"judge\", \"keep\", \"kill\", \"know\", \"kohler\", \"kong\", \"korea\", \"labor\", \"land\", \"last\", \"latest\", \"launch\", \"laws\", \"lawyer\", \"lead\", \"leader\", \"leaders\", \"league\", \"learn\", \"leave\", \"legal\", \"liberal\", \"life\", \"lift\", \"light\", \"like\", \"likely\", \"line\", \"link\", \"live\", \"local\", \"lockdown\", \"long\", \"look\", \"lose\", \"major\", \"make\", \"march\", \"mark\", \"market\", \"mask\", \"mass\", \"matter\", \"mayor\", \"mean\", \"media\", \"meet\", \"meghan\", \"melbourne\", \"mental\", \"michael\", \"military\", \"million\", \"mine\", \"minister\", \"miss\", \"miss\", \"monday\", \"money\", \"months\", \"morning\", \"morrison\", \"mother\", \"mount\", \"move\", \"murder\", \"music\", \"myanmar\", \"name\", \"national\", \"near\", \"need\", \"news\", \"next\", \"north\", \"northern\", \"number\", \"nurse\", \"october\", \"offer\", \"officer\", \"olympics\", \"online\", \"open\", \"order\", \"outback\", \"outbreak\", \"pacific\", \"pandemic\", \"parent\", \"park\", \"park\", \"parliament\", \"part\", \"party\", \"pass\", \"patients\", \"paul\", \"people\", \"perth\", \"peter\", \"pfizer\", \"plane\", \"plant\", \"play\", \"players\", \"plead\", \"point\", \"police\", \"police\", \"police\", \"police\", \"police\", \"police\", \"policy\", \"port\", \"positive\", \"post\", \"power\", \"premier\", \"prepare\", \"president\", \"pressure\", \"price\", \"prime\", \"prince\", \"prison\", \"program\", \"project\", \"protect\", \"protest\", \"protesters\", \"public\", \"push\", \"qantas\", \"quarantine\", \"queen\", \"queensland\", \"question\", \"race\", \"raid\", \"rain\", \"raise\", \"rally\", \"rape\", \"reach\", \"receive\", \"record\", \"record\", \"recovery\", \"refuse\", \"regional\", \"reject\", \"release\", \"remain\", \"remote\", \"remove\", \"reopen\", \"report\", \"rescue\", \"research\", \"residents\", \"resign\", \"respond\", \"response\", \"restrictions\", \"result\", \"return\", \"reveal\", \"review\", \"right\", \"rise\", \"risk\", \"river\", \"road\", \"rock\", \"rollout\", \"royal\", \"rugby\", \"rule\", \"rural\", \"russia\", \"safe\", \"safety\", \"save\", \"scheme\", \"school\", \"scott\", \"search\", \"season\", \"second\", \"security\", \"seek\", \"senate\", \"send\", \"sentence\", \"service\", \"sexual\", \"share\", \"shark\", \"ship\", \"shock\", \"shoot\", \"shoot\", \"shortage\", \"show\", \"sign\", \"since\", \"site\", \"slam\", \"smith\", \"social\", \"south\", \"southern\", \"space\", \"spark\", \"speak\", \"spend\", \"sport\", \"spot\", \"spread\", \"spring\", \"stab\", \"staff\", \"stand\", \"star\", \"start\", \"state\", \"station\", \"stay\", \"steal\", \"step\", \"still\", \"stop\", \"stories\", \"storm\", \"story\", \"strand\", \"street\", \"strike\", \"struggle\", \"students\", \"study\", \"suicide\", \"summer\", \"sunshine\", \"super\", \"support\", \"surge\", \"survive\", \"suspend\", \"swan\", \"sydney\", \"system\", \"talk\", \"target\", \"tasmania\", \"tasmanian\", \"team\", \"teen\", \"tell\", \"tell\", \"territory\", \"test\", \"thousands\", \"threaten\", \"three\", \"thursday\", \"time\", \"toll\", \"tour\", \"tourism\", \"town\", \"townsville\", \"track\", \"trade\", \"train\", \"travel\", \"treatment\", \"tree\", \"trial\", \"truck\", \"trump\", \"tuesday\", \"turn\", \"unite\", \"university\", \"unveil\", \"update\", \"vaccine\", \"victim\", \"victims\", \"victoria\", \"victorian\", \"victorias\", \"video\", \"violence\", \"vote\", \"wait\", \"walk\", \"wall\", \"want\", \"warn\", \"watch\", \"water\", \"wave\", \"weather\", \"wednesday\", \"week\", \"welcome\", \"west\", \"western\", \"whale\", \"white\", \"woman\", \"women\", \"womens\", \"wont\", \"work\", \"worker\", \"workers\", \"world\", \"would\", \"year\", \"years\", \"young\", \"youth\", \"zealand\", \"zero\"]}, \"R\": 30, \"lambda.step\": 0.01, \"plot.opts\": {\"xlab\": \"PC1\", \"ylab\": \"PC2\"}, \"topic.order\": [4, 2, 7, 16, 20, 9, 1, 12, 14, 10, 19, 5, 17, 3, 15, 8, 13, 11, 18, 6]};\n",
              "\n",
              "function LDAvis_load_lib(url, callback){\n",
              "  var s = document.createElement('script');\n",
              "  s.src = url;\n",
              "  s.async = true;\n",
              "  s.onreadystatechange = s.onload = callback;\n",
              "  s.onerror = function(){console.warn(\"failed to load library \" + url);};\n",
              "  document.getElementsByTagName(\"head\")[0].appendChild(s);\n",
              "}\n",
              "\n",
              "if(typeof(LDAvis) !== \"undefined\"){\n",
              "   // already loaded: just create the visualization\n",
              "   !function(LDAvis){\n",
              "       new LDAvis(\"#\" + \"ldavis_el701399383125618723468274373\", ldavis_el701399383125618723468274373_data);\n",
              "   }(LDAvis);\n",
              "}else if(typeof define === \"function\" && define.amd){\n",
              "   // require.js is available: use it to load d3/LDAvis\n",
              "   require.config({paths: {d3: \"https://d3js.org/d3.v5\"}});\n",
              "   require([\"d3\"], function(d3){\n",
              "      window.d3 = d3;\n",
              "      LDAvis_load_lib(\"https://cdn.jsdelivr.net/gh/bmabey/pyLDAvis@3.3.1/pyLDAvis/js/ldavis.v3.0.0.js\", function(){\n",
              "        new LDAvis(\"#\" + \"ldavis_el701399383125618723468274373\", ldavis_el701399383125618723468274373_data);\n",
              "      });\n",
              "    });\n",
              "}else{\n",
              "    // require.js not available: dynamically load d3 & LDAvis\n",
              "    LDAvis_load_lib(\"https://d3js.org/d3.v5.js\", function(){\n",
              "         LDAvis_load_lib(\"https://cdn.jsdelivr.net/gh/bmabey/pyLDAvis@3.3.1/pyLDAvis/js/ldavis.v3.0.0.js\", function(){\n",
              "                 new LDAvis(\"#\" + \"ldavis_el701399383125618723468274373\", ldavis_el701399383125618723468274373_data);\n",
              "            })\n",
              "         });\n",
              "}\n",
              "</script>"
            ]
          },
          "metadata": {},
          "execution_count": 80
        }
      ]
    },
    {
      "cell_type": "markdown",
      "source": [
        "문서 별 토픽 분포 보기"
      ],
      "metadata": {
        "id": "rBGq1cXUdEou"
      }
    },
    {
      "cell_type": "code",
      "source": [
        "for i, topic_list in enumerate(ldamodel[corpus]):\n",
        "    if i==5:\n",
        "        break\n",
        "    print(i,'번째 문서의 topic 비율은',topic_list)"
      ],
      "metadata": {
        "colab": {
          "base_uri": "https://localhost:8080/"
        },
        "id": "K7CGWwOudBZV",
        "outputId": "73e71952-f714-4a7d-f686-22f5017ef90d"
      },
      "execution_count": 81,
      "outputs": [
        {
          "output_type": "stream",
          "name": "stdout",
          "text": [
            "0 번째 문서의 topic 비율은 [(17, 0.21), (19, 0.61)]\n",
            "1 번째 문서의 topic 비율은 [(0, 0.175), (13, 0.175), (16, 0.5083333)]\n",
            "2 번째 문서의 topic 비율은 [(3, 0.56184846), (7, 0.25815153)]\n",
            "3 번째 문서의 topic 비율은 [(9, 0.21), (11, 0.21), (12, 0.41)]\n",
            "4 번째 문서의 topic 비율은 [(2, 0.21), (10, 0.21), (12, 0.21), (15, 0.21)]\n"
          ]
        }
      ]
    },
    {
      "cell_type": "code",
      "source": [
        "def make_topictable_per_doc(ldamodel, corpus):\n",
        "    topic_table = pd.DataFrame()\n",
        "\n",
        "    # 몇 번째 문서인지를 의미하는 문서 번호와 해당 문서의 토픽 비중을 한 줄씩 꺼내온다.\n",
        "    for i, topic_list in enumerate(ldamodel[corpus]):\n",
        "        doc = topic_list[0] if ldamodel.per_word_topics else topic_list            \n",
        "        doc = sorted(doc, key=lambda x: (x[1]), reverse=True)\n",
        "        # 각 문서에 대해서 비중이 높은 토픽순으로 토픽을 정렬한다.\n",
        "        # EX) 정렬 전 0번 문서 : (2번 토픽, 48.5%), (8번 토픽, 25%), (10번 토픽, 5%), (12번 토픽, 21.5%), \n",
        "        # Ex) 정렬 후 0번 문서 : (2번 토픽, 48.5%), (8번 토픽, 25%), (12번 토픽, 21.5%), (10번 토픽, 5%)\n",
        "        # 48 > 25 > 21 > 5 순으로 정렬이 된 것.\n",
        "\n",
        "        # 모든 문서에 대해서 각각 아래를 수행\n",
        "        for j, (topic_num, prop_topic) in enumerate(doc): #  몇 번 토픽인지와 비중을 나눠서 저장한다.\n",
        "            if j == 0:  # 정렬을 한 상태이므로 가장 앞에 있는 것이 가장 비중이 높은 토픽\n",
        "                topic_table = topic_table.append(pd.Series([int(topic_num), round(prop_topic,4), topic_list]), ignore_index=True)\n",
        "                # 가장 비중이 높은 토픽과, 가장 비중이 높은 토픽의 비중과, 전체 토픽의 비중을 저장한다.\n",
        "            else:\n",
        "                break\n",
        "    return(topic_table)"
      ],
      "metadata": {
        "id": "QalqlRxAdEPk"
      },
      "execution_count": 82,
      "outputs": []
    },
    {
      "cell_type": "code",
      "source": [
        "topictable = make_topictable_per_doc(ldamodel, corpus)\n",
        "topictable = topictable.reset_index() # 문서 번호을 의미하는 열(column)로 사용하기 위해서 인덱스 열을 하나 더 만든다.\n",
        "topictable.columns = ['문서 번호', '가장 비중이 높은 토픽', '가장 높은 토픽의 비중', '각 토픽의 비중']\n",
        "topictable[:10]"
      ],
      "metadata": {
        "id": "gQvsc6NfdKZM"
      },
      "execution_count": null,
      "outputs": []
    },
    {
      "cell_type": "code",
      "source": [],
      "metadata": {
        "id": "O_cLd8rUdLgs"
      },
      "execution_count": null,
      "outputs": []
    }
  ]
}